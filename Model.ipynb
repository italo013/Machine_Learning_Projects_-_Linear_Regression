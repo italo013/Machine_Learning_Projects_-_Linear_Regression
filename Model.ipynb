{
 "cells": [
  {
   "attachments": {},
   "cell_type": "markdown",
   "metadata": {},
   "source": [
    "# Desafio: Construindo um modelo de Regressão para Marketing"
   ]
  },
  {
   "attachments": {},
   "cell_type": "markdown",
   "metadata": {},
   "source": [
    "# Contexto - Introdução"
   ]
  },
  {
   "attachments": {},
   "cell_type": "markdown",
   "metadata": {},
   "source": [
    "Uma empresa está investindo mensalmente em plataformas de publicidade online, como Youtube, Facebook e newspaper, para a prospecção de leads (pessoas interessadas em seus produtos). A fim de acompanhar o desempenho desses investimentos, a empresa registra todos os gastos com publicidade e todos os retornos de vendas gerados a partir desses investimentos.\n",
    "\n",
    "Para **entender** melhor **a relação entre as variáveis** presentes nesses registros e **identificar os fatores que mais impactam** na geração de leads, a empresa solicitou a análise de um especialista em dados. **Além disso, a empresa busca criar um modelo de predição** de valores para estimar o retorno de vendas que pode ser gerado a partir de um determinado investimento em publicidade."
   ]
  },
  {
   "attachments": {},
   "cell_type": "markdown",
   "metadata": {},
   "source": [
    "# Sobre os dados"
   ]
  },
  {
   "attachments": {},
   "cell_type": "markdown",
   "metadata": {},
   "source": [
    "A tabela contém informações dos investimentos feitos pelo youtube, facebook, newspaper e também a quantidade de cada. \n",
    "\n",
    "| Coluna    | Descrição              |\n",
    "|-----------|------------------------|\n",
    "| youtube   | Investimento youtube   |\n",
    "| facebook  | Investimento facebook  |\n",
    "| newspaper | Investimento newspaper |\n",
    "| sales     | Valor das vendas       |"
   ]
  },
  {
   "attachments": {},
   "cell_type": "markdown",
   "metadata": {},
   "source": [
    "# Importando as Bibliotecas"
   ]
  },
  {
   "cell_type": "code",
   "execution_count": 1,
   "metadata": {},
   "outputs": [],
   "source": [
    "#Manipulação de Dados\n",
    "import pandas as pd\n",
    "import numpy as np\n",
    "import math\n",
    "\n",
    "#Visualização\n",
    "import plotly.express as px\n",
    "import plotly.subplots as sp\n",
    "import plotly.graph_objs as go\n",
    "import plotly.figure_factory as ff\n",
    "from plotly.subplots            import make_subplots\n",
    "\n",
    "#Modelo\n",
    "import statsmodels.api as sm\n",
    "from sklearn.model_selection import train_test_split\n",
    "from sklearn.linear_model import LinearRegression\n",
    "from sklearn.metrics import mean_squared_error, r2_score\n",
    "\n",
    "#Display\n",
    "import warnings\n",
    "import handcalcs.render\n",
    "from IPython.display            import Markdown, Image"
   ]
  },
  {
   "attachments": {},
   "cell_type": "markdown",
   "metadata": {},
   "source": [
    "# Funções Auxiliares e Configurações"
   ]
  },
  {
   "cell_type": "code",
   "execution_count": 2,
   "metadata": {},
   "outputs": [],
   "source": [
    "warnings.filterwarnings(\"ignore\")\n",
    "pd.options.display.float_format = '{:.2f}'.format\n",
    "\n",
    "def df_informations(df):\n",
    "    # Cria um Dataframe com as informações relativas ao Dataset\n",
    "    df_info = pd.DataFrame({'Not Null': df.notnull().sum(),\n",
    "                            'Null': df.isnull().sum(),\n",
    "                            'Perce Null': df.isnull().sum() / len(df),\n",
    "                            'Dtype': df.dtypes\n",
    "                })\n",
    "    \n",
    "    # Cria outro Dataframe com todos os types do df\n",
    "    df_dtype = df_info['Dtype'].value_counts().reset_index()\n",
    "    df_dtype.columns = ['Dtype', 'Count']\n",
    "    df_dtype['Perce'] = round(df_dtype['Count'] / df_dtype['Count'].sum(), 2)\n",
    "    \n",
    "    # Verificando se tem linhas duplicadas\n",
    "    duplicado = df.duplicated().sum()\n",
    "    mensagem = 'Não possui linhas duplicadas.' if duplicado == 0 else f\"Tem {duplicado} linhas duplicadas, o que representa {round(duplicado/len(df)*100, 2)}% do total de linhas.\"\n",
    "\n",
    "    # Texto automático das dimensões do df\n",
    "    text = f'Dataset tem {df.shape[0]} linhas e {df.shape[1]} colunas. {mensagem} Sobre o dataset, temos:'\n",
    "\n",
    "    # Colore os Dataframes\n",
    "    df_info = df_info.style.background_gradient(cmap='jet', subset=['Perce Null']).format({'Perce Null': '{:.2%}'})\n",
    "    df_dtype = df_dtype.style.background_gradient(cmap='YlGn', subset=['Perce']).format({'Perce': '{:.2%}'})\n",
    "\n",
    "    # Texto final com Markdown\n",
    "    display(Markdown(\"<H3 style='text-align:left;float:lfet;'>Informações sobre o Dataset\"))\n",
    "    display(Markdown(f'<H5> {text}'))\n",
    "    display(df_info)\n",
    "    display(Markdown(\"<H3 style='text-align:left;float:lfet;'>Sobre Dtypes, temos:\"))\n",
    "    display(df_dtype)\n",
    "    display(Markdown(\"<H3 style='text-align:left;float:lfet;'>Estatística Descritiva\"))\n",
    "    display(df.describe(percentiles=[0.01, 0.25, 0.5, 0.75, 0.99]).T)\n",
    "\n",
    "def plot_distribution_and_boxplot(df):\n",
    "    # Obtém a lista de colunas numéricas\n",
    "    num_cols = df.select_dtypes(include=[np.number]).columns\n",
    "    \n",
    "    # Cria a lista de títulos para os subplots\n",
    "    subplot_titles = [title for col in num_cols for title in [f\"Histograma - {col}\", f\"Boxplot - {col}\"]]\n",
    "    \n",
    "    # Cria a figura com subplots\n",
    "    fig = sp.make_subplots(rows=len(num_cols), cols=2, subplot_titles=subplot_titles)\n",
    "    \n",
    "    # Define cores\n",
    "    colors = ['blue', 'red', 'green', 'purple', 'orange', 'brown', 'pink', 'yellow', 'cyan', 'magenta', \n",
    "              'lime', 'lavender', 'maroon', 'navy', 'olive', 'teal', 'aqua', 'fuchsia', 'gray', 'silver']\n",
    "    \n",
    "    # Adiciona os gráficos à figura para cada coluna numérica\n",
    "    for i, col in enumerate(num_cols, start=1):\n",
    "        # Define a cor usando a lógica de ciclagem\n",
    "        color = colors[i % len(colors)]\n",
    "        \n",
    "        # Adiciona o histograma\n",
    "        fig.add_trace(go.Histogram(x=df[col], nbinsx=40, marker_color=color, \n",
    "                                    showlegend=False),\n",
    "                      row=i, col=1)\n",
    "        \n",
    "        # Adiciona o boxplot\n",
    "        fig.add_trace(go.Box(y=df[col], marker_color=color, showlegend=False),\n",
    "                      row=i, col=2)\n",
    "    \n",
    "    # Configura o layout\n",
    "    fig.update_layout(height=300*len(num_cols), title_text=\"Distribuição e Boxplot para cada variável numérica\")\n",
    "    fig.show()\n",
    "\n",
    "def calculate_iqr(df):\n",
    "    # Define um DataFrame vazio para armazenar os resultados\n",
    "    iqr_df = pd.DataFrame(columns=['Coluna', 'Q1', 'Q3', 'IQR', 'Lower Bound', 'Upper Bound', 'Min', 'Max'])\n",
    "    \n",
    "    for col in df.columns:\n",
    "        if np.issubdtype(df[col].dtype, np.number):  # Se a coluna for numérica\n",
    "            Q1 = df[col].quantile(0.25)\n",
    "            Q3 = df[col].quantile(0.75)\n",
    "            IQR = Q3 - Q1\n",
    "            lower_bound = Q1 - 1.5 * IQR\n",
    "            upper_bound = Q3 + 1.5 * IQR\n",
    "            min_val = df[col].min() # valor mínimo\n",
    "            max_val = df[col].max() # valor máximo\n",
    "            # Cria um dicionário temporário com os dados\n",
    "            temp_dict = {'Coluna': col, 'Q1': Q1, 'Q3': Q3, 'IQR': IQR, \n",
    "                         'Lower Bound': lower_bound, 'Upper Bound': upper_bound, \n",
    "                         'Min': min_val, 'Max': max_val}\n",
    "            # Cria um DataFrame temporário a partir do dicionário\n",
    "            temp_df = pd.DataFrame([temp_dict])\n",
    "            # Concatena este DataFrame temporário com o DataFrame principal\n",
    "            iqr_df = pd.concat([iqr_df, temp_df], ignore_index=True)\n",
    "    return iqr_df\n",
    "\n",
    "def plot_boxplots(df):\n",
    "    # Calcula o número de linhas para os subplots\n",
    "    num_rows = math.ceil(len(df.columns) / 2)\n",
    "\n",
    "    # Cria a figura com subplots\n",
    "    fig = make_subplots(rows=num_rows, cols=2)\n",
    "\n",
    "    # Adiciona os boxplots à figura para cada coluna numérica\n",
    "    for i, col in enumerate(df.columns, start=1):\n",
    "        fig.add_trace(\n",
    "            go.Box(\n",
    "                y=df[col], \n",
    "                name=col, \n",
    "                boxmean=True, \n",
    "                showlegend=False\n",
    "            ), \n",
    "            row=(i-1)//2 + 1, \n",
    "            col=((i-1)%2) + 1\n",
    "        )\n",
    "\n",
    "    # Atualiza o layout da figura\n",
    "    fig.update_layout(height=400*num_rows, title_text=\"Boxplot de cada coluna numérica\")\n",
    "\n",
    "    # Mostra a figura\n",
    "    fig.show()\n",
    "\n",
    "def update_graph2(m1, m2, b):\n",
    "    # Gerando a superfície de previsão\n",
    "    x1_range = np.linspace(x1.min(), x1.max(), 100)\n",
    "    x2_range = np.linspace(x2.min(), x2.max(), 100)\n",
    "    x1_values, x2_values = np.meshgrid(x1_range, x2_range)\n",
    "    y_pred = m1*x1_values + m2*x2_values + b\n",
    "\n",
    "    # Criando o gráfico\n",
    "    fig = go.Figure()\n",
    "    fig.add_trace(go.Scatter3d(x=x1.squeeze(), y=x2.squeeze(), z=y2.squeeze(), mode='markers', name='Dados'))\n",
    "    fig.add_trace(go.Surface(x=x1_range, y=x2_range, z=y_pred, opacity=0.7, name='Superfície de Regressão'))\n",
    "\n",
    "    fig.update_layout(  title=\"Demonstração de Regressão Linear Múltipla\",\n",
    "                        scene=dict(\n",
    "                        xaxis_title='X1',\n",
    "                        yaxis_title='X2',\n",
    "                        zaxis_title='Y'\n",
    "    ),\n",
    "    #width=1000, # Altera a largura do gráfico\n",
    "    height=750 # Altera a altura do gráfico\n",
    "    )\n",
    "\n",
    "    return fig\n"
   ]
  },
  {
   "attachments": {},
   "cell_type": "markdown",
   "metadata": {},
   "source": [
    "# Importando o Dataset"
   ]
  },
  {
   "cell_type": "code",
   "execution_count": 3,
   "metadata": {},
   "outputs": [
    {
     "data": {
      "text/html": [
       "<div>\n",
       "<style scoped>\n",
       "    .dataframe tbody tr th:only-of-type {\n",
       "        vertical-align: middle;\n",
       "    }\n",
       "\n",
       "    .dataframe tbody tr th {\n",
       "        vertical-align: top;\n",
       "    }\n",
       "\n",
       "    .dataframe thead th {\n",
       "        text-align: right;\n",
       "    }\n",
       "</style>\n",
       "<table border=\"1\" class=\"dataframe\">\n",
       "  <thead>\n",
       "    <tr style=\"text-align: right;\">\n",
       "      <th></th>\n",
       "      <th>youtube</th>\n",
       "      <th>facebook</th>\n",
       "      <th>newspaper</th>\n",
       "      <th>sales</th>\n",
       "    </tr>\n",
       "  </thead>\n",
       "  <tbody>\n",
       "    <tr>\n",
       "      <th>0</th>\n",
       "      <td>84.72</td>\n",
       "      <td>19.20</td>\n",
       "      <td>48.96</td>\n",
       "      <td>12.60</td>\n",
       "    </tr>\n",
       "    <tr>\n",
       "      <th>1</th>\n",
       "      <td>351.48</td>\n",
       "      <td>33.96</td>\n",
       "      <td>51.84</td>\n",
       "      <td>25.68</td>\n",
       "    </tr>\n",
       "    <tr>\n",
       "      <th>2</th>\n",
       "      <td>135.48</td>\n",
       "      <td>20.88</td>\n",
       "      <td>46.32</td>\n",
       "      <td>14.28</td>\n",
       "    </tr>\n",
       "    <tr>\n",
       "      <th>3</th>\n",
       "      <td>116.64</td>\n",
       "      <td>1.80</td>\n",
       "      <td>36.00</td>\n",
       "      <td>11.52</td>\n",
       "    </tr>\n",
       "    <tr>\n",
       "      <th>4</th>\n",
       "      <td>318.72</td>\n",
       "      <td>24.00</td>\n",
       "      <td>0.36</td>\n",
       "      <td>20.88</td>\n",
       "    </tr>\n",
       "    <tr>\n",
       "      <th>...</th>\n",
       "      <td>...</td>\n",
       "      <td>...</td>\n",
       "      <td>...</td>\n",
       "      <td>...</td>\n",
       "    </tr>\n",
       "    <tr>\n",
       "      <th>166</th>\n",
       "      <td>45.84</td>\n",
       "      <td>4.44</td>\n",
       "      <td>16.56</td>\n",
       "      <td>9.12</td>\n",
       "    </tr>\n",
       "    <tr>\n",
       "      <th>167</th>\n",
       "      <td>113.04</td>\n",
       "      <td>5.88</td>\n",
       "      <td>9.72</td>\n",
       "      <td>11.64</td>\n",
       "    </tr>\n",
       "    <tr>\n",
       "      <th>168</th>\n",
       "      <td>212.40</td>\n",
       "      <td>11.16</td>\n",
       "      <td>7.68</td>\n",
       "      <td>15.36</td>\n",
       "    </tr>\n",
       "    <tr>\n",
       "      <th>169</th>\n",
       "      <td>340.32</td>\n",
       "      <td>50.40</td>\n",
       "      <td>79.44</td>\n",
       "      <td>30.60</td>\n",
       "    </tr>\n",
       "    <tr>\n",
       "      <th>170</th>\n",
       "      <td>278.52</td>\n",
       "      <td>10.32</td>\n",
       "      <td>10.44</td>\n",
       "      <td>16.08</td>\n",
       "    </tr>\n",
       "  </tbody>\n",
       "</table>\n",
       "<p>171 rows × 4 columns</p>\n",
       "</div>"
      ],
      "text/plain": [
       "     youtube  facebook  newspaper  sales\n",
       "0      84.72     19.20      48.96  12.60\n",
       "1     351.48     33.96      51.84  25.68\n",
       "2     135.48     20.88      46.32  14.28\n",
       "3     116.64      1.80      36.00  11.52\n",
       "4     318.72     24.00       0.36  20.88\n",
       "..       ...       ...        ...    ...\n",
       "166    45.84      4.44      16.56   9.12\n",
       "167   113.04      5.88       9.72  11.64\n",
       "168   212.40     11.16       7.68  15.36\n",
       "169   340.32     50.40      79.44  30.60\n",
       "170   278.52     10.32      10.44  16.08\n",
       "\n",
       "[171 rows x 4 columns]"
      ]
     },
     "execution_count": 3,
     "metadata": {},
     "output_type": "execute_result"
    }
   ],
   "source": [
    "df = pd.read_csv('MKT.csv')\n",
    "df"
   ]
  },
  {
   "attachments": {},
   "cell_type": "markdown",
   "metadata": {},
   "source": [
    "# Etapas de Desenvolvimento\n",
    "\n",
    "Para te ajudar nesse processo, detalhar o processo nas etapas a seguir:"
   ]
  },
  {
   "attachments": {},
   "cell_type": "markdown",
   "metadata": {},
   "source": [
    "## Etapa 01) Análise Descritiva\n",
    "Esta etapa consiste em explorar os dados do dataset para **compreender melhor as variáveis e identificar problemas**. Para isso, é recomendado utilizar a biblioteca **Pandas** para importar e manipular os dados e realizar cálculos estatísticos, além das bibliotecas de visualização.\n",
    "\n",
    "É importante investigar o tipo de dado em cada variável, os valores e a distribuição dos\n",
    "dados. Ao final, espera-se ter uma interpretação sólida dos dados para avançar para a\n",
    "próxima etapa"
   ]
  },
  {
   "attachments": {},
   "cell_type": "markdown",
   "metadata": {},
   "source": [
    "### Análise Descritiva do Dataset"
   ]
  },
  {
   "cell_type": "code",
   "execution_count": 4,
   "metadata": {},
   "outputs": [
    {
     "data": {
      "text/markdown": [
       "<H3 style='text-align:left;float:lfet;'>Informações sobre o Dataset"
      ],
      "text/plain": [
       "<IPython.core.display.Markdown object>"
      ]
     },
     "metadata": {},
     "output_type": "display_data"
    },
    {
     "data": {
      "text/markdown": [
       "<H5> Dataset tem 171 linhas e 4 colunas. Não possui linhas duplicadas. Sobre o dataset, temos:"
      ],
      "text/plain": [
       "<IPython.core.display.Markdown object>"
      ]
     },
     "metadata": {},
     "output_type": "display_data"
    },
    {
     "data": {
      "text/html": [
       "<style type=\"text/css\">\n",
       "#T_e8eea_row0_col2, #T_e8eea_row1_col2, #T_e8eea_row2_col2, #T_e8eea_row3_col2 {\n",
       "  background-color: #000080;\n",
       "  color: #f1f1f1;\n",
       "}\n",
       "</style>\n",
       "<table id=\"T_e8eea\">\n",
       "  <thead>\n",
       "    <tr>\n",
       "      <th class=\"blank level0\" >&nbsp;</th>\n",
       "      <th id=\"T_e8eea_level0_col0\" class=\"col_heading level0 col0\" >Not Null</th>\n",
       "      <th id=\"T_e8eea_level0_col1\" class=\"col_heading level0 col1\" >Null</th>\n",
       "      <th id=\"T_e8eea_level0_col2\" class=\"col_heading level0 col2\" >Perce Null</th>\n",
       "      <th id=\"T_e8eea_level0_col3\" class=\"col_heading level0 col3\" >Dtype</th>\n",
       "    </tr>\n",
       "  </thead>\n",
       "  <tbody>\n",
       "    <tr>\n",
       "      <th id=\"T_e8eea_level0_row0\" class=\"row_heading level0 row0\" >youtube</th>\n",
       "      <td id=\"T_e8eea_row0_col0\" class=\"data row0 col0\" >171</td>\n",
       "      <td id=\"T_e8eea_row0_col1\" class=\"data row0 col1\" >0</td>\n",
       "      <td id=\"T_e8eea_row0_col2\" class=\"data row0 col2\" >0.00%</td>\n",
       "      <td id=\"T_e8eea_row0_col3\" class=\"data row0 col3\" >float64</td>\n",
       "    </tr>\n",
       "    <tr>\n",
       "      <th id=\"T_e8eea_level0_row1\" class=\"row_heading level0 row1\" >facebook</th>\n",
       "      <td id=\"T_e8eea_row1_col0\" class=\"data row1 col0\" >171</td>\n",
       "      <td id=\"T_e8eea_row1_col1\" class=\"data row1 col1\" >0</td>\n",
       "      <td id=\"T_e8eea_row1_col2\" class=\"data row1 col2\" >0.00%</td>\n",
       "      <td id=\"T_e8eea_row1_col3\" class=\"data row1 col3\" >float64</td>\n",
       "    </tr>\n",
       "    <tr>\n",
       "      <th id=\"T_e8eea_level0_row2\" class=\"row_heading level0 row2\" >newspaper</th>\n",
       "      <td id=\"T_e8eea_row2_col0\" class=\"data row2 col0\" >171</td>\n",
       "      <td id=\"T_e8eea_row2_col1\" class=\"data row2 col1\" >0</td>\n",
       "      <td id=\"T_e8eea_row2_col2\" class=\"data row2 col2\" >0.00%</td>\n",
       "      <td id=\"T_e8eea_row2_col3\" class=\"data row2 col3\" >float64</td>\n",
       "    </tr>\n",
       "    <tr>\n",
       "      <th id=\"T_e8eea_level0_row3\" class=\"row_heading level0 row3\" >sales</th>\n",
       "      <td id=\"T_e8eea_row3_col0\" class=\"data row3 col0\" >171</td>\n",
       "      <td id=\"T_e8eea_row3_col1\" class=\"data row3 col1\" >0</td>\n",
       "      <td id=\"T_e8eea_row3_col2\" class=\"data row3 col2\" >0.00%</td>\n",
       "      <td id=\"T_e8eea_row3_col3\" class=\"data row3 col3\" >float64</td>\n",
       "    </tr>\n",
       "  </tbody>\n",
       "</table>\n"
      ],
      "text/plain": [
       "<pandas.io.formats.style.Styler at 0x1bc9b467790>"
      ]
     },
     "metadata": {},
     "output_type": "display_data"
    },
    {
     "data": {
      "text/markdown": [
       "<H3 style='text-align:left;float:lfet;'>Sobre Dtypes, temos:"
      ],
      "text/plain": [
       "<IPython.core.display.Markdown object>"
      ]
     },
     "metadata": {},
     "output_type": "display_data"
    },
    {
     "data": {
      "text/html": [
       "<style type=\"text/css\">\n",
       "#T_a5fc3_row0_col2 {\n",
       "  background-color: #ffffe5;\n",
       "  color: #000000;\n",
       "}\n",
       "</style>\n",
       "<table id=\"T_a5fc3\">\n",
       "  <thead>\n",
       "    <tr>\n",
       "      <th class=\"blank level0\" >&nbsp;</th>\n",
       "      <th id=\"T_a5fc3_level0_col0\" class=\"col_heading level0 col0\" >Dtype</th>\n",
       "      <th id=\"T_a5fc3_level0_col1\" class=\"col_heading level0 col1\" >Count</th>\n",
       "      <th id=\"T_a5fc3_level0_col2\" class=\"col_heading level0 col2\" >Perce</th>\n",
       "    </tr>\n",
       "  </thead>\n",
       "  <tbody>\n",
       "    <tr>\n",
       "      <th id=\"T_a5fc3_level0_row0\" class=\"row_heading level0 row0\" >0</th>\n",
       "      <td id=\"T_a5fc3_row0_col0\" class=\"data row0 col0\" >float64</td>\n",
       "      <td id=\"T_a5fc3_row0_col1\" class=\"data row0 col1\" >4</td>\n",
       "      <td id=\"T_a5fc3_row0_col2\" class=\"data row0 col2\" >100.00%</td>\n",
       "    </tr>\n",
       "  </tbody>\n",
       "</table>\n"
      ],
      "text/plain": [
       "<pandas.io.formats.style.Styler at 0x1bc9c4e33d0>"
      ]
     },
     "metadata": {},
     "output_type": "display_data"
    },
    {
     "data": {
      "text/markdown": [
       "<H3 style='text-align:left;float:lfet;'>Estatística Descritiva"
      ],
      "text/plain": [
       "<IPython.core.display.Markdown object>"
      ]
     },
     "metadata": {},
     "output_type": "display_data"
    },
    {
     "data": {
      "text/html": [
       "<div>\n",
       "<style scoped>\n",
       "    .dataframe tbody tr th:only-of-type {\n",
       "        vertical-align: middle;\n",
       "    }\n",
       "\n",
       "    .dataframe tbody tr th {\n",
       "        vertical-align: top;\n",
       "    }\n",
       "\n",
       "    .dataframe thead th {\n",
       "        text-align: right;\n",
       "    }\n",
       "</style>\n",
       "<table border=\"1\" class=\"dataframe\">\n",
       "  <thead>\n",
       "    <tr style=\"text-align: right;\">\n",
       "      <th></th>\n",
       "      <th>count</th>\n",
       "      <th>mean</th>\n",
       "      <th>std</th>\n",
       "      <th>min</th>\n",
       "      <th>1%</th>\n",
       "      <th>25%</th>\n",
       "      <th>50%</th>\n",
       "      <th>75%</th>\n",
       "      <th>99%</th>\n",
       "      <th>max</th>\n",
       "    </tr>\n",
       "  </thead>\n",
       "  <tbody>\n",
       "    <tr>\n",
       "      <th>youtube</th>\n",
       "      <td>171.00</td>\n",
       "      <td>178.02</td>\n",
       "      <td>102.45</td>\n",
       "      <td>0.84</td>\n",
       "      <td>6.01</td>\n",
       "      <td>91.08</td>\n",
       "      <td>179.76</td>\n",
       "      <td>262.98</td>\n",
       "      <td>351.73</td>\n",
       "      <td>355.68</td>\n",
       "    </tr>\n",
       "    <tr>\n",
       "      <th>facebook</th>\n",
       "      <td>171.00</td>\n",
       "      <td>27.67</td>\n",
       "      <td>17.91</td>\n",
       "      <td>0.00</td>\n",
       "      <td>0.44</td>\n",
       "      <td>11.70</td>\n",
       "      <td>26.76</td>\n",
       "      <td>43.68</td>\n",
       "      <td>59.28</td>\n",
       "      <td>59.52</td>\n",
       "    </tr>\n",
       "    <tr>\n",
       "      <th>newspaper</th>\n",
       "      <td>171.00</td>\n",
       "      <td>35.24</td>\n",
       "      <td>24.90</td>\n",
       "      <td>0.36</td>\n",
       "      <td>1.75</td>\n",
       "      <td>13.74</td>\n",
       "      <td>31.08</td>\n",
       "      <td>50.88</td>\n",
       "      <td>103.42</td>\n",
       "      <td>121.08</td>\n",
       "    </tr>\n",
       "    <tr>\n",
       "      <th>sales</th>\n",
       "      <td>171.00</td>\n",
       "      <td>16.92</td>\n",
       "      <td>6.31</td>\n",
       "      <td>1.92</td>\n",
       "      <td>5.60</td>\n",
       "      <td>12.54</td>\n",
       "      <td>15.48</td>\n",
       "      <td>20.82</td>\n",
       "      <td>30.85</td>\n",
       "      <td>32.40</td>\n",
       "    </tr>\n",
       "  </tbody>\n",
       "</table>\n",
       "</div>"
      ],
      "text/plain": [
       "           count   mean    std  min   1%   25%    50%    75%    99%    max\n",
       "youtube   171.00 178.02 102.45 0.84 6.01 91.08 179.76 262.98 351.73 355.68\n",
       "facebook  171.00  27.67  17.91 0.00 0.44 11.70  26.76  43.68  59.28  59.52\n",
       "newspaper 171.00  35.24  24.90 0.36 1.75 13.74  31.08  50.88 103.42 121.08\n",
       "sales     171.00  16.92   6.31 1.92 5.60 12.54  15.48  20.82  30.85  32.40"
      ]
     },
     "metadata": {},
     "output_type": "display_data"
    }
   ],
   "source": [
    "df_informations(df)"
   ]
  },
  {
   "attachments": {},
   "cell_type": "markdown",
   "metadata": {},
   "source": [
    "As informações **.describe** podem ser úteis para entender a dispersão e a tendência central dos dados.\n",
    "\n",
    "- <font color='chartreuse'>Média</font>: Representa a tendência central dos dados;\n",
    "- <font color='chartreuse'>Desvio Padrão</font>: Indica a dispersão, sugerindo uma variabilidade dos valores;\n",
    "- <font color='chartreuse'>Quartis</font>: Fornecem informações sobre a distribuição dos dados ao longo de diferentes partes; e\n",
    "- <font color='chartreuse'>Valor Mínimo e Máximo</font>: Indicam a faixa em que os dados estão concentrados.\n",
    "\n",
    "Logo, podemos observar que:\n",
    "\n",
    "1. **Variável \"youtube\":**\n",
    "    * A média de investimento do YouTube é de aproximadamente 178.02, o que nos mostra que é o que mais recebe invetimento.\n",
    "    * O desvio padrão é relativamente alto (102.45), o que sugere que os dados do YouTube apresentam uma dispersão considerável em relação à média.\n",
    "    * Os quartis indicam que 25% dos dados estão abaixo de 91.08, 50% estão abaixo de 179.76 e 75% estão abaixo de 262.98.\n",
    "    * O valor mínimo é de 0.84 e o valor máximo é de 355.68, mostrando que a faixa de visualizações varia de forma considerável.\n",
    "<br></br>\n",
    "1. **Variável \"facebook\":**\n",
    "    * A média (27.67) de investimento do Facebook é aproximadamente 6.5x menor em relação ao Youtube.\n",
    "    * O desvio padrão é de 17.91, indicando uma dispersão alta (64.72%) em relação à média.\n",
    "    * Os quartis mostram que 25% dos dados estão abaixo de 11.70, 50% estão abaixo de 26.76 e 75% estão abaixo de 43.68.\n",
    "    * O valor mínimo é 0.00 e o valor máximo é 59.52, mostrando a faixa de valores para a métrica do Facebook.\n",
    "<br></br>\n",
    "1. **Variável \"newspaper\":**\n",
    "    * A média (35.24) do newspaper é a segunda maior ficando atrás apenas do Youtube.\n",
    "    * O desvio padrão é de 24.90, indicando uma dispersão relativamente alta (70.65%) em relação à média.\n",
    "    * Os quartis mostram que 25% dos dados estão abaixo de 13.74, 50% estão abaixo de 31.08 e 75% estão abaixo de 50.88.\n",
    "    * O valor mínimo é 0.36 e o valor máximo é 121.08, indicando uma ampla faixa de valores.\n",
    "<br></br>\n",
    "1. **Variável \"sales\":**\n",
    "    * A média para os dados de vendas é de aproximadamente 16.92.\n",
    "    * O desvio padrão é de 6.31, sugerindo uma dispersão moderada (37.29%) em relação à média.\n",
    "    * Os quartis mostram que 25% dos dados estão abaixo de 12.54, 50% estão abaixo de 15.48 e 75% estão abaixo de 20.82.\n",
    "    * O valor mínimo é 1.92 e o valor máximo é 32.40, mostrando a faixa de valores para as vendas."
   ]
  },
  {
   "attachments": {},
   "cell_type": "markdown",
   "metadata": {},
   "source": [
    "### Análise Gráfica"
   ]
  },
  {
   "cell_type": "code",
   "execution_count": 5,
   "metadata": {},
   "outputs": [
    {
     "data": {
      "application/vnd.plotly.v1+json": {
       "config": {
        "plotlyServerURL": "https://plot.ly"
       },
       "data": [
        {
         "marker": {
          "color": "red"
         },
         "nbinsx": 40,
         "showlegend": false,
         "type": "histogram",
         "x": [
          84.72,
          351.48,
          135.48,
          116.64,
          318.72,
          114.84,
          348.84,
          320.28,
          89.64,
          51.72,
          273.6,
          243,
          212.4,
          352.32,
          248.28,
          30.12,
          210.12,
          107.64,
          287.88,
          272.64,
          80.28,
          239.76,
          120.48,
          259.68,
          219.12,
          315.24,
          238.68,
          8.76,
          163.44,
          252.96,
          252.84,
          64.2,
          313.56,
          287.16,
          123.24,
          157.32,
          82.8,
          37.8,
          167.16,
          284.88,
          260.16,
          238.92,
          131.76,
          32.16,
          155.28,
          256.08,
          20.28,
          33,
          144.6,
          6.48,
          139.2,
          91.68,
          287.76,
          90.36,
          82.08,
          256.2,
          231.84,
          91.56,
          132.84,
          105.96,
          131.76,
          161.16,
          34.32,
          261.24,
          301.08,
          128.88,
          195.96,
          237.12,
          221.88,
          347.64,
          162.24,
          266.88,
          355.68,
          336.24,
          225.48,
          285.84,
          165.48,
          30,
          108.48,
          15.72,
          306.48,
          270.96,
          290.04,
          210.84,
          251.52,
          93.84,
          90.12,
          167.04,
          91.68,
          150.84,
          23.28,
          169.56,
          22.56,
          268.8,
          147.72,
          275.4,
          104.64,
          9.36,
          96.24,
          264.36,
          71.52,
          0.84,
          318.24,
          10.08,
          263.76,
          44.28,
          57.96,
          30.72,
          328.44,
          51.6,
          221.88,
          88.08,
          232.44,
          264.6,
          125.52,
          115.44,
          168.36,
          288.12,
          291.84,
          45.6,
          53.64,
          336.84,
          145.2,
          237.12,
          205.56,
          225.36,
          4.92,
          112.68,
          179.76,
          14.04,
          158.04,
          207,
          102.84,
          226.08,
          196.2,
          140.64,
          281.4,
          21.48,
          248.16,
          258.48,
          341.16,
          60,
          197.4,
          23.52,
          202.08,
          266.88,
          332.28,
          298.08,
          204.24,
          332.04,
          198.72,
          187.92,
          262.2,
          67.44,
          345.12,
          304.56,
          246,
          167.4,
          229.32,
          343.2,
          22.44,
          47.4,
          90.6,
          20.64,
          200.16,
          179.64,
          45.84,
          113.04,
          212.4,
          340.32,
          278.52
         ],
         "xaxis": "x",
         "yaxis": "y"
        },
        {
         "marker": {
          "color": "red"
         },
         "showlegend": false,
         "type": "box",
         "xaxis": "x2",
         "y": [
          84.72,
          351.48,
          135.48,
          116.64,
          318.72,
          114.84,
          348.84,
          320.28,
          89.64,
          51.72,
          273.6,
          243,
          212.4,
          352.32,
          248.28,
          30.12,
          210.12,
          107.64,
          287.88,
          272.64,
          80.28,
          239.76,
          120.48,
          259.68,
          219.12,
          315.24,
          238.68,
          8.76,
          163.44,
          252.96,
          252.84,
          64.2,
          313.56,
          287.16,
          123.24,
          157.32,
          82.8,
          37.8,
          167.16,
          284.88,
          260.16,
          238.92,
          131.76,
          32.16,
          155.28,
          256.08,
          20.28,
          33,
          144.6,
          6.48,
          139.2,
          91.68,
          287.76,
          90.36,
          82.08,
          256.2,
          231.84,
          91.56,
          132.84,
          105.96,
          131.76,
          161.16,
          34.32,
          261.24,
          301.08,
          128.88,
          195.96,
          237.12,
          221.88,
          347.64,
          162.24,
          266.88,
          355.68,
          336.24,
          225.48,
          285.84,
          165.48,
          30,
          108.48,
          15.72,
          306.48,
          270.96,
          290.04,
          210.84,
          251.52,
          93.84,
          90.12,
          167.04,
          91.68,
          150.84,
          23.28,
          169.56,
          22.56,
          268.8,
          147.72,
          275.4,
          104.64,
          9.36,
          96.24,
          264.36,
          71.52,
          0.84,
          318.24,
          10.08,
          263.76,
          44.28,
          57.96,
          30.72,
          328.44,
          51.6,
          221.88,
          88.08,
          232.44,
          264.6,
          125.52,
          115.44,
          168.36,
          288.12,
          291.84,
          45.6,
          53.64,
          336.84,
          145.2,
          237.12,
          205.56,
          225.36,
          4.92,
          112.68,
          179.76,
          14.04,
          158.04,
          207,
          102.84,
          226.08,
          196.2,
          140.64,
          281.4,
          21.48,
          248.16,
          258.48,
          341.16,
          60,
          197.4,
          23.52,
          202.08,
          266.88,
          332.28,
          298.08,
          204.24,
          332.04,
          198.72,
          187.92,
          262.2,
          67.44,
          345.12,
          304.56,
          246,
          167.4,
          229.32,
          343.2,
          22.44,
          47.4,
          90.6,
          20.64,
          200.16,
          179.64,
          45.84,
          113.04,
          212.4,
          340.32,
          278.52
         ],
         "yaxis": "y2"
        },
        {
         "marker": {
          "color": "green"
         },
         "nbinsx": 40,
         "showlegend": false,
         "type": "histogram",
         "x": [
          19.2,
          33.96,
          20.88,
          1.8,
          24,
          1.68,
          4.92,
          52.56,
          59.28,
          32.04,
          45.24,
          26.76,
          40.08,
          33.24,
          10.08,
          30.84,
          27,
          11.88,
          49.8,
          18.96,
          14.04,
          3.72,
          11.52,
          50.04,
          55.44,
          34.56,
          59.28,
          33.72,
          23.04,
          59.52,
          35.4,
          2.4,
          51.24,
          18.6,
          35.52,
          51.36,
          11.16,
          29.52,
          17.4,
          33,
          52.68,
          36.72,
          17.16,
          39.6,
          6.84,
          29.52,
          52.44,
          1.92,
          34.2,
          35.88,
          9.24,
          32.04,
          4.92,
          24.36,
          53.4,
          51.6,
          22.08,
          33,
          48.72,
          30.6,
          57.36,
          5.88,
          1.8,
          40.2,
          43.8,
          16.8,
          37.92,
          4.2,
          25.2,
          50.76,
          50.04,
          5.16,
          43.56,
          12.12,
          20.64,
          41.16,
          55.68,
          13.2,
          0.36,
          0.48,
          32.28,
          9.84,
          45.6,
          18.48,
          24.72,
          56.16,
          42,
          17.16,
          0.96,
          44.28,
          19.2,
          32.16,
          26.04,
          2.88,
          41.52,
          38.76,
          14.16,
          46.68,
          0,
          58.8,
          14.4,
          47.52,
          3.48,
          32.64,
          40.2,
          46.32,
          56.4,
          46.8,
          34.68,
          31.08,
          52.68,
          20.4,
          42.48,
          39.84,
          6.84,
          17.76,
          2.28,
          8.76,
          58.8,
          48.36,
          30.96,
          16.68,
          10.08,
          27.96,
          47.64,
          25.32,
          13.92,
          52.2,
          1.56,
          44.28,
          22.08,
          21.72,
          42.96,
          21.72,
          44.16,
          17.64,
          4.08,
          45.12,
          6.24,
          28.32,
          12.72,
          13.92,
          25.08,
          24.12,
          8.52,
          4.08,
          58.68,
          36.24,
          9.36,
          2.76,
          12,
          3.12,
          6.48,
          6.84,
          51.6,
          25.56,
          54.12,
          2.52,
          34.44,
          16.68,
          14.52,
          49.32,
          12.96,
          4.92,
          50.4,
          42.72,
          4.44,
          5.88,
          11.16,
          50.4,
          10.32
         ],
         "xaxis": "x3",
         "yaxis": "y3"
        },
        {
         "marker": {
          "color": "green"
         },
         "showlegend": false,
         "type": "box",
         "xaxis": "x4",
         "y": [
          19.2,
          33.96,
          20.88,
          1.8,
          24,
          1.68,
          4.92,
          52.56,
          59.28,
          32.04,
          45.24,
          26.76,
          40.08,
          33.24,
          10.08,
          30.84,
          27,
          11.88,
          49.8,
          18.96,
          14.04,
          3.72,
          11.52,
          50.04,
          55.44,
          34.56,
          59.28,
          33.72,
          23.04,
          59.52,
          35.4,
          2.4,
          51.24,
          18.6,
          35.52,
          51.36,
          11.16,
          29.52,
          17.4,
          33,
          52.68,
          36.72,
          17.16,
          39.6,
          6.84,
          29.52,
          52.44,
          1.92,
          34.2,
          35.88,
          9.24,
          32.04,
          4.92,
          24.36,
          53.4,
          51.6,
          22.08,
          33,
          48.72,
          30.6,
          57.36,
          5.88,
          1.8,
          40.2,
          43.8,
          16.8,
          37.92,
          4.2,
          25.2,
          50.76,
          50.04,
          5.16,
          43.56,
          12.12,
          20.64,
          41.16,
          55.68,
          13.2,
          0.36,
          0.48,
          32.28,
          9.84,
          45.6,
          18.48,
          24.72,
          56.16,
          42,
          17.16,
          0.96,
          44.28,
          19.2,
          32.16,
          26.04,
          2.88,
          41.52,
          38.76,
          14.16,
          46.68,
          0,
          58.8,
          14.4,
          47.52,
          3.48,
          32.64,
          40.2,
          46.32,
          56.4,
          46.8,
          34.68,
          31.08,
          52.68,
          20.4,
          42.48,
          39.84,
          6.84,
          17.76,
          2.28,
          8.76,
          58.8,
          48.36,
          30.96,
          16.68,
          10.08,
          27.96,
          47.64,
          25.32,
          13.92,
          52.2,
          1.56,
          44.28,
          22.08,
          21.72,
          42.96,
          21.72,
          44.16,
          17.64,
          4.08,
          45.12,
          6.24,
          28.32,
          12.72,
          13.92,
          25.08,
          24.12,
          8.52,
          4.08,
          58.68,
          36.24,
          9.36,
          2.76,
          12,
          3.12,
          6.48,
          6.84,
          51.6,
          25.56,
          54.12,
          2.52,
          34.44,
          16.68,
          14.52,
          49.32,
          12.96,
          4.92,
          50.4,
          42.72,
          4.44,
          5.88,
          11.16,
          50.4,
          10.32
         ],
         "yaxis": "y4"
        },
        {
         "marker": {
          "color": "purple"
         },
         "nbinsx": 40,
         "showlegend": false,
         "type": "histogram",
         "x": [
          48.96,
          51.84,
          46.32,
          36,
          0.36,
          8.88,
          10.2,
          6,
          54.84,
          42.12,
          38.4,
          37.92,
          46.44,
          2.16,
          31.68,
          51.96,
          37.8,
          42.84,
          22.2,
          59.88,
          44.16,
          41.52,
          4.32,
          47.52,
          70.44,
          19.08,
          72,
          49.68,
          19.92,
          45.24,
          11.16,
          25.68,
          65.64,
          32.76,
          10.08,
          34.68,
          1.08,
          2.64,
          12.24,
          13.2,
          32.64,
          46.44,
          38.04,
          23.16,
          37.56,
          15.72,
          107.28,
          24.84,
          17.04,
          11.28,
          27.72,
          26.76,
          44.28,
          39,
          42.72,
          40.56,
          78.84,
          19.2,
          75.84,
          88.08,
          61.68,
          11.16,
          39.6,
          70.8,
          86.76,
          13.08,
          63.48,
          7.08,
          26.4,
          61.44,
          55.08,
          59.76,
          121.08,
          25.68,
          21.48,
          6.36,
          70.8,
          35.64,
          27.84,
          30.72,
          6.6,
          67.8,
          27.84,
          2.88,
          12.84,
          41.4,
          63.24,
          30.72,
          17.76,
          95.04,
          26.76,
          55.44,
          60.48,
          18.72,
          14.88,
          89.04,
          31.08,
          60.72,
          11.04,
          3.84,
          51.72,
          10.44,
          51.6,
          2.52,
          54.12,
          78.72,
          10.2,
          11.16,
          71.64,
          24.6,
          2.04,
          15.48,
          90.72,
          45.48,
          41.28,
          46.68,
          10.8,
          10.44,
          53.16,
          14.28,
          24.72,
          44.4,
          58.44,
          17.04,
          45.24,
          11.4,
          6.84,
          60.6,
          29.16,
          54.24,
          41.52,
          36.84,
          59.16,
          30.72,
          8.88,
          6.48,
          101.76,
          25.92,
          23.28,
          69.12,
          7.68,
          22.08,
          56.88,
          20.4,
          15.36,
          15.72,
          50.16,
          24.36,
          42.24,
          28.44,
          21.12,
          9.96,
          32.88,
          35.64,
          86.16,
          36,
          23.52,
          31.92,
          21.84,
          4.44,
          28.08,
          6.96,
          7.2,
          37.92,
          4.32,
          7.2,
          16.56,
          9.72,
          7.68,
          79.44,
          10.44
         ],
         "xaxis": "x5",
         "yaxis": "y5"
        },
        {
         "marker": {
          "color": "purple"
         },
         "showlegend": false,
         "type": "box",
         "xaxis": "x6",
         "y": [
          48.96,
          51.84,
          46.32,
          36,
          0.36,
          8.88,
          10.2,
          6,
          54.84,
          42.12,
          38.4,
          37.92,
          46.44,
          2.16,
          31.68,
          51.96,
          37.8,
          42.84,
          22.2,
          59.88,
          44.16,
          41.52,
          4.32,
          47.52,
          70.44,
          19.08,
          72,
          49.68,
          19.92,
          45.24,
          11.16,
          25.68,
          65.64,
          32.76,
          10.08,
          34.68,
          1.08,
          2.64,
          12.24,
          13.2,
          32.64,
          46.44,
          38.04,
          23.16,
          37.56,
          15.72,
          107.28,
          24.84,
          17.04,
          11.28,
          27.72,
          26.76,
          44.28,
          39,
          42.72,
          40.56,
          78.84,
          19.2,
          75.84,
          88.08,
          61.68,
          11.16,
          39.6,
          70.8,
          86.76,
          13.08,
          63.48,
          7.08,
          26.4,
          61.44,
          55.08,
          59.76,
          121.08,
          25.68,
          21.48,
          6.36,
          70.8,
          35.64,
          27.84,
          30.72,
          6.6,
          67.8,
          27.84,
          2.88,
          12.84,
          41.4,
          63.24,
          30.72,
          17.76,
          95.04,
          26.76,
          55.44,
          60.48,
          18.72,
          14.88,
          89.04,
          31.08,
          60.72,
          11.04,
          3.84,
          51.72,
          10.44,
          51.6,
          2.52,
          54.12,
          78.72,
          10.2,
          11.16,
          71.64,
          24.6,
          2.04,
          15.48,
          90.72,
          45.48,
          41.28,
          46.68,
          10.8,
          10.44,
          53.16,
          14.28,
          24.72,
          44.4,
          58.44,
          17.04,
          45.24,
          11.4,
          6.84,
          60.6,
          29.16,
          54.24,
          41.52,
          36.84,
          59.16,
          30.72,
          8.88,
          6.48,
          101.76,
          25.92,
          23.28,
          69.12,
          7.68,
          22.08,
          56.88,
          20.4,
          15.36,
          15.72,
          50.16,
          24.36,
          42.24,
          28.44,
          21.12,
          9.96,
          32.88,
          35.64,
          86.16,
          36,
          23.52,
          31.92,
          21.84,
          4.44,
          28.08,
          6.96,
          7.2,
          37.92,
          4.32,
          7.2,
          16.56,
          9.72,
          7.68,
          79.44,
          10.44
         ],
         "yaxis": "y6"
        },
        {
         "marker": {
          "color": "orange"
         },
         "nbinsx": 40,
         "showlegend": false,
         "type": "histogram",
         "x": [
          12.6,
          25.68,
          14.28,
          11.52,
          20.88,
          11.4,
          15.36,
          30.48,
          17.64,
          12.12,
          25.8,
          19.92,
          20.52,
          24.84,
          15.48,
          10.2,
          17.88,
          12.72,
          27.84,
          17.76,
          11.64,
          13.68,
          12.84,
          27.12,
          25.44,
          24.24,
          28.44,
          6.6,
          15.84,
          28.56,
          22.08,
          9.72,
          29.04,
          18.84,
          16.8,
          21.6,
          11.16,
          11.4,
          16.08,
          22.68,
          26.76,
          21.96,
          14.88,
          10.56,
          13.2,
          20.4,
          10.44,
          8.28,
          17.04,
          6.36,
          13.2,
          14.16,
          14.76,
          13.56,
          16.32,
          26.04,
          18.24,
          14.4,
          19.2,
          15.48,
          20.04,
          13.44,
          8.76,
          23.28,
          26.64,
          13.8,
          20.28,
          14.04,
          18.6,
          30.48,
          20.64,
          14.04,
          28.56,
          17.76,
          17.64,
          24.84,
          23.04,
          8.64,
          10.44,
          6.36,
          23.76,
          16.08,
          26.16,
          16.92,
          19.08,
          17.52,
          15.12,
          14.64,
          11.28,
          19.08,
          7.92,
          18.6,
          8.4,
          13.92,
          18.24,
          23.64,
          12.72,
          7.92,
          10.56,
          29.64,
          11.64,
          1.92,
          15.24,
          6.84,
          23.52,
          12.96,
          13.92,
          11.4,
          24.96,
          11.52,
          24.84,
          13.08,
          23.04,
          24.12,
          12.48,
          13.68,
          12.36,
          15.84,
          30.48,
          13.08,
          12.12,
          19.32,
          13.92,
          19.92,
          22.8,
          18.72,
          3.84,
          18.36,
          12.12,
          8.76,
          15.48,
          17.28,
          15.96,
          17.88,
          21.6,
          14.28,
          14.28,
          9.6,
          14.64,
          20.52,
          18,
          10.08,
          17.4,
          9.12,
          14.04,
          13.8,
          32.4,
          24.24,
          14.04,
          14.16,
          15.12,
          12.6,
          14.64,
          10.44,
          31.44,
          21.12,
          27.12,
          12.36,
          20.76,
          19.08,
          8.04,
          12.96,
          11.88,
          7.08,
          23.52,
          20.76,
          9.12,
          11.64,
          15.36,
          30.6,
          16.08
         ],
         "xaxis": "x7",
         "yaxis": "y7"
        },
        {
         "marker": {
          "color": "orange"
         },
         "showlegend": false,
         "type": "box",
         "xaxis": "x8",
         "y": [
          12.6,
          25.68,
          14.28,
          11.52,
          20.88,
          11.4,
          15.36,
          30.48,
          17.64,
          12.12,
          25.8,
          19.92,
          20.52,
          24.84,
          15.48,
          10.2,
          17.88,
          12.72,
          27.84,
          17.76,
          11.64,
          13.68,
          12.84,
          27.12,
          25.44,
          24.24,
          28.44,
          6.6,
          15.84,
          28.56,
          22.08,
          9.72,
          29.04,
          18.84,
          16.8,
          21.6,
          11.16,
          11.4,
          16.08,
          22.68,
          26.76,
          21.96,
          14.88,
          10.56,
          13.2,
          20.4,
          10.44,
          8.28,
          17.04,
          6.36,
          13.2,
          14.16,
          14.76,
          13.56,
          16.32,
          26.04,
          18.24,
          14.4,
          19.2,
          15.48,
          20.04,
          13.44,
          8.76,
          23.28,
          26.64,
          13.8,
          20.28,
          14.04,
          18.6,
          30.48,
          20.64,
          14.04,
          28.56,
          17.76,
          17.64,
          24.84,
          23.04,
          8.64,
          10.44,
          6.36,
          23.76,
          16.08,
          26.16,
          16.92,
          19.08,
          17.52,
          15.12,
          14.64,
          11.28,
          19.08,
          7.92,
          18.6,
          8.4,
          13.92,
          18.24,
          23.64,
          12.72,
          7.92,
          10.56,
          29.64,
          11.64,
          1.92,
          15.24,
          6.84,
          23.52,
          12.96,
          13.92,
          11.4,
          24.96,
          11.52,
          24.84,
          13.08,
          23.04,
          24.12,
          12.48,
          13.68,
          12.36,
          15.84,
          30.48,
          13.08,
          12.12,
          19.32,
          13.92,
          19.92,
          22.8,
          18.72,
          3.84,
          18.36,
          12.12,
          8.76,
          15.48,
          17.28,
          15.96,
          17.88,
          21.6,
          14.28,
          14.28,
          9.6,
          14.64,
          20.52,
          18,
          10.08,
          17.4,
          9.12,
          14.04,
          13.8,
          32.4,
          24.24,
          14.04,
          14.16,
          15.12,
          12.6,
          14.64,
          10.44,
          31.44,
          21.12,
          27.12,
          12.36,
          20.76,
          19.08,
          8.04,
          12.96,
          11.88,
          7.08,
          23.52,
          20.76,
          9.12,
          11.64,
          15.36,
          30.6,
          16.08
         ],
         "yaxis": "y8"
        }
       ],
       "layout": {
        "annotations": [
         {
          "font": {
           "size": 16
          },
          "showarrow": false,
          "text": "Histograma - youtube",
          "x": 0.225,
          "xanchor": "center",
          "xref": "paper",
          "y": 1,
          "yanchor": "bottom",
          "yref": "paper"
         },
         {
          "font": {
           "size": 16
          },
          "showarrow": false,
          "text": "Boxplot - youtube",
          "x": 0.775,
          "xanchor": "center",
          "xref": "paper",
          "y": 1,
          "yanchor": "bottom",
          "yref": "paper"
         },
         {
          "font": {
           "size": 16
          },
          "showarrow": false,
          "text": "Histograma - facebook",
          "x": 0.225,
          "xanchor": "center",
          "xref": "paper",
          "y": 0.71875,
          "yanchor": "bottom",
          "yref": "paper"
         },
         {
          "font": {
           "size": 16
          },
          "showarrow": false,
          "text": "Boxplot - facebook",
          "x": 0.775,
          "xanchor": "center",
          "xref": "paper",
          "y": 0.71875,
          "yanchor": "bottom",
          "yref": "paper"
         },
         {
          "font": {
           "size": 16
          },
          "showarrow": false,
          "text": "Histograma - newspaper",
          "x": 0.225,
          "xanchor": "center",
          "xref": "paper",
          "y": 0.4375,
          "yanchor": "bottom",
          "yref": "paper"
         },
         {
          "font": {
           "size": 16
          },
          "showarrow": false,
          "text": "Boxplot - newspaper",
          "x": 0.775,
          "xanchor": "center",
          "xref": "paper",
          "y": 0.4375,
          "yanchor": "bottom",
          "yref": "paper"
         },
         {
          "font": {
           "size": 16
          },
          "showarrow": false,
          "text": "Histograma - sales",
          "x": 0.225,
          "xanchor": "center",
          "xref": "paper",
          "y": 0.15625,
          "yanchor": "bottom",
          "yref": "paper"
         },
         {
          "font": {
           "size": 16
          },
          "showarrow": false,
          "text": "Boxplot - sales",
          "x": 0.775,
          "xanchor": "center",
          "xref": "paper",
          "y": 0.15625,
          "yanchor": "bottom",
          "yref": "paper"
         }
        ],
        "height": 1200,
        "template": {
         "data": {
          "bar": [
           {
            "error_x": {
             "color": "#2a3f5f"
            },
            "error_y": {
             "color": "#2a3f5f"
            },
            "marker": {
             "line": {
              "color": "#E5ECF6",
              "width": 0.5
             },
             "pattern": {
              "fillmode": "overlay",
              "size": 10,
              "solidity": 0.2
             }
            },
            "type": "bar"
           }
          ],
          "barpolar": [
           {
            "marker": {
             "line": {
              "color": "#E5ECF6",
              "width": 0.5
             },
             "pattern": {
              "fillmode": "overlay",
              "size": 10,
              "solidity": 0.2
             }
            },
            "type": "barpolar"
           }
          ],
          "carpet": [
           {
            "aaxis": {
             "endlinecolor": "#2a3f5f",
             "gridcolor": "white",
             "linecolor": "white",
             "minorgridcolor": "white",
             "startlinecolor": "#2a3f5f"
            },
            "baxis": {
             "endlinecolor": "#2a3f5f",
             "gridcolor": "white",
             "linecolor": "white",
             "minorgridcolor": "white",
             "startlinecolor": "#2a3f5f"
            },
            "type": "carpet"
           }
          ],
          "choropleth": [
           {
            "colorbar": {
             "outlinewidth": 0,
             "ticks": ""
            },
            "type": "choropleth"
           }
          ],
          "contour": [
           {
            "colorbar": {
             "outlinewidth": 0,
             "ticks": ""
            },
            "colorscale": [
             [
              0,
              "#0d0887"
             ],
             [
              0.1111111111111111,
              "#46039f"
             ],
             [
              0.2222222222222222,
              "#7201a8"
             ],
             [
              0.3333333333333333,
              "#9c179e"
             ],
             [
              0.4444444444444444,
              "#bd3786"
             ],
             [
              0.5555555555555556,
              "#d8576b"
             ],
             [
              0.6666666666666666,
              "#ed7953"
             ],
             [
              0.7777777777777778,
              "#fb9f3a"
             ],
             [
              0.8888888888888888,
              "#fdca26"
             ],
             [
              1,
              "#f0f921"
             ]
            ],
            "type": "contour"
           }
          ],
          "contourcarpet": [
           {
            "colorbar": {
             "outlinewidth": 0,
             "ticks": ""
            },
            "type": "contourcarpet"
           }
          ],
          "heatmap": [
           {
            "colorbar": {
             "outlinewidth": 0,
             "ticks": ""
            },
            "colorscale": [
             [
              0,
              "#0d0887"
             ],
             [
              0.1111111111111111,
              "#46039f"
             ],
             [
              0.2222222222222222,
              "#7201a8"
             ],
             [
              0.3333333333333333,
              "#9c179e"
             ],
             [
              0.4444444444444444,
              "#bd3786"
             ],
             [
              0.5555555555555556,
              "#d8576b"
             ],
             [
              0.6666666666666666,
              "#ed7953"
             ],
             [
              0.7777777777777778,
              "#fb9f3a"
             ],
             [
              0.8888888888888888,
              "#fdca26"
             ],
             [
              1,
              "#f0f921"
             ]
            ],
            "type": "heatmap"
           }
          ],
          "heatmapgl": [
           {
            "colorbar": {
             "outlinewidth": 0,
             "ticks": ""
            },
            "colorscale": [
             [
              0,
              "#0d0887"
             ],
             [
              0.1111111111111111,
              "#46039f"
             ],
             [
              0.2222222222222222,
              "#7201a8"
             ],
             [
              0.3333333333333333,
              "#9c179e"
             ],
             [
              0.4444444444444444,
              "#bd3786"
             ],
             [
              0.5555555555555556,
              "#d8576b"
             ],
             [
              0.6666666666666666,
              "#ed7953"
             ],
             [
              0.7777777777777778,
              "#fb9f3a"
             ],
             [
              0.8888888888888888,
              "#fdca26"
             ],
             [
              1,
              "#f0f921"
             ]
            ],
            "type": "heatmapgl"
           }
          ],
          "histogram": [
           {
            "marker": {
             "pattern": {
              "fillmode": "overlay",
              "size": 10,
              "solidity": 0.2
             }
            },
            "type": "histogram"
           }
          ],
          "histogram2d": [
           {
            "colorbar": {
             "outlinewidth": 0,
             "ticks": ""
            },
            "colorscale": [
             [
              0,
              "#0d0887"
             ],
             [
              0.1111111111111111,
              "#46039f"
             ],
             [
              0.2222222222222222,
              "#7201a8"
             ],
             [
              0.3333333333333333,
              "#9c179e"
             ],
             [
              0.4444444444444444,
              "#bd3786"
             ],
             [
              0.5555555555555556,
              "#d8576b"
             ],
             [
              0.6666666666666666,
              "#ed7953"
             ],
             [
              0.7777777777777778,
              "#fb9f3a"
             ],
             [
              0.8888888888888888,
              "#fdca26"
             ],
             [
              1,
              "#f0f921"
             ]
            ],
            "type": "histogram2d"
           }
          ],
          "histogram2dcontour": [
           {
            "colorbar": {
             "outlinewidth": 0,
             "ticks": ""
            },
            "colorscale": [
             [
              0,
              "#0d0887"
             ],
             [
              0.1111111111111111,
              "#46039f"
             ],
             [
              0.2222222222222222,
              "#7201a8"
             ],
             [
              0.3333333333333333,
              "#9c179e"
             ],
             [
              0.4444444444444444,
              "#bd3786"
             ],
             [
              0.5555555555555556,
              "#d8576b"
             ],
             [
              0.6666666666666666,
              "#ed7953"
             ],
             [
              0.7777777777777778,
              "#fb9f3a"
             ],
             [
              0.8888888888888888,
              "#fdca26"
             ],
             [
              1,
              "#f0f921"
             ]
            ],
            "type": "histogram2dcontour"
           }
          ],
          "mesh3d": [
           {
            "colorbar": {
             "outlinewidth": 0,
             "ticks": ""
            },
            "type": "mesh3d"
           }
          ],
          "parcoords": [
           {
            "line": {
             "colorbar": {
              "outlinewidth": 0,
              "ticks": ""
             }
            },
            "type": "parcoords"
           }
          ],
          "pie": [
           {
            "automargin": true,
            "type": "pie"
           }
          ],
          "scatter": [
           {
            "fillpattern": {
             "fillmode": "overlay",
             "size": 10,
             "solidity": 0.2
            },
            "type": "scatter"
           }
          ],
          "scatter3d": [
           {
            "line": {
             "colorbar": {
              "outlinewidth": 0,
              "ticks": ""
             }
            },
            "marker": {
             "colorbar": {
              "outlinewidth": 0,
              "ticks": ""
             }
            },
            "type": "scatter3d"
           }
          ],
          "scattercarpet": [
           {
            "marker": {
             "colorbar": {
              "outlinewidth": 0,
              "ticks": ""
             }
            },
            "type": "scattercarpet"
           }
          ],
          "scattergeo": [
           {
            "marker": {
             "colorbar": {
              "outlinewidth": 0,
              "ticks": ""
             }
            },
            "type": "scattergeo"
           }
          ],
          "scattergl": [
           {
            "marker": {
             "colorbar": {
              "outlinewidth": 0,
              "ticks": ""
             }
            },
            "type": "scattergl"
           }
          ],
          "scattermapbox": [
           {
            "marker": {
             "colorbar": {
              "outlinewidth": 0,
              "ticks": ""
             }
            },
            "type": "scattermapbox"
           }
          ],
          "scatterpolar": [
           {
            "marker": {
             "colorbar": {
              "outlinewidth": 0,
              "ticks": ""
             }
            },
            "type": "scatterpolar"
           }
          ],
          "scatterpolargl": [
           {
            "marker": {
             "colorbar": {
              "outlinewidth": 0,
              "ticks": ""
             }
            },
            "type": "scatterpolargl"
           }
          ],
          "scatterternary": [
           {
            "marker": {
             "colorbar": {
              "outlinewidth": 0,
              "ticks": ""
             }
            },
            "type": "scatterternary"
           }
          ],
          "surface": [
           {
            "colorbar": {
             "outlinewidth": 0,
             "ticks": ""
            },
            "colorscale": [
             [
              0,
              "#0d0887"
             ],
             [
              0.1111111111111111,
              "#46039f"
             ],
             [
              0.2222222222222222,
              "#7201a8"
             ],
             [
              0.3333333333333333,
              "#9c179e"
             ],
             [
              0.4444444444444444,
              "#bd3786"
             ],
             [
              0.5555555555555556,
              "#d8576b"
             ],
             [
              0.6666666666666666,
              "#ed7953"
             ],
             [
              0.7777777777777778,
              "#fb9f3a"
             ],
             [
              0.8888888888888888,
              "#fdca26"
             ],
             [
              1,
              "#f0f921"
             ]
            ],
            "type": "surface"
           }
          ],
          "table": [
           {
            "cells": {
             "fill": {
              "color": "#EBF0F8"
             },
             "line": {
              "color": "white"
             }
            },
            "header": {
             "fill": {
              "color": "#C8D4E3"
             },
             "line": {
              "color": "white"
             }
            },
            "type": "table"
           }
          ]
         },
         "layout": {
          "annotationdefaults": {
           "arrowcolor": "#2a3f5f",
           "arrowhead": 0,
           "arrowwidth": 1
          },
          "autotypenumbers": "strict",
          "coloraxis": {
           "colorbar": {
            "outlinewidth": 0,
            "ticks": ""
           }
          },
          "colorscale": {
           "diverging": [
            [
             0,
             "#8e0152"
            ],
            [
             0.1,
             "#c51b7d"
            ],
            [
             0.2,
             "#de77ae"
            ],
            [
             0.3,
             "#f1b6da"
            ],
            [
             0.4,
             "#fde0ef"
            ],
            [
             0.5,
             "#f7f7f7"
            ],
            [
             0.6,
             "#e6f5d0"
            ],
            [
             0.7,
             "#b8e186"
            ],
            [
             0.8,
             "#7fbc41"
            ],
            [
             0.9,
             "#4d9221"
            ],
            [
             1,
             "#276419"
            ]
           ],
           "sequential": [
            [
             0,
             "#0d0887"
            ],
            [
             0.1111111111111111,
             "#46039f"
            ],
            [
             0.2222222222222222,
             "#7201a8"
            ],
            [
             0.3333333333333333,
             "#9c179e"
            ],
            [
             0.4444444444444444,
             "#bd3786"
            ],
            [
             0.5555555555555556,
             "#d8576b"
            ],
            [
             0.6666666666666666,
             "#ed7953"
            ],
            [
             0.7777777777777778,
             "#fb9f3a"
            ],
            [
             0.8888888888888888,
             "#fdca26"
            ],
            [
             1,
             "#f0f921"
            ]
           ],
           "sequentialminus": [
            [
             0,
             "#0d0887"
            ],
            [
             0.1111111111111111,
             "#46039f"
            ],
            [
             0.2222222222222222,
             "#7201a8"
            ],
            [
             0.3333333333333333,
             "#9c179e"
            ],
            [
             0.4444444444444444,
             "#bd3786"
            ],
            [
             0.5555555555555556,
             "#d8576b"
            ],
            [
             0.6666666666666666,
             "#ed7953"
            ],
            [
             0.7777777777777778,
             "#fb9f3a"
            ],
            [
             0.8888888888888888,
             "#fdca26"
            ],
            [
             1,
             "#f0f921"
            ]
           ]
          },
          "colorway": [
           "#636efa",
           "#EF553B",
           "#00cc96",
           "#ab63fa",
           "#FFA15A",
           "#19d3f3",
           "#FF6692",
           "#B6E880",
           "#FF97FF",
           "#FECB52"
          ],
          "font": {
           "color": "#2a3f5f"
          },
          "geo": {
           "bgcolor": "white",
           "lakecolor": "white",
           "landcolor": "#E5ECF6",
           "showlakes": true,
           "showland": true,
           "subunitcolor": "white"
          },
          "hoverlabel": {
           "align": "left"
          },
          "hovermode": "closest",
          "mapbox": {
           "style": "light"
          },
          "paper_bgcolor": "white",
          "plot_bgcolor": "#E5ECF6",
          "polar": {
           "angularaxis": {
            "gridcolor": "white",
            "linecolor": "white",
            "ticks": ""
           },
           "bgcolor": "#E5ECF6",
           "radialaxis": {
            "gridcolor": "white",
            "linecolor": "white",
            "ticks": ""
           }
          },
          "scene": {
           "xaxis": {
            "backgroundcolor": "#E5ECF6",
            "gridcolor": "white",
            "gridwidth": 2,
            "linecolor": "white",
            "showbackground": true,
            "ticks": "",
            "zerolinecolor": "white"
           },
           "yaxis": {
            "backgroundcolor": "#E5ECF6",
            "gridcolor": "white",
            "gridwidth": 2,
            "linecolor": "white",
            "showbackground": true,
            "ticks": "",
            "zerolinecolor": "white"
           },
           "zaxis": {
            "backgroundcolor": "#E5ECF6",
            "gridcolor": "white",
            "gridwidth": 2,
            "linecolor": "white",
            "showbackground": true,
            "ticks": "",
            "zerolinecolor": "white"
           }
          },
          "shapedefaults": {
           "line": {
            "color": "#2a3f5f"
           }
          },
          "ternary": {
           "aaxis": {
            "gridcolor": "white",
            "linecolor": "white",
            "ticks": ""
           },
           "baxis": {
            "gridcolor": "white",
            "linecolor": "white",
            "ticks": ""
           },
           "bgcolor": "#E5ECF6",
           "caxis": {
            "gridcolor": "white",
            "linecolor": "white",
            "ticks": ""
           }
          },
          "title": {
           "x": 0.05
          },
          "xaxis": {
           "automargin": true,
           "gridcolor": "white",
           "linecolor": "white",
           "ticks": "",
           "title": {
            "standoff": 15
           },
           "zerolinecolor": "white",
           "zerolinewidth": 2
          },
          "yaxis": {
           "automargin": true,
           "gridcolor": "white",
           "linecolor": "white",
           "ticks": "",
           "title": {
            "standoff": 15
           },
           "zerolinecolor": "white",
           "zerolinewidth": 2
          }
         }
        },
        "title": {
         "text": "Distribuição e Boxplot para cada variável numérica"
        },
        "xaxis": {
         "anchor": "y",
         "domain": [
          0,
          0.45
         ]
        },
        "xaxis2": {
         "anchor": "y2",
         "domain": [
          0.55,
          1
         ]
        },
        "xaxis3": {
         "anchor": "y3",
         "domain": [
          0,
          0.45
         ]
        },
        "xaxis4": {
         "anchor": "y4",
         "domain": [
          0.55,
          1
         ]
        },
        "xaxis5": {
         "anchor": "y5",
         "domain": [
          0,
          0.45
         ]
        },
        "xaxis6": {
         "anchor": "y6",
         "domain": [
          0.55,
          1
         ]
        },
        "xaxis7": {
         "anchor": "y7",
         "domain": [
          0,
          0.45
         ]
        },
        "xaxis8": {
         "anchor": "y8",
         "domain": [
          0.55,
          1
         ]
        },
        "yaxis": {
         "anchor": "x",
         "domain": [
          0.84375,
          1
         ]
        },
        "yaxis2": {
         "anchor": "x2",
         "domain": [
          0.84375,
          1
         ]
        },
        "yaxis3": {
         "anchor": "x3",
         "domain": [
          0.5625,
          0.71875
         ]
        },
        "yaxis4": {
         "anchor": "x4",
         "domain": [
          0.5625,
          0.71875
         ]
        },
        "yaxis5": {
         "anchor": "x5",
         "domain": [
          0.28125,
          0.4375
         ]
        },
        "yaxis6": {
         "anchor": "x6",
         "domain": [
          0.28125,
          0.4375
         ]
        },
        "yaxis7": {
         "anchor": "x7",
         "domain": [
          0,
          0.15625
         ]
        },
        "yaxis8": {
         "anchor": "x8",
         "domain": [
          0,
          0.15625
         ]
        }
       }
      }
     },
     "metadata": {},
     "output_type": "display_data"
    }
   ],
   "source": [
    "plot_distribution_and_boxplot(df)"
   ]
  },
  {
   "attachments": {},
   "cell_type": "markdown",
   "metadata": {},
   "source": [
    "## Etapa 02) Análise Exploratória\n",
    "Neta etapa iremos explorar mais a fundo os dados, **identificando relações entre as variáveis e descobrindo padrões relevantes**. Para isso, utilize técnicas de visualização de dados e análises estatísticas, buscando possíveis correlações e identificando possíveis outliers ou desvios da normalidade."
   ]
  },
  {
   "attachments": {},
   "cell_type": "markdown",
   "metadata": {},
   "source": [
    "### Correlação"
   ]
  },
  {
   "attachments": {},
   "cell_type": "markdown",
   "metadata": {},
   "source": [
    "#### Definição de Correlação"
   ]
  },
  {
   "attachments": {},
   "cell_type": "markdown",
   "metadata": {},
   "source": [
    "A correlação é uma medida estatística que *avalia a relação entre duas variáveis*. Ela indica a direção e a intensidade dessa relação, ou seja, se as variáveis se movem em conjunto (correlação positiva) ou de forma oposta (correlação negativa), e o quão forte essa relação é.\n",
    "\n",
    "A força da correlação pode ser definida com base no valor do coeficiente de correlação, que varia de -1 a +1. Aqui estão as interpretações comuns para determinar a força da correlação:\n",
    "\n",
    "1. <font color='yellow'>**Correlação Fraca**:</font>\n",
    "    * Quando o coeficiente de correlação está próximo de 0, a correlação é considerada fraca.\n",
    "    * Seja ela positiva ou negativa, a relação entre as variáveis é considerada fraca se o coeficiente de correlação estiver próximo de zero (por exemplo, entre -0,3 e 0,3).\n",
    "    * Nesse caso, as variáveis têm uma associação limitada e seus movimentos não são consistentes.\n",
    "<br></br>\n",
    "2. <font color='orange'>**Correlação Média**:</font>\n",
    "    * Uma correlação é considerada média quando o coeficiente de correlação está em torno de -0,5 a -0,3 ou de 0,3 a 0,5.\n",
    "    * A relação entre as variáveis é moderada e mostra algum grau de consistência em seus movimentos.\n",
    "    * Uma correlação média indica que as variáveis têm alguma influência mútua, mas não é uma relação forte.\n",
    "<br></br>\n",
    "3. <font color='chartreuse'>**Correlação Forte**:</font>\n",
    "    * A correlação é considerada forte quando o coeficiente de correlação está próximo de -1 ou 1.\n",
    "    * Uma correlação positiva forte (próxima de +1) indica que as variáveis estão fortemente relacionadas e tendem a se mover na mesma direção.\n",
    "    * Uma correlação negativa forte (próxima de -1) indica que as variáveis estão fortemente relacionadas, mas se movem em direções opostas.\n",
    "    * Nesses casos, as variáveis têm uma associação consistente e os movimentos de uma variável estão altamente relacionados aos movimentos da outra.\n",
    "\n",
    "\n",
    "É importante destacar que a força da correlação pode variar de acordo com o contexto e o domínio dos dados. Além disso, a correlação não implica causalidade direta, ou seja, apenas porque duas variáveis estão correlacionadas, não significa que uma causa a outra."
   ]
  },
  {
   "attachments": {},
   "cell_type": "markdown",
   "metadata": {},
   "source": [
    "#### Matriz de Correlação"
   ]
  },
  {
   "cell_type": "code",
   "execution_count": 6,
   "metadata": {},
   "outputs": [
    {
     "data": {
      "application/vnd.plotly.v1+json": {
       "config": {
        "plotlyServerURL": "https://plot.ly"
       },
       "data": [
        {
         "colorscale": [
          [
           0,
           "#440154"
          ],
          [
           0.1111111111111111,
           "#482878"
          ],
          [
           0.2222222222222222,
           "#3e4989"
          ],
          [
           0.3333333333333333,
           "#31688e"
          ],
          [
           0.4444444444444444,
           "#26828e"
          ],
          [
           0.5555555555555556,
           "#1f9e89"
          ],
          [
           0.6666666666666666,
           "#35b779"
          ],
          [
           0.7777777777777778,
           "#6ece58"
          ],
          [
           0.8888888888888888,
           "#b5de2b"
          ],
          [
           1,
           "#fde725"
          ]
         ],
         "type": "heatmap",
         "x": [
          "youtube",
          "facebook",
          "newspaper",
          "sales"
         ],
         "y": [
          "youtube",
          "facebook",
          "newspaper",
          "sales"
         ],
         "z": [
          [
           1,
           0.08653838911529717,
           0.1107593897645278,
           0.7820300203008933
          ],
          [
           0.08653838911529717,
           1,
           0.2934254231048905,
           0.6029180163242245
          ],
          [
           0.1107593897645278,
           0.2934254231048905,
           1,
           0.2549869780348229
          ],
          [
           0.7820300203008933,
           0.6029180163242245,
           0.2549869780348229,
           1
          ]
         ]
        }
       ],
       "layout": {
        "annotations": [
         {
          "font": {
           "color": "white"
          },
          "showarrow": false,
          "text": "1.0",
          "x": "youtube",
          "y": "youtube"
         },
         {
          "font": {
           "color": "white"
          },
          "showarrow": false,
          "text": "0.09",
          "x": "facebook",
          "y": "youtube"
         },
         {
          "font": {
           "color": "white"
          },
          "showarrow": false,
          "text": "0.11",
          "x": "newspaper",
          "y": "youtube"
         },
         {
          "font": {
           "color": "white"
          },
          "showarrow": false,
          "text": "0.78",
          "x": "sales",
          "y": "youtube"
         },
         {
          "font": {
           "color": "white"
          },
          "showarrow": false,
          "text": "0.09",
          "x": "youtube",
          "y": "facebook"
         },
         {
          "font": {
           "color": "white"
          },
          "showarrow": false,
          "text": "1.0",
          "x": "facebook",
          "y": "facebook"
         },
         {
          "font": {
           "color": "white"
          },
          "showarrow": false,
          "text": "0.29",
          "x": "newspaper",
          "y": "facebook"
         },
         {
          "font": {
           "color": "white"
          },
          "showarrow": false,
          "text": "0.6",
          "x": "sales",
          "y": "facebook"
         },
         {
          "font": {
           "color": "white"
          },
          "showarrow": false,
          "text": "0.11",
          "x": "youtube",
          "y": "newspaper"
         },
         {
          "font": {
           "color": "white"
          },
          "showarrow": false,
          "text": "0.29",
          "x": "facebook",
          "y": "newspaper"
         },
         {
          "font": {
           "color": "white"
          },
          "showarrow": false,
          "text": "1.0",
          "x": "newspaper",
          "y": "newspaper"
         },
         {
          "font": {
           "color": "white"
          },
          "showarrow": false,
          "text": "0.25",
          "x": "sales",
          "y": "newspaper"
         },
         {
          "font": {
           "color": "white"
          },
          "showarrow": false,
          "text": "0.78",
          "x": "youtube",
          "y": "sales"
         },
         {
          "font": {
           "color": "white"
          },
          "showarrow": false,
          "text": "0.6",
          "x": "facebook",
          "y": "sales"
         },
         {
          "font": {
           "color": "white"
          },
          "showarrow": false,
          "text": "0.25",
          "x": "newspaper",
          "y": "sales"
         },
         {
          "font": {
           "color": "white"
          },
          "showarrow": false,
          "text": "1.0",
          "x": "sales",
          "y": "sales"
         }
        ],
        "height": 500,
        "template": {
         "data": {
          "bar": [
           {
            "error_x": {
             "color": "#2a3f5f"
            },
            "error_y": {
             "color": "#2a3f5f"
            },
            "marker": {
             "line": {
              "color": "#E5ECF6",
              "width": 0.5
             },
             "pattern": {
              "fillmode": "overlay",
              "size": 10,
              "solidity": 0.2
             }
            },
            "type": "bar"
           }
          ],
          "barpolar": [
           {
            "marker": {
             "line": {
              "color": "#E5ECF6",
              "width": 0.5
             },
             "pattern": {
              "fillmode": "overlay",
              "size": 10,
              "solidity": 0.2
             }
            },
            "type": "barpolar"
           }
          ],
          "carpet": [
           {
            "aaxis": {
             "endlinecolor": "#2a3f5f",
             "gridcolor": "white",
             "linecolor": "white",
             "minorgridcolor": "white",
             "startlinecolor": "#2a3f5f"
            },
            "baxis": {
             "endlinecolor": "#2a3f5f",
             "gridcolor": "white",
             "linecolor": "white",
             "minorgridcolor": "white",
             "startlinecolor": "#2a3f5f"
            },
            "type": "carpet"
           }
          ],
          "choropleth": [
           {
            "colorbar": {
             "outlinewidth": 0,
             "ticks": ""
            },
            "type": "choropleth"
           }
          ],
          "contour": [
           {
            "colorbar": {
             "outlinewidth": 0,
             "ticks": ""
            },
            "colorscale": [
             [
              0,
              "#0d0887"
             ],
             [
              0.1111111111111111,
              "#46039f"
             ],
             [
              0.2222222222222222,
              "#7201a8"
             ],
             [
              0.3333333333333333,
              "#9c179e"
             ],
             [
              0.4444444444444444,
              "#bd3786"
             ],
             [
              0.5555555555555556,
              "#d8576b"
             ],
             [
              0.6666666666666666,
              "#ed7953"
             ],
             [
              0.7777777777777778,
              "#fb9f3a"
             ],
             [
              0.8888888888888888,
              "#fdca26"
             ],
             [
              1,
              "#f0f921"
             ]
            ],
            "type": "contour"
           }
          ],
          "contourcarpet": [
           {
            "colorbar": {
             "outlinewidth": 0,
             "ticks": ""
            },
            "type": "contourcarpet"
           }
          ],
          "heatmap": [
           {
            "colorbar": {
             "outlinewidth": 0,
             "ticks": ""
            },
            "colorscale": [
             [
              0,
              "#0d0887"
             ],
             [
              0.1111111111111111,
              "#46039f"
             ],
             [
              0.2222222222222222,
              "#7201a8"
             ],
             [
              0.3333333333333333,
              "#9c179e"
             ],
             [
              0.4444444444444444,
              "#bd3786"
             ],
             [
              0.5555555555555556,
              "#d8576b"
             ],
             [
              0.6666666666666666,
              "#ed7953"
             ],
             [
              0.7777777777777778,
              "#fb9f3a"
             ],
             [
              0.8888888888888888,
              "#fdca26"
             ],
             [
              1,
              "#f0f921"
             ]
            ],
            "type": "heatmap"
           }
          ],
          "heatmapgl": [
           {
            "colorbar": {
             "outlinewidth": 0,
             "ticks": ""
            },
            "colorscale": [
             [
              0,
              "#0d0887"
             ],
             [
              0.1111111111111111,
              "#46039f"
             ],
             [
              0.2222222222222222,
              "#7201a8"
             ],
             [
              0.3333333333333333,
              "#9c179e"
             ],
             [
              0.4444444444444444,
              "#bd3786"
             ],
             [
              0.5555555555555556,
              "#d8576b"
             ],
             [
              0.6666666666666666,
              "#ed7953"
             ],
             [
              0.7777777777777778,
              "#fb9f3a"
             ],
             [
              0.8888888888888888,
              "#fdca26"
             ],
             [
              1,
              "#f0f921"
             ]
            ],
            "type": "heatmapgl"
           }
          ],
          "histogram": [
           {
            "marker": {
             "pattern": {
              "fillmode": "overlay",
              "size": 10,
              "solidity": 0.2
             }
            },
            "type": "histogram"
           }
          ],
          "histogram2d": [
           {
            "colorbar": {
             "outlinewidth": 0,
             "ticks": ""
            },
            "colorscale": [
             [
              0,
              "#0d0887"
             ],
             [
              0.1111111111111111,
              "#46039f"
             ],
             [
              0.2222222222222222,
              "#7201a8"
             ],
             [
              0.3333333333333333,
              "#9c179e"
             ],
             [
              0.4444444444444444,
              "#bd3786"
             ],
             [
              0.5555555555555556,
              "#d8576b"
             ],
             [
              0.6666666666666666,
              "#ed7953"
             ],
             [
              0.7777777777777778,
              "#fb9f3a"
             ],
             [
              0.8888888888888888,
              "#fdca26"
             ],
             [
              1,
              "#f0f921"
             ]
            ],
            "type": "histogram2d"
           }
          ],
          "histogram2dcontour": [
           {
            "colorbar": {
             "outlinewidth": 0,
             "ticks": ""
            },
            "colorscale": [
             [
              0,
              "#0d0887"
             ],
             [
              0.1111111111111111,
              "#46039f"
             ],
             [
              0.2222222222222222,
              "#7201a8"
             ],
             [
              0.3333333333333333,
              "#9c179e"
             ],
             [
              0.4444444444444444,
              "#bd3786"
             ],
             [
              0.5555555555555556,
              "#d8576b"
             ],
             [
              0.6666666666666666,
              "#ed7953"
             ],
             [
              0.7777777777777778,
              "#fb9f3a"
             ],
             [
              0.8888888888888888,
              "#fdca26"
             ],
             [
              1,
              "#f0f921"
             ]
            ],
            "type": "histogram2dcontour"
           }
          ],
          "mesh3d": [
           {
            "colorbar": {
             "outlinewidth": 0,
             "ticks": ""
            },
            "type": "mesh3d"
           }
          ],
          "parcoords": [
           {
            "line": {
             "colorbar": {
              "outlinewidth": 0,
              "ticks": ""
             }
            },
            "type": "parcoords"
           }
          ],
          "pie": [
           {
            "automargin": true,
            "type": "pie"
           }
          ],
          "scatter": [
           {
            "fillpattern": {
             "fillmode": "overlay",
             "size": 10,
             "solidity": 0.2
            },
            "type": "scatter"
           }
          ],
          "scatter3d": [
           {
            "line": {
             "colorbar": {
              "outlinewidth": 0,
              "ticks": ""
             }
            },
            "marker": {
             "colorbar": {
              "outlinewidth": 0,
              "ticks": ""
             }
            },
            "type": "scatter3d"
           }
          ],
          "scattercarpet": [
           {
            "marker": {
             "colorbar": {
              "outlinewidth": 0,
              "ticks": ""
             }
            },
            "type": "scattercarpet"
           }
          ],
          "scattergeo": [
           {
            "marker": {
             "colorbar": {
              "outlinewidth": 0,
              "ticks": ""
             }
            },
            "type": "scattergeo"
           }
          ],
          "scattergl": [
           {
            "marker": {
             "colorbar": {
              "outlinewidth": 0,
              "ticks": ""
             }
            },
            "type": "scattergl"
           }
          ],
          "scattermapbox": [
           {
            "marker": {
             "colorbar": {
              "outlinewidth": 0,
              "ticks": ""
             }
            },
            "type": "scattermapbox"
           }
          ],
          "scatterpolar": [
           {
            "marker": {
             "colorbar": {
              "outlinewidth": 0,
              "ticks": ""
             }
            },
            "type": "scatterpolar"
           }
          ],
          "scatterpolargl": [
           {
            "marker": {
             "colorbar": {
              "outlinewidth": 0,
              "ticks": ""
             }
            },
            "type": "scatterpolargl"
           }
          ],
          "scatterternary": [
           {
            "marker": {
             "colorbar": {
              "outlinewidth": 0,
              "ticks": ""
             }
            },
            "type": "scatterternary"
           }
          ],
          "surface": [
           {
            "colorbar": {
             "outlinewidth": 0,
             "ticks": ""
            },
            "colorscale": [
             [
              0,
              "#0d0887"
             ],
             [
              0.1111111111111111,
              "#46039f"
             ],
             [
              0.2222222222222222,
              "#7201a8"
             ],
             [
              0.3333333333333333,
              "#9c179e"
             ],
             [
              0.4444444444444444,
              "#bd3786"
             ],
             [
              0.5555555555555556,
              "#d8576b"
             ],
             [
              0.6666666666666666,
              "#ed7953"
             ],
             [
              0.7777777777777778,
              "#fb9f3a"
             ],
             [
              0.8888888888888888,
              "#fdca26"
             ],
             [
              1,
              "#f0f921"
             ]
            ],
            "type": "surface"
           }
          ],
          "table": [
           {
            "cells": {
             "fill": {
              "color": "#EBF0F8"
             },
             "line": {
              "color": "white"
             }
            },
            "header": {
             "fill": {
              "color": "#C8D4E3"
             },
             "line": {
              "color": "white"
             }
            },
            "type": "table"
           }
          ]
         },
         "layout": {
          "annotationdefaults": {
           "arrowcolor": "#2a3f5f",
           "arrowhead": 0,
           "arrowwidth": 1
          },
          "autotypenumbers": "strict",
          "coloraxis": {
           "colorbar": {
            "outlinewidth": 0,
            "ticks": ""
           }
          },
          "colorscale": {
           "diverging": [
            [
             0,
             "#8e0152"
            ],
            [
             0.1,
             "#c51b7d"
            ],
            [
             0.2,
             "#de77ae"
            ],
            [
             0.3,
             "#f1b6da"
            ],
            [
             0.4,
             "#fde0ef"
            ],
            [
             0.5,
             "#f7f7f7"
            ],
            [
             0.6,
             "#e6f5d0"
            ],
            [
             0.7,
             "#b8e186"
            ],
            [
             0.8,
             "#7fbc41"
            ],
            [
             0.9,
             "#4d9221"
            ],
            [
             1,
             "#276419"
            ]
           ],
           "sequential": [
            [
             0,
             "#0d0887"
            ],
            [
             0.1111111111111111,
             "#46039f"
            ],
            [
             0.2222222222222222,
             "#7201a8"
            ],
            [
             0.3333333333333333,
             "#9c179e"
            ],
            [
             0.4444444444444444,
             "#bd3786"
            ],
            [
             0.5555555555555556,
             "#d8576b"
            ],
            [
             0.6666666666666666,
             "#ed7953"
            ],
            [
             0.7777777777777778,
             "#fb9f3a"
            ],
            [
             0.8888888888888888,
             "#fdca26"
            ],
            [
             1,
             "#f0f921"
            ]
           ],
           "sequentialminus": [
            [
             0,
             "#0d0887"
            ],
            [
             0.1111111111111111,
             "#46039f"
            ],
            [
             0.2222222222222222,
             "#7201a8"
            ],
            [
             0.3333333333333333,
             "#9c179e"
            ],
            [
             0.4444444444444444,
             "#bd3786"
            ],
            [
             0.5555555555555556,
             "#d8576b"
            ],
            [
             0.6666666666666666,
             "#ed7953"
            ],
            [
             0.7777777777777778,
             "#fb9f3a"
            ],
            [
             0.8888888888888888,
             "#fdca26"
            ],
            [
             1,
             "#f0f921"
            ]
           ]
          },
          "colorway": [
           "#636efa",
           "#EF553B",
           "#00cc96",
           "#ab63fa",
           "#FFA15A",
           "#19d3f3",
           "#FF6692",
           "#B6E880",
           "#FF97FF",
           "#FECB52"
          ],
          "font": {
           "color": "#2a3f5f"
          },
          "geo": {
           "bgcolor": "white",
           "lakecolor": "white",
           "landcolor": "#E5ECF6",
           "showlakes": true,
           "showland": true,
           "subunitcolor": "white"
          },
          "hoverlabel": {
           "align": "left"
          },
          "hovermode": "closest",
          "mapbox": {
           "style": "light"
          },
          "paper_bgcolor": "white",
          "plot_bgcolor": "#E5ECF6",
          "polar": {
           "angularaxis": {
            "gridcolor": "white",
            "linecolor": "white",
            "ticks": ""
           },
           "bgcolor": "#E5ECF6",
           "radialaxis": {
            "gridcolor": "white",
            "linecolor": "white",
            "ticks": ""
           }
          },
          "scene": {
           "xaxis": {
            "backgroundcolor": "#E5ECF6",
            "gridcolor": "white",
            "gridwidth": 2,
            "linecolor": "white",
            "showbackground": true,
            "ticks": "",
            "zerolinecolor": "white"
           },
           "yaxis": {
            "backgroundcolor": "#E5ECF6",
            "gridcolor": "white",
            "gridwidth": 2,
            "linecolor": "white",
            "showbackground": true,
            "ticks": "",
            "zerolinecolor": "white"
           },
           "zaxis": {
            "backgroundcolor": "#E5ECF6",
            "gridcolor": "white",
            "gridwidth": 2,
            "linecolor": "white",
            "showbackground": true,
            "ticks": "",
            "zerolinecolor": "white"
           }
          },
          "shapedefaults": {
           "line": {
            "color": "#2a3f5f"
           }
          },
          "ternary": {
           "aaxis": {
            "gridcolor": "white",
            "linecolor": "white",
            "ticks": ""
           },
           "baxis": {
            "gridcolor": "white",
            "linecolor": "white",
            "ticks": ""
           },
           "bgcolor": "#E5ECF6",
           "caxis": {
            "gridcolor": "white",
            "linecolor": "white",
            "ticks": ""
           }
          },
          "title": {
           "x": 0.05
          },
          "xaxis": {
           "automargin": true,
           "gridcolor": "white",
           "linecolor": "white",
           "ticks": "",
           "title": {
            "standoff": 15
           },
           "zerolinecolor": "white",
           "zerolinewidth": 2
          },
          "yaxis": {
           "automargin": true,
           "gridcolor": "white",
           "linecolor": "white",
           "ticks": "",
           "title": {
            "standoff": 15
           },
           "zerolinecolor": "white",
           "zerolinewidth": 2
          }
         }
        },
        "title": {
         "text": "Matriz de Correlação"
        },
        "width": 600
       }
      }
     },
     "metadata": {},
     "output_type": "display_data"
    }
   ],
   "source": [
    "# Matriz de Correlação\n",
    "correlation_matrix = df.corr()\n",
    "\n",
    "# Cria o gráfico de heatmap\n",
    "fig = go.Figure(data=go.Heatmap(\n",
    "                   z=correlation_matrix,\n",
    "                   x=correlation_matrix.columns,\n",
    "                   y=correlation_matrix.columns,\n",
    "                   colorscale='Viridis'))\n",
    "\n",
    "# Adiciona anotações\n",
    "annotations = []\n",
    "for i, row in enumerate(correlation_matrix.values):\n",
    "    for j, val in enumerate(row):\n",
    "        annotations.append(go.layout.Annotation(text=str(round(val, 2)), x=correlation_matrix.columns[j], y=correlation_matrix.columns[i], \n",
    "                                                showarrow=False, font=dict(color='white')))\n",
    "\n",
    "# Atualiza layout\n",
    "fig.update_layout(title='Matriz de Correlação',\n",
    "                  annotations=annotations,\n",
    "                  height=500, width=600)\n",
    "\n",
    "fig.show()\n"
   ]
  },
  {
   "attachments": {},
   "cell_type": "markdown",
   "metadata": {},
   "source": [
    "Explicado o que é correlação, podemos observar que:\n",
    "\n",
    "1. A correlação entre \"youtube\" e \"sales\" é de 0.78, o que indica uma correlação positiva forte. Isso sugere que há uma forte relação entre o investimento no YouTube e as vendas. Aumento nas vendas tendem a estar associados ao aumento de investimento no YouTube.\n",
    "\n",
    "2. A correlação entre \"facebook\" e \"sales\" é de 0.60, o que indica uma correlação positiva forte. Isso sugere que há uma relação forte entre o investimento no Facebook e as vendas. Aumentos nas vendas tendem a estar associados ao aumento de investimento no Facebook.\n",
    "\n",
    "3. A correlação entre \"newspaper\" e \"sales\" é de 0.25, o que indica uma correlação positiva fraca. Isso sugere que há uma relação fraca entre o investimento em newspaper e as vendas. A influência dos newspaper nas vendas é limitada, pois a correlação é relativamente baixa."
   ]
  },
  {
   "attachments": {},
   "cell_type": "markdown",
   "metadata": {},
   "source": [
    "#### Scatter plot: Sales vs Investimento"
   ]
  },
  {
   "cell_type": "code",
   "execution_count": 7,
   "metadata": {},
   "outputs": [
    {
     "data": {
      "application/vnd.plotly.v1+json": {
       "config": {
        "plotlyServerURL": "https://plot.ly"
       },
       "data": [
        {
         "customdata": [
          [
           "youtube"
          ],
          [
           "youtube"
          ],
          [
           "youtube"
          ],
          [
           "youtube"
          ],
          [
           "youtube"
          ],
          [
           "youtube"
          ],
          [
           "youtube"
          ],
          [
           "youtube"
          ],
          [
           "youtube"
          ],
          [
           "youtube"
          ],
          [
           "youtube"
          ],
          [
           "youtube"
          ],
          [
           "youtube"
          ],
          [
           "youtube"
          ],
          [
           "youtube"
          ],
          [
           "youtube"
          ],
          [
           "youtube"
          ],
          [
           "youtube"
          ],
          [
           "youtube"
          ],
          [
           "youtube"
          ],
          [
           "youtube"
          ],
          [
           "youtube"
          ],
          [
           "youtube"
          ],
          [
           "youtube"
          ],
          [
           "youtube"
          ],
          [
           "youtube"
          ],
          [
           "youtube"
          ],
          [
           "youtube"
          ],
          [
           "youtube"
          ],
          [
           "youtube"
          ],
          [
           "youtube"
          ],
          [
           "youtube"
          ],
          [
           "youtube"
          ],
          [
           "youtube"
          ],
          [
           "youtube"
          ],
          [
           "youtube"
          ],
          [
           "youtube"
          ],
          [
           "youtube"
          ],
          [
           "youtube"
          ],
          [
           "youtube"
          ],
          [
           "youtube"
          ],
          [
           "youtube"
          ],
          [
           "youtube"
          ],
          [
           "youtube"
          ],
          [
           "youtube"
          ],
          [
           "youtube"
          ],
          [
           "youtube"
          ],
          [
           "youtube"
          ],
          [
           "youtube"
          ],
          [
           "youtube"
          ],
          [
           "youtube"
          ],
          [
           "youtube"
          ],
          [
           "youtube"
          ],
          [
           "youtube"
          ],
          [
           "youtube"
          ],
          [
           "youtube"
          ],
          [
           "youtube"
          ],
          [
           "youtube"
          ],
          [
           "youtube"
          ],
          [
           "youtube"
          ],
          [
           "youtube"
          ],
          [
           "youtube"
          ],
          [
           "youtube"
          ],
          [
           "youtube"
          ],
          [
           "youtube"
          ],
          [
           "youtube"
          ],
          [
           "youtube"
          ],
          [
           "youtube"
          ],
          [
           "youtube"
          ],
          [
           "youtube"
          ],
          [
           "youtube"
          ],
          [
           "youtube"
          ],
          [
           "youtube"
          ],
          [
           "youtube"
          ],
          [
           "youtube"
          ],
          [
           "youtube"
          ],
          [
           "youtube"
          ],
          [
           "youtube"
          ],
          [
           "youtube"
          ],
          [
           "youtube"
          ],
          [
           "youtube"
          ],
          [
           "youtube"
          ],
          [
           "youtube"
          ],
          [
           "youtube"
          ],
          [
           "youtube"
          ],
          [
           "youtube"
          ],
          [
           "youtube"
          ],
          [
           "youtube"
          ],
          [
           "youtube"
          ],
          [
           "youtube"
          ],
          [
           "youtube"
          ],
          [
           "youtube"
          ],
          [
           "youtube"
          ],
          [
           "youtube"
          ],
          [
           "youtube"
          ],
          [
           "youtube"
          ],
          [
           "youtube"
          ],
          [
           "youtube"
          ],
          [
           "youtube"
          ],
          [
           "youtube"
          ],
          [
           "youtube"
          ],
          [
           "youtube"
          ],
          [
           "youtube"
          ],
          [
           "youtube"
          ],
          [
           "youtube"
          ],
          [
           "youtube"
          ],
          [
           "youtube"
          ],
          [
           "youtube"
          ],
          [
           "youtube"
          ],
          [
           "youtube"
          ],
          [
           "youtube"
          ],
          [
           "youtube"
          ],
          [
           "youtube"
          ],
          [
           "youtube"
          ],
          [
           "youtube"
          ],
          [
           "youtube"
          ],
          [
           "youtube"
          ],
          [
           "youtube"
          ],
          [
           "youtube"
          ],
          [
           "youtube"
          ],
          [
           "youtube"
          ],
          [
           "youtube"
          ],
          [
           "youtube"
          ],
          [
           "youtube"
          ],
          [
           "youtube"
          ],
          [
           "youtube"
          ],
          [
           "youtube"
          ],
          [
           "youtube"
          ],
          [
           "youtube"
          ],
          [
           "youtube"
          ],
          [
           "youtube"
          ],
          [
           "youtube"
          ],
          [
           "youtube"
          ],
          [
           "youtube"
          ],
          [
           "youtube"
          ],
          [
           "youtube"
          ],
          [
           "youtube"
          ],
          [
           "youtube"
          ],
          [
           "youtube"
          ],
          [
           "youtube"
          ],
          [
           "youtube"
          ],
          [
           "youtube"
          ],
          [
           "youtube"
          ],
          [
           "youtube"
          ],
          [
           "youtube"
          ],
          [
           "youtube"
          ],
          [
           "youtube"
          ],
          [
           "youtube"
          ],
          [
           "youtube"
          ],
          [
           "youtube"
          ],
          [
           "youtube"
          ],
          [
           "youtube"
          ],
          [
           "youtube"
          ],
          [
           "youtube"
          ],
          [
           "youtube"
          ],
          [
           "youtube"
          ],
          [
           "youtube"
          ],
          [
           "youtube"
          ],
          [
           "youtube"
          ],
          [
           "youtube"
          ],
          [
           "youtube"
          ],
          [
           "youtube"
          ],
          [
           "youtube"
          ],
          [
           "youtube"
          ],
          [
           "youtube"
          ],
          [
           "youtube"
          ],
          [
           "youtube"
          ],
          [
           "youtube"
          ],
          [
           "youtube"
          ],
          [
           "youtube"
          ],
          [
           "youtube"
          ]
         ],
         "hovertemplate": "platform=%{customdata[0]}<br>symbol=circle<br>Investimento=%{x}<br>Sales=%{y}<extra></extra>",
         "legendgroup": "youtube, circle",
         "marker": {
          "color": "#636efa",
          "symbol": "circle"
         },
         "mode": "markers",
         "name": "youtube, circle",
         "orientation": "v",
         "showlegend": true,
         "type": "scatter",
         "x": [
          84.72,
          351.48,
          135.48,
          116.64,
          318.72,
          114.84,
          348.84,
          320.28,
          89.64,
          51.72,
          273.6,
          243,
          212.4,
          352.32,
          248.28,
          30.12,
          210.12,
          107.64,
          287.88,
          272.64,
          80.28,
          239.76,
          120.48,
          259.68,
          219.12,
          315.24,
          238.68,
          8.76,
          163.44,
          252.96,
          252.84,
          64.2,
          313.56,
          287.16,
          123.24,
          157.32,
          82.8,
          37.8,
          167.16,
          284.88,
          260.16,
          238.92,
          131.76,
          32.16,
          155.28,
          256.08,
          20.28,
          33,
          144.6,
          6.48,
          139.2,
          91.68,
          287.76,
          90.36,
          82.08,
          256.2,
          231.84,
          91.56,
          132.84,
          105.96,
          131.76,
          161.16,
          34.32,
          261.24,
          301.08,
          128.88,
          195.96,
          237.12,
          221.88,
          347.64,
          162.24,
          266.88,
          355.68,
          336.24,
          225.48,
          285.84,
          165.48,
          30,
          108.48,
          15.72,
          306.48,
          270.96,
          290.04,
          210.84,
          251.52,
          93.84,
          90.12,
          167.04,
          91.68,
          150.84,
          23.28,
          169.56,
          22.56,
          268.8,
          147.72,
          275.4,
          104.64,
          9.36,
          96.24,
          264.36,
          71.52,
          0.84,
          318.24,
          10.08,
          263.76,
          44.28,
          57.96,
          30.72,
          328.44,
          51.6,
          221.88,
          88.08,
          232.44,
          264.6,
          125.52,
          115.44,
          168.36,
          288.12,
          291.84,
          45.6,
          53.64,
          336.84,
          145.2,
          237.12,
          205.56,
          225.36,
          4.92,
          112.68,
          179.76,
          14.04,
          158.04,
          207,
          102.84,
          226.08,
          196.2,
          140.64,
          281.4,
          21.48,
          248.16,
          258.48,
          341.16,
          60,
          197.4,
          23.52,
          202.08,
          266.88,
          332.28,
          298.08,
          204.24,
          332.04,
          198.72,
          187.92,
          262.2,
          67.44,
          345.12,
          304.56,
          246,
          167.4,
          229.32,
          343.2,
          22.44,
          47.4,
          90.6,
          20.64,
          200.16,
          179.64,
          45.84,
          113.04,
          212.4,
          340.32,
          278.52
         ],
         "xaxis": "x",
         "y": [
          12.6,
          25.68,
          14.28,
          11.52,
          20.88,
          11.4,
          15.36,
          30.48,
          17.64,
          12.12,
          25.8,
          19.92,
          20.52,
          24.84,
          15.48,
          10.2,
          17.88,
          12.72,
          27.84,
          17.76,
          11.64,
          13.68,
          12.84,
          27.12,
          25.44,
          24.24,
          28.44,
          6.6,
          15.84,
          28.56,
          22.08,
          9.72,
          29.04,
          18.84,
          16.8,
          21.6,
          11.16,
          11.4,
          16.08,
          22.68,
          26.76,
          21.96,
          14.88,
          10.56,
          13.2,
          20.4,
          10.44,
          8.28,
          17.04,
          6.36,
          13.2,
          14.16,
          14.76,
          13.56,
          16.32,
          26.04,
          18.24,
          14.4,
          19.2,
          15.48,
          20.04,
          13.44,
          8.76,
          23.28,
          26.64,
          13.8,
          20.28,
          14.04,
          18.6,
          30.48,
          20.64,
          14.04,
          28.56,
          17.76,
          17.64,
          24.84,
          23.04,
          8.64,
          10.44,
          6.36,
          23.76,
          16.08,
          26.16,
          16.92,
          19.08,
          17.52,
          15.12,
          14.64,
          11.28,
          19.08,
          7.92,
          18.6,
          8.4,
          13.92,
          18.24,
          23.64,
          12.72,
          7.92,
          10.56,
          29.64,
          11.64,
          1.92,
          15.24,
          6.84,
          23.52,
          12.96,
          13.92,
          11.4,
          24.96,
          11.52,
          24.84,
          13.08,
          23.04,
          24.12,
          12.48,
          13.68,
          12.36,
          15.84,
          30.48,
          13.08,
          12.12,
          19.32,
          13.92,
          19.92,
          22.8,
          18.72,
          3.84,
          18.36,
          12.12,
          8.76,
          15.48,
          17.28,
          15.96,
          17.88,
          21.6,
          14.28,
          14.28,
          9.6,
          14.64,
          20.52,
          18,
          10.08,
          17.4,
          9.12,
          14.04,
          13.8,
          32.4,
          24.24,
          14.04,
          14.16,
          15.12,
          12.6,
          14.64,
          10.44,
          31.44,
          21.12,
          27.12,
          12.36,
          20.76,
          19.08,
          8.04,
          12.96,
          11.88,
          7.08,
          23.52,
          20.76,
          9.12,
          11.64,
          15.36,
          30.6,
          16.08
         ],
         "yaxis": "y"
        },
        {
         "customdata": [
          [
           "facebook"
          ],
          [
           "facebook"
          ],
          [
           "facebook"
          ],
          [
           "facebook"
          ],
          [
           "facebook"
          ],
          [
           "facebook"
          ],
          [
           "facebook"
          ],
          [
           "facebook"
          ],
          [
           "facebook"
          ],
          [
           "facebook"
          ],
          [
           "facebook"
          ],
          [
           "facebook"
          ],
          [
           "facebook"
          ],
          [
           "facebook"
          ],
          [
           "facebook"
          ],
          [
           "facebook"
          ],
          [
           "facebook"
          ],
          [
           "facebook"
          ],
          [
           "facebook"
          ],
          [
           "facebook"
          ],
          [
           "facebook"
          ],
          [
           "facebook"
          ],
          [
           "facebook"
          ],
          [
           "facebook"
          ],
          [
           "facebook"
          ],
          [
           "facebook"
          ],
          [
           "facebook"
          ],
          [
           "facebook"
          ],
          [
           "facebook"
          ],
          [
           "facebook"
          ],
          [
           "facebook"
          ],
          [
           "facebook"
          ],
          [
           "facebook"
          ],
          [
           "facebook"
          ],
          [
           "facebook"
          ],
          [
           "facebook"
          ],
          [
           "facebook"
          ],
          [
           "facebook"
          ],
          [
           "facebook"
          ],
          [
           "facebook"
          ],
          [
           "facebook"
          ],
          [
           "facebook"
          ],
          [
           "facebook"
          ],
          [
           "facebook"
          ],
          [
           "facebook"
          ],
          [
           "facebook"
          ],
          [
           "facebook"
          ],
          [
           "facebook"
          ],
          [
           "facebook"
          ],
          [
           "facebook"
          ],
          [
           "facebook"
          ],
          [
           "facebook"
          ],
          [
           "facebook"
          ],
          [
           "facebook"
          ],
          [
           "facebook"
          ],
          [
           "facebook"
          ],
          [
           "facebook"
          ],
          [
           "facebook"
          ],
          [
           "facebook"
          ],
          [
           "facebook"
          ],
          [
           "facebook"
          ],
          [
           "facebook"
          ],
          [
           "facebook"
          ],
          [
           "facebook"
          ],
          [
           "facebook"
          ],
          [
           "facebook"
          ],
          [
           "facebook"
          ],
          [
           "facebook"
          ],
          [
           "facebook"
          ],
          [
           "facebook"
          ],
          [
           "facebook"
          ],
          [
           "facebook"
          ],
          [
           "facebook"
          ],
          [
           "facebook"
          ],
          [
           "facebook"
          ],
          [
           "facebook"
          ],
          [
           "facebook"
          ],
          [
           "facebook"
          ],
          [
           "facebook"
          ],
          [
           "facebook"
          ],
          [
           "facebook"
          ],
          [
           "facebook"
          ],
          [
           "facebook"
          ],
          [
           "facebook"
          ],
          [
           "facebook"
          ],
          [
           "facebook"
          ],
          [
           "facebook"
          ],
          [
           "facebook"
          ],
          [
           "facebook"
          ],
          [
           "facebook"
          ],
          [
           "facebook"
          ],
          [
           "facebook"
          ],
          [
           "facebook"
          ],
          [
           "facebook"
          ],
          [
           "facebook"
          ],
          [
           "facebook"
          ],
          [
           "facebook"
          ],
          [
           "facebook"
          ],
          [
           "facebook"
          ],
          [
           "facebook"
          ],
          [
           "facebook"
          ],
          [
           "facebook"
          ],
          [
           "facebook"
          ],
          [
           "facebook"
          ],
          [
           "facebook"
          ],
          [
           "facebook"
          ],
          [
           "facebook"
          ],
          [
           "facebook"
          ],
          [
           "facebook"
          ],
          [
           "facebook"
          ],
          [
           "facebook"
          ],
          [
           "facebook"
          ],
          [
           "facebook"
          ],
          [
           "facebook"
          ],
          [
           "facebook"
          ],
          [
           "facebook"
          ],
          [
           "facebook"
          ],
          [
           "facebook"
          ],
          [
           "facebook"
          ],
          [
           "facebook"
          ],
          [
           "facebook"
          ],
          [
           "facebook"
          ],
          [
           "facebook"
          ],
          [
           "facebook"
          ],
          [
           "facebook"
          ],
          [
           "facebook"
          ],
          [
           "facebook"
          ],
          [
           "facebook"
          ],
          [
           "facebook"
          ],
          [
           "facebook"
          ],
          [
           "facebook"
          ],
          [
           "facebook"
          ],
          [
           "facebook"
          ],
          [
           "facebook"
          ],
          [
           "facebook"
          ],
          [
           "facebook"
          ],
          [
           "facebook"
          ],
          [
           "facebook"
          ],
          [
           "facebook"
          ],
          [
           "facebook"
          ],
          [
           "facebook"
          ],
          [
           "facebook"
          ],
          [
           "facebook"
          ],
          [
           "facebook"
          ],
          [
           "facebook"
          ],
          [
           "facebook"
          ],
          [
           "facebook"
          ],
          [
           "facebook"
          ],
          [
           "facebook"
          ],
          [
           "facebook"
          ],
          [
           "facebook"
          ],
          [
           "facebook"
          ],
          [
           "facebook"
          ],
          [
           "facebook"
          ],
          [
           "facebook"
          ],
          [
           "facebook"
          ],
          [
           "facebook"
          ],
          [
           "facebook"
          ],
          [
           "facebook"
          ],
          [
           "facebook"
          ],
          [
           "facebook"
          ],
          [
           "facebook"
          ],
          [
           "facebook"
          ],
          [
           "facebook"
          ],
          [
           "facebook"
          ],
          [
           "facebook"
          ],
          [
           "facebook"
          ],
          [
           "facebook"
          ],
          [
           "facebook"
          ],
          [
           "facebook"
          ],
          [
           "facebook"
          ]
         ],
         "hovertemplate": "platform=%{customdata[0]}<br>symbol=diamond<br>Investimento=%{x}<br>Sales=%{y}<extra></extra>",
         "legendgroup": "facebook, diamond",
         "marker": {
          "color": "#EF553B",
          "symbol": "diamond"
         },
         "mode": "markers",
         "name": "facebook, diamond",
         "orientation": "v",
         "showlegend": true,
         "type": "scatter",
         "x": [
          19.2,
          33.96,
          20.88,
          1.8,
          24,
          1.68,
          4.92,
          52.56,
          59.28,
          32.04,
          45.24,
          26.76,
          40.08,
          33.24,
          10.08,
          30.84,
          27,
          11.88,
          49.8,
          18.96,
          14.04,
          3.72,
          11.52,
          50.04,
          55.44,
          34.56,
          59.28,
          33.72,
          23.04,
          59.52,
          35.4,
          2.4,
          51.24,
          18.6,
          35.52,
          51.36,
          11.16,
          29.52,
          17.4,
          33,
          52.68,
          36.72,
          17.16,
          39.6,
          6.84,
          29.52,
          52.44,
          1.92,
          34.2,
          35.88,
          9.24,
          32.04,
          4.92,
          24.36,
          53.4,
          51.6,
          22.08,
          33,
          48.72,
          30.6,
          57.36,
          5.88,
          1.8,
          40.2,
          43.8,
          16.8,
          37.92,
          4.2,
          25.2,
          50.76,
          50.04,
          5.16,
          43.56,
          12.12,
          20.64,
          41.16,
          55.68,
          13.2,
          0.36,
          0.48,
          32.28,
          9.84,
          45.6,
          18.48,
          24.72,
          56.16,
          42,
          17.16,
          0.96,
          44.28,
          19.2,
          32.16,
          26.04,
          2.88,
          41.52,
          38.76,
          14.16,
          46.68,
          0,
          58.8,
          14.4,
          47.52,
          3.48,
          32.64,
          40.2,
          46.32,
          56.4,
          46.8,
          34.68,
          31.08,
          52.68,
          20.4,
          42.48,
          39.84,
          6.84,
          17.76,
          2.28,
          8.76,
          58.8,
          48.36,
          30.96,
          16.68,
          10.08,
          27.96,
          47.64,
          25.32,
          13.92,
          52.2,
          1.56,
          44.28,
          22.08,
          21.72,
          42.96,
          21.72,
          44.16,
          17.64,
          4.08,
          45.12,
          6.24,
          28.32,
          12.72,
          13.92,
          25.08,
          24.12,
          8.52,
          4.08,
          58.68,
          36.24,
          9.36,
          2.76,
          12,
          3.12,
          6.48,
          6.84,
          51.6,
          25.56,
          54.12,
          2.52,
          34.44,
          16.68,
          14.52,
          49.32,
          12.96,
          4.92,
          50.4,
          42.72,
          4.44,
          5.88,
          11.16,
          50.4,
          10.32
         ],
         "xaxis": "x",
         "y": [
          12.6,
          25.68,
          14.28,
          11.52,
          20.88,
          11.4,
          15.36,
          30.48,
          17.64,
          12.12,
          25.8,
          19.92,
          20.52,
          24.84,
          15.48,
          10.2,
          17.88,
          12.72,
          27.84,
          17.76,
          11.64,
          13.68,
          12.84,
          27.12,
          25.44,
          24.24,
          28.44,
          6.6,
          15.84,
          28.56,
          22.08,
          9.72,
          29.04,
          18.84,
          16.8,
          21.6,
          11.16,
          11.4,
          16.08,
          22.68,
          26.76,
          21.96,
          14.88,
          10.56,
          13.2,
          20.4,
          10.44,
          8.28,
          17.04,
          6.36,
          13.2,
          14.16,
          14.76,
          13.56,
          16.32,
          26.04,
          18.24,
          14.4,
          19.2,
          15.48,
          20.04,
          13.44,
          8.76,
          23.28,
          26.64,
          13.8,
          20.28,
          14.04,
          18.6,
          30.48,
          20.64,
          14.04,
          28.56,
          17.76,
          17.64,
          24.84,
          23.04,
          8.64,
          10.44,
          6.36,
          23.76,
          16.08,
          26.16,
          16.92,
          19.08,
          17.52,
          15.12,
          14.64,
          11.28,
          19.08,
          7.92,
          18.6,
          8.4,
          13.92,
          18.24,
          23.64,
          12.72,
          7.92,
          10.56,
          29.64,
          11.64,
          1.92,
          15.24,
          6.84,
          23.52,
          12.96,
          13.92,
          11.4,
          24.96,
          11.52,
          24.84,
          13.08,
          23.04,
          24.12,
          12.48,
          13.68,
          12.36,
          15.84,
          30.48,
          13.08,
          12.12,
          19.32,
          13.92,
          19.92,
          22.8,
          18.72,
          3.84,
          18.36,
          12.12,
          8.76,
          15.48,
          17.28,
          15.96,
          17.88,
          21.6,
          14.28,
          14.28,
          9.6,
          14.64,
          20.52,
          18,
          10.08,
          17.4,
          9.12,
          14.04,
          13.8,
          32.4,
          24.24,
          14.04,
          14.16,
          15.12,
          12.6,
          14.64,
          10.44,
          31.44,
          21.12,
          27.12,
          12.36,
          20.76,
          19.08,
          8.04,
          12.96,
          11.88,
          7.08,
          23.52,
          20.76,
          9.12,
          11.64,
          15.36,
          30.6,
          16.08
         ],
         "yaxis": "y"
        },
        {
         "customdata": [
          [
           "newspaper"
          ],
          [
           "newspaper"
          ],
          [
           "newspaper"
          ],
          [
           "newspaper"
          ],
          [
           "newspaper"
          ],
          [
           "newspaper"
          ],
          [
           "newspaper"
          ],
          [
           "newspaper"
          ],
          [
           "newspaper"
          ],
          [
           "newspaper"
          ],
          [
           "newspaper"
          ],
          [
           "newspaper"
          ],
          [
           "newspaper"
          ],
          [
           "newspaper"
          ],
          [
           "newspaper"
          ],
          [
           "newspaper"
          ],
          [
           "newspaper"
          ],
          [
           "newspaper"
          ],
          [
           "newspaper"
          ],
          [
           "newspaper"
          ],
          [
           "newspaper"
          ],
          [
           "newspaper"
          ],
          [
           "newspaper"
          ],
          [
           "newspaper"
          ],
          [
           "newspaper"
          ],
          [
           "newspaper"
          ],
          [
           "newspaper"
          ],
          [
           "newspaper"
          ],
          [
           "newspaper"
          ],
          [
           "newspaper"
          ],
          [
           "newspaper"
          ],
          [
           "newspaper"
          ],
          [
           "newspaper"
          ],
          [
           "newspaper"
          ],
          [
           "newspaper"
          ],
          [
           "newspaper"
          ],
          [
           "newspaper"
          ],
          [
           "newspaper"
          ],
          [
           "newspaper"
          ],
          [
           "newspaper"
          ],
          [
           "newspaper"
          ],
          [
           "newspaper"
          ],
          [
           "newspaper"
          ],
          [
           "newspaper"
          ],
          [
           "newspaper"
          ],
          [
           "newspaper"
          ],
          [
           "newspaper"
          ],
          [
           "newspaper"
          ],
          [
           "newspaper"
          ],
          [
           "newspaper"
          ],
          [
           "newspaper"
          ],
          [
           "newspaper"
          ],
          [
           "newspaper"
          ],
          [
           "newspaper"
          ],
          [
           "newspaper"
          ],
          [
           "newspaper"
          ],
          [
           "newspaper"
          ],
          [
           "newspaper"
          ],
          [
           "newspaper"
          ],
          [
           "newspaper"
          ],
          [
           "newspaper"
          ],
          [
           "newspaper"
          ],
          [
           "newspaper"
          ],
          [
           "newspaper"
          ],
          [
           "newspaper"
          ],
          [
           "newspaper"
          ],
          [
           "newspaper"
          ],
          [
           "newspaper"
          ],
          [
           "newspaper"
          ],
          [
           "newspaper"
          ],
          [
           "newspaper"
          ],
          [
           "newspaper"
          ],
          [
           "newspaper"
          ],
          [
           "newspaper"
          ],
          [
           "newspaper"
          ],
          [
           "newspaper"
          ],
          [
           "newspaper"
          ],
          [
           "newspaper"
          ],
          [
           "newspaper"
          ],
          [
           "newspaper"
          ],
          [
           "newspaper"
          ],
          [
           "newspaper"
          ],
          [
           "newspaper"
          ],
          [
           "newspaper"
          ],
          [
           "newspaper"
          ],
          [
           "newspaper"
          ],
          [
           "newspaper"
          ],
          [
           "newspaper"
          ],
          [
           "newspaper"
          ],
          [
           "newspaper"
          ],
          [
           "newspaper"
          ],
          [
           "newspaper"
          ],
          [
           "newspaper"
          ],
          [
           "newspaper"
          ],
          [
           "newspaper"
          ],
          [
           "newspaper"
          ],
          [
           "newspaper"
          ],
          [
           "newspaper"
          ],
          [
           "newspaper"
          ],
          [
           "newspaper"
          ],
          [
           "newspaper"
          ],
          [
           "newspaper"
          ],
          [
           "newspaper"
          ],
          [
           "newspaper"
          ],
          [
           "newspaper"
          ],
          [
           "newspaper"
          ],
          [
           "newspaper"
          ],
          [
           "newspaper"
          ],
          [
           "newspaper"
          ],
          [
           "newspaper"
          ],
          [
           "newspaper"
          ],
          [
           "newspaper"
          ],
          [
           "newspaper"
          ],
          [
           "newspaper"
          ],
          [
           "newspaper"
          ],
          [
           "newspaper"
          ],
          [
           "newspaper"
          ],
          [
           "newspaper"
          ],
          [
           "newspaper"
          ],
          [
           "newspaper"
          ],
          [
           "newspaper"
          ],
          [
           "newspaper"
          ],
          [
           "newspaper"
          ],
          [
           "newspaper"
          ],
          [
           "newspaper"
          ],
          [
           "newspaper"
          ],
          [
           "newspaper"
          ],
          [
           "newspaper"
          ],
          [
           "newspaper"
          ],
          [
           "newspaper"
          ],
          [
           "newspaper"
          ],
          [
           "newspaper"
          ],
          [
           "newspaper"
          ],
          [
           "newspaper"
          ],
          [
           "newspaper"
          ],
          [
           "newspaper"
          ],
          [
           "newspaper"
          ],
          [
           "newspaper"
          ],
          [
           "newspaper"
          ],
          [
           "newspaper"
          ],
          [
           "newspaper"
          ],
          [
           "newspaper"
          ],
          [
           "newspaper"
          ],
          [
           "newspaper"
          ],
          [
           "newspaper"
          ],
          [
           "newspaper"
          ],
          [
           "newspaper"
          ],
          [
           "newspaper"
          ],
          [
           "newspaper"
          ],
          [
           "newspaper"
          ],
          [
           "newspaper"
          ],
          [
           "newspaper"
          ],
          [
           "newspaper"
          ],
          [
           "newspaper"
          ],
          [
           "newspaper"
          ],
          [
           "newspaper"
          ],
          [
           "newspaper"
          ],
          [
           "newspaper"
          ],
          [
           "newspaper"
          ],
          [
           "newspaper"
          ],
          [
           "newspaper"
          ],
          [
           "newspaper"
          ],
          [
           "newspaper"
          ],
          [
           "newspaper"
          ],
          [
           "newspaper"
          ],
          [
           "newspaper"
          ],
          [
           "newspaper"
          ],
          [
           "newspaper"
          ],
          [
           "newspaper"
          ],
          [
           "newspaper"
          ],
          [
           "newspaper"
          ]
         ],
         "hovertemplate": "platform=%{customdata[0]}<br>symbol=square<br>Investimento=%{x}<br>Sales=%{y}<extra></extra>",
         "legendgroup": "newspaper, square",
         "marker": {
          "color": "#00cc96",
          "symbol": "square"
         },
         "mode": "markers",
         "name": "newspaper, square",
         "orientation": "v",
         "showlegend": true,
         "type": "scatter",
         "x": [
          48.96,
          51.84,
          46.32,
          36,
          0.36,
          8.88,
          10.2,
          6,
          54.84,
          42.12,
          38.4,
          37.92,
          46.44,
          2.16,
          31.68,
          51.96,
          37.8,
          42.84,
          22.2,
          59.88,
          44.16,
          41.52,
          4.32,
          47.52,
          70.44,
          19.08,
          72,
          49.68,
          19.92,
          45.24,
          11.16,
          25.68,
          65.64,
          32.76,
          10.08,
          34.68,
          1.08,
          2.64,
          12.24,
          13.2,
          32.64,
          46.44,
          38.04,
          23.16,
          37.56,
          15.72,
          107.28,
          24.84,
          17.04,
          11.28,
          27.72,
          26.76,
          44.28,
          39,
          42.72,
          40.56,
          78.84,
          19.2,
          75.84,
          88.08,
          61.68,
          11.16,
          39.6,
          70.8,
          86.76,
          13.08,
          63.48,
          7.08,
          26.4,
          61.44,
          55.08,
          59.76,
          121.08,
          25.68,
          21.48,
          6.36,
          70.8,
          35.64,
          27.84,
          30.72,
          6.6,
          67.8,
          27.84,
          2.88,
          12.84,
          41.4,
          63.24,
          30.72,
          17.76,
          95.04,
          26.76,
          55.44,
          60.48,
          18.72,
          14.88,
          89.04,
          31.08,
          60.72,
          11.04,
          3.84,
          51.72,
          10.44,
          51.6,
          2.52,
          54.12,
          78.72,
          10.2,
          11.16,
          71.64,
          24.6,
          2.04,
          15.48,
          90.72,
          45.48,
          41.28,
          46.68,
          10.8,
          10.44,
          53.16,
          14.28,
          24.72,
          44.4,
          58.44,
          17.04,
          45.24,
          11.4,
          6.84,
          60.6,
          29.16,
          54.24,
          41.52,
          36.84,
          59.16,
          30.72,
          8.88,
          6.48,
          101.76,
          25.92,
          23.28,
          69.12,
          7.68,
          22.08,
          56.88,
          20.4,
          15.36,
          15.72,
          50.16,
          24.36,
          42.24,
          28.44,
          21.12,
          9.96,
          32.88,
          35.64,
          86.16,
          36,
          23.52,
          31.92,
          21.84,
          4.44,
          28.08,
          6.96,
          7.2,
          37.92,
          4.32,
          7.2,
          16.56,
          9.72,
          7.68,
          79.44,
          10.44
         ],
         "xaxis": "x",
         "y": [
          12.6,
          25.68,
          14.28,
          11.52,
          20.88,
          11.4,
          15.36,
          30.48,
          17.64,
          12.12,
          25.8,
          19.92,
          20.52,
          24.84,
          15.48,
          10.2,
          17.88,
          12.72,
          27.84,
          17.76,
          11.64,
          13.68,
          12.84,
          27.12,
          25.44,
          24.24,
          28.44,
          6.6,
          15.84,
          28.56,
          22.08,
          9.72,
          29.04,
          18.84,
          16.8,
          21.6,
          11.16,
          11.4,
          16.08,
          22.68,
          26.76,
          21.96,
          14.88,
          10.56,
          13.2,
          20.4,
          10.44,
          8.28,
          17.04,
          6.36,
          13.2,
          14.16,
          14.76,
          13.56,
          16.32,
          26.04,
          18.24,
          14.4,
          19.2,
          15.48,
          20.04,
          13.44,
          8.76,
          23.28,
          26.64,
          13.8,
          20.28,
          14.04,
          18.6,
          30.48,
          20.64,
          14.04,
          28.56,
          17.76,
          17.64,
          24.84,
          23.04,
          8.64,
          10.44,
          6.36,
          23.76,
          16.08,
          26.16,
          16.92,
          19.08,
          17.52,
          15.12,
          14.64,
          11.28,
          19.08,
          7.92,
          18.6,
          8.4,
          13.92,
          18.24,
          23.64,
          12.72,
          7.92,
          10.56,
          29.64,
          11.64,
          1.92,
          15.24,
          6.84,
          23.52,
          12.96,
          13.92,
          11.4,
          24.96,
          11.52,
          24.84,
          13.08,
          23.04,
          24.12,
          12.48,
          13.68,
          12.36,
          15.84,
          30.48,
          13.08,
          12.12,
          19.32,
          13.92,
          19.92,
          22.8,
          18.72,
          3.84,
          18.36,
          12.12,
          8.76,
          15.48,
          17.28,
          15.96,
          17.88,
          21.6,
          14.28,
          14.28,
          9.6,
          14.64,
          20.52,
          18,
          10.08,
          17.4,
          9.12,
          14.04,
          13.8,
          32.4,
          24.24,
          14.04,
          14.16,
          15.12,
          12.6,
          14.64,
          10.44,
          31.44,
          21.12,
          27.12,
          12.36,
          20.76,
          19.08,
          8.04,
          12.96,
          11.88,
          7.08,
          23.52,
          20.76,
          9.12,
          11.64,
          15.36,
          30.6,
          16.08
         ],
         "yaxis": "y"
        }
       ],
       "layout": {
        "legend": {
         "title": {
          "text": "platform, symbol"
         },
         "tracegroupgap": 0
        },
        "template": {
         "data": {
          "bar": [
           {
            "error_x": {
             "color": "#2a3f5f"
            },
            "error_y": {
             "color": "#2a3f5f"
            },
            "marker": {
             "line": {
              "color": "#E5ECF6",
              "width": 0.5
             },
             "pattern": {
              "fillmode": "overlay",
              "size": 10,
              "solidity": 0.2
             }
            },
            "type": "bar"
           }
          ],
          "barpolar": [
           {
            "marker": {
             "line": {
              "color": "#E5ECF6",
              "width": 0.5
             },
             "pattern": {
              "fillmode": "overlay",
              "size": 10,
              "solidity": 0.2
             }
            },
            "type": "barpolar"
           }
          ],
          "carpet": [
           {
            "aaxis": {
             "endlinecolor": "#2a3f5f",
             "gridcolor": "white",
             "linecolor": "white",
             "minorgridcolor": "white",
             "startlinecolor": "#2a3f5f"
            },
            "baxis": {
             "endlinecolor": "#2a3f5f",
             "gridcolor": "white",
             "linecolor": "white",
             "minorgridcolor": "white",
             "startlinecolor": "#2a3f5f"
            },
            "type": "carpet"
           }
          ],
          "choropleth": [
           {
            "colorbar": {
             "outlinewidth": 0,
             "ticks": ""
            },
            "type": "choropleth"
           }
          ],
          "contour": [
           {
            "colorbar": {
             "outlinewidth": 0,
             "ticks": ""
            },
            "colorscale": [
             [
              0,
              "#0d0887"
             ],
             [
              0.1111111111111111,
              "#46039f"
             ],
             [
              0.2222222222222222,
              "#7201a8"
             ],
             [
              0.3333333333333333,
              "#9c179e"
             ],
             [
              0.4444444444444444,
              "#bd3786"
             ],
             [
              0.5555555555555556,
              "#d8576b"
             ],
             [
              0.6666666666666666,
              "#ed7953"
             ],
             [
              0.7777777777777778,
              "#fb9f3a"
             ],
             [
              0.8888888888888888,
              "#fdca26"
             ],
             [
              1,
              "#f0f921"
             ]
            ],
            "type": "contour"
           }
          ],
          "contourcarpet": [
           {
            "colorbar": {
             "outlinewidth": 0,
             "ticks": ""
            },
            "type": "contourcarpet"
           }
          ],
          "heatmap": [
           {
            "colorbar": {
             "outlinewidth": 0,
             "ticks": ""
            },
            "colorscale": [
             [
              0,
              "#0d0887"
             ],
             [
              0.1111111111111111,
              "#46039f"
             ],
             [
              0.2222222222222222,
              "#7201a8"
             ],
             [
              0.3333333333333333,
              "#9c179e"
             ],
             [
              0.4444444444444444,
              "#bd3786"
             ],
             [
              0.5555555555555556,
              "#d8576b"
             ],
             [
              0.6666666666666666,
              "#ed7953"
             ],
             [
              0.7777777777777778,
              "#fb9f3a"
             ],
             [
              0.8888888888888888,
              "#fdca26"
             ],
             [
              1,
              "#f0f921"
             ]
            ],
            "type": "heatmap"
           }
          ],
          "heatmapgl": [
           {
            "colorbar": {
             "outlinewidth": 0,
             "ticks": ""
            },
            "colorscale": [
             [
              0,
              "#0d0887"
             ],
             [
              0.1111111111111111,
              "#46039f"
             ],
             [
              0.2222222222222222,
              "#7201a8"
             ],
             [
              0.3333333333333333,
              "#9c179e"
             ],
             [
              0.4444444444444444,
              "#bd3786"
             ],
             [
              0.5555555555555556,
              "#d8576b"
             ],
             [
              0.6666666666666666,
              "#ed7953"
             ],
             [
              0.7777777777777778,
              "#fb9f3a"
             ],
             [
              0.8888888888888888,
              "#fdca26"
             ],
             [
              1,
              "#f0f921"
             ]
            ],
            "type": "heatmapgl"
           }
          ],
          "histogram": [
           {
            "marker": {
             "pattern": {
              "fillmode": "overlay",
              "size": 10,
              "solidity": 0.2
             }
            },
            "type": "histogram"
           }
          ],
          "histogram2d": [
           {
            "colorbar": {
             "outlinewidth": 0,
             "ticks": ""
            },
            "colorscale": [
             [
              0,
              "#0d0887"
             ],
             [
              0.1111111111111111,
              "#46039f"
             ],
             [
              0.2222222222222222,
              "#7201a8"
             ],
             [
              0.3333333333333333,
              "#9c179e"
             ],
             [
              0.4444444444444444,
              "#bd3786"
             ],
             [
              0.5555555555555556,
              "#d8576b"
             ],
             [
              0.6666666666666666,
              "#ed7953"
             ],
             [
              0.7777777777777778,
              "#fb9f3a"
             ],
             [
              0.8888888888888888,
              "#fdca26"
             ],
             [
              1,
              "#f0f921"
             ]
            ],
            "type": "histogram2d"
           }
          ],
          "histogram2dcontour": [
           {
            "colorbar": {
             "outlinewidth": 0,
             "ticks": ""
            },
            "colorscale": [
             [
              0,
              "#0d0887"
             ],
             [
              0.1111111111111111,
              "#46039f"
             ],
             [
              0.2222222222222222,
              "#7201a8"
             ],
             [
              0.3333333333333333,
              "#9c179e"
             ],
             [
              0.4444444444444444,
              "#bd3786"
             ],
             [
              0.5555555555555556,
              "#d8576b"
             ],
             [
              0.6666666666666666,
              "#ed7953"
             ],
             [
              0.7777777777777778,
              "#fb9f3a"
             ],
             [
              0.8888888888888888,
              "#fdca26"
             ],
             [
              1,
              "#f0f921"
             ]
            ],
            "type": "histogram2dcontour"
           }
          ],
          "mesh3d": [
           {
            "colorbar": {
             "outlinewidth": 0,
             "ticks": ""
            },
            "type": "mesh3d"
           }
          ],
          "parcoords": [
           {
            "line": {
             "colorbar": {
              "outlinewidth": 0,
              "ticks": ""
             }
            },
            "type": "parcoords"
           }
          ],
          "pie": [
           {
            "automargin": true,
            "type": "pie"
           }
          ],
          "scatter": [
           {
            "fillpattern": {
             "fillmode": "overlay",
             "size": 10,
             "solidity": 0.2
            },
            "type": "scatter"
           }
          ],
          "scatter3d": [
           {
            "line": {
             "colorbar": {
              "outlinewidth": 0,
              "ticks": ""
             }
            },
            "marker": {
             "colorbar": {
              "outlinewidth": 0,
              "ticks": ""
             }
            },
            "type": "scatter3d"
           }
          ],
          "scattercarpet": [
           {
            "marker": {
             "colorbar": {
              "outlinewidth": 0,
              "ticks": ""
             }
            },
            "type": "scattercarpet"
           }
          ],
          "scattergeo": [
           {
            "marker": {
             "colorbar": {
              "outlinewidth": 0,
              "ticks": ""
             }
            },
            "type": "scattergeo"
           }
          ],
          "scattergl": [
           {
            "marker": {
             "colorbar": {
              "outlinewidth": 0,
              "ticks": ""
             }
            },
            "type": "scattergl"
           }
          ],
          "scattermapbox": [
           {
            "marker": {
             "colorbar": {
              "outlinewidth": 0,
              "ticks": ""
             }
            },
            "type": "scattermapbox"
           }
          ],
          "scatterpolar": [
           {
            "marker": {
             "colorbar": {
              "outlinewidth": 0,
              "ticks": ""
             }
            },
            "type": "scatterpolar"
           }
          ],
          "scatterpolargl": [
           {
            "marker": {
             "colorbar": {
              "outlinewidth": 0,
              "ticks": ""
             }
            },
            "type": "scatterpolargl"
           }
          ],
          "scatterternary": [
           {
            "marker": {
             "colorbar": {
              "outlinewidth": 0,
              "ticks": ""
             }
            },
            "type": "scatterternary"
           }
          ],
          "surface": [
           {
            "colorbar": {
             "outlinewidth": 0,
             "ticks": ""
            },
            "colorscale": [
             [
              0,
              "#0d0887"
             ],
             [
              0.1111111111111111,
              "#46039f"
             ],
             [
              0.2222222222222222,
              "#7201a8"
             ],
             [
              0.3333333333333333,
              "#9c179e"
             ],
             [
              0.4444444444444444,
              "#bd3786"
             ],
             [
              0.5555555555555556,
              "#d8576b"
             ],
             [
              0.6666666666666666,
              "#ed7953"
             ],
             [
              0.7777777777777778,
              "#fb9f3a"
             ],
             [
              0.8888888888888888,
              "#fdca26"
             ],
             [
              1,
              "#f0f921"
             ]
            ],
            "type": "surface"
           }
          ],
          "table": [
           {
            "cells": {
             "fill": {
              "color": "#EBF0F8"
             },
             "line": {
              "color": "white"
             }
            },
            "header": {
             "fill": {
              "color": "#C8D4E3"
             },
             "line": {
              "color": "white"
             }
            },
            "type": "table"
           }
          ]
         },
         "layout": {
          "annotationdefaults": {
           "arrowcolor": "#2a3f5f",
           "arrowhead": 0,
           "arrowwidth": 1
          },
          "autotypenumbers": "strict",
          "coloraxis": {
           "colorbar": {
            "outlinewidth": 0,
            "ticks": ""
           }
          },
          "colorscale": {
           "diverging": [
            [
             0,
             "#8e0152"
            ],
            [
             0.1,
             "#c51b7d"
            ],
            [
             0.2,
             "#de77ae"
            ],
            [
             0.3,
             "#f1b6da"
            ],
            [
             0.4,
             "#fde0ef"
            ],
            [
             0.5,
             "#f7f7f7"
            ],
            [
             0.6,
             "#e6f5d0"
            ],
            [
             0.7,
             "#b8e186"
            ],
            [
             0.8,
             "#7fbc41"
            ],
            [
             0.9,
             "#4d9221"
            ],
            [
             1,
             "#276419"
            ]
           ],
           "sequential": [
            [
             0,
             "#0d0887"
            ],
            [
             0.1111111111111111,
             "#46039f"
            ],
            [
             0.2222222222222222,
             "#7201a8"
            ],
            [
             0.3333333333333333,
             "#9c179e"
            ],
            [
             0.4444444444444444,
             "#bd3786"
            ],
            [
             0.5555555555555556,
             "#d8576b"
            ],
            [
             0.6666666666666666,
             "#ed7953"
            ],
            [
             0.7777777777777778,
             "#fb9f3a"
            ],
            [
             0.8888888888888888,
             "#fdca26"
            ],
            [
             1,
             "#f0f921"
            ]
           ],
           "sequentialminus": [
            [
             0,
             "#0d0887"
            ],
            [
             0.1111111111111111,
             "#46039f"
            ],
            [
             0.2222222222222222,
             "#7201a8"
            ],
            [
             0.3333333333333333,
             "#9c179e"
            ],
            [
             0.4444444444444444,
             "#bd3786"
            ],
            [
             0.5555555555555556,
             "#d8576b"
            ],
            [
             0.6666666666666666,
             "#ed7953"
            ],
            [
             0.7777777777777778,
             "#fb9f3a"
            ],
            [
             0.8888888888888888,
             "#fdca26"
            ],
            [
             1,
             "#f0f921"
            ]
           ]
          },
          "colorway": [
           "#636efa",
           "#EF553B",
           "#00cc96",
           "#ab63fa",
           "#FFA15A",
           "#19d3f3",
           "#FF6692",
           "#B6E880",
           "#FF97FF",
           "#FECB52"
          ],
          "font": {
           "color": "#2a3f5f"
          },
          "geo": {
           "bgcolor": "white",
           "lakecolor": "white",
           "landcolor": "#E5ECF6",
           "showlakes": true,
           "showland": true,
           "subunitcolor": "white"
          },
          "hoverlabel": {
           "align": "left"
          },
          "hovermode": "closest",
          "mapbox": {
           "style": "light"
          },
          "paper_bgcolor": "white",
          "plot_bgcolor": "#E5ECF6",
          "polar": {
           "angularaxis": {
            "gridcolor": "white",
            "linecolor": "white",
            "ticks": ""
           },
           "bgcolor": "#E5ECF6",
           "radialaxis": {
            "gridcolor": "white",
            "linecolor": "white",
            "ticks": ""
           }
          },
          "scene": {
           "xaxis": {
            "backgroundcolor": "#E5ECF6",
            "gridcolor": "white",
            "gridwidth": 2,
            "linecolor": "white",
            "showbackground": true,
            "ticks": "",
            "zerolinecolor": "white"
           },
           "yaxis": {
            "backgroundcolor": "#E5ECF6",
            "gridcolor": "white",
            "gridwidth": 2,
            "linecolor": "white",
            "showbackground": true,
            "ticks": "",
            "zerolinecolor": "white"
           },
           "zaxis": {
            "backgroundcolor": "#E5ECF6",
            "gridcolor": "white",
            "gridwidth": 2,
            "linecolor": "white",
            "showbackground": true,
            "ticks": "",
            "zerolinecolor": "white"
           }
          },
          "shapedefaults": {
           "line": {
            "color": "#2a3f5f"
           }
          },
          "ternary": {
           "aaxis": {
            "gridcolor": "white",
            "linecolor": "white",
            "ticks": ""
           },
           "baxis": {
            "gridcolor": "white",
            "linecolor": "white",
            "ticks": ""
           },
           "bgcolor": "#E5ECF6",
           "caxis": {
            "gridcolor": "white",
            "linecolor": "white",
            "ticks": ""
           }
          },
          "title": {
           "x": 0.05
          },
          "xaxis": {
           "automargin": true,
           "gridcolor": "white",
           "linecolor": "white",
           "ticks": "",
           "title": {
            "standoff": 15
           },
           "zerolinecolor": "white",
           "zerolinewidth": 2
          },
          "yaxis": {
           "automargin": true,
           "gridcolor": "white",
           "linecolor": "white",
           "ticks": "",
           "title": {
            "standoff": 15
           },
           "zerolinecolor": "white",
           "zerolinewidth": 2
          }
         }
        },
        "title": {
         "text": "Scatter plot: Sales vs Investimento"
        },
        "xaxis": {
         "anchor": "y",
         "domain": [
          0,
          1
         ],
         "title": {
          "text": "Investimento"
         }
        },
        "yaxis": {
         "anchor": "x",
         "domain": [
          0,
          1
         ],
         "title": {
          "text": "Sales"
         }
        }
       }
      }
     },
     "metadata": {},
     "output_type": "display_data"
    }
   ],
   "source": [
    "# Reestrutura os dados para um formato longo\n",
    "df_melted = df.melt(id_vars='sales', var_name='platform', value_name='investment')\n",
    "\n",
    "# Cria um dicionário com os símbolos para cada plataforma\n",
    "symbols = {'youtube': 'circle', 'facebook': 'diamond', 'newspaper': 'square'}\n",
    "\n",
    "# Cria o gráfico de dispersão\n",
    "fig = px.scatter(df_melted, x='investment', y='sales', color='platform', \n",
    "                 symbol=df_melted['platform'].map(symbols), \n",
    "                 title='Scatter plot: Sales vs Investimento',\n",
    "                 labels={'investment':'Investimento', 'sales':'Sales'}, \n",
    "                 hover_data=['platform', 'investment', 'sales'])\n",
    "\n",
    "fig.show()\n"
   ]
  },
  {
   "attachments": {},
   "cell_type": "markdown",
   "metadata": {},
   "source": [
    "Analisando o Scatter plot é possível observar que é necessário desprender ou investir muito mais dinheiro no Youtube para ter o mesmo retorno que as demais plataformas. Em contra partida o Facebook e Newspaper possuem uma distribuição semelhante, onde a relação Sales vs Investimento é mais vantajosa, sendo necessário despender menos dinheiro para um retorno maior."
   ]
  },
  {
   "attachments": {},
   "cell_type": "markdown",
   "metadata": {},
   "source": [
    "### Analisando a Eficiência da relação Sales vs Investimento"
   ]
  },
  {
   "attachments": {},
   "cell_type": "markdown",
   "metadata": {},
   "source": [
    "#### Cálculo do ROI individual"
   ]
  },
  {
   "attachments": {},
   "cell_type": "markdown",
   "metadata": {},
   "source": [
    "Uma forma de avaliar a eficiência dos investimentos em marketing é através do cálculo do Retorno sobre Investimento (ROI, em inglês Return on Investment). O ROI é uma métrica amplamente utilizada para avaliar a rentabilidade de um investimento. Ele é calculado da seguinte maneira:\n",
    "\n",
    "**<center>ROI = (Retorno do Investimento - Custo do Investimento) / Custo do Investimento</center>**\n",
    "\n",
    "Onde:\n",
    "\n",
    "* Retorno do Investimento corresponde às Vendas (sales)\n",
    "* Custo do Investimento é o valor investido nas plataformas (Youtube, Facebook e Newspaper)\n",
    "\n",
    "\n",
    "Nossos dados indicam que as vendas (sales) estão correlacionadas com o valor investido em cada uma das plataformas. Ou seja, existe uma relação entre o valor investido e as vendas resultantes. Entretanto, é importante ressaltar que o valor total de vendas é influenciado pelo investimento em todas as plataformas, e não apenas em uma individualmente.\n",
    "\n",
    "Embora calcular o ROI individual de cada plataforma possa não fornecer um quadro completamente preciso, pode ser uma maneira útil de começar a analisar a eficácia dos investimentos em marketing em cada plataforma.\n",
    "\n",
    "Para simplificar, vamos fazer a suposição de que cada dólar investido em uma plataforma específica contribui igualmente para o total de vendas. Por exemplo, se investimos $84.72 no Youtube e $19.20 no Facebook, vamos considerar que cada um desses investimentos contribuiu igualmente para gerar as vendas de $12.60.\n",
    "\n",
    "Com base nessas suposições, podemos prosseguir para analisar qual plataforma proporciona o melhor retorno sobre o investimento."
   ]
  },
  {
   "cell_type": "code",
   "execution_count": 8,
   "metadata": {},
   "outputs": [
    {
     "data": {
      "text/html": [
       "<div>\n",
       "<style scoped>\n",
       "    .dataframe tbody tr th:only-of-type {\n",
       "        vertical-align: middle;\n",
       "    }\n",
       "\n",
       "    .dataframe tbody tr th {\n",
       "        vertical-align: top;\n",
       "    }\n",
       "\n",
       "    .dataframe thead th {\n",
       "        text-align: right;\n",
       "    }\n",
       "</style>\n",
       "<table border=\"1\" class=\"dataframe\">\n",
       "  <thead>\n",
       "    <tr style=\"text-align: right;\">\n",
       "      <th></th>\n",
       "      <th>youtube</th>\n",
       "      <th>facebook</th>\n",
       "      <th>newspaper</th>\n",
       "      <th>sales</th>\n",
       "      <th>ROI_youtube</th>\n",
       "      <th>ROI_facebook</th>\n",
       "      <th>ROI_newspaper</th>\n",
       "    </tr>\n",
       "  </thead>\n",
       "  <tbody>\n",
       "    <tr>\n",
       "      <th>0</th>\n",
       "      <td>84.72</td>\n",
       "      <td>19.20</td>\n",
       "      <td>48.96</td>\n",
       "      <td>12.60</td>\n",
       "      <td>-0.85</td>\n",
       "      <td>-0.34</td>\n",
       "      <td>-0.74</td>\n",
       "    </tr>\n",
       "    <tr>\n",
       "      <th>1</th>\n",
       "      <td>351.48</td>\n",
       "      <td>33.96</td>\n",
       "      <td>51.84</td>\n",
       "      <td>25.68</td>\n",
       "      <td>-0.93</td>\n",
       "      <td>-0.24</td>\n",
       "      <td>-0.50</td>\n",
       "    </tr>\n",
       "    <tr>\n",
       "      <th>2</th>\n",
       "      <td>135.48</td>\n",
       "      <td>20.88</td>\n",
       "      <td>46.32</td>\n",
       "      <td>14.28</td>\n",
       "      <td>-0.89</td>\n",
       "      <td>-0.32</td>\n",
       "      <td>-0.69</td>\n",
       "    </tr>\n",
       "    <tr>\n",
       "      <th>3</th>\n",
       "      <td>116.64</td>\n",
       "      <td>1.80</td>\n",
       "      <td>36.00</td>\n",
       "      <td>11.52</td>\n",
       "      <td>-0.90</td>\n",
       "      <td>5.40</td>\n",
       "      <td>-0.68</td>\n",
       "    </tr>\n",
       "    <tr>\n",
       "      <th>4</th>\n",
       "      <td>318.72</td>\n",
       "      <td>24.00</td>\n",
       "      <td>0.36</td>\n",
       "      <td>20.88</td>\n",
       "      <td>-0.93</td>\n",
       "      <td>-0.13</td>\n",
       "      <td>57.00</td>\n",
       "    </tr>\n",
       "    <tr>\n",
       "      <th>...</th>\n",
       "      <td>...</td>\n",
       "      <td>...</td>\n",
       "      <td>...</td>\n",
       "      <td>...</td>\n",
       "      <td>...</td>\n",
       "      <td>...</td>\n",
       "      <td>...</td>\n",
       "    </tr>\n",
       "    <tr>\n",
       "      <th>166</th>\n",
       "      <td>45.84</td>\n",
       "      <td>4.44</td>\n",
       "      <td>16.56</td>\n",
       "      <td>9.12</td>\n",
       "      <td>-0.80</td>\n",
       "      <td>1.05</td>\n",
       "      <td>-0.45</td>\n",
       "    </tr>\n",
       "    <tr>\n",
       "      <th>167</th>\n",
       "      <td>113.04</td>\n",
       "      <td>5.88</td>\n",
       "      <td>9.72</td>\n",
       "      <td>11.64</td>\n",
       "      <td>-0.90</td>\n",
       "      <td>0.98</td>\n",
       "      <td>0.20</td>\n",
       "    </tr>\n",
       "    <tr>\n",
       "      <th>168</th>\n",
       "      <td>212.40</td>\n",
       "      <td>11.16</td>\n",
       "      <td>7.68</td>\n",
       "      <td>15.36</td>\n",
       "      <td>-0.93</td>\n",
       "      <td>0.38</td>\n",
       "      <td>1.00</td>\n",
       "    </tr>\n",
       "    <tr>\n",
       "      <th>169</th>\n",
       "      <td>340.32</td>\n",
       "      <td>50.40</td>\n",
       "      <td>79.44</td>\n",
       "      <td>30.60</td>\n",
       "      <td>-0.91</td>\n",
       "      <td>-0.39</td>\n",
       "      <td>-0.61</td>\n",
       "    </tr>\n",
       "    <tr>\n",
       "      <th>170</th>\n",
       "      <td>278.52</td>\n",
       "      <td>10.32</td>\n",
       "      <td>10.44</td>\n",
       "      <td>16.08</td>\n",
       "      <td>-0.94</td>\n",
       "      <td>0.56</td>\n",
       "      <td>0.54</td>\n",
       "    </tr>\n",
       "  </tbody>\n",
       "</table>\n",
       "<p>171 rows × 7 columns</p>\n",
       "</div>"
      ],
      "text/plain": [
       "     youtube  facebook  newspaper  sales  ROI_youtube  ROI_facebook   \n",
       "0      84.72     19.20      48.96  12.60        -0.85         -0.34  \\\n",
       "1     351.48     33.96      51.84  25.68        -0.93         -0.24   \n",
       "2     135.48     20.88      46.32  14.28        -0.89         -0.32   \n",
       "3     116.64      1.80      36.00  11.52        -0.90          5.40   \n",
       "4     318.72     24.00       0.36  20.88        -0.93         -0.13   \n",
       "..       ...       ...        ...    ...          ...           ...   \n",
       "166    45.84      4.44      16.56   9.12        -0.80          1.05   \n",
       "167   113.04      5.88       9.72  11.64        -0.90          0.98   \n",
       "168   212.40     11.16       7.68  15.36        -0.93          0.38   \n",
       "169   340.32     50.40      79.44  30.60        -0.91         -0.39   \n",
       "170   278.52     10.32      10.44  16.08        -0.94          0.56   \n",
       "\n",
       "     ROI_newspaper  \n",
       "0            -0.74  \n",
       "1            -0.50  \n",
       "2            -0.69  \n",
       "3            -0.68  \n",
       "4            57.00  \n",
       "..             ...  \n",
       "166          -0.45  \n",
       "167           0.20  \n",
       "168           1.00  \n",
       "169          -0.61  \n",
       "170           0.54  \n",
       "\n",
       "[171 rows x 7 columns]"
      ]
     },
     "execution_count": 8,
     "metadata": {},
     "output_type": "execute_result"
    }
   ],
   "source": [
    "df['ROI_youtube'] = (df['sales'] - df['youtube']) / df['youtube']\n",
    "df['ROI_facebook'] = (df['sales'] - df['facebook']) / df['facebook']\n",
    "df['ROI_newspaper'] = (df['sales'] - df['newspaper']) / df['newspaper']\n",
    "df"
   ]
  },
  {
   "cell_type": "code",
   "execution_count": 9,
   "metadata": {},
   "outputs": [
    {
     "data": {
      "text/html": [
       "<div>\n",
       "<style scoped>\n",
       "    .dataframe tbody tr th:only-of-type {\n",
       "        vertical-align: middle;\n",
       "    }\n",
       "\n",
       "    .dataframe tbody tr th {\n",
       "        vertical-align: top;\n",
       "    }\n",
       "\n",
       "    .dataframe thead th {\n",
       "        text-align: right;\n",
       "    }\n",
       "</style>\n",
       "<table border=\"1\" class=\"dataframe\">\n",
       "  <thead>\n",
       "    <tr style=\"text-align: right;\">\n",
       "      <th></th>\n",
       "      <th>count</th>\n",
       "      <th>mean</th>\n",
       "      <th>std</th>\n",
       "      <th>min</th>\n",
       "      <th>25%</th>\n",
       "      <th>50%</th>\n",
       "      <th>75%</th>\n",
       "      <th>max</th>\n",
       "    </tr>\n",
       "  </thead>\n",
       "  <tbody>\n",
       "    <tr>\n",
       "      <th>youtube</th>\n",
       "      <td>171.00</td>\n",
       "      <td>178.02</td>\n",
       "      <td>102.45</td>\n",
       "      <td>0.84</td>\n",
       "      <td>91.08</td>\n",
       "      <td>179.76</td>\n",
       "      <td>262.98</td>\n",
       "      <td>355.68</td>\n",
       "    </tr>\n",
       "    <tr>\n",
       "      <th>facebook</th>\n",
       "      <td>171.00</td>\n",
       "      <td>27.67</td>\n",
       "      <td>17.91</td>\n",
       "      <td>0.00</td>\n",
       "      <td>11.70</td>\n",
       "      <td>26.76</td>\n",
       "      <td>43.68</td>\n",
       "      <td>59.52</td>\n",
       "    </tr>\n",
       "    <tr>\n",
       "      <th>newspaper</th>\n",
       "      <td>171.00</td>\n",
       "      <td>35.24</td>\n",
       "      <td>24.90</td>\n",
       "      <td>0.36</td>\n",
       "      <td>13.74</td>\n",
       "      <td>31.08</td>\n",
       "      <td>50.88</td>\n",
       "      <td>121.08</td>\n",
       "    </tr>\n",
       "    <tr>\n",
       "      <th>sales</th>\n",
       "      <td>171.00</td>\n",
       "      <td>16.92</td>\n",
       "      <td>6.31</td>\n",
       "      <td>1.92</td>\n",
       "      <td>12.54</td>\n",
       "      <td>15.48</td>\n",
       "      <td>20.82</td>\n",
       "      <td>32.40</td>\n",
       "    </tr>\n",
       "    <tr>\n",
       "      <th>ROI_youtube</th>\n",
       "      <td>171.00</td>\n",
       "      <td>-0.84</td>\n",
       "      <td>0.22</td>\n",
       "      <td>-0.96</td>\n",
       "      <td>-0.92</td>\n",
       "      <td>-0.90</td>\n",
       "      <td>-0.85</td>\n",
       "      <td>1.29</td>\n",
       "    </tr>\n",
       "    <tr>\n",
       "      <th>ROI_facebook</th>\n",
       "      <td>171.00</td>\n",
       "      <td>inf</td>\n",
       "      <td>NaN</td>\n",
       "      <td>-0.96</td>\n",
       "      <td>-0.52</td>\n",
       "      <td>-0.32</td>\n",
       "      <td>0.32</td>\n",
       "      <td>inf</td>\n",
       "    </tr>\n",
       "    <tr>\n",
       "      <th>ROI_newspaper</th>\n",
       "      <td>171.00</td>\n",
       "      <td>0.41</td>\n",
       "      <td>4.70</td>\n",
       "      <td>-0.90</td>\n",
       "      <td>-0.68</td>\n",
       "      <td>-0.51</td>\n",
       "      <td>0.10</td>\n",
       "      <td>57.00</td>\n",
       "    </tr>\n",
       "  </tbody>\n",
       "</table>\n",
       "</div>"
      ],
      "text/plain": [
       "               count   mean    std   min   25%    50%    75%    max\n",
       "youtube       171.00 178.02 102.45  0.84 91.08 179.76 262.98 355.68\n",
       "facebook      171.00  27.67  17.91  0.00 11.70  26.76  43.68  59.52\n",
       "newspaper     171.00  35.24  24.90  0.36 13.74  31.08  50.88 121.08\n",
       "sales         171.00  16.92   6.31  1.92 12.54  15.48  20.82  32.40\n",
       "ROI_youtube   171.00  -0.84   0.22 -0.96 -0.92  -0.90  -0.85   1.29\n",
       "ROI_facebook  171.00    inf    NaN -0.96 -0.52  -0.32   0.32    inf\n",
       "ROI_newspaper 171.00   0.41   4.70 -0.90 -0.68  -0.51   0.10  57.00"
      ]
     },
     "execution_count": 9,
     "metadata": {},
     "output_type": "execute_result"
    }
   ],
   "source": [
    "df.describe().T"
   ]
  },
  {
   "attachments": {},
   "cell_type": "markdown",
   "metadata": {},
   "source": [
    "##### Corrigindo o inf do ROI_facebook"
   ]
  },
  {
   "attachments": {},
   "cell_type": "markdown",
   "metadata": {},
   "source": [
    "Após análise dos dados foi observado que na linha 98 do dataset a variável facebook é igual a 0, sendo assim quando calculamos o ROI, temos:\n",
    "\n",
    "**ROI = (10.56-0)/0**\n",
    "\n",
    "Matematicamente não é possível dividir um número por zero, então para corrigir esse problema vamos adotar uma premissa."
   ]
  },
  {
   "cell_type": "code",
   "execution_count": 10,
   "metadata": {},
   "outputs": [
    {
     "data": {
      "text/plain": [
       "youtube         96.24\n",
       "facebook         0.00\n",
       "newspaper       11.04\n",
       "sales           10.56\n",
       "ROI_youtube     -0.89\n",
       "ROI_facebook      inf\n",
       "ROI_newspaper   -0.04\n",
       "Name: 98, dtype: float64"
      ]
     },
     "execution_count": 10,
     "metadata": {},
     "output_type": "execute_result"
    }
   ],
   "source": [
    "df.loc[98]"
   ]
  },
  {
   "attachments": {},
   "cell_type": "markdown",
   "metadata": {},
   "source": [
    "Como premissa vamos adotar que o 0 será a média."
   ]
  },
  {
   "cell_type": "code",
   "execution_count": 11,
   "metadata": {},
   "outputs": [],
   "source": [
    "df['ROI_facebook'][98] = df['facebook'].mean()"
   ]
  },
  {
   "cell_type": "code",
   "execution_count": 12,
   "metadata": {},
   "outputs": [
    {
     "data": {
      "text/html": [
       "<div>\n",
       "<style scoped>\n",
       "    .dataframe tbody tr th:only-of-type {\n",
       "        vertical-align: middle;\n",
       "    }\n",
       "\n",
       "    .dataframe tbody tr th {\n",
       "        vertical-align: top;\n",
       "    }\n",
       "\n",
       "    .dataframe thead th {\n",
       "        text-align: right;\n",
       "    }\n",
       "</style>\n",
       "<table border=\"1\" class=\"dataframe\">\n",
       "  <thead>\n",
       "    <tr style=\"text-align: right;\">\n",
       "      <th></th>\n",
       "      <th>count</th>\n",
       "      <th>mean</th>\n",
       "      <th>std</th>\n",
       "      <th>min</th>\n",
       "      <th>25%</th>\n",
       "      <th>50%</th>\n",
       "      <th>75%</th>\n",
       "      <th>max</th>\n",
       "    </tr>\n",
       "  </thead>\n",
       "  <tbody>\n",
       "    <tr>\n",
       "      <th>youtube</th>\n",
       "      <td>171.00</td>\n",
       "      <td>178.02</td>\n",
       "      <td>102.45</td>\n",
       "      <td>0.84</td>\n",
       "      <td>91.08</td>\n",
       "      <td>179.76</td>\n",
       "      <td>262.98</td>\n",
       "      <td>355.68</td>\n",
       "    </tr>\n",
       "    <tr>\n",
       "      <th>facebook</th>\n",
       "      <td>171.00</td>\n",
       "      <td>27.67</td>\n",
       "      <td>17.91</td>\n",
       "      <td>0.00</td>\n",
       "      <td>11.70</td>\n",
       "      <td>26.76</td>\n",
       "      <td>43.68</td>\n",
       "      <td>59.52</td>\n",
       "    </tr>\n",
       "    <tr>\n",
       "      <th>newspaper</th>\n",
       "      <td>171.00</td>\n",
       "      <td>35.24</td>\n",
       "      <td>24.90</td>\n",
       "      <td>0.36</td>\n",
       "      <td>13.74</td>\n",
       "      <td>31.08</td>\n",
       "      <td>50.88</td>\n",
       "      <td>121.08</td>\n",
       "    </tr>\n",
       "    <tr>\n",
       "      <th>sales</th>\n",
       "      <td>171.00</td>\n",
       "      <td>16.92</td>\n",
       "      <td>6.31</td>\n",
       "      <td>1.92</td>\n",
       "      <td>12.54</td>\n",
       "      <td>15.48</td>\n",
       "      <td>20.82</td>\n",
       "      <td>32.40</td>\n",
       "    </tr>\n",
       "    <tr>\n",
       "      <th>ROI_youtube</th>\n",
       "      <td>171.00</td>\n",
       "      <td>-0.84</td>\n",
       "      <td>0.22</td>\n",
       "      <td>-0.96</td>\n",
       "      <td>-0.92</td>\n",
       "      <td>-0.90</td>\n",
       "      <td>-0.85</td>\n",
       "      <td>1.29</td>\n",
       "    </tr>\n",
       "    <tr>\n",
       "      <th>ROI_facebook</th>\n",
       "      <td>171.00</td>\n",
       "      <td>0.62</td>\n",
       "      <td>3.48</td>\n",
       "      <td>-0.96</td>\n",
       "      <td>-0.52</td>\n",
       "      <td>-0.32</td>\n",
       "      <td>0.32</td>\n",
       "      <td>28.00</td>\n",
       "    </tr>\n",
       "    <tr>\n",
       "      <th>ROI_newspaper</th>\n",
       "      <td>171.00</td>\n",
       "      <td>0.41</td>\n",
       "      <td>4.70</td>\n",
       "      <td>-0.90</td>\n",
       "      <td>-0.68</td>\n",
       "      <td>-0.51</td>\n",
       "      <td>0.10</td>\n",
       "      <td>57.00</td>\n",
       "    </tr>\n",
       "  </tbody>\n",
       "</table>\n",
       "</div>"
      ],
      "text/plain": [
       "               count   mean    std   min   25%    50%    75%    max\n",
       "youtube       171.00 178.02 102.45  0.84 91.08 179.76 262.98 355.68\n",
       "facebook      171.00  27.67  17.91  0.00 11.70  26.76  43.68  59.52\n",
       "newspaper     171.00  35.24  24.90  0.36 13.74  31.08  50.88 121.08\n",
       "sales         171.00  16.92   6.31  1.92 12.54  15.48  20.82  32.40\n",
       "ROI_youtube   171.00  -0.84   0.22 -0.96 -0.92  -0.90  -0.85   1.29\n",
       "ROI_facebook  171.00   0.62   3.48 -0.96 -0.52  -0.32   0.32  28.00\n",
       "ROI_newspaper 171.00   0.41   4.70 -0.90 -0.68  -0.51   0.10  57.00"
      ]
     },
     "execution_count": 12,
     "metadata": {},
     "output_type": "execute_result"
    }
   ],
   "source": [
    "df.describe().T"
   ]
  },
  {
   "attachments": {},
   "cell_type": "markdown",
   "metadata": {},
   "source": [
    "O ROI negativo, isso geralmente significa que o custo do investimento excede o retorno que você obteve. No contexto de uma campanha de marketing, isso poderia significar que o dinheiro que você gastou na campanha é maior do que a receita gerada por essa campanha.\n",
    "\n",
    "Por exemplo, com um ROI médio de -0.90, se o valor investido foi de R$100, a perda média, de acordo com esse ROI, seria de R$90.\n",
    "\n",
    "* **ROI_youtube:** ROI médio de **<font color='red'>-0.84</font>** sugere que, em média, para cada unidade de moeda investida, a perda foi de 84% do valor investido. Essa é uma situação financeira **<font color='red'>muito ruim</font>**, indicando que o investimento está perdendo dinheiro em vez de gerar lucro.\n",
    "  \n",
    "* **ROI_facebook:** ROI médio de **<font color='chartreuse'>0.62</font>** sugere que, em média, para cada unidade de moeda investida, o ganho foi de 62% do valor investido. Essa é uma situação financeira **<font color='chartreuse'>muito boa</font>**, indicando que o investimento está gerando lucro.\n",
    "  \n",
    "* **ROI_newspaper:** ROI médio de **<font color='chartreuse'>0.41</font>** sugere que, em média, para cada unidade de moeda investida, o ganho foi de 41% do valor investido. Essa é uma situação financeira **<font color='chartreuse'>muito boa</font>**, indicando que o investimento está gerando lucro.\n"
   ]
  },
  {
   "attachments": {},
   "cell_type": "markdown",
   "metadata": {},
   "source": [
    "#### Cálculo do ROI consolidado"
   ]
  },
  {
   "attachments": {},
   "cell_type": "markdown",
   "metadata": {},
   "source": [
    "Primeiramente vamos precisar somar o valor investido em todas as plataformas."
   ]
  },
  {
   "cell_type": "code",
   "execution_count": 13,
   "metadata": {},
   "outputs": [
    {
     "data": {
      "text/html": [
       "<div>\n",
       "<style scoped>\n",
       "    .dataframe tbody tr th:only-of-type {\n",
       "        vertical-align: middle;\n",
       "    }\n",
       "\n",
       "    .dataframe tbody tr th {\n",
       "        vertical-align: top;\n",
       "    }\n",
       "\n",
       "    .dataframe thead th {\n",
       "        text-align: right;\n",
       "    }\n",
       "</style>\n",
       "<table border=\"1\" class=\"dataframe\">\n",
       "  <thead>\n",
       "    <tr style=\"text-align: right;\">\n",
       "      <th></th>\n",
       "      <th>youtube</th>\n",
       "      <th>facebook</th>\n",
       "      <th>newspaper</th>\n",
       "      <th>sales</th>\n",
       "      <th>ROI_youtube</th>\n",
       "      <th>ROI_facebook</th>\n",
       "      <th>ROI_newspaper</th>\n",
       "      <th>plataformas</th>\n",
       "    </tr>\n",
       "  </thead>\n",
       "  <tbody>\n",
       "    <tr>\n",
       "      <th>0</th>\n",
       "      <td>84.72</td>\n",
       "      <td>19.20</td>\n",
       "      <td>48.96</td>\n",
       "      <td>12.60</td>\n",
       "      <td>-0.85</td>\n",
       "      <td>-0.34</td>\n",
       "      <td>-0.74</td>\n",
       "      <td>152.88</td>\n",
       "    </tr>\n",
       "    <tr>\n",
       "      <th>1</th>\n",
       "      <td>351.48</td>\n",
       "      <td>33.96</td>\n",
       "      <td>51.84</td>\n",
       "      <td>25.68</td>\n",
       "      <td>-0.93</td>\n",
       "      <td>-0.24</td>\n",
       "      <td>-0.50</td>\n",
       "      <td>437.28</td>\n",
       "    </tr>\n",
       "    <tr>\n",
       "      <th>2</th>\n",
       "      <td>135.48</td>\n",
       "      <td>20.88</td>\n",
       "      <td>46.32</td>\n",
       "      <td>14.28</td>\n",
       "      <td>-0.89</td>\n",
       "      <td>-0.32</td>\n",
       "      <td>-0.69</td>\n",
       "      <td>202.68</td>\n",
       "    </tr>\n",
       "    <tr>\n",
       "      <th>3</th>\n",
       "      <td>116.64</td>\n",
       "      <td>1.80</td>\n",
       "      <td>36.00</td>\n",
       "      <td>11.52</td>\n",
       "      <td>-0.90</td>\n",
       "      <td>5.40</td>\n",
       "      <td>-0.68</td>\n",
       "      <td>154.44</td>\n",
       "    </tr>\n",
       "    <tr>\n",
       "      <th>4</th>\n",
       "      <td>318.72</td>\n",
       "      <td>24.00</td>\n",
       "      <td>0.36</td>\n",
       "      <td>20.88</td>\n",
       "      <td>-0.93</td>\n",
       "      <td>-0.13</td>\n",
       "      <td>57.00</td>\n",
       "      <td>343.08</td>\n",
       "    </tr>\n",
       "    <tr>\n",
       "      <th>...</th>\n",
       "      <td>...</td>\n",
       "      <td>...</td>\n",
       "      <td>...</td>\n",
       "      <td>...</td>\n",
       "      <td>...</td>\n",
       "      <td>...</td>\n",
       "      <td>...</td>\n",
       "      <td>...</td>\n",
       "    </tr>\n",
       "    <tr>\n",
       "      <th>166</th>\n",
       "      <td>45.84</td>\n",
       "      <td>4.44</td>\n",
       "      <td>16.56</td>\n",
       "      <td>9.12</td>\n",
       "      <td>-0.80</td>\n",
       "      <td>1.05</td>\n",
       "      <td>-0.45</td>\n",
       "      <td>66.84</td>\n",
       "    </tr>\n",
       "    <tr>\n",
       "      <th>167</th>\n",
       "      <td>113.04</td>\n",
       "      <td>5.88</td>\n",
       "      <td>9.72</td>\n",
       "      <td>11.64</td>\n",
       "      <td>-0.90</td>\n",
       "      <td>0.98</td>\n",
       "      <td>0.20</td>\n",
       "      <td>128.64</td>\n",
       "    </tr>\n",
       "    <tr>\n",
       "      <th>168</th>\n",
       "      <td>212.40</td>\n",
       "      <td>11.16</td>\n",
       "      <td>7.68</td>\n",
       "      <td>15.36</td>\n",
       "      <td>-0.93</td>\n",
       "      <td>0.38</td>\n",
       "      <td>1.00</td>\n",
       "      <td>231.24</td>\n",
       "    </tr>\n",
       "    <tr>\n",
       "      <th>169</th>\n",
       "      <td>340.32</td>\n",
       "      <td>50.40</td>\n",
       "      <td>79.44</td>\n",
       "      <td>30.60</td>\n",
       "      <td>-0.91</td>\n",
       "      <td>-0.39</td>\n",
       "      <td>-0.61</td>\n",
       "      <td>470.16</td>\n",
       "    </tr>\n",
       "    <tr>\n",
       "      <th>170</th>\n",
       "      <td>278.52</td>\n",
       "      <td>10.32</td>\n",
       "      <td>10.44</td>\n",
       "      <td>16.08</td>\n",
       "      <td>-0.94</td>\n",
       "      <td>0.56</td>\n",
       "      <td>0.54</td>\n",
       "      <td>299.28</td>\n",
       "    </tr>\n",
       "  </tbody>\n",
       "</table>\n",
       "<p>171 rows × 8 columns</p>\n",
       "</div>"
      ],
      "text/plain": [
       "     youtube  facebook  newspaper  sales  ROI_youtube  ROI_facebook   \n",
       "0      84.72     19.20      48.96  12.60        -0.85         -0.34  \\\n",
       "1     351.48     33.96      51.84  25.68        -0.93         -0.24   \n",
       "2     135.48     20.88      46.32  14.28        -0.89         -0.32   \n",
       "3     116.64      1.80      36.00  11.52        -0.90          5.40   \n",
       "4     318.72     24.00       0.36  20.88        -0.93         -0.13   \n",
       "..       ...       ...        ...    ...          ...           ...   \n",
       "166    45.84      4.44      16.56   9.12        -0.80          1.05   \n",
       "167   113.04      5.88       9.72  11.64        -0.90          0.98   \n",
       "168   212.40     11.16       7.68  15.36        -0.93          0.38   \n",
       "169   340.32     50.40      79.44  30.60        -0.91         -0.39   \n",
       "170   278.52     10.32      10.44  16.08        -0.94          0.56   \n",
       "\n",
       "     ROI_newspaper  plataformas  \n",
       "0            -0.74       152.88  \n",
       "1            -0.50       437.28  \n",
       "2            -0.69       202.68  \n",
       "3            -0.68       154.44  \n",
       "4            57.00       343.08  \n",
       "..             ...          ...  \n",
       "166          -0.45        66.84  \n",
       "167           0.20       128.64  \n",
       "168           1.00       231.24  \n",
       "169          -0.61       470.16  \n",
       "170           0.54       299.28  \n",
       "\n",
       "[171 rows x 8 columns]"
      ]
     },
     "execution_count": 13,
     "metadata": {},
     "output_type": "execute_result"
    }
   ],
   "source": [
    "df['plataformas'] = df['youtube'] + df['facebook'] + df['newspaper']\n",
    "df"
   ]
  },
  {
   "attachments": {},
   "cell_type": "markdown",
   "metadata": {},
   "source": [
    "Depois, calcular o ROI consolidado."
   ]
  },
  {
   "cell_type": "code",
   "execution_count": 14,
   "metadata": {},
   "outputs": [
    {
     "data": {
      "text/html": [
       "<div>\n",
       "<style scoped>\n",
       "    .dataframe tbody tr th:only-of-type {\n",
       "        vertical-align: middle;\n",
       "    }\n",
       "\n",
       "    .dataframe tbody tr th {\n",
       "        vertical-align: top;\n",
       "    }\n",
       "\n",
       "    .dataframe thead th {\n",
       "        text-align: right;\n",
       "    }\n",
       "</style>\n",
       "<table border=\"1\" class=\"dataframe\">\n",
       "  <thead>\n",
       "    <tr style=\"text-align: right;\">\n",
       "      <th></th>\n",
       "      <th>youtube</th>\n",
       "      <th>facebook</th>\n",
       "      <th>newspaper</th>\n",
       "      <th>sales</th>\n",
       "      <th>ROI_youtube</th>\n",
       "      <th>ROI_facebook</th>\n",
       "      <th>ROI_newspaper</th>\n",
       "      <th>plataformas</th>\n",
       "      <th>ROI</th>\n",
       "    </tr>\n",
       "  </thead>\n",
       "  <tbody>\n",
       "    <tr>\n",
       "      <th>0</th>\n",
       "      <td>84.72</td>\n",
       "      <td>19.20</td>\n",
       "      <td>48.96</td>\n",
       "      <td>12.60</td>\n",
       "      <td>-0.85</td>\n",
       "      <td>-0.34</td>\n",
       "      <td>-0.74</td>\n",
       "      <td>152.88</td>\n",
       "      <td>-0.92</td>\n",
       "    </tr>\n",
       "    <tr>\n",
       "      <th>1</th>\n",
       "      <td>351.48</td>\n",
       "      <td>33.96</td>\n",
       "      <td>51.84</td>\n",
       "      <td>25.68</td>\n",
       "      <td>-0.93</td>\n",
       "      <td>-0.24</td>\n",
       "      <td>-0.50</td>\n",
       "      <td>437.28</td>\n",
       "      <td>-0.94</td>\n",
       "    </tr>\n",
       "    <tr>\n",
       "      <th>2</th>\n",
       "      <td>135.48</td>\n",
       "      <td>20.88</td>\n",
       "      <td>46.32</td>\n",
       "      <td>14.28</td>\n",
       "      <td>-0.89</td>\n",
       "      <td>-0.32</td>\n",
       "      <td>-0.69</td>\n",
       "      <td>202.68</td>\n",
       "      <td>-0.93</td>\n",
       "    </tr>\n",
       "    <tr>\n",
       "      <th>3</th>\n",
       "      <td>116.64</td>\n",
       "      <td>1.80</td>\n",
       "      <td>36.00</td>\n",
       "      <td>11.52</td>\n",
       "      <td>-0.90</td>\n",
       "      <td>5.40</td>\n",
       "      <td>-0.68</td>\n",
       "      <td>154.44</td>\n",
       "      <td>-0.93</td>\n",
       "    </tr>\n",
       "    <tr>\n",
       "      <th>4</th>\n",
       "      <td>318.72</td>\n",
       "      <td>24.00</td>\n",
       "      <td>0.36</td>\n",
       "      <td>20.88</td>\n",
       "      <td>-0.93</td>\n",
       "      <td>-0.13</td>\n",
       "      <td>57.00</td>\n",
       "      <td>343.08</td>\n",
       "      <td>-0.94</td>\n",
       "    </tr>\n",
       "    <tr>\n",
       "      <th>...</th>\n",
       "      <td>...</td>\n",
       "      <td>...</td>\n",
       "      <td>...</td>\n",
       "      <td>...</td>\n",
       "      <td>...</td>\n",
       "      <td>...</td>\n",
       "      <td>...</td>\n",
       "      <td>...</td>\n",
       "      <td>...</td>\n",
       "    </tr>\n",
       "    <tr>\n",
       "      <th>166</th>\n",
       "      <td>45.84</td>\n",
       "      <td>4.44</td>\n",
       "      <td>16.56</td>\n",
       "      <td>9.12</td>\n",
       "      <td>-0.80</td>\n",
       "      <td>1.05</td>\n",
       "      <td>-0.45</td>\n",
       "      <td>66.84</td>\n",
       "      <td>-0.86</td>\n",
       "    </tr>\n",
       "    <tr>\n",
       "      <th>167</th>\n",
       "      <td>113.04</td>\n",
       "      <td>5.88</td>\n",
       "      <td>9.72</td>\n",
       "      <td>11.64</td>\n",
       "      <td>-0.90</td>\n",
       "      <td>0.98</td>\n",
       "      <td>0.20</td>\n",
       "      <td>128.64</td>\n",
       "      <td>-0.91</td>\n",
       "    </tr>\n",
       "    <tr>\n",
       "      <th>168</th>\n",
       "      <td>212.40</td>\n",
       "      <td>11.16</td>\n",
       "      <td>7.68</td>\n",
       "      <td>15.36</td>\n",
       "      <td>-0.93</td>\n",
       "      <td>0.38</td>\n",
       "      <td>1.00</td>\n",
       "      <td>231.24</td>\n",
       "      <td>-0.93</td>\n",
       "    </tr>\n",
       "    <tr>\n",
       "      <th>169</th>\n",
       "      <td>340.32</td>\n",
       "      <td>50.40</td>\n",
       "      <td>79.44</td>\n",
       "      <td>30.60</td>\n",
       "      <td>-0.91</td>\n",
       "      <td>-0.39</td>\n",
       "      <td>-0.61</td>\n",
       "      <td>470.16</td>\n",
       "      <td>-0.93</td>\n",
       "    </tr>\n",
       "    <tr>\n",
       "      <th>170</th>\n",
       "      <td>278.52</td>\n",
       "      <td>10.32</td>\n",
       "      <td>10.44</td>\n",
       "      <td>16.08</td>\n",
       "      <td>-0.94</td>\n",
       "      <td>0.56</td>\n",
       "      <td>0.54</td>\n",
       "      <td>299.28</td>\n",
       "      <td>-0.95</td>\n",
       "    </tr>\n",
       "  </tbody>\n",
       "</table>\n",
       "<p>171 rows × 9 columns</p>\n",
       "</div>"
      ],
      "text/plain": [
       "     youtube  facebook  newspaper  sales  ROI_youtube  ROI_facebook   \n",
       "0      84.72     19.20      48.96  12.60        -0.85         -0.34  \\\n",
       "1     351.48     33.96      51.84  25.68        -0.93         -0.24   \n",
       "2     135.48     20.88      46.32  14.28        -0.89         -0.32   \n",
       "3     116.64      1.80      36.00  11.52        -0.90          5.40   \n",
       "4     318.72     24.00       0.36  20.88        -0.93         -0.13   \n",
       "..       ...       ...        ...    ...          ...           ...   \n",
       "166    45.84      4.44      16.56   9.12        -0.80          1.05   \n",
       "167   113.04      5.88       9.72  11.64        -0.90          0.98   \n",
       "168   212.40     11.16       7.68  15.36        -0.93          0.38   \n",
       "169   340.32     50.40      79.44  30.60        -0.91         -0.39   \n",
       "170   278.52     10.32      10.44  16.08        -0.94          0.56   \n",
       "\n",
       "     ROI_newspaper  plataformas   ROI  \n",
       "0            -0.74       152.88 -0.92  \n",
       "1            -0.50       437.28 -0.94  \n",
       "2            -0.69       202.68 -0.93  \n",
       "3            -0.68       154.44 -0.93  \n",
       "4            57.00       343.08 -0.94  \n",
       "..             ...          ...   ...  \n",
       "166          -0.45        66.84 -0.86  \n",
       "167           0.20       128.64 -0.91  \n",
       "168           1.00       231.24 -0.93  \n",
       "169          -0.61       470.16 -0.93  \n",
       "170           0.54       299.28 -0.95  \n",
       "\n",
       "[171 rows x 9 columns]"
      ]
     },
     "execution_count": 14,
     "metadata": {},
     "output_type": "execute_result"
    }
   ],
   "source": [
    "df['ROI'] = (df['sales'] - df['plataformas']) / df['plataformas']\n",
    "df"
   ]
  },
  {
   "cell_type": "code",
   "execution_count": 15,
   "metadata": {},
   "outputs": [
    {
     "data": {
      "text/html": [
       "<div>\n",
       "<style scoped>\n",
       "    .dataframe tbody tr th:only-of-type {\n",
       "        vertical-align: middle;\n",
       "    }\n",
       "\n",
       "    .dataframe tbody tr th {\n",
       "        vertical-align: top;\n",
       "    }\n",
       "\n",
       "    .dataframe thead th {\n",
       "        text-align: right;\n",
       "    }\n",
       "</style>\n",
       "<table border=\"1\" class=\"dataframe\">\n",
       "  <thead>\n",
       "    <tr style=\"text-align: right;\">\n",
       "      <th></th>\n",
       "      <th>count</th>\n",
       "      <th>mean</th>\n",
       "      <th>std</th>\n",
       "      <th>min</th>\n",
       "      <th>25%</th>\n",
       "      <th>50%</th>\n",
       "      <th>75%</th>\n",
       "      <th>max</th>\n",
       "    </tr>\n",
       "  </thead>\n",
       "  <tbody>\n",
       "    <tr>\n",
       "      <th>youtube</th>\n",
       "      <td>171.00</td>\n",
       "      <td>178.02</td>\n",
       "      <td>102.45</td>\n",
       "      <td>0.84</td>\n",
       "      <td>91.08</td>\n",
       "      <td>179.76</td>\n",
       "      <td>262.98</td>\n",
       "      <td>355.68</td>\n",
       "    </tr>\n",
       "    <tr>\n",
       "      <th>facebook</th>\n",
       "      <td>171.00</td>\n",
       "      <td>27.67</td>\n",
       "      <td>17.91</td>\n",
       "      <td>0.00</td>\n",
       "      <td>11.70</td>\n",
       "      <td>26.76</td>\n",
       "      <td>43.68</td>\n",
       "      <td>59.52</td>\n",
       "    </tr>\n",
       "    <tr>\n",
       "      <th>newspaper</th>\n",
       "      <td>171.00</td>\n",
       "      <td>35.24</td>\n",
       "      <td>24.90</td>\n",
       "      <td>0.36</td>\n",
       "      <td>13.74</td>\n",
       "      <td>31.08</td>\n",
       "      <td>50.88</td>\n",
       "      <td>121.08</td>\n",
       "    </tr>\n",
       "    <tr>\n",
       "      <th>sales</th>\n",
       "      <td>171.00</td>\n",
       "      <td>16.92</td>\n",
       "      <td>6.31</td>\n",
       "      <td>1.92</td>\n",
       "      <td>12.54</td>\n",
       "      <td>15.48</td>\n",
       "      <td>20.82</td>\n",
       "      <td>32.40</td>\n",
       "    </tr>\n",
       "    <tr>\n",
       "      <th>ROI_youtube</th>\n",
       "      <td>171.00</td>\n",
       "      <td>-0.84</td>\n",
       "      <td>0.22</td>\n",
       "      <td>-0.96</td>\n",
       "      <td>-0.92</td>\n",
       "      <td>-0.90</td>\n",
       "      <td>-0.85</td>\n",
       "      <td>1.29</td>\n",
       "    </tr>\n",
       "    <tr>\n",
       "      <th>ROI_facebook</th>\n",
       "      <td>171.00</td>\n",
       "      <td>0.62</td>\n",
       "      <td>3.48</td>\n",
       "      <td>-0.96</td>\n",
       "      <td>-0.52</td>\n",
       "      <td>-0.32</td>\n",
       "      <td>0.32</td>\n",
       "      <td>28.00</td>\n",
       "    </tr>\n",
       "    <tr>\n",
       "      <th>ROI_newspaper</th>\n",
       "      <td>171.00</td>\n",
       "      <td>0.41</td>\n",
       "      <td>4.70</td>\n",
       "      <td>-0.90</td>\n",
       "      <td>-0.68</td>\n",
       "      <td>-0.51</td>\n",
       "      <td>0.10</td>\n",
       "      <td>57.00</td>\n",
       "    </tr>\n",
       "    <tr>\n",
       "      <th>plataformas</th>\n",
       "      <td>171.00</td>\n",
       "      <td>240.93</td>\n",
       "      <td>112.17</td>\n",
       "      <td>25.68</td>\n",
       "      <td>146.82</td>\n",
       "      <td>248.40</td>\n",
       "      <td>337.74</td>\n",
       "      <td>520.32</td>\n",
       "    </tr>\n",
       "    <tr>\n",
       "      <th>ROI</th>\n",
       "      <td>171.00</td>\n",
       "      <td>-0.92</td>\n",
       "      <td>0.02</td>\n",
       "      <td>-0.97</td>\n",
       "      <td>-0.94</td>\n",
       "      <td>-0.93</td>\n",
       "      <td>-0.91</td>\n",
       "      <td>-0.84</td>\n",
       "    </tr>\n",
       "  </tbody>\n",
       "</table>\n",
       "</div>"
      ],
      "text/plain": [
       "               count   mean    std   min    25%    50%    75%    max\n",
       "youtube       171.00 178.02 102.45  0.84  91.08 179.76 262.98 355.68\n",
       "facebook      171.00  27.67  17.91  0.00  11.70  26.76  43.68  59.52\n",
       "newspaper     171.00  35.24  24.90  0.36  13.74  31.08  50.88 121.08\n",
       "sales         171.00  16.92   6.31  1.92  12.54  15.48  20.82  32.40\n",
       "ROI_youtube   171.00  -0.84   0.22 -0.96  -0.92  -0.90  -0.85   1.29\n",
       "ROI_facebook  171.00   0.62   3.48 -0.96  -0.52  -0.32   0.32  28.00\n",
       "ROI_newspaper 171.00   0.41   4.70 -0.90  -0.68  -0.51   0.10  57.00\n",
       "plataformas   171.00 240.93 112.17 25.68 146.82 248.40 337.74 520.32\n",
       "ROI           171.00  -0.92   0.02 -0.97  -0.94  -0.93  -0.91  -0.84"
      ]
     },
     "execution_count": 15,
     "metadata": {},
     "output_type": "execute_result"
    }
   ],
   "source": [
    "df.describe().T"
   ]
  },
  {
   "attachments": {},
   "cell_type": "markdown",
   "metadata": {},
   "source": [
    "ROI médio Consolidado de **<font color='red'>-0.92</font>** sugere que, em média, para cada unidade de moeda investida, a perda foi de 92% do valor investido. Essa é uma situação financeira **<font color='red'>muito ruim</font>**, indicando que o investimento está perdendo dinheiro em vez de gerar lucro."
   ]
  },
  {
   "attachments": {},
   "cell_type": "markdown",
   "metadata": {},
   "source": [
    "### Outliers"
   ]
  },
  {
   "attachments": {},
   "cell_type": "markdown",
   "metadata": {},
   "source": [
    "#### Definição de Outliers"
   ]
  },
  {
   "attachments": {},
   "cell_type": "markdown",
   "metadata": {},
   "source": [
    "Outliers são valores em um conjunto de dados que são significativamente diferentes dos outros. Eles são valores extremos que se desviam da média e das medidas padrão do conjunto de dados.\n",
    "\n",
    "Para identificar outliers em um conjunto de dados, você pode usar vários métodos. Aqui estão algumas opções populares:\n",
    "\n",
    "1. **Gráficos Boxplot**\n",
    "   \n",
    "2. **Z-Score**\n",
    "   \n",
    "3. **Desvio absoluto mediano (MAD)**\n",
    "   \n",
    "4. <font color='orange'>**Regra do IQR (Interquartile Range)**</font>\n",
    "\n",
    "A análise de outliers é crucial para uma análise de dados precisa, pois outliers podem distorcer os resultados. Boxplots são uma ferramenta gráfica comum para identificar outliers, baseando-se no Intervalo Interquartil (IQR).\n",
    "\n",
    "Apesar da facilidade de identificar outliers visualmente em boxplots, elaborei uma função para calcular numericamente o IQR e os limites de outliers. Essa função nos permite entender melhor o processo de detecção de outliers.\n",
    "\n",
    "Apesar de útil, não é necessário calcular manualmente esses valores sempre. Ferramentas como boxplots fazem isso automaticamente, facilitando a identificação de outliers. Na sequência, utilizaremos boxplots para visualizar a presença de outliers em nossos dados.\n",
    "\n",
    "O IQR é a diferença entre o terceiro quartil (Q3) e o primeiro quartil (Q1) dos dados. Qualquer ponto de dados que esteja abaixo de <font color='orange'>**Q1-1.5IQR**</font> ou acima de <font color='orange'>**Q3+1.5IQR**</font> pode ser considerado um outlier."
   ]
  },
  {
   "attachments": {},
   "cell_type": "markdown",
   "metadata": {},
   "source": [
    "#### Cálculo dos Outliers"
   ]
  },
  {
   "cell_type": "code",
   "execution_count": 16,
   "metadata": {},
   "outputs": [
    {
     "data": {
      "text/html": [
       "<div>\n",
       "<style scoped>\n",
       "    .dataframe tbody tr th:only-of-type {\n",
       "        vertical-align: middle;\n",
       "    }\n",
       "\n",
       "    .dataframe tbody tr th {\n",
       "        vertical-align: top;\n",
       "    }\n",
       "\n",
       "    .dataframe thead th {\n",
       "        text-align: right;\n",
       "    }\n",
       "</style>\n",
       "<table border=\"1\" class=\"dataframe\">\n",
       "  <thead>\n",
       "    <tr style=\"text-align: right;\">\n",
       "      <th></th>\n",
       "      <th>Coluna</th>\n",
       "      <th>Q1</th>\n",
       "      <th>Q3</th>\n",
       "      <th>IQR</th>\n",
       "      <th>Lower Bound</th>\n",
       "      <th>Upper Bound</th>\n",
       "      <th>Min</th>\n",
       "      <th>Max</th>\n",
       "    </tr>\n",
       "  </thead>\n",
       "  <tbody>\n",
       "    <tr>\n",
       "      <th>0</th>\n",
       "      <td>youtube</td>\n",
       "      <td>91.08</td>\n",
       "      <td>262.98</td>\n",
       "      <td>171.90</td>\n",
       "      <td>-166.77</td>\n",
       "      <td>520.83</td>\n",
       "      <td>0.84</td>\n",
       "      <td>355.68</td>\n",
       "    </tr>\n",
       "    <tr>\n",
       "      <th>1</th>\n",
       "      <td>facebook</td>\n",
       "      <td>11.70</td>\n",
       "      <td>43.68</td>\n",
       "      <td>31.98</td>\n",
       "      <td>-36.27</td>\n",
       "      <td>91.65</td>\n",
       "      <td>0.00</td>\n",
       "      <td>59.52</td>\n",
       "    </tr>\n",
       "    <tr>\n",
       "      <th>2</th>\n",
       "      <td>newspaper</td>\n",
       "      <td>13.74</td>\n",
       "      <td>50.88</td>\n",
       "      <td>37.14</td>\n",
       "      <td>-41.97</td>\n",
       "      <td>106.59</td>\n",
       "      <td>0.36</td>\n",
       "      <td>121.08</td>\n",
       "    </tr>\n",
       "    <tr>\n",
       "      <th>3</th>\n",
       "      <td>sales</td>\n",
       "      <td>12.54</td>\n",
       "      <td>20.82</td>\n",
       "      <td>8.28</td>\n",
       "      <td>0.12</td>\n",
       "      <td>33.24</td>\n",
       "      <td>1.92</td>\n",
       "      <td>32.40</td>\n",
       "    </tr>\n",
       "  </tbody>\n",
       "</table>\n",
       "</div>"
      ],
      "text/plain": [
       "      Coluna    Q1     Q3    IQR  Lower Bound  Upper Bound  Min    Max\n",
       "0    youtube 91.08 262.98 171.90      -166.77       520.83 0.84 355.68\n",
       "1   facebook 11.70  43.68  31.98       -36.27        91.65 0.00  59.52\n",
       "2  newspaper 13.74  50.88  37.14       -41.97       106.59 0.36 121.08\n",
       "3      sales 12.54  20.82   8.28         0.12        33.24 1.92  32.40"
      ]
     },
     "execution_count": 16,
     "metadata": {},
     "output_type": "execute_result"
    }
   ],
   "source": [
    "# Usando a função no DataFrame df\n",
    "iqr_df = calculate_iqr(df[['youtube', 'facebook', 'newspaper', 'sales']])\n",
    "iqr_df\n"
   ]
  },
  {
   "attachments": {},
   "cell_type": "markdown",
   "metadata": {},
   "source": [
    "Os outliers são valores que desviam notavelmente do restante dos dados. No contexto do IQR, outliers são aqueles valores que estão **abaixo** do \"Lower Bound\" ou **acima** do \"Upper Bound\". Assim, na tabela IQR que geramos, qualquer valor da coluna \"Min\" menor que o respectivo \"Lower Bound\" e qualquer valor da coluna \"Max\" maior que o respectivo \"Upper Bound\" são considerados outliers."
   ]
  },
  {
   "cell_type": "code",
   "execution_count": 17,
   "metadata": {},
   "outputs": [
    {
     "data": {
      "application/vnd.plotly.v1+json": {
       "config": {
        "plotlyServerURL": "https://plot.ly"
       },
       "data": [
        {
         "boxmean": true,
         "name": "youtube",
         "showlegend": false,
         "type": "box",
         "xaxis": "x",
         "y": [
          84.72,
          351.48,
          135.48,
          116.64,
          318.72,
          114.84,
          348.84,
          320.28,
          89.64,
          51.72,
          273.6,
          243,
          212.4,
          352.32,
          248.28,
          30.12,
          210.12,
          107.64,
          287.88,
          272.64,
          80.28,
          239.76,
          120.48,
          259.68,
          219.12,
          315.24,
          238.68,
          8.76,
          163.44,
          252.96,
          252.84,
          64.2,
          313.56,
          287.16,
          123.24,
          157.32,
          82.8,
          37.8,
          167.16,
          284.88,
          260.16,
          238.92,
          131.76,
          32.16,
          155.28,
          256.08,
          20.28,
          33,
          144.6,
          6.48,
          139.2,
          91.68,
          287.76,
          90.36,
          82.08,
          256.2,
          231.84,
          91.56,
          132.84,
          105.96,
          131.76,
          161.16,
          34.32,
          261.24,
          301.08,
          128.88,
          195.96,
          237.12,
          221.88,
          347.64,
          162.24,
          266.88,
          355.68,
          336.24,
          225.48,
          285.84,
          165.48,
          30,
          108.48,
          15.72,
          306.48,
          270.96,
          290.04,
          210.84,
          251.52,
          93.84,
          90.12,
          167.04,
          91.68,
          150.84,
          23.28,
          169.56,
          22.56,
          268.8,
          147.72,
          275.4,
          104.64,
          9.36,
          96.24,
          264.36,
          71.52,
          0.84,
          318.24,
          10.08,
          263.76,
          44.28,
          57.96,
          30.72,
          328.44,
          51.6,
          221.88,
          88.08,
          232.44,
          264.6,
          125.52,
          115.44,
          168.36,
          288.12,
          291.84,
          45.6,
          53.64,
          336.84,
          145.2,
          237.12,
          205.56,
          225.36,
          4.92,
          112.68,
          179.76,
          14.04,
          158.04,
          207,
          102.84,
          226.08,
          196.2,
          140.64,
          281.4,
          21.48,
          248.16,
          258.48,
          341.16,
          60,
          197.4,
          23.52,
          202.08,
          266.88,
          332.28,
          298.08,
          204.24,
          332.04,
          198.72,
          187.92,
          262.2,
          67.44,
          345.12,
          304.56,
          246,
          167.4,
          229.32,
          343.2,
          22.44,
          47.4,
          90.6,
          20.64,
          200.16,
          179.64,
          45.84,
          113.04,
          212.4,
          340.32,
          278.52
         ],
         "yaxis": "y"
        },
        {
         "boxmean": true,
         "name": "facebook",
         "showlegend": false,
         "type": "box",
         "xaxis": "x2",
         "y": [
          19.2,
          33.96,
          20.88,
          1.8,
          24,
          1.68,
          4.92,
          52.56,
          59.28,
          32.04,
          45.24,
          26.76,
          40.08,
          33.24,
          10.08,
          30.84,
          27,
          11.88,
          49.8,
          18.96,
          14.04,
          3.72,
          11.52,
          50.04,
          55.44,
          34.56,
          59.28,
          33.72,
          23.04,
          59.52,
          35.4,
          2.4,
          51.24,
          18.6,
          35.52,
          51.36,
          11.16,
          29.52,
          17.4,
          33,
          52.68,
          36.72,
          17.16,
          39.6,
          6.84,
          29.52,
          52.44,
          1.92,
          34.2,
          35.88,
          9.24,
          32.04,
          4.92,
          24.36,
          53.4,
          51.6,
          22.08,
          33,
          48.72,
          30.6,
          57.36,
          5.88,
          1.8,
          40.2,
          43.8,
          16.8,
          37.92,
          4.2,
          25.2,
          50.76,
          50.04,
          5.16,
          43.56,
          12.12,
          20.64,
          41.16,
          55.68,
          13.2,
          0.36,
          0.48,
          32.28,
          9.84,
          45.6,
          18.48,
          24.72,
          56.16,
          42,
          17.16,
          0.96,
          44.28,
          19.2,
          32.16,
          26.04,
          2.88,
          41.52,
          38.76,
          14.16,
          46.68,
          0,
          58.8,
          14.4,
          47.52,
          3.48,
          32.64,
          40.2,
          46.32,
          56.4,
          46.8,
          34.68,
          31.08,
          52.68,
          20.4,
          42.48,
          39.84,
          6.84,
          17.76,
          2.28,
          8.76,
          58.8,
          48.36,
          30.96,
          16.68,
          10.08,
          27.96,
          47.64,
          25.32,
          13.92,
          52.2,
          1.56,
          44.28,
          22.08,
          21.72,
          42.96,
          21.72,
          44.16,
          17.64,
          4.08,
          45.12,
          6.24,
          28.32,
          12.72,
          13.92,
          25.08,
          24.12,
          8.52,
          4.08,
          58.68,
          36.24,
          9.36,
          2.76,
          12,
          3.12,
          6.48,
          6.84,
          51.6,
          25.56,
          54.12,
          2.52,
          34.44,
          16.68,
          14.52,
          49.32,
          12.96,
          4.92,
          50.4,
          42.72,
          4.44,
          5.88,
          11.16,
          50.4,
          10.32
         ],
         "yaxis": "y2"
        },
        {
         "boxmean": true,
         "name": "newspaper",
         "showlegend": false,
         "type": "box",
         "xaxis": "x3",
         "y": [
          48.96,
          51.84,
          46.32,
          36,
          0.36,
          8.88,
          10.2,
          6,
          54.84,
          42.12,
          38.4,
          37.92,
          46.44,
          2.16,
          31.68,
          51.96,
          37.8,
          42.84,
          22.2,
          59.88,
          44.16,
          41.52,
          4.32,
          47.52,
          70.44,
          19.08,
          72,
          49.68,
          19.92,
          45.24,
          11.16,
          25.68,
          65.64,
          32.76,
          10.08,
          34.68,
          1.08,
          2.64,
          12.24,
          13.2,
          32.64,
          46.44,
          38.04,
          23.16,
          37.56,
          15.72,
          107.28,
          24.84,
          17.04,
          11.28,
          27.72,
          26.76,
          44.28,
          39,
          42.72,
          40.56,
          78.84,
          19.2,
          75.84,
          88.08,
          61.68,
          11.16,
          39.6,
          70.8,
          86.76,
          13.08,
          63.48,
          7.08,
          26.4,
          61.44,
          55.08,
          59.76,
          121.08,
          25.68,
          21.48,
          6.36,
          70.8,
          35.64,
          27.84,
          30.72,
          6.6,
          67.8,
          27.84,
          2.88,
          12.84,
          41.4,
          63.24,
          30.72,
          17.76,
          95.04,
          26.76,
          55.44,
          60.48,
          18.72,
          14.88,
          89.04,
          31.08,
          60.72,
          11.04,
          3.84,
          51.72,
          10.44,
          51.6,
          2.52,
          54.12,
          78.72,
          10.2,
          11.16,
          71.64,
          24.6,
          2.04,
          15.48,
          90.72,
          45.48,
          41.28,
          46.68,
          10.8,
          10.44,
          53.16,
          14.28,
          24.72,
          44.4,
          58.44,
          17.04,
          45.24,
          11.4,
          6.84,
          60.6,
          29.16,
          54.24,
          41.52,
          36.84,
          59.16,
          30.72,
          8.88,
          6.48,
          101.76,
          25.92,
          23.28,
          69.12,
          7.68,
          22.08,
          56.88,
          20.4,
          15.36,
          15.72,
          50.16,
          24.36,
          42.24,
          28.44,
          21.12,
          9.96,
          32.88,
          35.64,
          86.16,
          36,
          23.52,
          31.92,
          21.84,
          4.44,
          28.08,
          6.96,
          7.2,
          37.92,
          4.32,
          7.2,
          16.56,
          9.72,
          7.68,
          79.44,
          10.44
         ],
         "yaxis": "y3"
        },
        {
         "boxmean": true,
         "name": "sales",
         "showlegend": false,
         "type": "box",
         "xaxis": "x4",
         "y": [
          12.6,
          25.68,
          14.28,
          11.52,
          20.88,
          11.4,
          15.36,
          30.48,
          17.64,
          12.12,
          25.8,
          19.92,
          20.52,
          24.84,
          15.48,
          10.2,
          17.88,
          12.72,
          27.84,
          17.76,
          11.64,
          13.68,
          12.84,
          27.12,
          25.44,
          24.24,
          28.44,
          6.6,
          15.84,
          28.56,
          22.08,
          9.72,
          29.04,
          18.84,
          16.8,
          21.6,
          11.16,
          11.4,
          16.08,
          22.68,
          26.76,
          21.96,
          14.88,
          10.56,
          13.2,
          20.4,
          10.44,
          8.28,
          17.04,
          6.36,
          13.2,
          14.16,
          14.76,
          13.56,
          16.32,
          26.04,
          18.24,
          14.4,
          19.2,
          15.48,
          20.04,
          13.44,
          8.76,
          23.28,
          26.64,
          13.8,
          20.28,
          14.04,
          18.6,
          30.48,
          20.64,
          14.04,
          28.56,
          17.76,
          17.64,
          24.84,
          23.04,
          8.64,
          10.44,
          6.36,
          23.76,
          16.08,
          26.16,
          16.92,
          19.08,
          17.52,
          15.12,
          14.64,
          11.28,
          19.08,
          7.92,
          18.6,
          8.4,
          13.92,
          18.24,
          23.64,
          12.72,
          7.92,
          10.56,
          29.64,
          11.64,
          1.92,
          15.24,
          6.84,
          23.52,
          12.96,
          13.92,
          11.4,
          24.96,
          11.52,
          24.84,
          13.08,
          23.04,
          24.12,
          12.48,
          13.68,
          12.36,
          15.84,
          30.48,
          13.08,
          12.12,
          19.32,
          13.92,
          19.92,
          22.8,
          18.72,
          3.84,
          18.36,
          12.12,
          8.76,
          15.48,
          17.28,
          15.96,
          17.88,
          21.6,
          14.28,
          14.28,
          9.6,
          14.64,
          20.52,
          18,
          10.08,
          17.4,
          9.12,
          14.04,
          13.8,
          32.4,
          24.24,
          14.04,
          14.16,
          15.12,
          12.6,
          14.64,
          10.44,
          31.44,
          21.12,
          27.12,
          12.36,
          20.76,
          19.08,
          8.04,
          12.96,
          11.88,
          7.08,
          23.52,
          20.76,
          9.12,
          11.64,
          15.36,
          30.6,
          16.08
         ],
         "yaxis": "y4"
        }
       ],
       "layout": {
        "height": 800,
        "template": {
         "data": {
          "bar": [
           {
            "error_x": {
             "color": "#2a3f5f"
            },
            "error_y": {
             "color": "#2a3f5f"
            },
            "marker": {
             "line": {
              "color": "#E5ECF6",
              "width": 0.5
             },
             "pattern": {
              "fillmode": "overlay",
              "size": 10,
              "solidity": 0.2
             }
            },
            "type": "bar"
           }
          ],
          "barpolar": [
           {
            "marker": {
             "line": {
              "color": "#E5ECF6",
              "width": 0.5
             },
             "pattern": {
              "fillmode": "overlay",
              "size": 10,
              "solidity": 0.2
             }
            },
            "type": "barpolar"
           }
          ],
          "carpet": [
           {
            "aaxis": {
             "endlinecolor": "#2a3f5f",
             "gridcolor": "white",
             "linecolor": "white",
             "minorgridcolor": "white",
             "startlinecolor": "#2a3f5f"
            },
            "baxis": {
             "endlinecolor": "#2a3f5f",
             "gridcolor": "white",
             "linecolor": "white",
             "minorgridcolor": "white",
             "startlinecolor": "#2a3f5f"
            },
            "type": "carpet"
           }
          ],
          "choropleth": [
           {
            "colorbar": {
             "outlinewidth": 0,
             "ticks": ""
            },
            "type": "choropleth"
           }
          ],
          "contour": [
           {
            "colorbar": {
             "outlinewidth": 0,
             "ticks": ""
            },
            "colorscale": [
             [
              0,
              "#0d0887"
             ],
             [
              0.1111111111111111,
              "#46039f"
             ],
             [
              0.2222222222222222,
              "#7201a8"
             ],
             [
              0.3333333333333333,
              "#9c179e"
             ],
             [
              0.4444444444444444,
              "#bd3786"
             ],
             [
              0.5555555555555556,
              "#d8576b"
             ],
             [
              0.6666666666666666,
              "#ed7953"
             ],
             [
              0.7777777777777778,
              "#fb9f3a"
             ],
             [
              0.8888888888888888,
              "#fdca26"
             ],
             [
              1,
              "#f0f921"
             ]
            ],
            "type": "contour"
           }
          ],
          "contourcarpet": [
           {
            "colorbar": {
             "outlinewidth": 0,
             "ticks": ""
            },
            "type": "contourcarpet"
           }
          ],
          "heatmap": [
           {
            "colorbar": {
             "outlinewidth": 0,
             "ticks": ""
            },
            "colorscale": [
             [
              0,
              "#0d0887"
             ],
             [
              0.1111111111111111,
              "#46039f"
             ],
             [
              0.2222222222222222,
              "#7201a8"
             ],
             [
              0.3333333333333333,
              "#9c179e"
             ],
             [
              0.4444444444444444,
              "#bd3786"
             ],
             [
              0.5555555555555556,
              "#d8576b"
             ],
             [
              0.6666666666666666,
              "#ed7953"
             ],
             [
              0.7777777777777778,
              "#fb9f3a"
             ],
             [
              0.8888888888888888,
              "#fdca26"
             ],
             [
              1,
              "#f0f921"
             ]
            ],
            "type": "heatmap"
           }
          ],
          "heatmapgl": [
           {
            "colorbar": {
             "outlinewidth": 0,
             "ticks": ""
            },
            "colorscale": [
             [
              0,
              "#0d0887"
             ],
             [
              0.1111111111111111,
              "#46039f"
             ],
             [
              0.2222222222222222,
              "#7201a8"
             ],
             [
              0.3333333333333333,
              "#9c179e"
             ],
             [
              0.4444444444444444,
              "#bd3786"
             ],
             [
              0.5555555555555556,
              "#d8576b"
             ],
             [
              0.6666666666666666,
              "#ed7953"
             ],
             [
              0.7777777777777778,
              "#fb9f3a"
             ],
             [
              0.8888888888888888,
              "#fdca26"
             ],
             [
              1,
              "#f0f921"
             ]
            ],
            "type": "heatmapgl"
           }
          ],
          "histogram": [
           {
            "marker": {
             "pattern": {
              "fillmode": "overlay",
              "size": 10,
              "solidity": 0.2
             }
            },
            "type": "histogram"
           }
          ],
          "histogram2d": [
           {
            "colorbar": {
             "outlinewidth": 0,
             "ticks": ""
            },
            "colorscale": [
             [
              0,
              "#0d0887"
             ],
             [
              0.1111111111111111,
              "#46039f"
             ],
             [
              0.2222222222222222,
              "#7201a8"
             ],
             [
              0.3333333333333333,
              "#9c179e"
             ],
             [
              0.4444444444444444,
              "#bd3786"
             ],
             [
              0.5555555555555556,
              "#d8576b"
             ],
             [
              0.6666666666666666,
              "#ed7953"
             ],
             [
              0.7777777777777778,
              "#fb9f3a"
             ],
             [
              0.8888888888888888,
              "#fdca26"
             ],
             [
              1,
              "#f0f921"
             ]
            ],
            "type": "histogram2d"
           }
          ],
          "histogram2dcontour": [
           {
            "colorbar": {
             "outlinewidth": 0,
             "ticks": ""
            },
            "colorscale": [
             [
              0,
              "#0d0887"
             ],
             [
              0.1111111111111111,
              "#46039f"
             ],
             [
              0.2222222222222222,
              "#7201a8"
             ],
             [
              0.3333333333333333,
              "#9c179e"
             ],
             [
              0.4444444444444444,
              "#bd3786"
             ],
             [
              0.5555555555555556,
              "#d8576b"
             ],
             [
              0.6666666666666666,
              "#ed7953"
             ],
             [
              0.7777777777777778,
              "#fb9f3a"
             ],
             [
              0.8888888888888888,
              "#fdca26"
             ],
             [
              1,
              "#f0f921"
             ]
            ],
            "type": "histogram2dcontour"
           }
          ],
          "mesh3d": [
           {
            "colorbar": {
             "outlinewidth": 0,
             "ticks": ""
            },
            "type": "mesh3d"
           }
          ],
          "parcoords": [
           {
            "line": {
             "colorbar": {
              "outlinewidth": 0,
              "ticks": ""
             }
            },
            "type": "parcoords"
           }
          ],
          "pie": [
           {
            "automargin": true,
            "type": "pie"
           }
          ],
          "scatter": [
           {
            "fillpattern": {
             "fillmode": "overlay",
             "size": 10,
             "solidity": 0.2
            },
            "type": "scatter"
           }
          ],
          "scatter3d": [
           {
            "line": {
             "colorbar": {
              "outlinewidth": 0,
              "ticks": ""
             }
            },
            "marker": {
             "colorbar": {
              "outlinewidth": 0,
              "ticks": ""
             }
            },
            "type": "scatter3d"
           }
          ],
          "scattercarpet": [
           {
            "marker": {
             "colorbar": {
              "outlinewidth": 0,
              "ticks": ""
             }
            },
            "type": "scattercarpet"
           }
          ],
          "scattergeo": [
           {
            "marker": {
             "colorbar": {
              "outlinewidth": 0,
              "ticks": ""
             }
            },
            "type": "scattergeo"
           }
          ],
          "scattergl": [
           {
            "marker": {
             "colorbar": {
              "outlinewidth": 0,
              "ticks": ""
             }
            },
            "type": "scattergl"
           }
          ],
          "scattermapbox": [
           {
            "marker": {
             "colorbar": {
              "outlinewidth": 0,
              "ticks": ""
             }
            },
            "type": "scattermapbox"
           }
          ],
          "scatterpolar": [
           {
            "marker": {
             "colorbar": {
              "outlinewidth": 0,
              "ticks": ""
             }
            },
            "type": "scatterpolar"
           }
          ],
          "scatterpolargl": [
           {
            "marker": {
             "colorbar": {
              "outlinewidth": 0,
              "ticks": ""
             }
            },
            "type": "scatterpolargl"
           }
          ],
          "scatterternary": [
           {
            "marker": {
             "colorbar": {
              "outlinewidth": 0,
              "ticks": ""
             }
            },
            "type": "scatterternary"
           }
          ],
          "surface": [
           {
            "colorbar": {
             "outlinewidth": 0,
             "ticks": ""
            },
            "colorscale": [
             [
              0,
              "#0d0887"
             ],
             [
              0.1111111111111111,
              "#46039f"
             ],
             [
              0.2222222222222222,
              "#7201a8"
             ],
             [
              0.3333333333333333,
              "#9c179e"
             ],
             [
              0.4444444444444444,
              "#bd3786"
             ],
             [
              0.5555555555555556,
              "#d8576b"
             ],
             [
              0.6666666666666666,
              "#ed7953"
             ],
             [
              0.7777777777777778,
              "#fb9f3a"
             ],
             [
              0.8888888888888888,
              "#fdca26"
             ],
             [
              1,
              "#f0f921"
             ]
            ],
            "type": "surface"
           }
          ],
          "table": [
           {
            "cells": {
             "fill": {
              "color": "#EBF0F8"
             },
             "line": {
              "color": "white"
             }
            },
            "header": {
             "fill": {
              "color": "#C8D4E3"
             },
             "line": {
              "color": "white"
             }
            },
            "type": "table"
           }
          ]
         },
         "layout": {
          "annotationdefaults": {
           "arrowcolor": "#2a3f5f",
           "arrowhead": 0,
           "arrowwidth": 1
          },
          "autotypenumbers": "strict",
          "coloraxis": {
           "colorbar": {
            "outlinewidth": 0,
            "ticks": ""
           }
          },
          "colorscale": {
           "diverging": [
            [
             0,
             "#8e0152"
            ],
            [
             0.1,
             "#c51b7d"
            ],
            [
             0.2,
             "#de77ae"
            ],
            [
             0.3,
             "#f1b6da"
            ],
            [
             0.4,
             "#fde0ef"
            ],
            [
             0.5,
             "#f7f7f7"
            ],
            [
             0.6,
             "#e6f5d0"
            ],
            [
             0.7,
             "#b8e186"
            ],
            [
             0.8,
             "#7fbc41"
            ],
            [
             0.9,
             "#4d9221"
            ],
            [
             1,
             "#276419"
            ]
           ],
           "sequential": [
            [
             0,
             "#0d0887"
            ],
            [
             0.1111111111111111,
             "#46039f"
            ],
            [
             0.2222222222222222,
             "#7201a8"
            ],
            [
             0.3333333333333333,
             "#9c179e"
            ],
            [
             0.4444444444444444,
             "#bd3786"
            ],
            [
             0.5555555555555556,
             "#d8576b"
            ],
            [
             0.6666666666666666,
             "#ed7953"
            ],
            [
             0.7777777777777778,
             "#fb9f3a"
            ],
            [
             0.8888888888888888,
             "#fdca26"
            ],
            [
             1,
             "#f0f921"
            ]
           ],
           "sequentialminus": [
            [
             0,
             "#0d0887"
            ],
            [
             0.1111111111111111,
             "#46039f"
            ],
            [
             0.2222222222222222,
             "#7201a8"
            ],
            [
             0.3333333333333333,
             "#9c179e"
            ],
            [
             0.4444444444444444,
             "#bd3786"
            ],
            [
             0.5555555555555556,
             "#d8576b"
            ],
            [
             0.6666666666666666,
             "#ed7953"
            ],
            [
             0.7777777777777778,
             "#fb9f3a"
            ],
            [
             0.8888888888888888,
             "#fdca26"
            ],
            [
             1,
             "#f0f921"
            ]
           ]
          },
          "colorway": [
           "#636efa",
           "#EF553B",
           "#00cc96",
           "#ab63fa",
           "#FFA15A",
           "#19d3f3",
           "#FF6692",
           "#B6E880",
           "#FF97FF",
           "#FECB52"
          ],
          "font": {
           "color": "#2a3f5f"
          },
          "geo": {
           "bgcolor": "white",
           "lakecolor": "white",
           "landcolor": "#E5ECF6",
           "showlakes": true,
           "showland": true,
           "subunitcolor": "white"
          },
          "hoverlabel": {
           "align": "left"
          },
          "hovermode": "closest",
          "mapbox": {
           "style": "light"
          },
          "paper_bgcolor": "white",
          "plot_bgcolor": "#E5ECF6",
          "polar": {
           "angularaxis": {
            "gridcolor": "white",
            "linecolor": "white",
            "ticks": ""
           },
           "bgcolor": "#E5ECF6",
           "radialaxis": {
            "gridcolor": "white",
            "linecolor": "white",
            "ticks": ""
           }
          },
          "scene": {
           "xaxis": {
            "backgroundcolor": "#E5ECF6",
            "gridcolor": "white",
            "gridwidth": 2,
            "linecolor": "white",
            "showbackground": true,
            "ticks": "",
            "zerolinecolor": "white"
           },
           "yaxis": {
            "backgroundcolor": "#E5ECF6",
            "gridcolor": "white",
            "gridwidth": 2,
            "linecolor": "white",
            "showbackground": true,
            "ticks": "",
            "zerolinecolor": "white"
           },
           "zaxis": {
            "backgroundcolor": "#E5ECF6",
            "gridcolor": "white",
            "gridwidth": 2,
            "linecolor": "white",
            "showbackground": true,
            "ticks": "",
            "zerolinecolor": "white"
           }
          },
          "shapedefaults": {
           "line": {
            "color": "#2a3f5f"
           }
          },
          "ternary": {
           "aaxis": {
            "gridcolor": "white",
            "linecolor": "white",
            "ticks": ""
           },
           "baxis": {
            "gridcolor": "white",
            "linecolor": "white",
            "ticks": ""
           },
           "bgcolor": "#E5ECF6",
           "caxis": {
            "gridcolor": "white",
            "linecolor": "white",
            "ticks": ""
           }
          },
          "title": {
           "x": 0.05
          },
          "xaxis": {
           "automargin": true,
           "gridcolor": "white",
           "linecolor": "white",
           "ticks": "",
           "title": {
            "standoff": 15
           },
           "zerolinecolor": "white",
           "zerolinewidth": 2
          },
          "yaxis": {
           "automargin": true,
           "gridcolor": "white",
           "linecolor": "white",
           "ticks": "",
           "title": {
            "standoff": 15
           },
           "zerolinecolor": "white",
           "zerolinewidth": 2
          }
         }
        },
        "title": {
         "text": "Boxplot de cada coluna numérica"
        },
        "xaxis": {
         "anchor": "y",
         "domain": [
          0,
          0.45
         ]
        },
        "xaxis2": {
         "anchor": "y2",
         "domain": [
          0.55,
          1
         ]
        },
        "xaxis3": {
         "anchor": "y3",
         "domain": [
          0,
          0.45
         ]
        },
        "xaxis4": {
         "anchor": "y4",
         "domain": [
          0.55,
          1
         ]
        },
        "yaxis": {
         "anchor": "x",
         "domain": [
          0.575,
          1
         ]
        },
        "yaxis2": {
         "anchor": "x2",
         "domain": [
          0.575,
          1
         ]
        },
        "yaxis3": {
         "anchor": "x3",
         "domain": [
          0,
          0.425
         ]
        },
        "yaxis4": {
         "anchor": "x4",
         "domain": [
          0,
          0.425
         ]
        }
       }
      }
     },
     "metadata": {},
     "output_type": "display_data"
    }
   ],
   "source": [
    "# Usando a função com nosso DataFrame df\n",
    "plot_boxplots(df[['youtube', 'facebook', 'newspaper', 'sales']])\n"
   ]
  },
  {
   "attachments": {},
   "cell_type": "markdown",
   "metadata": {},
   "source": [
    "Ao analisar os boxplots das nossas variáveis 'youtube', 'facebook', 'newspaper' e 'sales', notamos que apenas a variável 'newspaper' apresenta outliers. No entanto, essa quantidade de outliers parece ser pequena e, portanto, é improvável que cause um impacto significativo em nossa análise posterior ou distorça nossos resultados."
   ]
  },
  {
   "attachments": {},
   "cell_type": "markdown",
   "metadata": {},
   "source": [
    "### Conclusão Etapa 2 - Análise Exploratória"
   ]
  },
  {
   "attachments": {},
   "cell_type": "markdown",
   "metadata": {},
   "source": [
    "1. **Correlação:** A análise de correlação indicou que o investimento em YouTube e Facebook tem uma forte relação positiva com as vendas, com o YouTube mostrando a relação mais forte. Isso sugere que aumentar o investimento nessas plataformas poderia resultar em um aumento nas vendas. Por outro lado, o investimento em Newspaper mostrou uma relação mais fraca com as vendas, indicando que essa plataforma pode não ser tão eficaz para impulsionar as vendas.\n",
    "\n",
    "2. **Sales vc Investimento:** Ao analisar a relação de investimento vs vendas através dos gráficos de dispersão, notamos que o investimento no YouTube requer mais recursos para alcançar o mesmo nível de vendas comparado ao Facebook e Newspaper. Isso indica que o Facebook e Newspaper podem oferecer um retorno maior por unidade de investimento.\n",
    "\n",
    "3. **Eficiência - ROI Individual:** O cálculo do ROI por plataforma revelou uma situação preocupante para o YouTube, com um ROI médio de -0.84. Isso sugere que o investimento no YouTube está atualmente gerando uma perda em vez de lucro. Em contrapartida, o Facebook e o Newspaper mostraram um ROI positivo, indicando que esses investimentos estão gerando lucro.\n",
    "\n",
    "4. **Eficiência - ROI Consolidado:** Entretanto, ao considerar o ROI consolidado de todos os investimentos, vemos que a situação geral é de perda, com um ROI de -0.92. Isso indica que o investimento total em marketing está gerando uma perda, o que pode requerer uma reavaliação da estratégia de marketing.\n",
    "\n",
    "5. **Outliers:** Por último, a análise de outliers revelou a existência de alguns outliers apenas na variável Newspaper. Embora a presença de outliers possa impactar algumas análises estatísticas, a quantidade observada é pequena e, portamente, é pouco provável que altere significativamente nossas conclusões."
   ]
  },
  {
   "attachments": {},
   "cell_type": "markdown",
   "metadata": {},
   "source": [
    "## Etapa 03) Modelagem\n",
    "Para esta etapa, deve-se **construir um modelo** simples de **regressão** que permita a previsão solicitada pela empresa, com base nos dados disponíveis. Para isto, importe as bibliotecas necessárias e carregue os conjuntos de dados para iniciar a sua construção!"
   ]
  },
  {
   "attachments": {},
   "cell_type": "markdown",
   "metadata": {},
   "source": [
    "### Definição de Regressão Linear"
   ]
  },
  {
   "attachments": {},
   "cell_type": "markdown",
   "metadata": {},
   "source": [
    "#### Regressão Linear Simples"
   ]
  },
  {
   "attachments": {},
   "cell_type": "markdown",
   "metadata": {},
   "source": [
    "A regressão linear é uma técnica estatística que tenta modelar a relação entre uma variável dependente (também conhecida como variável de resposta) e uma ou mais variáveis independentes (também conhecidas como variáveis preditoras) por meio de uma equação linear. Na regressão linear simples (com uma variável independente), essa relação é modelada como uma linha reta (daí o termo \"linear\"). Em regressão linear múltipla (com mais de uma variável independente), essa relação é modelada como um hiperplano.\n",
    "\n",
    "Vamos pensar na regressão linear simples por um momento. A equação básica que estamos tentando resolver é:\n",
    "\n",
    "<font color='orange'>**<center>y = mx + b</center>**</font>\n",
    "\n",
    "Onde:\n",
    "- <font color='orange'>***y***</font> é a variável dependente; \n",
    "- <font color='orange'>***x***</font> é a variável independente; \n",
    "- <font color='orange'>***m***</font> é a inclinação da linha de regressão (representa o efeito de <font color='orange'>***x***</font> sobre <font color='orange'>***y***</font>);\n",
    "- <font color='orange'>***b***</font> é a interceptação (representa o valor de <font color='orange'>***y***</font> quando <font color='orange'>***x***</font> é 0).\n",
    "\n",
    "A regressão linear, em sua essência, é um método para encontrar os melhores valores para m e b. E quando dizemos \"melhor\", estamos falando em termos de minimizar a distância entre a linha de regressão (os valores previstos de y para qualquer valor de x) e os pontos de dados reais.\n",
    "\n",
    "Abaixo eu criei um GIF que demonstra o comportamento da reta quando alteramos os valores de <font color='orange'>***m***</font> e <font color='orange'>***b***</font> de um Regressão Linear Simples (com <font color='RED'>**UMA**</font> variável independente)."
   ]
  },
  {
   "cell_type": "code",
   "execution_count": 18,
   "metadata": {},
   "outputs": [
    {
     "data": {
      "text/html": [
       "<img src=\"GIF Linear Regression.gif\"/>"
      ],
      "text/plain": [
       "<IPython.core.display.Image object>"
      ]
     },
     "execution_count": 18,
     "metadata": {},
     "output_type": "execute_result"
    }
   ],
   "source": [
    "Image(url='GIF Linear Regression.gif')"
   ]
  },
  {
   "attachments": {},
   "cell_type": "markdown",
   "metadata": {},
   "source": [
    "#### Regressão Linear Múltipla"
   ]
  },
  {
   "attachments": {},
   "cell_type": "markdown",
   "metadata": {},
   "source": [
    "Passando para a regressão linear múltipla, a ideia básica é a mesma, mas a matemática se torna um pouco mais complicada. Agora, em vez de termos apenas um m e um b, temos um coeficiente para cada variável independente e uma interceptação. Então, nossa equação se parece com:\n",
    "\n",
    "<font color='orange'>**<center>y = β₀ + β₁x₁ + β₂x₂ + ... + βₙxₙ + ε</center>**</font>\n",
    "\n",
    "Onde:\n",
    "- <font color='orange'>***y***</font> é a variável dependente, ou seja, a variável que estamos tentando prever ou estimar; \n",
    "- <font color='orange'>***β₀***</font> é o termo de interceptação. Ele representa o valor esperado de Y quando todas as variáveis independentes (Xs) são iguais a zero; \n",
    "- <font color='orange'>***β₁, β₂, ..., βₙ***</font> são os coeficientes de regressão. Eles representam a mudança esperada na variável dependente (Y) para cada mudança de uma unidade na respectiva variável independente, mantendo todas as outras variáveis independentes constantes;\n",
    "- <font color='orange'>***x₁, x₂, ..., xₙ***</font> são as variáveis independentes, ou seja, as variáveis que usamos para prever ou estimar Y.\n",
    "- <font color='orange'>***ε***</font> é o termo de erro, também conhecido como resíduos. Ele representa a diferença entre o valor real e o valor previsto de Y.\n",
    "\n",
    "Quando estamos trabalhando com regressão linear múltipla, estamos tentando ajustar um modelo a um conjunto de dados que tem múltiplas variáveis independentes, que resultam em uma dimensão adicional para cada variável adicional.\n",
    "\n",
    "Uma maneira de visualizar isso é imaginar que estamos tentando ajustar um plano em um espaço tridimensional em vez de uma linha em um espaço bidimensional. Se você tiver duas variáveis independentes, poderá visualizá-las ao longo de dois eixos (digamos x e y), e a variável dependente ao longo de um terceiro eixo (digamos z). Nesse caso, o \"ajuste\" mais próximo dos pontos de dados seria um plano que minimiza a distância entre os pontos de dados e o próprio plano.\n",
    "\n",
    "**_Agora, se houvesse mais de duas variáveis independentes, o mesmo conceito se aplica, mas seria mais difícil visualizar porque estaríamos trabalhando em mais de três dimensões. No entanto, a matemática subjacente é a mesma: estamos tentando encontrar o \"plano\" (ou, mais tecnicamente, o hiperplano) que minimiza a distância entre os pontos de dados e o próprio hiperplano._**\n",
    "\n",
    "Abaixo eu criei um gráfico 3D para demonstrar o comportamento de uma Regressão Linear Múltipla (com <font color='RED'>**DUAS**</font> variável independente)."
   ]
  },
  {
   "cell_type": "code",
   "execution_count": 19,
   "metadata": {},
   "outputs": [
    {
     "data": {
      "application/vnd.plotly.v1+json": {
       "config": {
        "plotlyServerURL": "https://plot.ly"
       },
       "data": [
        {
         "mode": "markers",
         "name": "Dados",
         "type": "scatter3d",
         "x": [
          0.5488135039273248,
          0.7151893663724195,
          0.6027633760716439,
          0.5448831829968969,
          0.4236547993389047,
          0.6458941130666561,
          0.4375872112626925,
          0.8917730007820798,
          0.9636627605010293,
          0.3834415188257777,
          0.7917250380826646,
          0.5288949197529045,
          0.5680445610939323,
          0.925596638292661,
          0.07103605819788694,
          0.08712929970154071,
          0.02021839744032572,
          0.832619845547938,
          0.7781567509498505,
          0.8700121482468192,
          0.978618342232764,
          0.7991585642167236,
          0.46147936225293185,
          0.7805291762864555,
          0.11827442586893322,
          0.6399210213275238,
          0.1433532874090464,
          0.9446689170495839,
          0.5218483217500717,
          0.4146619399905236,
          0.26455561210462697,
          0.7742336894342167,
          0.45615033221654855,
          0.5684339488686485,
          0.018789800436355142,
          0.6176354970758771,
          0.6120957227224214,
          0.6169339968747569,
          0.9437480785146242,
          0.6818202991034834,
          0.359507900573786,
          0.43703195379934145,
          0.6976311959272649,
          0.06022547162926983,
          0.6667667154456677,
          0.6706378696181594,
          0.2103825610738409,
          0.1289262976548533,
          0.31542835092418386,
          0.3637107709426226,
          0.5701967704178796,
          0.43860151346232035,
          0.9883738380592262,
          0.10204481074802807,
          0.2088767560948347,
          0.16130951788499626,
          0.6531083254653984,
          0.2532916025397821,
          0.4663107728563063,
          0.24442559200160274,
          0.15896958364551972,
          0.11037514116430513,
          0.6563295894652734,
          0.1381829513486138,
          0.1965823616800535,
          0.3687251706609641,
          0.8209932298479351,
          0.09710127579306127,
          0.8379449074988039,
          0.09609840789396307,
          0.9764594650133958,
          0.4686512016477016,
          0.9767610881903371,
          0.604845519745046,
          0.7392635793983017,
          0.039187792254320675,
          0.2828069625764096,
          0.1201965612131689,
          0.29614019752214493,
          0.11872771895424405,
          0.317983179393976,
          0.41426299451466997,
          0.06414749634878436,
          0.6924721193700198,
          0.5666014542065752,
          0.2653894909394454,
          0.5232480534666997,
          0.09394051075844168,
          0.5759464955561793,
          0.9292961975762141,
          0.31856895245132366,
          0.6674103799636817,
          0.13179786240439217,
          0.7163272041185655,
          0.2894060929472011,
          0.18319136200711683,
          0.5865129348100832,
          0.020107546187493552,
          0.8289400292173631,
          0.004695476192547066
         ],
         "y": [
          0.6778165367962301,
          0.27000797319216485,
          0.7351940221225949,
          0.9621885451174382,
          0.24875314351995803,
          0.5761573344178369,
          0.592041931271839,
          0.5722519057908734,
          0.2230816326406183,
          0.952749011516985,
          0.44712537861762736,
          0.8464086724711278,
          0.6994792753175043,
          0.29743695085513366,
          0.8137978197024772,
          0.39650574084698464,
          0.8811031971111616,
          0.5812728726358587,
          0.8817353618548528,
          0.6925315900777659,
          0.7252542798196405,
          0.5013243819267023,
          0.9560836347232239,
          0.6439901992296374,
          0.4238550485581797,
          0.6063932141279244,
          0.019193198309333526,
          0.30157481667454933,
          0.660173537492685,
          0.29007760721044407,
          0.6180154289988415,
          0.42876870094576613,
          0.13547406422245023,
          0.29828232595603077,
          0.5699649107012649,
          0.5908727612481732,
          0.5743252488495788,
          0.6532008198571336,
          0.6521032700016889,
          0.43141843543397396,
          0.896546595851063,
          0.36756187004789653,
          0.4358649252656268,
          0.8919233550156721,
          0.8061939890460857,
          0.7038885835403663,
          0.10022688731230112,
          0.9194826137446735,
          0.7142412995491114,
          0.9988470065678665,
          0.14944830465799375,
          0.8681260573682142,
          0.16249293467637482,
          0.6155595642838442,
          0.12381998284944151,
          0.8480082293222344,
          0.8073189587250107,
          0.5691007386145933,
          0.40718329722599966,
          0.06916699545513805,
          0.6974287731445636,
          0.45354268267806885,
          0.7220555994703479,
          0.8663823259286292,
          0.9755215050028858,
          0.855803342392611,
          0.011714084185001972,
          0.3599780644783639,
          0.729990562424058,
          0.17162967726144052,
          0.5210366062041293,
          0.05433798833925363,
          0.19999652489640007,
          0.01852179446061397,
          0.7936977033574206,
          0.22392468806038013,
          0.3453516806969027,
          0.9280812934655909,
          0.7044144019235328,
          0.03183892953130785,
          0.16469415649791275,
          0.6214784014997635,
          0.5772285886041676,
          0.23789282137450862,
          0.9342139979247938,
          0.613965955965896,
          0.5356328030249583,
          0.589909976354571,
          0.7301220295167696,
          0.31194499547960186,
          0.3982210622160919,
          0.20984374897512215,
          0.18619300588033616,
          0.9443723899839336,
          0.7395507950492876,
          0.4904588086175671,
          0.22741462797332324,
          0.25435648177039294,
          0.05802916032387562,
          0.4344166255581208
         ],
         "z": [
          3.313869467368537,
          3.381927534317047,
          3.656430011752602,
          3.7386303167852017,
          1.7931494134479613,
          3.1572466394988905,
          3.176238269830323,
          4.273519658484031,
          3.873730757893046,
          3.952493872551645,
          4.259764818879953,
          3.496399088599443,
          3.7661704370169065,
          3.6349861933254006,
          1.8613548134643438,
          1.8127780346347329,
          2.142878737365768,
          4.043869176087429,
          4.6862580901128625,
          4.826148080132179,
          5.015345429928722,
          4.2727751119509705,
          3.570147391020879,
          4.4276147612312045,
          1.3881693190291111,
          4.085341149210365,
          1.1559345352336217,
          3.652664061611409,
          3.833262630724509,
          2.554996841162617,
          2.2836393369065897,
          3.3935504475616645,
          2.1575998390252096,
          2.3275292165725383,
          1.4037692981527046,
          3.459337482475484,
          3.3591076462006475,
          3.6207790547033483,
          4.413079481841982,
          3.495082114636567,
          3.7354724993467157,
          2.1637514574558505,
          3.482002545467162,
          2.096591231264307,
          4.329547805621768,
          3.8157504787425047,
          1.397022769704634,
          2.4090239566679856,
          2.5196154112141516,
          3.5768826066125556,
          2.3650996584195823,
          3.992488600376203,
          4.055432637337393,
          2.2859171806623197,
          1.7779899737293205,
          2.263367447741476,
          4.126155363768623,
          2.4825523538043015,
          3.175235291568147,
          1.1637582937076332,
          2.1125950771411333,
          1.338504731114551,
          3.42952959692799,
          3.0768428226952906,
          3.2107066416368424,
          3.602935108791252,
          2.7681379636677583,
          1.5976701225222385,
          4.037771113465509,
          1.1171821741393932,
          4.948946747192892,
          2.391134826938203,
          3.6684352662006576,
          2.8131503026978644,
          4.036887771380951,
          1.5147315752994037,
          2.480501953829533,
          3.0159548579230804,
          2.927697333280291,
          1.2941489825502948,
          1.5763581356855503,
          3.3346893418564547,
          1.9647763581722122,
          2.566438858617976,
          3.9154658764015324,
          2.1722412456982934,
          3.622839156268269,
          1.940011792024455,
          3.68547491120074,
          4.05125110008657,
          2.120733587915772,
          2.558818909526888,
          1.5898973321680945,
          4.227574304226322,
          2.858638851486634,
          1.7548087322312238,
          2.31221254487093,
          1.4312271195249497,
          3.575797897322971,
          1.843754337756883
         ]
        },
        {
         "name": "Superfície de Regressão",
         "opacity": 0.7,
         "type": "surface",
         "x": [
          0.004695476192547066,
          0.01463162126190746,
          0.024567766331267855,
          0.03450391140062825,
          0.044440056469988644,
          0.05437620153934904,
          0.06431234660870944,
          0.07424849167806982,
          0.08418463674743022,
          0.09412078181679062,
          0.10405692688615101,
          0.11399307195551141,
          0.12392921702487181,
          0.1338653620942322,
          0.14380150716359258,
          0.153737652232953,
          0.16367379730231338,
          0.17360994237167376,
          0.18354608744103418,
          0.19348223251039456,
          0.20341837757975495,
          0.21335452264911536,
          0.22329066771847575,
          0.23322681278783614,
          0.24316295785719655,
          0.2530991029265569,
          0.2630352479959173,
          0.27297139306527773,
          0.2829075381346381,
          0.2928436832039985,
          0.3027798282733589,
          0.3127159733427193,
          0.3226521184120797,
          0.3325882634814401,
          0.34252440855080046,
          0.3524605536201609,
          0.3623966986895213,
          0.37233284375888165,
          0.38226898882824206,
          0.3922051338976025,
          0.40214127896696283,
          0.41207742403632325,
          0.42201356910568366,
          0.431949714175044,
          0.44188585924440443,
          0.45182200431376485,
          0.4617581493831252,
          0.4716942944524856,
          0.48163043952184603,
          0.4915665845912064,
          0.5015027296605667,
          0.5114388747299272,
          0.5213750197992876,
          0.5313111648686479,
          0.5412473099380084,
          0.5511834550073688,
          0.5611196000767291,
          0.5710557451460896,
          0.58099189021545,
          0.5909280352848103,
          0.6008641803541708,
          0.6108003254235311,
          0.6207364704928915,
          0.630672615562252,
          0.6406087606316123,
          0.6505449057009727,
          0.6604810507703331,
          0.6704171958396935,
          0.6803533409090539,
          0.6902894859784143,
          0.7002256310477747,
          0.710161776117135,
          0.7200979211864955,
          0.7300340662558559,
          0.7399702113252162,
          0.7499063563945767,
          0.7598425014639371,
          0.7697786465332974,
          0.7797147916026579,
          0.7896509366720182,
          0.7995870817413786,
          0.8095232268107391,
          0.8194593718800994,
          0.8293955169494598,
          0.8393316620188203,
          0.8492678070881806,
          0.859203952157541,
          0.8691400972269014,
          0.8790762422962618,
          0.8890123873656222,
          0.8989485324349826,
          0.908884677504343,
          0.9188208225737033,
          0.9287569676430638,
          0.9386931127124242,
          0.9486292577817845,
          0.958565402851145,
          0.9685015479205054,
          0.9784376929898657,
          0.9883738380592262
         ],
         "y": [
          0.011714084185001972,
          0.021685123805030907,
          0.03165616342505984,
          0.04162720304508878,
          0.05159824266511771,
          0.061569282285146645,
          0.07154032190517559,
          0.08151136152520452,
          0.09148240114523346,
          0.10145344076526239,
          0.11142448038529132,
          0.12139552000532026,
          0.1313665596253492,
          0.14133759924537814,
          0.15130863886540707,
          0.161279678485436,
          0.17125071810546494,
          0.18122175772549387,
          0.1911927973455228,
          0.20116383696555173,
          0.21113487658558067,
          0.22110591620560963,
          0.23107695582563856,
          0.2410479954456675,
          0.25101903506569645,
          0.2609900746857253,
          0.2709611143057543,
          0.28093215392578325,
          0.2909031935458122,
          0.3008742331658411,
          0.31084527278587004,
          0.320816312405899,
          0.3307873520259279,
          0.34075839164595684,
          0.35072943126598577,
          0.3607004708860147,
          0.37067151050604363,
          0.38064255012607257,
          0.3906135897461015,
          0.40058462936613043,
          0.41055566898615936,
          0.42052670860618835,
          0.4304977482262173,
          0.4404687878462462,
          0.45043982746627514,
          0.4604108670863041,
          0.470381906706333,
          0.48035294632636194,
          0.4903239859463909,
          0.5002950255664198,
          0.5102660651864488,
          0.5202371048064777,
          0.5302081444265067,
          0.5401791840465355,
          0.5501502236665645,
          0.5601212632865934,
          0.5700923029066224,
          0.5800633425266513,
          0.5900343821466802,
          0.6000054217667091,
          0.6099764613867381,
          0.619947501006767,
          0.629918540626796,
          0.6398895802468249,
          0.6498606198668538,
          0.6598316594868828,
          0.6698026991069117,
          0.6797737387269407,
          0.6897447783469696,
          0.6997158179669986,
          0.7096868575870274,
          0.7196578972070564,
          0.7296289368270853,
          0.7395999764471143,
          0.7495710160671432,
          0.7595420556871721,
          0.769513095307201,
          0.77948413492723,
          0.7894551745472589,
          0.7994262141672879,
          0.8093972537873168,
          0.8193682934073457,
          0.8293393330273747,
          0.8393103726474036,
          0.8492814122674326,
          0.8592524518874615,
          0.8692234915074905,
          0.8791945311275193,
          0.8891655707475483,
          0.8991366103675772,
          0.9091076499876062,
          0.9190786896076351,
          0.929049729227664,
          0.9390207688476929,
          0.9489918084677219,
          0.9589628480877508,
          0.9689338877077798,
          0.9789049273278088,
          0.9888759669478376,
          0.9988470065678665
         ],
         "z": [
          [
           0.6406498514931075,
           0.6699913571178082,
           0.6993328627425088,
           0.7286743683672096,
           0.7580158739919103,
           0.787357379616611,
           0.8166988852413117,
           0.8460403908660123,
           0.8753818964907132,
           0.9047234021154138,
           0.9340649077401144,
           0.9634064133648153,
           0.9927479189895159,
           1.0220894246142165,
           1.0514309302389173,
           1.0807724358636182,
           1.1101139414883188,
           1.1394554471130194,
           1.1687969527377202,
           1.1981384583624208,
           1.2274799639871214,
           1.2568214696118223,
           1.2861629752365231,
           1.3155044808612235,
           1.3448459864859243,
           1.374187492110625,
           1.4035289977353258,
           1.4328705033600264,
           1.4622120089847273,
           1.4915535146094279,
           1.5208950202341285,
           1.5502365258588293,
           1.57957803148353,
           1.6089195371082308,
           1.6382610427329314,
           1.667602548357632,
           1.6969440539823328,
           1.7262855596070334,
           1.7556270652317343,
           1.784968570856435,
           1.8143100764811355,
           1.8436515821058364,
           1.872993087730537,
           1.9023345933552376,
           1.9316760989799384,
           1.9610176046046393,
           1.9903591102293396,
           2.0197006158540405,
           2.0490421214787413,
           2.0783836271034417,
           2.1077251327281425,
           2.1370666383528434,
           2.166408143977544,
           2.1957496496022446,
           2.2250911552269454,
           2.254432660851646,
           2.2837741664763467,
           2.3131156721010475,
           2.3424571777257484,
           2.3717986833504487,
           2.40114018897515,
           2.43048169459985,
           2.459823200224551,
           2.4891647058492516,
           2.5185062114739525,
           2.5478477170986533,
           2.577189222723354,
           2.6065307283480545,
           2.635872233972755,
           2.6652137395974558,
           2.694555245222156,
           2.723896750846857,
           2.753238256471558,
           2.7825797620962587,
           2.811921267720959,
           2.84126277334566,
           2.8706042789703607,
           2.899945784595061,
           2.929287290219762,
           2.958628795844463,
           2.987970301469163,
           3.017311807093864,
           3.046653312718565,
           3.0759948183432653,
           3.1053363239679665,
           3.134677829592667,
           3.1640193352173673,
           3.1933608408420686,
           3.222702346466769,
           3.25204385209147,
           3.2813853577161707,
           3.310726863340871,
           3.340068368965572,
           3.3694098745902727,
           3.398751380214973,
           3.428092885839674,
           3.457434391464375,
           3.486775897089075,
           3.516117402713776,
           3.545458908338477
          ],
          [
           0.6592111544092492,
           0.6885526600339499,
           0.7178941656586506,
           0.7472356712833512,
           0.776577176908052,
           0.8059186825327527,
           0.8352601881574534,
           0.8646016937821541,
           0.8939431994068547,
           0.9232847050315555,
           0.9526262106562562,
           0.9819677162809568,
           1.0113092219056576,
           1.0406507275303583,
           1.0699922331550589,
           1.0993337387797597,
           1.1286752444044605,
           1.158016750029161,
           1.1873582556538618,
           1.2166997612785626,
           1.2460412669032632,
           1.2753827725279638,
           1.3047242781526647,
           1.3340657837773653,
           1.3634072894020661,
           1.3927487950267667,
           1.4220903006514676,
           1.4514318062761682,
           1.4807733119008688,
           1.5101148175255696,
           1.5394563231502703,
           1.5687978287749709,
           1.5981393343996717,
           1.6274808400243723,
           1.656822345649073,
           1.6861638512737736,
           1.7155053568984744,
           1.744846862523175,
           1.7741883681478758,
           1.8035298737725765,
           1.832871379397277,
           1.862212885021978,
           1.8915543906466785,
           1.9208958962713791,
           1.95023740189608,
           1.9795789075207808,
           2.008920413145481,
           2.038261918770182,
           2.067603424394883,
           2.0969449300195837,
           2.126286435644284,
           2.155627941268985,
           2.1849694468936853,
           2.214310952518386,
           2.243652458143087,
           2.272993963767788,
           2.3023354693924882,
           2.331676975017189,
           2.3610184806418895,
           2.3903599862665903,
           2.419701491891291,
           2.449042997515992,
           2.4783845031406924,
           2.5077260087653936,
           2.537067514390094,
           2.5664090200147944,
           2.5957505256394953,
           2.625092031264196,
           2.654433536888897,
           2.6837750425135978,
           2.713116548138298,
           2.742458053762999,
           2.7717995593877,
           2.8011410650124007,
           2.830482570637101,
           2.859824076261802,
           2.8891655818865027,
           2.918507087511203,
           2.947848593135904,
           2.977190098760605,
           3.006531604385305,
           3.035873110010006,
           3.065214615634707,
           3.0945561212594073,
           3.1238976268841085,
           3.153239132508809,
           3.1825806381335093,
           3.2119221437582106,
           3.241263649382911,
           3.270605155007612,
           3.2999466606323127,
           3.329288166257013,
           3.358629671881714,
           3.3879711775064147,
           3.417312683131115,
           3.446654188755816,
           3.475995694380517,
           3.505337200005217,
           3.534678705629918,
           3.564020211254619
          ],
          [
           0.6777724573253908,
           0.7071139629500915,
           0.7364554685747923,
           0.765796974199493,
           0.7951384798241936,
           0.8244799854488943,
           0.8538214910735951,
           0.8831629966982957,
           0.9125045023229965,
           0.9418460079476971,
           0.9711875135723977,
           1.0005290191970986,
           1.0298705248217992,
           1.0592120304465,
           1.0885535360712006,
           1.1178950416959013,
           1.147236547320602,
           1.1765780529453027,
           1.2059195585700035,
           1.2352610641947042,
           1.264602569819405,
           1.2939440754441056,
           1.3232855810688062,
           1.352627086693507,
           1.381968592318208,
           1.4113100979429083,
           1.4406516035676091,
           1.46999310919231,
           1.4993346148170104,
           1.5286761204417112,
           1.558017626066412,
           1.5873591316911124,
           1.6167006373158133,
           1.646042142940514,
           1.6753836485652147,
           1.7047251541899153,
           1.7340666598146162,
           1.7634081654393168,
           1.7927496710640176,
           1.8220911766887182,
           1.8514326823134188,
           1.8807741879381197,
           1.9101156935628203,
           1.939457199187521,
           1.9687987048122217,
           1.9981402104369226,
           2.027481716061623,
           2.056823221686324,
           2.086164727311025,
           2.1155062329357253,
           2.1448477385604257,
           2.1741892441851265,
           2.2035307498098273,
           2.232872255434528,
           2.262213761059229,
           2.2915552666839294,
           2.32089677230863,
           2.3502382779333306,
           2.3795797835580315,
           2.4089212891827323,
           2.438262794807433,
           2.4676043004321335,
           2.496945806056834,
           2.526287311681535,
           2.5556288173062356,
           2.5849703229309364,
           2.6143118285556373,
           2.6436533341803377,
           2.6729948398050385,
           2.7023363454297393,
           2.7316778510544397,
           2.7610193566791406,
           2.7903608623038414,
           2.8197023679285422,
           2.8490438735532426,
           2.8783853791779435,
           2.9077268848026443,
           2.9370683904273447,
           2.9664098960520455,
           2.9957514016767464,
           3.0250929073014468,
           3.0544344129261476,
           3.0837759185508484,
           3.113117424175549,
           3.14245892980025,
           3.1718004354249505,
           3.201141941049651,
           3.230483446674352,
           3.2598249522990526,
           3.2891664579237534,
           3.3185079635484542,
           3.3478494691731546,
           3.3771909747978555,
           3.4065324804225563,
           3.4358739860472567,
           3.4652154916719575,
           3.4945569972966584,
           3.5238985029213588,
           3.5532400085460596,
           3.5825815141707604
          ],
          [
           0.6963337602415325,
           0.7256752658662332,
           0.7550167714909339,
           0.7843582771156347,
           0.8136997827403354,
           0.843041288365036,
           0.8723827939897367,
           0.9017242996144375,
           0.9310658052391381,
           0.9604073108638389,
           0.9897488164885395,
           1.0190903221132404,
           1.048431827737941,
           1.0777733333626416,
           1.1071148389873424,
           1.136456344612043,
           1.1657978502367436,
           1.1951393558614445,
           1.2244808614861453,
           1.2538223671108457,
           1.2831638727355466,
           1.3125053783602474,
           1.341846883984948,
           1.3711883896096486,
           1.4005298952343495,
           1.4298714008590498,
           1.4592129064837507,
           1.4885544121084515,
           1.5178959177331521,
           1.5472374233578527,
           1.5765789289825536,
           1.6059204346072542,
           1.6352619402319548,
           1.6646034458566557,
           1.6939449514813563,
           1.7232864571060569,
           1.7526279627307577,
           1.7819694683554583,
           1.8113109739801592,
           1.8406524796048598,
           1.8699939852295604,
           1.8993354908542612,
           1.9286769964789618,
           1.9580185021036625,
           1.9873600077283633,
           2.0167015133530644,
           2.0460430189777643,
           2.075384524602465,
           2.104726030227166,
           2.134067535851867,
           2.1634090414765677,
           2.1927505471012685,
           2.222092052725969,
           2.2514335583506693,
           2.28077506397537,
           2.310116569600071,
           2.339458075224772,
           2.3687995808494726,
           2.398141086474173,
           2.4274825920988734,
           2.4568240977235747,
           2.486165603348275,
           2.515507108972976,
           2.5448486145976768,
           2.5741901202223776,
           2.603531625847078,
           2.632873131471779,
           2.6622146370964797,
           2.69155614272118,
           2.720897648345881,
           2.7502391539705813,
           2.779580659595282,
           2.808922165219983,
           2.838263670844684,
           2.867605176469384,
           2.896946682094085,
           2.926288187718786,
           2.9556296933434862,
           2.984971198968187,
           3.014312704592888,
           3.0436542102175883,
           3.072995715842289,
           3.10233722146699,
           3.1316787270916904,
           3.1610202327163917,
           3.190361738341092,
           3.2197032439657924,
           3.2490447495904937,
           3.278386255215194,
           3.307727760839895,
           3.337069266464596,
           3.366410772089296,
           3.395752277713997,
           3.425093783338698,
           3.4544352889633982,
           3.483776794588099,
           3.5131183002128,
           3.5424598058375003,
           3.571801311462201,
           3.601142817086902
          ],
          [
           0.7148950631576741,
           0.7442365687823749,
           0.7735780744070756,
           0.8029195800317763,
           0.8322610856564769,
           0.8616025912811777,
           0.8909440969058784,
           0.920285602530579,
           0.9496271081552798,
           0.9789686137799805,
           1.008310119404681,
           1.037651625029382,
           1.0669931306540827,
           1.0963346362787834,
           1.125676141903484,
           1.1550176475281848,
           1.1843591531528854,
           1.213700658777586,
           1.2430421644022869,
           1.2723836700269875,
           1.301725175651688,
           1.331066681276389,
           1.3604081869010898,
           1.3897496925257902,
           1.419091198150491,
           1.4484327037751916,
           1.4777742093998925,
           1.507115715024593,
           1.536457220649294,
           1.5657987262739945,
           1.5951402318986951,
           1.6244817375233958,
           1.6538232431480966,
           1.6831647487727974,
           1.712506254397498,
           1.7418477600221987,
           1.7711892656468995,
           1.8005307712716,
           1.829872276896301,
           1.8592137825210016,
           1.8885552881457022,
           1.917896793770403,
           1.9472382993951036,
           1.9765798050198042,
           2.005921310644505,
           2.035262816269206,
           2.0646043218939063,
           2.093945827518607,
           2.123287333143308,
           2.152628838768009,
           2.181970344392709,
           2.21131185001741,
           2.2406533556421104,
           2.2699948612668113,
           2.299336366891512,
           2.328677872516213,
           2.3580193781409133,
           2.387360883765614,
           2.4167023893903146,
           2.4460438950150154,
           2.4753854006397162,
           2.504726906264417,
           2.5340684118891175,
           2.5634099175138187,
           2.592751423138519,
           2.6220929287632195,
           2.6514344343879204,
           2.680775940012621,
           2.7101174456373216,
           2.7394589512620224,
           2.768800456886723,
           2.7981419625114237,
           2.8274834681361245,
           2.8568249737608253,
           2.8861664793855257,
           2.9155079850102266,
           2.9448494906349274,
           2.974190996259628,
           3.0035325018843286,
           3.0328740075090295,
           3.06221551313373,
           3.0915570187584307,
           3.1208985243831315,
           3.150240030007832,
           3.179581535632533,
           3.2089230412572336,
           3.238264546881934,
           3.2676060525066353,
           3.2969475581313357,
           3.3262890637560365,
           3.3556305693807373,
           3.3849720750054377,
           3.4143135806301386,
           3.4436550862548394,
           3.47299659187954,
           3.5023380975042406,
           3.5316796031289415,
           3.561021108753642,
           3.5903626143783427,
           3.6197041200030435
          ],
          [
           0.7334563660738158,
           0.7627978716985165,
           0.7921393773232173,
           0.821480882947918,
           0.8508223885726187,
           0.8801638941973193,
           0.90950539982202,
           0.9388469054467208,
           0.9681884110714214,
           0.9975299166961222,
           1.0268714223208228,
           1.0562129279455235,
           1.0855544335702243,
           1.114895939194925,
           1.1442374448196255,
           1.1735789504443264,
           1.2029204560690272,
           1.2322619616937276,
           1.2616034673184284,
           1.2909449729431293,
           1.3202864785678299,
           1.3496279841925305,
           1.3789694898172313,
           1.408310995441932,
           1.4376525010666328,
           1.4669940066913334,
           1.4963355123160342,
           1.5256770179407348,
           1.5550185235654355,
           1.5843600291901363,
           1.613701534814837,
           1.6430430404395375,
           1.6723845460642381,
           1.701726051688939,
           1.7310675573136396,
           1.7604090629383402,
           1.789750568563041,
           1.8190920741877417,
           1.8484335798124425,
           1.877775085437143,
           1.9071165910618437,
           1.9364580966865446,
           1.9657996023112452,
           1.9951411079359458,
           2.0244826135606466,
           2.0538241191853475,
           2.083165624810048,
           2.1125071304347487,
           2.1418486360594495,
           2.17119014168415,
           2.2005316473088508,
           2.2298731529335516,
           2.2592146585582524,
           2.288556164182953,
           2.3178976698076537,
           2.347239175432354,
           2.376580681057055,
           2.4059221866817557,
           2.4352636923064566,
           2.464605197931157,
           2.4939467035558582,
           2.523288209180558,
           2.552629714805259,
           2.58197122042996,
           2.6113127260546607,
           2.6406542316793615,
           2.6699957373040624,
           2.6993372429287628,
           2.7286787485534636,
           2.7580202541781644,
           2.787361759802865,
           2.8167032654275657,
           2.8460447710522665,
           2.8753862766769673,
           2.9047277823016677,
           2.9340692879263686,
           2.9634107935510694,
           2.99275229917577,
           3.0220938048004706,
           3.0514353104251715,
           3.080776816049872,
           3.1101183216745727,
           3.1394598272992735,
           3.168801332923974,
           3.198142838548675,
           3.2274843441733756,
           3.256825849798076,
           3.2861673554227773,
           3.3155088610474777,
           3.3448503666721785,
           3.3741918722968793,
           3.4035333779215797,
           3.4328748835462806,
           3.4622163891709814,
           3.491557894795682,
           3.5208994004203826,
           3.5502409060450835,
           3.579582411669784,
           3.6089239172944847,
           3.6382654229191855
          ],
          [
           0.7520176689899576,
           0.7813591746146582,
           0.8107006802393589,
           0.8400421858640597,
           0.8693836914887603,
           0.898725197113461,
           0.9280667027381617,
           0.9574082083628624,
           0.9867497139875632,
           1.0160912196122638,
           1.0454327252369646,
           1.0747742308616652,
           1.1041157364863659,
           1.1334572421110667,
           1.1627987477357673,
           1.1921402533604681,
           1.2214817589851688,
           1.2508232646098694,
           1.2801647702345702,
           1.3095062758592708,
           1.3388477814839717,
           1.3681892871086723,
           1.3975307927333729,
           1.4268722983580737,
           1.4562138039827746,
           1.485555309607475,
           1.5148968152321758,
           1.5442383208568766,
           1.573579826481577,
           1.6029213321062779,
           1.6322628377309787,
           1.661604343355679,
           1.69094584898038,
           1.7202873546050808,
           1.7496288602297814,
           1.778970365854482,
           1.8083118714791828,
           1.8376533771038834,
           1.8669948827285843,
           1.8963363883532849,
           1.9256778939779855,
           1.9550193996026863,
           1.984360905227387,
           2.013702410852088,
           2.0430439164767886,
           2.0723854221014895,
           2.1017269277261894,
           2.1310684333508902,
           2.160409938975591,
           2.189751444600292,
           2.2190929502249928,
           2.2484344558496936,
           2.277775961474394,
           2.3071174670990944,
           2.336458972723795,
           2.365800478348496,
           2.395141983973197,
           2.4244834895978977,
           2.453824995222598,
           2.4831665008472985,
           2.512508006472,
           2.5418495120967,
           2.571191017721401,
           2.600532523346102,
           2.6298740289708027,
           2.659215534595503,
           2.688557040220204,
           2.7178985458449043,
           2.747240051469605,
           2.776581557094306,
           2.8059230627190064,
           2.835264568343707,
           2.864606073968408,
           2.893947579593109,
           2.9232890852178093,
           2.95263059084251,
           2.981972096467211,
           3.0113136020919113,
           3.040655107716612,
           3.069996613341313,
           3.0993381189660134,
           3.1286796245907142,
           3.158021130215415,
           3.1873626358401155,
           3.2167041414648168,
           3.246045647089517,
           3.2753871527142175,
           3.304728658338919,
           3.334070163963619,
           3.36341166958832,
           3.392753175213021,
           3.4220946808377213,
           3.451436186462422,
           3.480777692087123,
           3.5101191977118233,
           3.539460703336524,
           3.568802208961225,
           3.5981437145859254,
           3.6274852202106262,
           3.656826725835327
          ],
          [
           0.7705789719060993,
           0.7999204775308,
           0.8292619831555006,
           0.8586034887802013,
           0.887944994404902,
           0.9172865000296027,
           0.9466280056543035,
           0.9759695112790041,
           1.005311016903705,
           1.0346525225284056,
           1.0639940281531062,
           1.093335533777807,
           1.1226770394025076,
           1.1520185450272082,
           1.181360050651909,
           1.21070155627661,
           1.2400430619013103,
           1.2693845675260111,
           1.298726073150712,
           1.3280675787754124,
           1.3574090844001132,
           1.386750590024814,
           1.4160920956495147,
           1.4454336012742153,
           1.474775106898916,
           1.5041166125236165,
           1.5334581181483173,
           1.5627996237730182,
           1.5921411293977188,
           1.6214826350224196,
           1.6508241406471202,
           1.6801656462718209,
           1.7095071518965217,
           1.7388486575212225,
           1.7681901631459231,
           1.7975316687706238,
           1.8268731743953246,
           1.8562146800200252,
           1.885556185644726,
           1.9148976912694267,
           1.9442391968941273,
           1.9735807025188281,
           2.002922208143529,
           2.0322637137682293,
           2.06160521939293,
           2.090946725017631,
           2.1202882306423314,
           2.1496297362670322,
           2.178971241891733,
           2.208312747516434,
           2.2376542531411343,
           2.266995758765835,
           2.2963372643905355,
           2.3256787700152364,
           2.355020275639937,
           2.384361781264638,
           2.4137032868893384,
           2.4430447925140393,
           2.4723862981387397,
           2.5017278037634405,
           2.5310693093881413,
           2.560410815012842,
           2.5897523206375426,
           2.6190938262622434,
           2.6484353318869442,
           2.6777768375116446,
           2.7071183431363455,
           2.7364598487610463,
           2.7658013543857467,
           2.7951428600104475,
           2.824484365635148,
           2.8538258712598488,
           2.8831673768845496,
           2.9125088825092504,
           2.941850388133951,
           2.9711918937586517,
           3.0005333993833525,
           3.029874905008053,
           3.0592164106327537,
           3.0885579162574546,
           3.117899421882155,
           3.147240927506856,
           3.1765824331315566,
           3.205923938756257,
           3.2352654443809583,
           3.2646069500056587,
           3.293948455630359,
           3.3232899612550604,
           3.3526314668797608,
           3.3819729725044616,
           3.4113144781291624,
           3.440655983753863,
           3.4699974893785637,
           3.4993389950032645,
           3.528680500627965,
           3.5580220062526657,
           3.5873635118773666,
           3.616705017502067,
           3.646046523126768,
           3.6753880287514686
          ],
          [
           0.7891402748222409,
           0.8184817804469415,
           0.8478232860716423,
           0.877164791696343,
           0.9065062973210437,
           0.9358478029457444,
           0.965189308570445,
           0.9945308141951458,
           1.0238723198198465,
           1.0532138254445473,
           1.0825553310692477,
           1.1118968366939486,
           1.1412383423186494,
           1.17057984794335,
           1.1999213535680506,
           1.2292628591927515,
           1.258604364817452,
           1.2879458704421527,
           1.3172873760668535,
           1.3466288816915541,
           1.3759703873162548,
           1.4053118929409556,
           1.4346533985656564,
           1.4639949041903568,
           1.4933364098150577,
           1.5226779154397583,
           1.5520194210644591,
           1.5813609266891597,
           1.6107024323138606,
           1.6400439379385612,
           1.669385443563262,
           1.6987269491879626,
           1.7280684548126632,
           1.757409960437364,
           1.7867514660620647,
           1.8160929716867653,
           1.8454344773114661,
           1.8747759829361668,
           1.9041174885608676,
           1.9334589941855682,
           1.9628004998102688,
           1.9921420054349697,
           2.02148351105967,
           2.050825016684371,
           2.0801665223090717,
           2.1095080279337726,
           2.138849533558473,
           2.168191039183174,
           2.1975325448078746,
           2.226874050432575,
           2.256215556057276,
           2.2855570616819767,
           2.3148985673066775,
           2.344240072931378,
           2.3735815785560788,
           2.402923084180779,
           2.43226458980548,
           2.461606095430181,
           2.4909476010548817,
           2.520289106679582,
           2.5496306123042833,
           2.5789721179289833,
           2.608313623553684,
           2.6376551291783854,
           2.666996634803086,
           2.6963381404277866,
           2.7256796460524875,
           2.755021151677188,
           2.7843626573018887,
           2.8137041629265895,
           2.84304566855129,
           2.8723871741759908,
           2.9017286798006916,
           2.9310701854253924,
           2.960411691050093,
           2.9897531966747937,
           3.0190947022994945,
           3.048436207924195,
           3.0777777135488957,
           3.1071192191735966,
           3.136460724798297,
           3.165802230422998,
           3.1951437360476986,
           3.224485241672399,
           3.2538267472971003,
           3.2831682529218007,
           3.312509758546501,
           3.3418512641712024,
           3.3711927697959028,
           3.4005342754206036,
           3.4298757810453044,
           3.459217286670005,
           3.4885587922947057,
           3.5179002979194065,
           3.547241803544107,
           3.5765833091688077,
           3.6059248147935086,
           3.635266320418209,
           3.66460782604291,
           3.6939493316676106
          ],
          [
           0.8077015777383826,
           0.8370430833630833,
           0.8663845889877839,
           0.8957260946124846,
           0.9250676002371854,
           0.954409105861886,
           0.9837506114865868,
           1.0130921171112874,
           1.042433622735988,
           1.071775128360689,
           1.1011166339853895,
           1.1304581396100901,
           1.159799645234791,
           1.1891411508594918,
           1.2184826564841922,
           1.247824162108893,
           1.2771656677335939,
           1.3065071733582942,
           1.335848678982995,
           1.365190184607696,
           1.3945316902323965,
           1.4238731958570972,
           1.453214701481798,
           1.4825562071064986,
           1.5118977127311994,
           1.5412392183559,
           1.570580723980601,
           1.5999222296053015,
           1.6292637352300021,
           1.658605240854703,
           1.6879467464794036,
           1.7172882521041042,
           1.746629757728805,
           1.7759712633535059,
           1.8053127689782065,
           1.834654274602907,
           1.863995780227608,
           1.8933372858523085,
           1.9226787914770094,
           1.95202029710171,
           1.9813618027264106,
           2.010703308351111,
           2.040044813975812,
           2.069386319600513,
           2.0987278252252137,
           2.1280693308499146,
           2.1574108364746145,
           2.1867523420993153,
           2.216093847724016,
           2.245435353348717,
           2.274776858973418,
           2.3041183645981187,
           2.333459870222819,
           2.3628013758475195,
           2.3921428814722203,
           2.421484387096921,
           2.450825892721622,
           2.480167398346323,
           2.509508903971023,
           2.5388504095957236,
           2.568191915220425,
           2.5975334208451253,
           2.6268749264698257,
           2.656216432094527,
           2.6855579377192274,
           2.714899443343928,
           2.744240948968629,
           2.7735824545933294,
           2.8029239602180303,
           2.832265465842731,
           2.8616069714674315,
           2.8909484770921323,
           2.920289982716833,
           2.949631488341534,
           2.9789729939662344,
           3.008314499590935,
           3.037656005215636,
           3.0669975108403364,
           3.0963390164650373,
           3.125680522089738,
           3.1550220277144385,
           3.1843635333391394,
           3.21370503896384,
           3.2430465445885406,
           3.272388050213242,
           3.3017295558379423,
           3.3310710614626426,
           3.360412567087344,
           3.3897540727120443,
           3.419095578336745,
           3.448437083961446,
           3.4777785895861464,
           3.507120095210847,
           3.536461600835548,
           3.5658031064602485,
           3.5951446120849493,
           3.62448611770965,
           3.6538276233343505,
           3.6831691289590514,
           3.712510634583752
          ],
          [
           0.8262628806545242,
           0.8556043862792249,
           0.8849458919039256,
           0.9142873975286263,
           0.943628903153327,
           0.9729704087780278,
           1.0023119144027284,
           1.0316534200274292,
           1.0609949256521298,
           1.0903364312768304,
           1.1196779369015313,
           1.149019442526232,
           1.1783609481509325,
           1.2077024537756333,
           1.237043959400334,
           1.2663854650250348,
           1.2957269706497354,
           1.325068476274436,
           1.3544099818991369,
           1.3837514875238375,
           1.4130929931485383,
           1.442434498773239,
           1.4717760043979395,
           1.5011175100226404,
           1.5304590156473412,
           1.5598005212720416,
           1.5891420268967424,
           1.6184835325214433,
           1.647825038146144,
           1.6771665437708445,
           1.7065080493955453,
           1.735849555020246,
           1.7651910606449466,
           1.7945325662696474,
           1.823874071894348,
           1.8532155775190486,
           1.8825570831437495,
           1.91189858876845,
           1.941240094393151,
           1.9705816000178515,
           1.9999231056425522,
           2.029264611267253,
           2.0586061168919536,
           2.087947622516654,
           2.117289128141355,
           2.1466306337660557,
           2.1759721393907565,
           2.2053136450154573,
           2.234655150640158,
           2.2639966562648586,
           2.293338161889559,
           2.32267966751426,
           2.3520211731389606,
           2.3813626787636615,
           2.4107041843883623,
           2.4400456900130627,
           2.469387195637763,
           2.498728701262464,
           2.5280702068871648,
           2.5574117125118656,
           2.5867532181365664,
           2.616094723761267,
           2.6454362293859677,
           2.6747777350106685,
           2.7041192406353693,
           2.7334607462600697,
           2.7628022518847706,
           2.7921437575094714,
           2.821485263134172,
           2.8508267687588726,
           2.880168274383573,
           2.909509780008274,
           2.9388512856329747,
           2.9681927912576755,
           2.997534296882376,
           3.0268758025070768,
           3.0562173081317776,
           3.085558813756478,
           3.114900319381179,
           3.1442418250058797,
           3.17358333063058,
           3.202924836255281,
           3.2322663418799817,
           3.261607847504682,
           3.2909493531293834,
           3.320290858754084,
           3.349632364378784,
           3.3789738700034855,
           3.408315375628186,
           3.4376568812528867,
           3.4669983868775875,
           3.496339892502288,
           3.5256813981269888,
           3.5550229037516896,
           3.58436440937639,
           3.613705915001091,
           3.6430474206257917,
           3.672388926250492,
           3.701730431875193,
           3.7310719374998937
          ],
          [
           0.8448241835706659,
           0.8741656891953666,
           0.9035071948200672,
           0.9328487004447681,
           0.9621902060694687,
           0.9915317116941694,
           1.0208732173188702,
           1.0502147229435708,
           1.0795562285682716,
           1.1088977341929722,
           1.1382392398176728,
           1.1675807454423737,
           1.1969222510670743,
           1.226263756691775,
           1.2556052623164757,
           1.2849467679411766,
           1.3142882735658772,
           1.3436297791905778,
           1.3729712848152786,
           1.4023127904399793,
           1.4316542960646799,
           1.4609958016893807,
           1.4903373073140813,
           1.519678812938782,
           1.5490203185634828,
           1.5783618241881834,
           1.6077033298128842,
           1.6370448354375848,
           1.6663863410622854,
           1.6957278466869863,
           1.725069352311687,
           1.7544108579363875,
           1.7837523635610883,
           1.8130938691857892,
           1.8424353748104898,
           1.8717768804351904,
           1.9011183860598913,
           1.9304598916845919,
           1.9598013973092927,
           1.9891429029339933,
           2.018484408558694,
           2.0478259141833948,
           2.077167419808095,
           2.106508925432796,
           2.135850431057497,
           2.1651919366821977,
           2.194533442306898,
           2.223874947931599,
           2.2532164535562997,
           2.282557959181,
           2.311899464805701,
           2.341240970430402,
           2.3705824760551026,
           2.399923981679803,
           2.429265487304504,
           2.4586069929292043,
           2.487948498553905,
           2.517290004178606,
           2.5466315098033068,
           2.575973015428007,
           2.605314521052708,
           2.6346560266774084,
           2.6639975323021092,
           2.69333903792681,
           2.722680543551511,
           2.7520220491762113,
           2.781363554800912,
           2.810705060425613,
           2.8400465660503134,
           2.869388071675014,
           2.8987295772997146,
           2.9280710829244154,
           2.9574125885491163,
           2.986754094173817,
           3.0160955997985175,
           3.0454371054232183,
           3.074778611047919,
           3.1041201166726196,
           3.1334616222973204,
           3.1628031279220212,
           3.1921446335467216,
           3.2214861391714225,
           3.2508276447961233,
           3.2801691504208237,
           3.309510656045525,
           3.3388521616702254,
           3.3681936672949258,
           3.397535172919627,
           3.4268766785443274,
           3.4562181841690283,
           3.485559689793729,
           3.5149011954184295,
           3.5442427010431303,
           3.573584206667831,
           3.6029257122925316,
           3.6322672179172324,
           3.6616087235419332,
           3.6909502291666336,
           3.7202917347913345,
           3.7496332404160353
          ],
          [
           0.8633854864868076,
           0.8927269921115083,
           0.922068497736209,
           0.9514100033609096,
           0.9807515089856104,
           1.010093014610311,
           1.039434520235012,
           1.0687760258597125,
           1.0981175314844132,
           1.127459037109114,
           1.1568005427338146,
           1.1861420483585152,
           1.215483553983216,
           1.2448250596079167,
           1.2741665652326173,
           1.3035080708573181,
           1.332849576482019,
           1.3621910821067194,
           1.3915325877314202,
           1.420874093356121,
           1.4502155989808216,
           1.4795571046055223,
           1.508898610230223,
           1.5382401158549237,
           1.5675816214796245,
           1.5969231271043252,
           1.6262646327290258,
           1.6556061383537266,
           1.6849476439784272,
           1.7142891496031278,
           1.7436306552278287,
           1.7729721608525293,
           1.80231366647723,
           1.8316551721019307,
           1.8609966777266314,
           1.890338183351332,
           1.9196796889760328,
           1.9490211946007334,
           1.9783627002254343,
           2.0077042058501346,
           2.0370457114748355,
           2.0663872170995363,
           2.095728722724237,
           2.1250702283489376,
           2.1544117339736384,
           2.1837532395983392,
           2.2130947452230396,
           2.2424362508477405,
           2.2717777564724413,
           2.301119262097142,
           2.3304607677218425,
           2.3598022733465434,
           2.3891437789712437,
           2.4184852845959446,
           2.4478267902206454,
           2.4771682958453463,
           2.5065098014700466,
           2.5358513070947475,
           2.565192812719448,
           2.5945343183441487,
           2.62387582396885,
           2.6532173295935504,
           2.682558835218251,
           2.711900340842952,
           2.7412418464676525,
           2.7705833520923533,
           2.799924857717054,
           2.8292663633417545,
           2.8586078689664554,
           2.887949374591156,
           2.9172908802158566,
           2.9466323858405574,
           2.9759738914652583,
           3.005315397089959,
           3.0346569027146595,
           3.0639984083393603,
           3.093339913964061,
           3.1226814195887616,
           3.1520229252134624,
           3.1813644308381632,
           3.2107059364628636,
           3.2400474420875645,
           3.2693889477122653,
           3.2987304533369657,
           3.328071958961667,
           3.3574134645863674,
           3.3867549702110678,
           3.416096475835769,
           3.4454379814604694,
           3.4747794870851703,
           3.504120992709871,
           3.5334624983345715,
           3.5628040039592723,
           3.592145509583973,
           3.6214870152086736,
           3.6508285208333744,
           3.6801700264580752,
           3.7095115320827756,
           3.7388530377074765,
           3.7681945433321773
          ],
          [
           0.8819467894029492,
           0.91128829502765,
           0.9406298006523506,
           0.9699713062770514,
           0.999312811901752,
           1.0286543175264526,
           1.0579958231511535,
           1.087337328775854,
           1.1166788344005547,
           1.1460203400252555,
           1.1753618456499562,
           1.204703351274657,
           1.2340448568993576,
           1.2633863625240584,
           1.292727868148759,
           1.3220693737734597,
           1.3514108793981605,
           1.3807523850228611,
           1.410093890647562,
           1.4394353962722626,
           1.4687769018969632,
           1.498118407521664,
           1.5274599131463646,
           1.5568014187710653,
           1.586142924395766,
           1.6154844300204667,
           1.6448259356451675,
           1.6741674412698682,
           1.7035089468945688,
           1.7328504525192696,
           1.7621919581439702,
           1.7915334637686708,
           1.8208749693933717,
           1.8502164750180725,
           1.8795579806427731,
           1.9088994862674737,
           1.9382409918921746,
           1.9675824975168752,
           1.996924003141576,
           2.0262655087662766,
           2.0556070143909775,
           2.0849485200156783,
           2.1142900256403787,
           2.143631531265079,
           2.17297303688978,
           2.2023145425144808,
           2.2316560481391816,
           2.2609975537638825,
           2.2903390593885833,
           2.3196805650132837,
           2.349022070637984,
           2.378363576262685,
           2.4077050818873857,
           2.4370465875120866,
           2.4663880931367874,
           2.495729598761488,
           2.525071104386188,
           2.554412610010889,
           2.58375411563559,
           2.6130956212602903,
           2.6424371268849915,
           2.671778632509692,
           2.7011201381343923,
           2.7304616437590936,
           2.759803149383794,
           2.789144655008495,
           2.8184861606331957,
           2.847827666257896,
           2.877169171882597,
           2.9065106775072977,
           2.935852183131998,
           2.965193688756699,
           2.9945351943814,
           3.0238767000061006,
           3.053218205630801,
           3.082559711255502,
           3.1119012168802027,
           3.141242722504903,
           3.170584228129604,
           3.199925733754305,
           3.229267239379005,
           3.258608745003706,
           3.287950250628407,
           3.3172917562531072,
           3.3466332618778085,
           3.375974767502509,
           3.4053162731272093,
           3.4346577787519106,
           3.463999284376611,
           3.493340790001312,
           3.5226822956260126,
           3.552023801250713,
           3.581365306875414,
           3.6107068125001147,
           3.640048318124815,
           3.669389823749516,
           3.698731329374217,
           3.728072834998917,
           3.757414340623618,
           3.786755846248319
          ],
          [
           0.9005080923190909,
           0.9298495979437916,
           0.9591911035684924,
           0.988532609193193,
           1.0178741148178938,
           1.0472156204425944,
           1.076557126067295,
           1.1058986316919959,
           1.1352401373166965,
           1.164581642941397,
           1.193923148566098,
           1.2232646541907986,
           1.2526061598154994,
           1.2819476654402,
           1.3112891710649006,
           1.3406306766896015,
           1.369972182314302,
           1.3993136879390027,
           1.4286551935637035,
           1.4579966991884041,
           1.487338204813105,
           1.5166797104378056,
           1.5460212160625064,
           1.575362721687207,
           1.6047042273119079,
           1.6340457329366083,
           1.663387238561309,
           1.69272874418601,
           1.7220702498107106,
           1.7514117554354112,
           1.780753261060112,
           1.8100947666848126,
           1.8394362723095132,
           1.868777777934214,
           1.8981192835589147,
           1.9274607891836153,
           1.9568022948083161,
           1.9861438004330167,
           2.015485306057718,
           2.044826811682418,
           2.0741683173071186,
           2.1035098229318194,
           2.1328513285565203,
           2.162192834181221,
           2.191534339805922,
           2.2208758454306228,
           2.2502173510553227,
           2.2795588566800236,
           2.3089003623047244,
           2.3382418679294252,
           2.367583373554126,
           2.396924879178827,
           2.4262663848035273,
           2.4556078904282277,
           2.4849493960529285,
           2.5142909016776294,
           2.54363240730233,
           2.572973912927031,
           2.6023154185517314,
           2.6316569241764323,
           2.660998429801133,
           2.6903399354258335,
           2.7196814410505343,
           2.749022946675235,
           2.778364452299936,
           2.8077059579246364,
           2.8370474635493372,
           2.866388969174038,
           2.8957304747987385,
           2.9250719804234393,
           2.9544134860481397,
           2.9837549916728405,
           3.0130964972975414,
           3.042438002922242,
           3.0717795085469426,
           3.1011210141716434,
           3.1304625197963443,
           3.1598040254210447,
           3.1891455310457455,
           3.2184870366704463,
           3.2478285422951467,
           3.2771700479198476,
           3.3065115535445484,
           3.335853059169249,
           3.36519456479395,
           3.3945360704186505,
           3.423877576043351,
           3.453219081668052,
           3.4825605872927525,
           3.5119020929174534,
           3.541243598542154,
           3.5705851041668546,
           3.5999266097915554,
           3.6292681154162563,
           3.6586096210409567,
           3.6879511266656575,
           3.7172926322903583,
           3.7466341379150587,
           3.7759756435397596,
           3.8053171491644604
          ],
          [
           0.9190693952352326,
           0.9484109008599333,
           0.9777524064846339,
           1.0070939121093347,
           1.0364354177340354,
           1.0657769233587362,
           1.0951184289834368,
           1.1244599346081374,
           1.1538014402328383,
           1.1831429458575389,
           1.2124844514822395,
           1.2418259571069403,
           1.271167462731641,
           1.3005089683563416,
           1.3298504739810424,
           1.3591919796057432,
           1.3885334852304438,
           1.4178749908551445,
           1.4472164964798453,
           1.476558002104546,
           1.5058995077292465,
           1.5352410133539474,
           1.564582518978648,
           1.5939240246033486,
           1.6232655302280494,
           1.65260703585275,
           1.6819485414774509,
           1.7112900471021515,
           1.740631552726852,
           1.769973058351553,
           1.7993145639762536,
           1.8286560696009542,
           1.857997575225655,
           1.8873390808503558,
           1.9166805864750565,
           1.946022092099757,
           1.975363597724458,
           2.0047051033491585,
           2.0340466089738594,
           2.0633881145985598,
           2.0927296202232606,
           2.1220711258479614,
           2.1514126314726623,
           2.1807541370973627,
           2.2100956427220635,
           2.2394371483467643,
           2.2687786539714647,
           2.2981201595961656,
           2.3274616652208664,
           2.3568031708455672,
           2.3861446764702676,
           2.4154861820949685,
           2.444827687719669,
           2.4741691933443697,
           2.5035106989690705,
           2.5328522045937714,
           2.5621937102184718,
           2.5915352158431726,
           2.620876721467873,
           2.650218227092574,
           2.6795597327172747,
           2.708901238341975,
           2.738242743966676,
           2.7675842495913767,
           2.7969257552160776,
           2.826267260840778,
           2.855608766465479,
           2.8849502720901796,
           2.91429177771488,
           2.943633283339581,
           2.9729747889642812,
           3.002316294588982,
           3.031657800213683,
           3.0609993058383838,
           3.090340811463084,
           3.119682317087785,
           3.149023822712486,
           3.178365328337186,
           3.207706833961887,
           3.237048339586588,
           3.2663898452112883,
           3.295731350835989,
           3.32507285646069,
           3.3544143620853903,
           3.3837558677100916,
           3.413097373334792,
           3.4424388789594924,
           3.4717803845841937,
           3.501121890208894,
           3.530463395833595,
           3.5598049014582958,
           3.589146407082996,
           3.618487912707697,
           3.647829418332398,
           3.677170923957098,
           3.706512429581799,
           3.7358539352065,
           3.7651954408312003,
           3.794536946455901,
           3.823878452080602
          ],
          [
           0.9376306981513742,
           0.966972203776075,
           0.9963137094007757,
           1.0256552150254763,
           1.054996720650177,
           1.0843382262748777,
           1.1136797318995786,
           1.143021237524279,
           1.1723627431489798,
           1.2017042487736806,
           1.2310457543983813,
           1.2603872600230819,
           1.2897287656477827,
           1.3190702712724833,
           1.348411776897184,
           1.3777532825218848,
           1.4070947881465854,
           1.436436293771286,
           1.4657777993959868,
           1.4951193050206875,
           1.5244608106453883,
           1.553802316270089,
           1.5831438218947897,
           1.6124853275194904,
           1.6418268331441912,
           1.6711683387688916,
           1.7005098443935924,
           1.7298513500182933,
           1.7591928556429939,
           1.7885343612676945,
           1.8178758668923953,
           1.847217372517096,
           1.8765588781417966,
           1.9059003837664974,
           1.935241889391198,
           1.9645833950158986,
           1.9939249006405995,
           2.0232664062653,
           2.052607911890001,
           2.0819494175147018,
           2.111290923139402,
           2.140632428764103,
           2.1699739343888034,
           2.199315440013504,
           2.228656945638205,
           2.257998451262906,
           2.2873399568876063,
           2.316681462512307,
           2.346022968137008,
           2.3753644737617083,
           2.404705979386409,
           2.43404748501111,
           2.463388990635811,
           2.4927304962605112,
           2.522072001885212,
           2.5514135075099125,
           2.5807550131346133,
           2.610096518759314,
           2.639438024384015,
           2.6687795300087154,
           2.6981210356334167,
           2.727462541258117,
           2.7568040468828174,
           2.7861455525075187,
           2.815487058132219,
           2.84482856375692,
           2.874170069381621,
           2.903511575006321,
           2.932853080631022,
           2.962194586255723,
           2.9915360918804232,
           3.020877597505124,
           3.050219103129825,
           3.0795606087545258,
           3.108902114379226,
           3.138243620003927,
           3.167585125628628,
           3.196926631253328,
           3.226268136878029,
           3.25560964250273,
           3.2849511481274303,
           3.314292653752131,
           3.343634159376832,
           3.3729756650015323,
           3.4023171706262336,
           3.431658676250934,
           3.4610001818756344,
           3.4903416875003357,
           3.519683193125036,
           3.549024698749737,
           3.5783662043744378,
           3.607707709999138,
           3.637049215623839,
           3.66639072124854,
           3.69573222687324,
           3.725073732497941,
           3.754415238122642,
           3.7837567437473423,
           3.813098249372043,
           3.842439754996744
          ],
          [
           0.956192001067516,
           0.9855335066922166,
           1.0148750123169172,
           1.044216517941618,
           1.0735580235663187,
           1.1028995291910193,
           1.1322410348157201,
           1.161582540440421,
           1.1909240460651216,
           1.2202655516898222,
           1.249607057314523,
           1.2789485629392237,
           1.3082900685639243,
           1.337631574188625,
           1.3669730798133257,
           1.3963145854380266,
           1.4256560910627272,
           1.4549975966874278,
           1.4843391023121286,
           1.5136806079368292,
           1.54302211356153,
           1.5723636191862307,
           1.6017051248109313,
           1.6310466304356321,
           1.660388136060333,
           1.6897296416850334,
           1.7190711473097342,
           1.748412652934435,
           1.7777541585591354,
           1.8070956641838363,
           1.836437169808537,
           1.8657786754332375,
           1.8951201810579383,
           1.9244616866826392,
           1.9538031923073398,
           1.9831446979320404,
           2.0124862035567412,
           2.041827709181442,
           2.071169214806143,
           2.1005107204308433,
           2.1298522260555437,
           2.1591937316802445,
           2.1885352373049454,
           2.217876742929646,
           2.247218248554347,
           2.276559754179048,
           2.305901259803748,
           2.3352427654284487,
           2.3645842710531495,
           2.3939257766778503,
           2.423267282302551,
           2.452608787927252,
           2.4819502935519524,
           2.511291799176653,
           2.5406333048013536,
           2.5699748104260545,
           2.5993163160507553,
           2.628657821675456,
           2.6579993273001565,
           2.687340832924857,
           2.716682338549558,
           2.7460238441742586,
           2.7753653497989594,
           2.8047068554236603,
           2.834048361048361,
           2.8633898666730615,
           2.8927313722977623,
           2.9220728779224627,
           2.9514143835471636,
           2.9807558891718644,
           3.010097394796565,
           3.0394389004212656,
           3.0687804060459665,
           3.0981219116706673,
           3.1274634172953677,
           3.1568049229200685,
           3.1861464285447694,
           3.2154879341694698,
           3.2448294397941706,
           3.2741709454188714,
           3.303512451043572,
           3.3328539566682727,
           3.3621954622929735,
           3.391536967917674,
           3.420878473542375,
           3.4502199791670756,
           3.479561484791776,
           3.5089029904164772,
           3.5382444960411776,
           3.5675860016658785,
           3.5969275072905793,
           3.6262690129152797,
           3.6556105185399805,
           3.6849520241646814,
           3.7142935297893818,
           3.7436350354140826,
           3.7729765410387834,
           3.802318046663484,
           3.8316595522881847,
           3.8610010579128855
          ],
          [
           0.9747533039836576,
           1.0040948096083584,
           1.033436315233059,
           1.0627778208577596,
           1.0921193264824605,
           1.121460832107161,
           1.1508023377318617,
           1.1801438433565625,
           1.2094853489812634,
           1.238826854605964,
           1.2681683602306646,
           1.2975098658553654,
           1.326851371480066,
           1.3561928771047667,
           1.3855343827294675,
           1.414875888354168,
           1.4442173939788687,
           1.4735588996035696,
           1.5029004052282704,
           1.5322419108529708,
           1.5615834164776716,
           1.5909249221023725,
           1.620266427727073,
           1.6496079333517737,
           1.6789494389764745,
           1.708290944601175,
           1.7376324502258758,
           1.7669739558505766,
           1.7963154614752772,
           1.8256569670999778,
           1.8549984727246787,
           1.8843399783493793,
           1.9136814839740799,
           1.9430229895987807,
           1.9723644952234816,
           2.001706000848182,
           2.031047506472883,
           2.0603890120975836,
           2.0897305177222845,
           2.119072023346985,
           2.1484135289716857,
           2.1777550345963865,
           2.207096540221087,
           2.2364380458457878,
           2.2657795514704886,
           2.2951210570951894,
           2.32446256271989,
           2.3538040683445907,
           2.3831455739692915,
           2.412487079593992,
           2.4418285852186927,
           2.4711700908433936,
           2.500511596468094,
           2.529853102092795,
           2.5591946077174956,
           2.588536113342196,
           2.617877618966897,
           2.6472191245915977,
           2.676560630216298,
           2.705902135840999,
           2.7352436414656998,
           2.7645851470904,
           2.793926652715101,
           2.823268158339802,
           2.8526096639645027,
           2.881951169589203,
           2.911292675213904,
           2.9406341808386047,
           2.969975686463305,
           2.999317192088006,
           3.0286586977127063,
           3.058000203337407,
           3.087341708962108,
           3.116683214586809,
           3.1460247202115093,
           3.17536622583621,
           3.204707731460911,
           3.2340492370856113,
           3.263390742710312,
           3.292732248335013,
           3.3220737539597134,
           3.351415259584414,
           3.380756765209115,
           3.4100982708338154,
           3.4394397764585167,
           3.468781282083217,
           3.4981227877079175,
           3.527464293332619,
           3.556805798957319,
           3.58614730458202,
           3.615488810206721,
           3.6448303158314213,
           3.674171821456122,
           3.703513327080823,
           3.7328548327055233,
           3.762196338330224,
           3.791537843954925,
           3.8208793495796254,
           3.850220855204326,
           3.879562360829027
          ],
          [
           0.9933146068997993,
           1.0226561125245,
           1.0519976181492008,
           1.0813391237739014,
           1.110680629398602,
           1.1400221350233029,
           1.1693636406480035,
           1.198705146272704,
           1.228046651897405,
           1.2573881575221055,
           1.2867296631468061,
           1.316071168771507,
           1.3454126743962078,
           1.3747541800209084,
           1.404095685645609,
           1.4334371912703099,
           1.4627786968950105,
           1.4921202025197111,
           1.521461708144412,
           1.5508032137691126,
           1.5801447193938132,
           1.609486225018514,
           1.6388277306432149,
           1.6681692362679152,
           1.697510741892616,
           1.7268522475173167,
           1.7561937531420175,
           1.7855352587667181,
           1.814876764391419,
           1.8442182700161196,
           1.8735597756408202,
           1.902901281265521,
           1.9322427868902217,
           1.9615842925149225,
           1.9909257981396231,
           2.0202673037643235,
           2.0496088093890243,
           2.078950315013725,
           2.108291820638426,
           2.137633326263127,
           2.1669748318878272,
           2.196316337512528,
           2.2256578431372285,
           2.2549993487619293,
           2.28434085438663,
           2.313682360011331,
           2.3430238656360314,
           2.372365371260732,
           2.401706876885433,
           2.4310483825101334,
           2.4603898881348343,
           2.489731393759535,
           2.519072899384236,
           2.5484144050089363,
           2.577755910633637,
           2.6070974162583376,
           2.6364389218830384,
           2.6657804275077392,
           2.69512193313244,
           2.7244634387571405,
           2.7538049443818418,
           2.7831464500065417,
           2.8124879556312425,
           2.8418294612559434,
           2.871170966880644,
           2.900512472505345,
           2.929853978130046,
           2.9591954837547463,
           2.9885369893794467,
           3.0178784950041475,
           3.0472200006288483,
           3.076561506253549,
           3.10590301187825,
           3.135244517502951,
           3.164586023127651,
           3.1939275287523516,
           3.2232690343770525,
           3.2526105400017533,
           3.281952045626454,
           3.311293551251155,
           3.340635056875855,
           3.3699765625005558,
           3.3993180681252566,
           3.4286595737499574,
           3.4580010793746583,
           3.487342584999359,
           3.516684090624059,
           3.546025596248761,
           3.5753671018734607,
           3.6047086074981616,
           3.6340501131228624,
           3.6633916187475632,
           3.692733124372264,
           3.722074629996965,
           3.751416135621665,
           3.7807576412463657,
           3.8100991468710665,
           3.8394406524957674,
           3.868782158120468,
           3.898123663745169
          ],
          [
           1.0118759098159409,
           1.0412174154406415,
           1.0705589210653423,
           1.0999004266900432,
           1.1292419323147438,
           1.1585834379394444,
           1.1879249435641452,
           1.2172664491888459,
           1.2466079548135465,
           1.2759494604382473,
           1.305290966062948,
           1.3346324716876485,
           1.3639739773123494,
           1.39331548293705,
           1.4226569885617506,
           1.4519984941864514,
           1.4813399998111523,
           1.5106815054358527,
           1.5400230110605535,
           1.5693645166852543,
           1.598706022309955,
           1.6280475279346556,
           1.6573890335593564,
           1.686730539184057,
           1.7160720448087579,
           1.7454135504334585,
           1.7747550560581593,
           1.80409656168286,
           1.8334380673075605,
           1.8627795729322614,
           1.892121078556962,
           1.9214625841816626,
           1.9508040898063634,
           1.9801455954310643,
           2.0094871010557647,
           2.0388286066804655,
           2.0681701123051663,
           2.0975116179298667,
           2.1268531235545676,
           2.1561946291792684,
           2.185536134803969,
           2.2148776404286696,
           2.2442191460533705,
           2.273560651678071,
           2.3029021573027717,
           2.3322436629274725,
           2.361585168552173,
           2.3909266741768738,
           2.4202681798015746,
           2.4496096854262754,
           2.478951191050976,
           2.5082926966756767,
           2.5376342023003775,
           2.566975707925078,
           2.5963172135497787,
           2.6256587191744796,
           2.65500022479918,
           2.684341730423881,
           2.7136832360485816,
           2.743024741673282,
           2.7723662472979833,
           2.8017077529226837,
           2.831049258547384,
           2.8603907641720854,
           2.8897322697967858,
           2.9190737754214866,
           2.9484152810461874,
           2.977756786670888,
           3.0070982922955887,
           3.0364397979202895,
           3.06578130354499,
           3.0951228091696907,
           3.1244643147943916,
           3.1538058204190924,
           3.183147326043793,
           3.2124888316684936,
           3.2418303372931945,
           3.271171842917895,
           3.3005133485425957,
           3.3298548541672965,
           3.359196359791997,
           3.3885378654166978,
           3.4178793710413986,
           3.447220876666099,
           3.4765623822908003,
           3.5059038879155007,
           3.535245393540201,
           3.5645868991649023,
           3.5939284047896027,
           3.6232699104143036,
           3.6526114160390044,
           3.681952921663705,
           3.7112944272884056,
           3.7406359329131065,
           3.769977438537807,
           3.7993189441625077,
           3.8286604497872085,
           3.858001955411909,
           3.8873434610366098,
           3.9166849666613106
          ],
          [
           1.0304372127320827,
           1.0597787183567835,
           1.0891202239814841,
           1.1184617296061847,
           1.1478032352308856,
           1.1771447408555862,
           1.2064862464802868,
           1.2358277521049876,
           1.2651692577296882,
           1.2945107633543889,
           1.3238522689790897,
           1.3531937746037903,
           1.3825352802284911,
           1.4118767858531918,
           1.4412182914778924,
           1.4705597971025932,
           1.4999013027272938,
           1.5292428083519944,
           1.5585843139766953,
           1.587925819601396,
           1.6172673252260967,
           1.6466088308507973,
           1.6759503364754982,
           1.7052918421001988,
           1.7346333477248996,
           1.7639748533496,
           1.7933163589743009,
           1.8226578645990017,
           1.8519993702237023,
           1.881340875848403,
           1.9106823814731038,
           1.9400238870978044,
           1.969365392722505,
           1.9987068983472058,
           2.0280484039719067,
           2.057389909596607,
           2.086731415221308,
           2.1160729208460083,
           2.145414426470709,
           2.17475593209541,
           2.204097437720111,
           2.2334389433448116,
           2.262780448969512,
           2.2921219545942124,
           2.3214634602189133,
           2.350804965843614,
           2.380146471468315,
           2.4094879770930158,
           2.4388294827177166,
           2.468170988342417,
           2.4975124939671174,
           2.5268539995918182,
           2.556195505216519,
           2.58553701084122,
           2.6148785164659207,
           2.644220022090621,
           2.673561527715322,
           2.702903033340023,
           2.732244538964723,
           2.761586044589424,
           2.790927550214125,
           2.8202690558388253,
           2.849610561463526,
           2.878952067088227,
           2.9082935727129278,
           2.937635078337628,
           2.966976583962329,
           2.99631808958703,
           3.0256595952117302,
           3.055001100836431,
           3.0843426064611315,
           3.1136841120858323,
           3.143025617710533,
           3.172367123335234,
           3.2017086289599344,
           3.231050134584635,
           3.260391640209336,
           3.2897331458340364,
           3.3190746514587373,
           3.348416157083438,
           3.3777576627081385,
           3.4070991683328393,
           3.43644067395754,
           3.4657821795822406,
           3.495123685206942,
           3.5244651908316422,
           3.5538066964563426,
           3.583148202081044,
           3.6124897077057443,
           3.641831213330445,
           3.671172718955146,
           3.7005142245798464,
           3.729855730204547,
           3.759197235829248,
           3.7885387414539484,
           3.8178802470786493,
           3.84722175270335,
           3.8765632583280505,
           3.9059047639527513,
           3.935246269577452
          ],
          [
           1.0489985156482242,
           1.078340021272925,
           1.1076815268976257,
           1.1370230325223263,
           1.1663645381470271,
           1.195706043771728,
           1.2250475493964286,
           1.2543890550211292,
           1.28373056064583,
           1.3130720662705306,
           1.3424135718952313,
           1.371755077519932,
           1.4010965831446327,
           1.4304380887693333,
           1.4597795943940342,
           1.489121100018735,
           1.5184626056434356,
           1.5478041112681362,
           1.577145616892837,
           1.6064871225175377,
           1.6358286281422383,
           1.6651701337669391,
           1.6945116393916397,
           1.7238531450163403,
           1.7531946506410412,
           1.7825361562657418,
           1.8118776618904426,
           1.8412191675151433,
           1.8705606731398439,
           1.8999021787645447,
           1.9292436843892453,
           1.958585190013946,
           1.9879266956386468,
           2.017268201263348,
           2.046609706888048,
           2.0759512125127486,
           2.1052927181374494,
           2.1346342237621503,
           2.163975729386851,
           2.193317235011552,
           2.2226587406362524,
           2.252000246260953,
           2.2813417518856536,
           2.3106832575103544,
           2.3400247631350553,
           2.369366268759756,
           2.3987077743844565,
           2.4280492800091573,
           2.457390785633858,
           2.4867322912585585,
           2.5160737968832594,
           2.54541530250796,
           2.574756808132661,
           2.6040983137573614,
           2.6334398193820623,
           2.6627813250067627,
           2.6921228306314635,
           2.7214643362561644,
           2.7508058418808647,
           2.7801473475055656,
           2.8094888531302664,
           2.838830358754967,
           2.8681718643796676,
           2.8975133700043685,
           2.9268548756290693,
           2.9561963812537697,
           2.9855378868784705,
           3.0148793925031714,
           3.0442208981278718,
           3.0735624037525726,
           3.102903909377273,
           3.132245415001974,
           3.1615869206266747,
           3.1909284262513755,
           3.220269931876076,
           3.2496114375007767,
           3.2789529431254776,
           3.308294448750178,
           3.337635954374879,
           3.3669774599995796,
           3.39631896562428,
           3.425660471248981,
           3.4550019768736817,
           3.484343482498382,
           3.5136849881230834,
           3.543026493747784,
           3.572367999372484,
           3.6017095049971855,
           3.631051010621886,
           3.6603925162465867,
           3.6897340218712875,
           3.719075527495988,
           3.7484170331206887,
           3.7777585387453896,
           3.80710004437009,
           3.836441549994791,
           3.8657830556194916,
           3.895124561244192,
           3.924466066868893,
           3.9538075724935937
          ],
          [
           1.067559818564366,
           1.0969013241890666,
           1.1262428298137674,
           1.155584335438468,
           1.1849258410631687,
           1.2142673466878695,
           1.2436088523125703,
           1.2729503579372707,
           1.3022918635619716,
           1.3316333691866724,
           1.360974874811373,
           1.3903163804360736,
           1.4196578860607745,
           1.448999391685475,
           1.4783408973101757,
           1.5076824029348765,
           1.5370239085595772,
           1.5663654141842778,
           1.5957069198089786,
           1.6250484254336792,
           1.65438993105838,
           1.6837314366830807,
           1.7130729423077815,
           1.7424144479324821,
           1.771755953557183,
           1.8010974591818834,
           1.8304389648065842,
           1.859780470431285,
           1.8891219760559856,
           1.9184634816806863,
           1.947804987305387,
           1.9771464929300877,
           2.006487998554788,
           2.035829504179489,
           2.0651710098041898,
           2.0945125154288906,
           2.1238540210535914,
           2.153195526678292,
           2.1825370323029927,
           2.211878537927693,
           2.241220043552394,
           2.2705615491770947,
           2.2999030548017956,
           2.329244560426496,
           2.358586066051197,
           2.3879275716758976,
           2.417269077300598,
           2.446610582925299,
           2.4759520885499997,
           2.5052935941747005,
           2.534635099799401,
           2.5639766054241018,
           2.593318111048802,
           2.622659616673503,
           2.652001122298204,
           2.6813426279229047,
           2.710684133547605,
           2.740025639172306,
           2.7693671447970067,
           2.798708650421707,
           2.8280501560464084,
           2.857391661671109,
           2.886733167295809,
           2.9160746729205105,
           2.945416178545211,
           2.9747576841699117,
           3.0040991897946125,
           3.033440695419313,
           3.0627822010440138,
           3.0921237066687146,
           3.121465212293415,
           3.150806717918116,
           3.1801482235428167,
           3.2094897291675175,
           3.238831234792218,
           3.2681727404169187,
           3.2975142460416196,
           3.32685575166632,
           3.356197257291021,
           3.3855387629157216,
           3.414880268540422,
           3.444221774165123,
           3.4735632797898237,
           3.502904785414524,
           3.5322462910392254,
           3.5615877966639258,
           3.590929302288626,
           3.6202708079133274,
           3.649612313538028,
           3.6789538191627287,
           3.7082953247874295,
           3.73763683041213,
           3.7669783360368307,
           3.7963198416615316,
           3.825661347286232,
           3.855002852910933,
           3.8843443585356336,
           3.913685864160334,
           3.943027369785035,
           3.9723688754097357
          ],
          [
           1.0861211214805078,
           1.1154626271052084,
           1.144804132729909,
           1.1741456383546098,
           1.2034871439793104,
           1.232828649604011,
           1.262170155228712,
           1.2915116608534127,
           1.3208531664781133,
           1.350194672102814,
           1.3795361777275148,
           1.4088776833522154,
           1.438219188976916,
           1.4675606946016169,
           1.4969022002263175,
           1.5262437058510183,
           1.555585211475719,
           1.5849267171004195,
           1.6142682227251204,
           1.643609728349821,
           1.6729512339745218,
           1.7022927395992224,
           1.731634245223923,
           1.760975750848624,
           1.7903172564733247,
           1.8196587620980251,
           1.849000267722726,
           1.8783417733474268,
           1.9076832789721272,
           1.937024784596828,
           1.9663662902215289,
           1.9957077958462293,
           2.02504930147093,
           2.054390807095631,
           2.0837323127203318,
           2.113073818345032,
           2.142415323969733,
           2.1717568295944334,
           2.2010983352191342,
           2.230439840843835,
           2.259781346468536,
           2.2891228520932367,
           2.318464357717937,
           2.3478058633426375,
           2.3771473689673384,
           2.406488874592039,
           2.43583038021674,
           2.465171885841441,
           2.4945133914661417,
           2.523854897090842,
           2.5531964027155425,
           2.5825379083402433,
           2.611879413964944,
           2.641220919589645,
           2.670562425214346,
           2.6999039308390462,
           2.7292454364637466,
           2.7585869420884475,
           2.7879284477131483,
           2.817269953337849,
           2.84661145896255,
           2.8759529645872504,
           2.9052944702119508,
           2.934635975836652,
           2.9639774814613524,
           2.9933189870860533,
           3.022660492710754,
           3.052001998335455,
           3.0813435039601553,
           3.110685009584856,
           3.1400265152095566,
           3.1693680208342574,
           3.1987095264589582,
           3.228051032083659,
           3.2573925377083595,
           3.2867340433330603,
           3.316075548957761,
           3.3454170545824615,
           3.3747585602071624,
           3.404100065831863,
           3.4334415714565636,
           3.4627830770812644,
           3.4921245827059653,
           3.5214660883306657,
           3.550807593955367,
           3.5801490995800673,
           3.6094906052047677,
           3.638832110829469,
           3.6681736164541694,
           3.6975151220788702,
           3.726856627703571,
           3.7561981333282715,
           3.7855396389529723,
           3.814881144577673,
           3.8442226502023735,
           3.8735641558270744,
           3.902905661451775,
           3.9322471670764756,
           3.9615886727011764,
           3.9909301783258773
          ],
          [
           1.1046824243966493,
           1.13402393002135,
           1.1633654356460505,
           1.1927069412707514,
           1.222048446895452,
           1.2513899525201526,
           1.2807314581448535,
           1.3100729637695543,
           1.339414469394255,
           1.3687559750189555,
           1.3980974806436564,
           1.427438986268357,
           1.4567804918930576,
           1.4861219975177584,
           1.515463503142459,
           1.5448050087671599,
           1.5741465143918605,
           1.603488020016561,
           1.632829525641262,
           1.6621710312659626,
           1.6915125368906634,
           1.720854042515364,
           1.7501955481400646,
           1.7795370537647655,
           1.8088785593894663,
           1.8382200650141667,
           1.8675615706388675,
           1.8969030762635684,
           1.9262445818882687,
           1.9555860875129696,
           1.9849275931376704,
           2.014269098762371,
           2.0436106043870716,
           2.0729521100117725,
           2.102293615636473,
           2.1316351212611737,
           2.1609766268858746,
           2.1903181325105754,
           2.2196596381352762,
           2.2490011437599766,
           2.278342649384677,
           2.307684155009378,
           2.3370256606340787,
           2.3663671662587795,
           2.3957086718834804,
           2.425050177508181,
           2.454391683132881,
           2.483733188757582,
           2.513074694382283,
           2.5424162000069837,
           2.5717577056316845,
           2.6010992112563853,
           2.6304407168810857,
           2.659782222505786,
           2.689123728130487,
           2.718465233755188,
           2.7478067393798886,
           2.7771482450045895,
           2.80648975062929,
           2.8358312562539902,
           2.8651727618786915,
           2.894514267503392,
           2.9238557731280927,
           2.9531972787527936,
           2.9825387843774944,
           3.011880290002195,
           3.0412217956268957,
           3.070563301251596,
           3.099904806876297,
           3.1292463125009977,
           3.158587818125698,
           3.187929323750399,
           3.2172708293751,
           3.2466123349998006,
           3.275953840624501,
           3.305295346249202,
           3.3346368518739027,
           3.363978357498603,
           3.393319863123304,
           3.4226613687480048,
           3.452002874372705,
           3.481344379997406,
           3.510685885622107,
           3.540027391246807,
           3.5693688968715085,
           3.598710402496209,
           3.6280519081209093,
           3.6573934137456106,
           3.686734919370311,
           3.716076424995012,
           3.7454179306197126,
           3.774759436244413,
           3.804100941869114,
           3.8334424474938147,
           3.862783953118515,
           3.892125458743216,
           3.9214669643679168,
           3.950808469992617,
           3.980149975617318,
           4.009491481242019
          ],
          [
           1.123243727312791,
           1.1525852329374917,
           1.1819267385621925,
           1.2112682441868932,
           1.2406097498115938,
           1.2699512554362946,
           1.2992927610609952,
           1.3286342666856958,
           1.3579757723103967,
           1.3873172779350973,
           1.416658783559798,
           1.4460002891844987,
           1.4753417948091996,
           1.5046833004339002,
           1.5340248060586008,
           1.5633663116833016,
           1.5927078173080023,
           1.6220493229327029,
           1.6513908285574037,
           1.6807323341821043,
           1.710073839806805,
           1.7394153454315058,
           1.7687568510562066,
           1.798098356680907,
           1.8274398623056078,
           1.8567813679303085,
           1.8861228735550093,
           1.91546437917971,
           1.9448058848044107,
           1.9741473904291114,
           2.003488896053812,
           2.032830401678513,
           2.062171907303213,
           2.091513412927914,
           2.120854918552615,
           2.1501964241773157,
           2.1795379298020165,
           2.208879435426717,
           2.238220941051418,
           2.267562446676118,
           2.296903952300819,
           2.32624545792552,
           2.3555869635502207,
           2.384928469174921,
           2.414269974799622,
           2.4436114804243227,
           2.472952986049023,
           2.502294491673724,
           2.531635997298425,
           2.5609775029231256,
           2.590319008547826,
           2.619660514172527,
           2.6490020197972273,
           2.678343525421928,
           2.707685031046629,
           2.73702653667133,
           2.76636804229603,
           2.795709547920731,
           2.8250510535454314,
           2.8543925591701322,
           2.883734064794833,
           2.913075570419534,
           2.9424170760442343,
           2.9717585816689356,
           3.001100087293636,
           3.0304415929183364,
           3.059783098543037,
           3.089124604167738,
           3.118466109792439,
           3.1478076154171397,
           3.1771491210418397,
           3.2064906266665405,
           3.2358321322912413,
           3.265173637915942,
           3.294515143540643,
           3.323856649165344,
           3.3531981547900447,
           3.3825396604147446,
           3.4118811660394455,
           3.4412226716641463,
           3.470564177288847,
           3.499905682913548,
           3.529247188538249,
           3.5585886941629488,
           3.5879301997876505,
           3.6172717054123504,
           3.6466132110370513,
           3.675954716661752,
           3.705296222286453,
           3.734637727911154,
           3.7639792335358546,
           3.7933207391605546,
           3.8226622447852554,
           3.8520037504099562,
           3.881345256034657,
           3.910686761659358,
           3.9400282672840587,
           3.9693697729087587,
           3.9987112785334595,
           4.02805278415816
          ],
          [
           1.1418050302289326,
           1.1711465358536333,
           1.200488041478334,
           1.229829547103035,
           1.2591710527277356,
           1.2885125583524362,
           1.317854063977137,
           1.3471955696018376,
           1.3765370752265382,
           1.405878580851239,
           1.4352200864759397,
           1.4645615921006403,
           1.4939030977253411,
           1.5232446033500417,
           1.5525861089747424,
           1.5819276145994432,
           1.611269120224144,
           1.6406106258488444,
           1.6699521314735453,
           1.699293637098246,
           1.7286351427229467,
           1.7579766483476473,
           1.7873181539723482,
           1.8166596595970488,
           1.8460011652217496,
           1.8753426708464502,
           1.904684176471151,
           1.9340256820958517,
           1.9633671877205523,
           1.9927086933452531,
           2.0220501989699535,
           2.0513917045946544,
           2.080733210219355,
           2.110074715844056,
           2.1394162214687564,
           2.1687577270934573,
           2.198099232718158,
           2.2274407383428585,
           2.2567822439675593,
           2.28612374959226,
           2.3154652552169606,
           2.3448067608416614,
           2.3741482664663622,
           2.4034897720910626,
           2.4328312777157635,
           2.4621727833404643,
           2.4915142889651647,
           2.5208557945898655,
           2.5501973002145664,
           2.579538805839267,
           2.6088803114639676,
           2.6382218170886684,
           2.6675633227133693,
           2.6969048283380697,
           2.7262463339627705,
           2.7555878395874713,
           2.7849293452121717,
           2.8142708508368726,
           2.8436123564615734,
           2.872953862086274,
           2.902295367710975,
           2.9316368733356755,
           2.960978378960376,
           2.990319884585077,
           3.0196613902097775,
           3.0490028958344784,
           3.078344401459179,
           3.1076859070838796,
           3.1370274127085804,
           3.1663689183332813,
           3.1957104239579817,
           3.2250519295826825,
           3.2543934352073833,
           3.283734940832084,
           3.3130764464567846,
           3.3424179520814854,
           3.3717594577061862,
           3.4011009633308866,
           3.4304424689555875,
           3.4597839745802883,
           3.4891254802049887,
           3.5184669858296895,
           3.5478084914543904,
           3.5771499970790908,
           3.606491502703792,
           3.6358330083284924,
           3.665174513953193,
           3.694516019577894,
           3.7238575252025945,
           3.7531990308272953,
           3.782540536451996,
           3.8118820420766966,
           3.8412235477013974,
           3.8705650533260982,
           3.8999065589507986,
           3.9292480645754995,
           3.9585895702002003,
           3.9879310758249007,
           4.0172725814496015,
           4.046614087074302
          ],
          [
           1.1603663331450744,
           1.189707838769775,
           1.2190493443944757,
           1.2483908500191765,
           1.277732355643877,
           1.3070738612685777,
           1.3364153668932786,
           1.3657568725179794,
           1.39509837814268,
           1.4244398837673806,
           1.4537813893920815,
           1.483122895016782,
           1.5124644006414827,
           1.5418059062661835,
           1.5711474118908841,
           1.600488917515585,
           1.6298304231402856,
           1.6591719287649862,
           1.688513434389687,
           1.7178549400143877,
           1.7471964456390885,
           1.776537951263789,
           1.8058794568884897,
           1.8352209625131906,
           1.8645624681378914,
           1.8939039737625918,
           1.9232454793872926,
           1.9525869850119935,
           1.9819284906366939,
           2.0112699962613947,
           2.0406115018860955,
           2.069953007510796,
           2.0992945131354968,
           2.1286360187601976,
           2.157977524384898,
           2.187319030009599,
           2.2166605356342997,
           2.2460020412590005,
           2.2753435468837013,
           2.3046850525084017,
           2.334026558133102,
           2.363368063757803,
           2.392709569382504,
           2.4220510750072046,
           2.4513925806319055,
           2.4807340862566063,
           2.5100755918813062,
           2.539417097506007,
           2.568758603130708,
           2.5981001087554088,
           2.6274416143801096,
           2.6567831200048104,
           2.686124625629511,
           2.715466131254211,
           2.744807636878912,
           2.774149142503613,
           2.8034906481283137,
           2.8328321537530146,
           2.862173659377715,
           2.8915151650024153,
           2.9208566706271166,
           2.950198176251817,
           2.979539681876518,
           3.0088811875012187,
           3.0382226931259195,
           3.06756419875062,
           3.0969057043753208,
           3.126247210000021,
           3.155588715624722,
           3.184930221249423,
           3.214271726874123,
           3.243613232498824,
           3.272954738123525,
           3.3022962437482257,
           3.331637749372926,
           3.360979254997627,
           3.390320760622328,
           3.419662266247028,
           3.449003771871729,
           3.47834527749643,
           3.5076867831211302,
           3.537028288745831,
           3.566369794370532,
           3.5957112999952323,
           3.6250528056199336,
           3.654394311244634,
           3.6837358168693344,
           3.7130773224940357,
           3.742418828118736,
           3.771760333743437,
           3.8011018393681377,
           3.830443344992838,
           3.859784850617539,
           3.88912635624224,
           3.91846786186694,
           3.947809367491641,
           3.977150873116342,
           4.006492378741042,
           4.0358338843657435,
           4.0651753899904435
          ],
          [
           1.178927636061216,
           1.2082691416859168,
           1.2376106473106174,
           1.266952152935318,
           1.2962936585600189,
           1.3256351641847195,
           1.35497666980942,
           1.384318175434121,
           1.4136596810588218,
           1.4430011866835224,
           1.472342692308223,
           1.5016841979329238,
           1.5310257035576245,
           1.560367209182325,
           1.589708714807026,
           1.6190502204317265,
           1.6483917260564271,
           1.677733231681128,
           1.7070747373058288,
           1.7364162429305292,
           1.76575774855523,
           1.7950992541799309,
           1.8244407598046315,
           1.853782265429332,
           1.883123771054033,
           1.9124652766787333,
           1.9418067823034342,
           1.971148287928135,
           2.000489793552836,
           2.0298312991775362,
           2.059172804802237,
           2.0885143104269375,
           2.1178558160516383,
           2.147197321676339,
           2.17653882730104,
           2.2058803329257404,
           2.235221838550441,
           2.264563344175142,
           2.293904849799843,
           2.3232463554245433,
           2.352587861049244,
           2.381929366673945,
           2.4112708722986453,
           2.440612377923346,
           2.469953883548047,
           2.499295389172748,
           2.5286368947974482,
           2.557978400422149,
           2.58731990604685,
           2.6166614116715503,
           2.646002917296251,
           2.675344422920952,
           2.7046859285456524,
           2.734027434170353,
           2.763368939795054,
           2.7927104454197544,
           2.8220519510444553,
           2.851393456669156,
           2.8807349622938565,
           2.9100764679185573,
           2.939417973543258,
           2.9687594791679586,
           2.9981009847926594,
           3.0274424904173602,
           3.056783996042061,
           3.0861255016667615,
           3.1154670072914623,
           3.144808512916163,
           3.1741500185408635,
           3.2034915241655644,
           3.2328330297902648,
           3.2621745354149656,
           3.2915160410396664,
           3.3208575466643673,
           3.3501990522890677,
           3.3795405579137685,
           3.4088820635384693,
           3.4382235691631697,
           3.4675650747878706,
           3.4969065804125714,
           3.526248086037272,
           3.5555895916619726,
           3.5849310972866735,
           3.614272602911374,
           3.643614108536075,
           3.6729556141607755,
           3.702297119785476,
           3.731638625410177,
           3.7609801310348776,
           3.7903216366595784,
           3.8196631422842793,
           3.8490046479089797,
           3.8783461535336805,
           3.9076876591583813,
           3.9370291647830817,
           3.9663706704077826,
           3.9957121760324834,
           4.025053681657184,
           4.054395187281885,
           4.0837366929065855
          ],
          [
           1.1974889389773578,
           1.2268304446020584,
           1.2561719502267592,
           1.2855134558514598,
           1.3148549614761604,
           1.3441964671008613,
           1.3735379727255619,
           1.4028794783502625,
           1.4322209839749633,
           1.461562489599664,
           1.4909039952243646,
           1.5202455008490654,
           1.5495870064737662,
           1.5789285120984669,
           1.6082700177231675,
           1.6376115233478683,
           1.666953028972569,
           1.6962945345972695,
           1.7256360402219704,
           1.754977545846671,
           1.7843190514713716,
           1.8136605570960724,
           1.8430020627207733,
           1.8723435683454737,
           1.9016850739701745,
           1.9310265795948751,
           1.960368085219576,
           1.9897095908442766,
           2.0190510964689774,
           2.048392602093678,
           2.0777341077183786,
           2.1070756133430795,
           2.1364171189677803,
           2.165758624592481,
           2.1951001302171815,
           2.224441635841882,
           2.2537831414665828,
           2.2831246470912836,
           2.3124661527159844,
           2.3418076583406853,
           2.3711491639653857,
           2.4004906695900865,
           2.429832175214787,
           2.4591736808394877,
           2.4885151864641886,
           2.5178566920888894,
           2.54719819771359,
           2.5765397033382906,
           2.6058812089629915,
           2.635222714587692,
           2.6645642202123927,
           2.6939057258370935,
           2.7232472314617944,
           2.7525887370864948,
           2.7819302427111956,
           2.811271748335896,
           2.840613253960597,
           2.8699547595852977,
           2.8992962652099985,
           2.928637770834699,
           2.9579792764594,
           2.9873207820841,
           3.016662287708801,
           3.046003793333502,
           3.0753452989582026,
           3.1046868045829035,
           3.1340283102076043,
           3.1633698158323047,
           3.192711321457005,
           3.222052827081706,
           3.2513943327064068,
           3.2807358383311076,
           3.3100773439558084,
           3.3394188495805093,
           3.3687603552052092,
           3.39810186082991,
           3.427443366454611,
           3.4567848720793117,
           3.4861263777040126,
           3.5154678833287134,
           3.5448093889534134,
           3.574150894578114,
           3.603492400202815,
           3.632833905827516,
           3.6621754114522167,
           3.6915169170769175,
           3.7208584227016175,
           3.750199928326319,
           3.779541433951019,
           3.80888293957572,
           3.838224445200421,
           3.8675659508251217,
           3.8969074564498225,
           3.9262489620745233,
           3.9555904676992233,
           3.984931973323924,
           4.014273478948625,
           4.043614984573326,
           4.072956490198027,
           4.1022979958227275
          ],
          [
           1.2160502418934993,
           1.2453917475182,
           1.2747332531429008,
           1.3040747587676016,
           1.3334162643923022,
           1.3627577700170028,
           1.3920992756417037,
           1.4214407812664043,
           1.4507822868911049,
           1.4801237925158057,
           1.5094652981405063,
           1.538806803765207,
           1.5681483093899078,
           1.5974898150146084,
           1.626831320639309,
           1.6561728262640099,
           1.6855143318887107,
           1.714855837513411,
           1.744197343138112,
           1.7735388487628128,
           1.8028803543875134,
           1.832221860012214,
           1.8615633656369148,
           1.8909048712616154,
           1.9202463768863163,
           1.949587882511017,
           1.9789293881357177,
           2.008270893760418,
           2.037612399385119,
           2.06695390500982,
           2.0962954106345206,
           2.125636916259221,
           2.154978421883922,
           2.1843199275086227,
           2.213661433133323,
           2.243002938758024,
           2.2723444443827248,
           2.301685950007425,
           2.331027455632126,
           2.360368961256827,
           2.389710466881527,
           2.419051972506228,
           2.448393478130929,
           2.4777349837556293,
           2.50707648938033,
           2.536417995005031,
           2.5657595006297313,
           2.595101006254432,
           2.624442511879133,
           2.653784017503834,
           2.6831255231285343,
           2.712467028753235,
           2.741808534377936,
           2.7711500400026363,
           2.800491545627337,
           2.829833051252038,
           2.8591745568767384,
           2.888516062501439,
           2.91785756812614,
           2.9471990737508404,
           2.9765405793755417,
           3.005882085000242,
           3.0352235906249425,
           3.064565096249644,
           3.093906601874344,
           3.123248107499045,
           3.152589613123746,
           3.1819311187484463,
           3.211272624373147,
           3.240614129997848,
           3.2699556356225483,
           3.299297141247249,
           3.32863864687195,
           3.357980152496651,
           3.387321658121351,
           3.416663163746052,
           3.446004669370753,
           3.4753461749954533,
           3.504687680620154,
           3.534029186244855,
           3.5633706918695554,
           3.592712197494256,
           3.622053703118957,
           3.6513952087436574,
           3.6807367143683587,
           3.710078219993059,
           3.7394197256177595,
           3.7687612312424608,
           3.798102736867161,
           3.827444242491862,
           3.856785748116563,
           3.886127253741263,
           3.915468759365964,
           3.944810264990665,
           3.9741517706153653,
           4.003493276240066,
           4.032834781864767,
           4.062176287489468,
           4.091517793114168,
           4.1208592987388695
          ],
          [
           1.234611544809641,
           1.2639530504343417,
           1.2932945560590423,
           1.3226360616837431,
           1.3519775673084438,
           1.3813190729331444,
           1.4106605785578452,
           1.440002084182546,
           1.4693435898072467,
           1.4986850954319473,
           1.5280266010566481,
           1.5573681066813487,
           1.5867096123060493,
           1.6160511179307502,
           1.6453926235554508,
           1.6747341291801516,
           1.7040756348048522,
           1.7334171404295529,
           1.7627586460542537,
           1.7921001516789543,
           1.8214416573036551,
           1.8507831629283558,
           1.8801246685530564,
           1.9094661741777572,
           1.938807679802458,
           1.9681491854271584,
           1.9974906910518593,
           2.02683219667656,
           2.0561737023012605,
           2.0855152079259613,
           2.114856713550662,
           2.1441982191753626,
           2.1735397248000634,
           2.2028812304247642,
           2.232222736049465,
           2.2615642416741655,
           2.2909057472988663,
           2.3202472529235667,
           2.3495887585482675,
           2.3789302641729684,
           2.408271769797669,
           2.43761327542237,
           2.4669547810470704,
           2.496296286671771,
           2.5256377922964717,
           2.5549792979211725,
           2.5843208035458733,
           2.613662309170574,
           2.643003814795275,
           2.6723453204199754,
           2.701686826044676,
           2.7310283316693766,
           2.7603698372940775,
           2.7897113429187783,
           2.819052848543479,
           2.8483943541681795,
           2.87773585979288,
           2.9070773654175808,
           2.9364188710422816,
           2.9657603766669824,
           2.9951018822916833,
           3.0244433879163837,
           3.053784893541084,
           3.0831263991657853,
           3.1124679047904857,
           3.1418094104151866,
           3.1711509160398874,
           3.2004924216645882,
           3.2298339272892886,
           3.2591754329139895,
           3.28851693853869,
           3.3178584441633907,
           3.3471999497880915,
           3.3765414554127924,
           3.4058829610374928,
           3.4352244666621936,
           3.4645659722868944,
           3.493907477911595,
           3.5232489835362957,
           3.5525904891609965,
           3.581931994785697,
           3.6112735004103977,
           3.6406150060350986,
           3.669956511659799,
           3.6992980172845003,
           3.7286395229092006,
           3.757981028533901,
           3.7873225341586023,
           3.8166640397833027,
           3.8460055454080035,
           3.8753470510327044,
           3.9046885566574048,
           3.9340300622821056,
           3.9633715679068064,
           3.992713073531507,
           4.022054579156208,
           4.051396084780908,
           4.080737590405609,
           4.11007909603031,
           4.139420601655011
          ],
          [
           1.2531728477257826,
           1.2825143533504835,
           1.311855858975184,
           1.3411973645998847,
           1.3705388702245855,
           1.3998803758492862,
           1.4292218814739868,
           1.4585633870986876,
           1.4879048927233884,
           1.517246398348089,
           1.5465879039727897,
           1.5759294095974905,
           1.6052709152221911,
           1.6346124208468917,
           1.6639539264715926,
           1.6932954320962932,
           1.7226369377209938,
           1.7519784433456946,
           1.7813199489703955,
           1.8106614545950959,
           1.8400029602197967,
           1.8693444658444975,
           1.8986859714691982,
           1.9280274770938988,
           1.9573689827185996,
           1.9867104883433,
           2.016051993968001,
           2.0453934995927017,
           2.074735005217402,
           2.104076510842103,
           2.1334180164668037,
           2.1627595220915046,
           2.192101027716205,
           2.221442533340906,
           2.2507840389656066,
           2.280125544590307,
           2.309467050215008,
           2.3388085558397087,
           2.3681500614644095,
           2.39749156708911,
           2.4268330727138108,
           2.4561745783385116,
           2.485516083963212,
           2.514857589587913,
           2.5441990952126137,
           2.5735406008373145,
           2.602882106462015,
           2.6322236120867157,
           2.6615651177114166,
           2.690906623336117,
           2.720248128960818,
           2.7495896345855186,
           2.778931140210219,
           2.80827264583492,
           2.8376141514596207,
           2.866955657084321,
           2.896297162709022,
           2.9256386683337228,
           2.954980173958423,
           2.984321679583124,
           3.013663185207825,
           3.0430046908325252,
           3.072346196457226,
           3.101687702081927,
           3.1310292077066277,
           3.160370713331328,
           3.189712218956029,
           3.21905372458073,
           3.24839523020543,
           3.277736735830131,
           3.3070782414548314,
           3.3364197470795323,
           3.365761252704233,
           3.395102758328934,
           3.4244442639536343,
           3.453785769578335,
           3.483127275203036,
           3.5124687808277364,
           3.5418102864524372,
           3.571151792077138,
           3.6004932977018385,
           3.6298348033265393,
           3.65917630895124,
           3.6885178145759405,
           3.717859320200642,
           3.747200825825342,
           3.7765423314500426,
           3.805883837074744,
           3.8352253426994443,
           3.864566848324145,
           3.893908353948846,
           3.9232498595735463,
           3.952591365198247,
           3.981932870822948,
           4.011274376447648,
           4.040615882072349,
           4.06995738769705,
           4.09929889332175,
           4.128640398946452,
           4.157981904571152
          ],
          [
           1.2717341506419244,
           1.301075656266625,
           1.3304171618913259,
           1.3597586675160265,
           1.389100173140727,
           1.418441678765428,
           1.4477831843901285,
           1.4771246900148292,
           1.50646619563953,
           1.5358077012642306,
           1.5651492068889312,
           1.594490712513632,
           1.623832218138333,
           1.6531737237630335,
           1.6825152293877341,
           1.711856735012435,
           1.7411982406371356,
           1.7705397462618362,
           1.799881251886537,
           1.8292227575112376,
           1.8585642631359383,
           1.887905768760639,
           1.91724727438534,
           1.9465887800100403,
           1.9759302856347412,
           2.0052717912594415,
           2.0346132968841424,
           2.0639548025088432,
           2.093296308133544,
           2.122637813758245,
           2.1519793193829453,
           2.181320825007646,
           2.2106623306323465,
           2.2400038362570474,
           2.269345341881748,
           2.298686847506449,
           2.32802835313115,
           2.3573698587558503,
           2.386711364380551,
           2.4160528700052515,
           2.4453943756299523,
           2.474735881254653,
           2.504077386879354,
           2.5334188925040544,
           2.5627603981287552,
           2.592101903753456,
           2.6214434093781565,
           2.6507849150028573,
           2.680126420627558,
           2.709467926252259,
           2.7388094318769594,
           2.76815093750166,
           2.7974924431263606,
           2.8268339487510614,
           2.8561754543757623,
           2.885516960000463,
           2.9148584656251635,
           2.9441999712498643,
           2.9735414768745647,
           3.0028829824992656,
           3.0322244881239664,
           3.0615659937486672,
           3.0909074993733676,
           3.120249004998069,
           3.1495905106227693,
           3.1789320162474697,
           3.2082735218721705,
           3.2376150274968714,
           3.266956533121572,
           3.296298038746273,
           3.325639544370973,
           3.354981049995674,
           3.3843225556203747,
           3.4136640612450755,
           3.4430055668697763,
           3.472347072494477,
           3.501688578119178,
           3.531030083743878,
           3.560371589368579,
           3.5897130949932796,
           3.6190546006179805,
           3.6483961062426813,
           3.677737611867382,
           3.707079117492082,
           3.736420623116784,
           3.7657621287414837,
           3.7951036343661846,
           3.8244451399908854,
           3.8537866456155863,
           3.883128151240287,
           3.912469656864988,
           3.941811162489688,
           3.9711526681143887,
           4.0004941737390896,
           4.02983567936379,
           4.059177184988491,
           4.088518690613192,
           4.117860196237892,
           4.147201701862593,
           4.176543207487294
          ],
          [
           1.290295453558066,
           1.3196369591827666,
           1.3489784648074674,
           1.3783199704321683,
           1.4076614760568689,
           1.4370029816815695,
           1.4663444873062703,
           1.495685992930971,
           1.5250274985556715,
           1.5543690041803724,
           1.583710509805073,
           1.6130520154297736,
           1.6423935210544744,
           1.671735026679175,
           1.7010765323038757,
           1.7304180379285765,
           1.7597595435532774,
           1.7891010491779777,
           1.8184425548026786,
           1.8477840604273794,
           1.87712556605208,
           1.9064670716767806,
           1.9358085773014815,
           1.965150082926182,
           1.994491588550883,
           2.0238330941755835,
           2.0531745998002844,
           2.082516105424985,
           2.1118576110496856,
           2.1411991166743864,
           2.170540622299087,
           2.1998821279237877,
           2.2292236335484885,
           2.2585651391731894,
           2.2879066447978897,
           2.3172481504225906,
           2.3465896560472914,
           2.375931161671992,
           2.4052726672966926,
           2.4346141729213935,
           2.463955678546094,
           2.4932971841707947,
           2.5226386897954955,
           2.551980195420196,
           2.5813217010448968,
           2.6106632066695976,
           2.640004712294298,
           2.669346217918999,
           2.6986877235436997,
           2.7280292291684005,
           2.757370734793101,
           2.7867122404178017,
           2.8160537460425026,
           2.845395251667203,
           2.874736757291904,
           2.9040782629166046,
           2.933419768541305,
           2.962761274166006,
           2.9921027797907067,
           3.021444285415407,
           3.0507857910401084,
           3.080127296664809,
           3.109468802289509,
           3.1388103079142105,
           3.168151813538911,
           3.1974933191636117,
           3.2268348247883125,
           3.256176330413013,
           3.2855178360377137,
           3.3148593416624146,
           3.344200847287115,
           3.373542352911816,
           3.4028838585365166,
           3.4322253641612175,
           3.461566869785918,
           3.4909083754106187,
           3.5202498810353196,
           3.54959138666002,
           3.578932892284721,
           3.6082743979094216,
           3.637615903534122,
           3.666957409158823,
           3.6962989147835237,
           3.725640420408224,
           3.7549819260329254,
           3.7843234316576257,
           3.813664937282326,
           3.8430064429070274,
           3.872347948531728,
           3.9016894541564286,
           3.9310309597811295,
           3.96037246540583,
           3.9897139710305307,
           4.0190554766552316,
           4.048396982279932,
           4.077738487904632,
           4.107079993529334,
           4.136421499154034,
           4.165763004778735,
           4.195104510403436
          ],
          [
           1.3088567564742077,
           1.3381982620989084,
           1.367539767723609,
           1.3968812733483098,
           1.4262227789730104,
           1.455564284597711,
           1.4849057902224119,
           1.5142472958471127,
           1.5435888014718133,
           1.572930307096514,
           1.6022718127212148,
           1.6316133183459154,
           1.660954823970616,
           1.6902963295953168,
           1.7196378352200175,
           1.7489793408447183,
           1.778320846469419,
           1.8076623520941195,
           1.8370038577188204,
           1.866345363343521,
           1.8956868689682218,
           1.9250283745929224,
           1.954369880217623,
           1.9837113858423239,
           2.0130528914670247,
           2.042394397091725,
           2.071735902716426,
           2.1010774083411268,
           2.130418913965827,
           2.159760419590528,
           2.189101925215229,
           2.2184434308399292,
           2.24778493646463,
           2.277126442089331,
           2.3064679477140313,
           2.335809453338732,
           2.365150958963433,
           2.394492464588134,
           2.4238339702128346,
           2.453175475837535,
           2.4825169814622354,
           2.5118584870869363,
           2.541199992711637,
           2.570541498336338,
           2.5998830039610388,
           2.6292245095857396,
           2.6585660152104396,
           2.6879075208351404,
           2.7172490264598412,
           2.746590532084542,
           2.775932037709243,
           2.8052735433339437,
           2.834615048958644,
           2.8639565545833445,
           2.8932980602080454,
           2.922639565832746,
           2.951981071457447,
           2.981322577082148,
           3.0106640827068483,
           3.0400055883315487,
           3.06934709395625,
           3.0986885995809503,
           3.128030105205651,
           3.157371610830352,
           3.186713116455053,
           3.2160546220797532,
           3.245396127704454,
           3.2747376333291545,
           3.3040791389538553,
           3.333420644578556,
           3.3627621502032565,
           3.3921036558279574,
           3.421445161452658,
           3.450786667077359,
           3.4801281727020594,
           3.5094696783267603,
           3.538811183951461,
           3.5681526895761615,
           3.5974941952008623,
           3.626835700825563,
           3.6561772064502636,
           3.6855187120749644,
           3.7148602176996652,
           3.7442017233243656,
           3.773543228949067,
           3.8028847345737673,
           3.8322262401984677,
           3.861567745823169,
           3.8909092514478694,
           3.92025075707257,
           3.949592262697271,
           3.9789337683219714,
           4.008275273946673,
           4.037616779571373,
           4.0669582851960735,
           4.096299790820774,
           4.125641296445475,
           4.154982802070176,
           4.184324307694876,
           4.213665813319578
          ],
          [
           1.3274180593903493,
           1.3567595650150501,
           1.3861010706397507,
           1.4154425762644514,
           1.4447840818891522,
           1.4741255875138528,
           1.5034670931385534,
           1.5328085987632543,
           1.562150104387955,
           1.5914916100126557,
           1.6208331156373563,
           1.6501746212620572,
           1.6795161268867578,
           1.7088576325114584,
           1.7381991381361592,
           1.7675406437608598,
           1.7968821493855605,
           1.8262236550102613,
           1.8555651606349621,
           1.8849066662596625,
           1.9142481718843634,
           1.9435896775090642,
           1.9729311831337648,
           2.0022726887584654,
           2.0316141943831663,
           2.0609557000078667,
           2.0902972056325675,
           2.1196387112572683,
           2.148980216881969,
           2.1783217225066696,
           2.2076632281313704,
           2.237004733756071,
           2.2663462393807716,
           2.2956877450054725,
           2.3250292506301733,
           2.3543707562548737,
           2.3837122618795745,
           2.4130537675042754,
           2.442395273128976,
           2.4717367787536766,
           2.5010782843783774,
           2.5304197900030783,
           2.5597612956277787,
           2.5891028012524795,
           2.6184443068771803,
           2.647785812501881,
           2.6771273181265816,
           2.7064688237512824,
           2.7358103293759832,
           2.7651518350006836,
           2.7944933406253845,
           2.8238348462500853,
           2.8531763518747857,
           2.8825178574994865,
           2.9118593631241874,
           2.9412008687488878,
           2.9705423743735886,
           2.9998838799982894,
           3.02922538562299,
           3.0585668912476907,
           3.0879083968723915,
           3.117249902497092,
           3.1465914081217927,
           3.1759329137464936,
           3.2052744193711944,
           3.234615924995895,
           3.2639574306205956,
           3.2932989362452965,
           3.322640441869997,
           3.3519819474946977,
           3.381323453119398,
           3.410664958744099,
           3.4400064643687998,
           3.4693479699935006,
           3.498689475618201,
           3.528030981242902,
           3.5573724868676027,
           3.586713992492303,
           3.616055498117004,
           3.6453970037417047,
           3.674738509366405,
           3.704080014991106,
           3.733421520615807,
           3.762763026240507,
           3.7921045318652085,
           3.821446037489909,
           3.8507875431146092,
           3.8801290487393105,
           3.909470554364011,
           3.9388120599887118,
           3.9681535656134126,
           3.997495071238113,
           4.026836576862814,
           4.056178082487515,
           4.085519588112215,
           4.114861093736916,
           4.144202599361616,
           4.173544104986317,
           4.202885610611018,
           4.232227116235719
          ],
          [
           1.345979362306491,
           1.3753208679311917,
           1.4046623735558925,
           1.4340038791805931,
           1.4633453848052937,
           1.4926868904299946,
           1.5220283960546952,
           1.5513699016793958,
           1.5807114073040966,
           1.6100529129287973,
           1.6393944185534979,
           1.6687359241781987,
           1.6980774298028996,
           1.7274189354276002,
           1.7567604410523008,
           1.7861019466770016,
           1.8154434523017022,
           1.8447849579264028,
           1.8741264635511037,
           1.9034679691758043,
           1.932809474800505,
           1.9621509804252057,
           1.9914924860499066,
           2.020833991674607,
           2.050175497299308,
           2.0795170029240087,
           2.1088585085487095,
           2.13820001417341,
           2.1675415197981107,
           2.196883025422811,
           2.226224531047512,
           2.255566036672213,
           2.2849075422969136,
           2.3142490479216145,
           2.343590553546315,
           2.3729320591710152,
           2.402273564795716,
           2.431615070420417,
           2.4609565760451177,
           2.4902980816698186,
           2.519639587294519,
           2.54898109291922,
           2.57832259854392,
           2.607664104168621,
           2.637005609793322,
           2.6663471154180227,
           2.695688621042723,
           2.725030126667424,
           2.754371632292125,
           2.783713137916825,
           2.813054643541526,
           2.842396149166227,
           2.8717376547909277,
           2.901079160415628,
           2.930420666040329,
           2.9597621716650293,
           2.98910367728973,
           3.018445182914431,
           3.047786688539132,
           3.077128194163832,
           3.1064696997885335,
           3.1358112054132334,
           3.1651527110379343,
           3.194494216662635,
           3.223835722287336,
           3.253177227912037,
           3.2825187335367376,
           3.311860239161438,
           3.3412017447861384,
           3.3705432504108392,
           3.39988475603554,
           3.429226261660241,
           3.4585677672849418,
           3.4879092729096426,
           3.5172507785343425,
           3.5465922841590434,
           3.575933789783744,
           3.605275295408445,
           3.634616801033146,
           3.6639583066578467,
           3.6932998122825467,
           3.7226413179072475,
           3.7519828235319483,
           3.781324329156649,
           3.81066583478135,
           3.840007340406051,
           3.869348846030751,
           3.8986903516554525,
           3.9280318572801525,
           3.9573733629048533,
           3.986714868529554,
           4.016056374154255,
           4.045397879778956,
           4.074739385403657,
           4.104080891028357,
           4.133422396653057,
           4.162763902277758,
           4.192105407902459,
           4.22144691352716,
           4.250788419151861
          ],
          [
           1.3645406652226326,
           1.3938821708473332,
           1.423223676472034,
           1.452565182096735,
           1.4819066877214355,
           1.5112481933461361,
           1.540589698970837,
           1.5699312045955376,
           1.5992727102202382,
           1.628614215844939,
           1.6579557214696397,
           1.6872972270943403,
           1.716638732719041,
           1.7459802383437417,
           1.7753217439684423,
           1.8046632495931432,
           1.834004755217844,
           1.8633462608425444,
           1.8926877664672452,
           1.922029272091946,
           1.9513707777166467,
           1.9807122833413473,
           2.010053788966048,
           2.039395294590749,
           2.06873680021545,
           2.09807830584015,
           2.127419811464851,
           2.1567613170895514,
           2.1861028227142523,
           2.215444328338953,
           2.244785833963654,
           2.2741273395883543,
           2.303468845213055,
           2.332810350837756,
           2.3621518564624564,
           2.3914933620871572,
           2.420834867711858,
           2.4501763733365585,
           2.4795178789612593,
           2.50885938458596,
           2.5382008902106605,
           2.5675423958353614,
           2.596883901460062,
           2.6262254070847626,
           2.6555669127094634,
           2.6849084183341643,
           2.7142499239588647,
           2.7435914295835655,
           2.7729329352082663,
           2.802274440832967,
           2.8316159464576676,
           2.8609574520823684,
           2.8902989577070692,
           2.9196404633317696,
           2.9489819689564705,
           2.9783234745811713,
           3.0076649802058717,
           3.0370064858305725,
           3.0663479914552734,
           3.0956894970799738,
           3.125031002704675,
           3.1543725083293754,
           3.183714013954076,
           3.213055519578777,
           3.2423970252034775,
           3.2717385308281783,
           3.301080036452879,
           3.3304215420775796,
           3.3597630477022804,
           3.3891045533269812,
           3.4184460589516816,
           3.4477875645763825,
           3.4771290702010833,
           3.506470575825784,
           3.5358120814504845,
           3.5651535870751854,
           3.594495092699886,
           3.6238365983245866,
           3.6531781039492874,
           3.6825196095739883,
           3.7118611151986887,
           3.7412026208233895,
           3.7705441264480903,
           3.7998856320727907,
           3.829227137697492,
           3.8585686433221924,
           3.887910148946893,
           3.917251654571594,
           3.9465931601962945,
           3.9759346658209953,
           4.005276171445696,
           4.034617677070397,
           4.063959182695097,
           4.093300688319799,
           4.122642193944499,
           4.151983699569199,
           4.1813252051939,
           4.2106667108186,
           4.240008216443302,
           4.269349722068002
          ],
          [
           1.3831019681387744,
           1.412443473763475,
           1.4417849793881756,
           1.4711264850128765,
           1.500467990637577,
           1.5298094962622777,
           1.5591510018869785,
           1.5884925075116794,
           1.61783401313638,
           1.6471755187610806,
           1.6765170243857814,
           1.705858530010482,
           1.7352000356351827,
           1.7645415412598835,
           1.793883046884584,
           1.823224552509285,
           1.8525660581339856,
           1.8819075637586862,
           1.911249069383387,
           1.9405905750080876,
           1.9699320806327885,
           1.999273586257489,
           2.0286150918821897,
           2.0579565975068905,
           2.0872981031315914,
           2.1166396087562918,
           2.1459811143809926,
           2.1753226200056934,
           2.204664125630394,
           2.2340056312550947,
           2.2633471368797955,
           2.292688642504496,
           2.3220301481291967,
           2.3513716537538976,
           2.3807131593785984,
           2.410054665003299,
           2.4393961706279996,
           2.4687376762527,
           2.498079181877401,
           2.5274206875021017,
           2.5567621931268025,
           2.5861036987515034,
           2.6154452043762038,
           2.644786710000904,
           2.674128215625605,
           2.703469721250306,
           2.7328112268750067,
           2.7621527324997075,
           2.7914942381244083,
           2.8208357437491087,
           2.850177249373809,
           2.87951875499851,
           2.908860260623211,
           2.9382017662479116,
           2.9675432718726125,
           2.996884777497313,
           3.0262262831220132,
           3.055567788746714,
           3.084909294371415,
           3.1142507999961158,
           3.1435923056208166,
           3.172933811245517,
           3.2022753168702174,
           3.2316168224949187,
           3.260958328119619,
           3.29029983374432,
           3.3196413393690207,
           3.3489828449937216,
           3.378324350618422,
           3.407665856243123,
           3.437007361867823,
           3.466348867492524,
           3.495690373117225,
           3.5250318787419257,
           3.554373384366626,
           3.583714889991327,
           3.6130563956160278,
           3.642397901240728,
           3.671739406865429,
           3.70108091249013,
           3.73042241811483,
           3.759763923739531,
           3.789105429364232,
           3.8184469349889323,
           3.8477884406136336,
           3.877129946238334,
           3.9064714518630343,
           3.9358129574877356,
           3.965154463112436,
           3.994495968737137,
           4.023837474361837,
           4.053178979986538,
           4.082520485611239,
           4.11186199123594,
           4.141203496860641,
           4.1705450024853405,
           4.199886508110042,
           4.229228013734742,
           4.258569519359443,
           4.287911024984144
          ],
          [
           1.4016632710549162,
           1.4310047766796168,
           1.4603462823043176,
           1.4896877879290182,
           1.5190292935537189,
           1.5483707991784197,
           1.5777123048031203,
           1.607053810427821,
           1.6363953160525218,
           1.6657368216772224,
           1.695078327301923,
           1.7244198329266238,
           1.7537613385513247,
           1.7831028441760253,
           1.8124443498007259,
           1.8417858554254267,
           1.8711273610501273,
           1.900468866674828,
           1.9298103722995288,
           1.9591518779242294,
           1.98849338354893,
           2.017834889173631,
           2.0471763947983317,
           2.076517900423032,
           2.105859406047733,
           2.1352009116724338,
           2.1645424172971346,
           2.193883922921835,
           2.223225428546536,
           2.252566934171236,
           2.281908439795937,
           2.311249945420638,
           2.3405914510453387,
           2.3699329566700396,
           2.39927446229474,
           2.4286159679194403,
           2.457957473544141,
           2.487298979168842,
           2.516640484793543,
           2.5459819904182437,
           2.575323496042944,
           2.604665001667645,
           2.6340065072923453,
           2.663348012917046,
           2.692689518541747,
           2.722031024166448,
           2.751372529791148,
           2.780714035415849,
           2.81005554104055,
           2.8393970466652503,
           2.868738552289951,
           2.898080057914652,
           2.927421563539353,
           2.956763069164053,
           2.986104574788754,
           3.0154460804134544,
           3.0447875860381552,
           3.074129091662856,
           3.103470597287557,
           3.1328121029122573,
           3.1621536085369586,
           3.1914951141616585,
           3.2208366197863594,
           3.25017812541106,
           3.279519631035761,
           3.308861136660462,
           3.3382026422851627,
           3.367544147909863,
           3.3968856535345635,
           3.4262271591592643,
           3.455568664783965,
           3.484910170408666,
           3.514251676033367,
           3.5435931816580677,
           3.5729346872827676,
           3.6022761929074685,
           3.6316176985321693,
           3.66095920415687,
           3.690300709781571,
           3.719642215406272,
           3.7489837210309718,
           3.7783252266556726,
           3.8076667322803734,
           3.8370082379050743,
           3.866349743529775,
           3.895691249154476,
           3.925032754779176,
           3.9543742604038776,
           3.9837157660285776,
           4.013057271653278,
           4.042398777277979,
           4.07174028290268,
           4.101081788527381,
           4.130423294152082,
           4.159764799776782,
           4.1891063054014825,
           4.218447811026183,
           4.247789316650884,
           4.277130822275585,
           4.306472327900286
          ],
          [
           1.4202245739710577,
           1.4495660795957583,
           1.4789075852204592,
           1.50824909084516,
           1.5375905964698606,
           1.5669321020945612,
           1.596273607719262,
           1.6256151133439627,
           1.6549566189686633,
           1.6842981245933641,
           1.7136396302180648,
           1.7429811358427654,
           1.7723226414674662,
           1.8016641470921668,
           1.8310056527168674,
           1.8603471583415683,
           1.889688663966269,
           1.9190301695909695,
           1.9483716752156703,
           1.9777131808403712,
           2.0070546864650716,
           2.0363961920897724,
           2.0657376977144732,
           2.095079203339174,
           2.124420708963875,
           2.1537622145885753,
           2.183103720213276,
           2.2124452258379765,
           2.2417867314626774,
           2.271128237087378,
           2.300469742712079,
           2.3298112483367794,
           2.3591527539614803,
           2.388494259586181,
           2.4178357652108815,
           2.4471772708355823,
           2.476518776460283,
           2.5058602820849836,
           2.5352017877096844,
           2.5645432933343852,
           2.5938847989590856,
           2.6232263045837865,
           2.6525678102084873,
           2.6819093158331877,
           2.7112508214578885,
           2.7405923270825894,
           2.7699338327072898,
           2.7992753383319906,
           2.8286168439566914,
           2.8579583495813923,
           2.8872998552060927,
           2.9166413608307935,
           2.9459828664554943,
           2.9753243720801947,
           3.0046658777048956,
           3.0340073833295964,
           3.063348888954297,
           3.0926903945789976,
           3.1220319002036985,
           3.151373405828399,
           3.1807149114531,
           3.2100564170778005,
           3.239397922702501,
           3.268739428327202,
           3.2980809339519026,
           3.3274224395766034,
           3.3567639452013043,
           3.3861054508260047,
           3.4154469564507055,
           3.4447884620754063,
           3.4741299677001067,
           3.5034714733248076,
           3.5328129789495084,
           3.5621544845742092,
           3.5914959901989096,
           3.6208374958236105,
           3.6501790014483113,
           3.6795205070730117,
           3.7088620126977125,
           3.7382035183224134,
           3.7675450239471138,
           3.7968865295718146,
           3.8262280351965154,
           3.855569540821216,
           3.884911046445917,
           3.9142525520706175,
           3.943594057695318,
           3.972935563320019,
           4.00227706894472,
           4.03161857456942,
           4.060960080194121,
           4.090301585818821,
           4.119643091443523,
           4.148984597068223,
           4.178326102692924,
           4.2076676083176245,
           4.237009113942325,
           4.266350619567026,
           4.295692125191726,
           4.325033630816428
          ],
          [
           1.4387858768871995,
           1.4681273825119001,
           1.4974688881366007,
           1.5268103937613016,
           1.5561518993860022,
           1.5854934050107028,
           1.6148349106354036,
           1.6441764162601042,
           1.673517921884805,
           1.7028594275095057,
           1.7322009331342065,
           1.7615424387589071,
           1.7908839443836078,
           1.8202254500083086,
           1.8495669556330092,
           1.87890846125771,
           1.9082499668824107,
           1.9375914725071113,
           1.9669329781318121,
           1.9962744837565127,
           2.0256159893812136,
           2.0549574950059144,
           2.084299000630615,
           2.1136405062553156,
           2.1429820118800165,
           2.172323517504717,
           2.2016650231294177,
           2.2310065287541185,
           2.260348034378819,
           2.2896895400035198,
           2.3190310456282206,
           2.348372551252921,
           2.377714056877622,
           2.4070555625023227,
           2.4363970681270235,
           2.465738573751724,
           2.4950800793764247,
           2.524421585001125,
           2.553763090625826,
           2.583104596250527,
           2.6124461018752276,
           2.6417876074999285,
           2.671129113124629,
           2.7004706187493293,
           2.72981212437403,
           2.759153629998731,
           2.7884951356234318,
           2.8178366412481326,
           2.8471781468728334,
           2.876519652497534,
           2.9058611581222342,
           2.935202663746935,
           2.964544169371636,
           2.9938856749963367,
           3.0232271806210376,
           3.052568686245738,
           3.0819101918704384,
           3.111251697495139,
           3.14059320311984,
           3.169934708744541,
           3.1992762143692417,
           3.228617719993942,
           3.2579592256186425,
           3.2873007312433438,
           3.316642236868044,
           3.345983742492745,
           3.375325248117446,
           3.4046667537421467,
           3.434008259366847,
           3.463349764991548,
           3.4926912706162483,
           3.522032776240949,
           3.55137428186565,
           3.580715787490351,
           3.610057293115051,
           3.639398798739752,
           3.668740304364453,
           3.6980818099891533,
           3.727423315613854,
           3.756764821238555,
           3.7861063268632553,
           3.815447832487956,
           3.844789338112657,
           3.8741308437373574,
           3.9034723493620587,
           3.932813854986759,
           3.9621553606114595,
           3.9914968662361607,
           4.020838371860862,
           4.0501798774855615,
           4.079521383110263,
           4.108862888734963,
           4.138204394359664,
           4.167545899984365,
           4.196887405609065,
           4.2262289112337665,
           4.2555704168584665,
           4.284911922483167,
           4.314253428107868,
           4.343594933732569
          ],
          [
           1.457347179803341,
           1.486688685428042,
           1.5160301910527425,
           1.5453716966774431,
           1.574713202302144,
           1.6040547079268446,
           1.6333962135515454,
           1.662737719176246,
           1.6920792248009466,
           1.7214207304256475,
           1.750762236050348,
           1.780103741675049,
           1.8094452472997495,
           1.8387867529244502,
           1.868128258549151,
           1.8974697641738516,
           1.9268112697985522,
           1.956152775423253,
           1.985494281047954,
           2.0148357866726543,
           2.044177292297355,
           2.073518797922056,
           2.1028603035467563,
           2.132201809171457,
           2.161543314796158,
           2.1908848204208584,
           2.2202263260455593,
           2.24956783167026,
           2.2789093372949605,
           2.3082508429196613,
           2.337592348544362,
           2.366933854169063,
           2.3962753597937634,
           2.425616865418464,
           2.454958371043165,
           2.4842998766678654,
           2.5136413822925663,
           2.542982887917267,
           2.572324393541968,
           2.6016658991666683,
           2.631007404791369,
           2.66034891041607,
           2.6896904160407704,
           2.7190319216654713,
           2.748373427290172,
           2.777714932914873,
           2.8070564385395733,
           2.836397944164274,
           2.865739449788975,
           2.8950809554136754,
           2.924422461038376,
           2.953763966663077,
           2.9831054722877774,
           3.0124469779124783,
           3.041788483537179,
           3.0711299891618795,
           3.1004714947865804,
           3.129813000411281,
           3.1591545060359816,
           3.1884960116606824,
           3.2178375172853833,
           3.2471790229100836,
           3.2765205285347845,
           3.3058620341594853,
           3.335203539784186,
           3.3645450454088865,
           3.3938865510335874,
           3.423228056658288,
           3.4525695622829886,
           3.4819110679076894,
           3.51125257353239,
           3.5405940791570907,
           3.5699355847817915,
           3.5992770904064924,
           3.6286185960311927,
           3.6579601016558936,
           3.6873016072805944,
           3.716643112905295,
           3.7459846185299956,
           3.7753261241546965,
           3.804667629779397,
           3.8340091354040977,
           3.8633506410287985,
           3.892692146653499,
           3.9220336522782,
           3.9513751579029006,
           3.980716663527601,
           4.010058169152302,
           4.039399674777003,
           4.0687411804017035,
           4.098082686026404,
           4.127424191651105,
           4.156765697275805,
           4.186107202900507,
           4.215448708525207,
           4.244790214149908,
           4.2741317197746085,
           4.303473225399308,
           4.33281473102401,
           4.36215623664871
          ],
          [
           1.4759084827194828,
           1.5052499883441834,
           1.5345914939688843,
           1.563932999593585,
           1.5932745052182855,
           1.6226160108429863,
           1.651957516467687,
           1.6812990220923876,
           1.7106405277170884,
           1.739982033341789,
           1.7693235389664896,
           1.7986650445911905,
           1.8280065502158913,
           1.857348055840592,
           1.8866895614652925,
           1.9160310670899934,
           1.945372572714694,
           1.9747140783393946,
           2.0040555839640954,
           2.033397089588796,
           2.0627385952134967,
           2.0920801008381975,
           2.1214216064628983,
           2.1507631120875987,
           2.1801046177122996,
           2.209446123337,
           2.238787628961701,
           2.2681291345864016,
           2.2974706402111025,
           2.3268121458358033,
           2.3561536514605037,
           2.3854951570852045,
           2.414836662709905,
           2.4441781683346058,
           2.4735196739593066,
           2.5028611795840074,
           2.5322026852087083,
           2.5615441908334087,
           2.5908856964581095,
           2.62022720208281,
           2.6495687077075107,
           2.6789102133322116,
           2.7082517189569124,
           2.737593224581613,
           2.7669347302063136,
           2.7962762358310145,
           2.825617741455715,
           2.8549592470804157,
           2.8843007527051165,
           2.9136422583298174,
           2.9429837639545178,
           2.9723252695792186,
           3.001666775203919,
           3.03100828082862,
           3.0603497864533207,
           3.0896912920780215,
           3.119032797702722,
           3.1483743033274227,
           3.177715808952123,
           3.207057314576824,
           3.236398820201525,
           3.2657403258262256,
           3.295081831450926,
           3.3244233370756273,
           3.3537648427003277,
           3.383106348325028,
           3.412447853949729,
           3.4417893595744298,
           3.4711308651991306,
           3.5004723708238314,
           3.5298138764485314,
           3.5591553820732322,
           3.588496887697933,
           3.617838393322634,
           3.6471798989473347,
           3.6765214045720356,
           3.7058629101967364,
           3.7352044158214364,
           3.764545921446137,
           3.793887427070838,
           3.823228932695539,
           3.8525704383202397,
           3.8819119439449405,
           3.9112534495696405,
           3.940594955194342,
           3.969936460819042,
           3.999277966443743,
           4.028619472068444,
           4.057960977693145,
           4.0873024833178455,
           4.116643988942546,
           4.145985494567246,
           4.175327000191947,
           4.204668505816648,
           4.234010011441349,
           4.26335151706605,
           4.2926930226907505,
           4.32203452831545,
           4.351376033940151,
           4.380717539564852
          ],
          [
           1.4944697856356244,
           1.523811291260325,
           1.5531527968850258,
           1.5824943025097267,
           1.6118358081344273,
           1.641177313759128,
           1.6705188193838287,
           1.6998603250085293,
           1.72920183063323,
           1.7585433362579308,
           1.7878848418826314,
           1.817226347507332,
           1.8465678531320329,
           1.8759093587567335,
           1.905250864381434,
           1.934592370006135,
           1.9639338756308358,
           1.9932753812555362,
           2.022616886880237,
           2.051958392504938,
           2.0812998981296387,
           2.110641403754339,
           2.13998290937904,
           2.1693244150037403,
           2.198665920628441,
           2.228007426253142,
           2.257348931877843,
           2.2866904375025436,
           2.316031943127244,
           2.345373448751945,
           2.3747149543766453,
           2.404056460001346,
           2.433397965626047,
           2.4627394712507478,
           2.492080976875448,
           2.521422482500149,
           2.55076398812485,
           2.5801054937495502,
           2.609446999374251,
           2.638788504998952,
           2.6681300106236523,
           2.697471516248353,
           2.726813021873054,
           2.7561545274977544,
           2.785496033122455,
           2.814837538747156,
           2.8441790443718564,
           2.8735205499965573,
           2.902862055621258,
           2.932203561245959,
           2.9615450668706593,
           2.99088657249536,
           3.020228078120061,
           3.0495695837447614,
           3.0789110893694622,
           3.108252594994163,
           3.1375941006188635,
           3.1669356062435643,
           3.196277111868265,
           3.2256186174929655,
           3.254960123117667,
           3.284301628742367,
           3.3136431343670676,
           3.342984639991769,
           3.3723261456164693,
           3.40166765124117,
           3.431009156865871,
           3.4603506624905713,
           3.489692168115272,
           3.519033673739973,
           3.5483751793646734,
           3.5777166849893742,
           3.607058190614075,
           3.636399696238776,
           3.6657412018634763,
           3.695082707488177,
           3.724424213112878,
           3.7537657187375784,
           3.783107224362279,
           3.81244872998698,
           3.8417902356116804,
           3.8711317412363813,
           3.900473246861082,
           3.9298147524857825,
           3.9591562581104838,
           3.988497763735184,
           4.017839269359884,
           4.047180774984586,
           4.076522280609286,
           4.1058637862339875,
           4.1352052918586875,
           4.164546797483388,
           4.193888303108089,
           4.22322980873279,
           4.252571314357491,
           4.281912819982191,
           4.3112543256068925,
           4.340595831231592,
           4.369937336856293,
           4.399278842480994
          ],
          [
           1.5130310885517662,
           1.5423725941764668,
           1.5717140998011674,
           1.6010556054258682,
           1.6303971110505688,
           1.6597386166752697,
           1.6890801222999703,
           1.718421627924671,
           1.7477631335493717,
           1.7771046391740724,
           1.8064461447987732,
           1.8357876504234738,
           1.8651291560481744,
           1.8944706616728753,
           1.9238121672975759,
           1.9531536729222767,
           1.9824951785469773,
           2.011836684171678,
           2.041178189796379,
           2.0705196954210794,
           2.0998612010457802,
           2.1292027066704806,
           2.1585442122951815,
           2.1878857179198823,
           2.217227223544583,
           2.2465687291692835,
           2.2759102347939844,
           2.305251740418685,
           2.3345932460433856,
           2.3639347516680864,
           2.3932762572927873,
           2.4226177629174876,
           2.4519592685421885,
           2.4813007741668893,
           2.5106422797915897,
           2.5399837854162906,
           2.5693252910409914,
           2.5986667966656922,
           2.628008302290393,
           2.6573498079150935,
           2.686691313539794,
           2.7160328191644947,
           2.7453743247891955,
           2.7747158304138964,
           2.804057336038597,
           2.833398841663298,
           2.862740347287998,
           2.892081852912699,
           2.9214233585373997,
           2.9507648641621005,
           2.9801063697868013,
           3.009447875411502,
           3.0387893810362026,
           3.068130886660903,
           3.097472392285604,
           3.1268138979103046,
           3.1561554035350055,
           3.1854969091597063,
           3.2148384147844067,
           3.244179920409107,
           3.2735214260338084,
           3.3028629316585087,
           3.3322044372832096,
           3.3615459429079104,
           3.3908874485326113,
           3.4202289541573117,
           3.4495704597820125,
           3.478911965406713,
           3.5082534710314137,
           3.5375949766561146,
           3.566936482280815,
           3.596277987905516,
           3.6256194935302166,
           3.6549609991549175,
           3.684302504779618,
           3.7136440104043187,
           3.7429855160290195,
           3.77232702165372,
           3.8016685272784208,
           3.8310100329031216,
           3.860351538527822,
           3.889693044152523,
           3.9190345497772237,
           3.948376055401924,
           3.9777175610266253,
           4.007059066651326,
           4.036400572276026,
           4.065742077900728,
           4.095083583525428,
           4.124425089150129,
           4.1537665947748295,
           4.183108100399529,
           4.212449606024231,
           4.241791111648931,
           4.271132617273632,
           4.300474122898333,
           4.329815628523034,
           4.359157134147734,
           4.388498639772434,
           4.417840145397136
          ],
          [
           1.5315923914679077,
           1.5609338970926085,
           1.5902754027173092,
           1.6196169083420098,
           1.6489584139667106,
           1.6782999195914112,
           1.707641425216112,
           1.7369829308408127,
           1.7663244364655133,
           1.7956659420902141,
           1.8250074477149147,
           1.8543489533396156,
           1.8836904589643162,
           1.9130319645890168,
           1.9423734702137176,
           1.9717149758384183,
           2.001056481463119,
           2.0303979870878197,
           2.0597394927125205,
           2.089080998337221,
           2.1184225039619218,
           2.1477640095866226,
           2.1771055152113234,
           2.206447020836024,
           2.2357885264607247,
           2.265130032085425,
           2.294471537710126,
           2.3238130433348267,
           2.3531545489595276,
           2.382496054584228,
           2.411837560208929,
           2.441179065833629,
           2.47052057145833,
           2.499862077083031,
           2.5292035827077317,
           2.558545088332432,
           2.587886593957133,
           2.6172280995818338,
           2.6465696052065346,
           2.675911110831235,
           2.705252616455936,
           2.7345941220806367,
           2.763935627705337,
           2.793277133330038,
           2.8226186389547387,
           2.8519601445794396,
           2.88130165020414,
           2.910643155828841,
           2.9399846614535416,
           2.969326167078242,
           2.998667672702943,
           3.0280091783276437,
           3.057350683952344,
           3.086692189577045,
           3.116033695201746,
           3.145375200826446,
           3.174716706451147,
           3.204058212075848,
           3.2333997177005482,
           3.262741223325249,
           3.29208272894995,
           3.3214242345746503,
           3.350765740199351,
           3.380107245824052,
           3.409448751448753,
           3.438790257073453,
           3.468131762698154,
           3.497473268322855,
           3.5268147739475553,
           3.556156279572256,
           3.5854977851969565,
           3.6148392908216573,
           3.644180796446358,
           3.673522302071059,
           3.7028638076957594,
           3.7322053133204602,
           3.761546818945161,
           3.7908883245698615,
           3.8202298301945623,
           3.849571335819263,
           3.8789128414439635,
           3.9082543470686644,
           3.937595852693365,
           3.9669373583180656,
           3.996278863942767,
           4.025620369567467,
           4.054961875192168,
           4.084303380816869,
           4.11364488644157,
           4.14298639206627,
           4.1723278976909715,
           4.201669403315671,
           4.231010908940372,
           4.260352414565073,
           4.289693920189773,
           4.319035425814475,
           4.348376931439175,
           4.3777184370638755,
           4.407059942688576,
           4.436401448313277
          ],
          [
           1.5501536943840495,
           1.57949520000875,
           1.608836705633451,
           1.6381782112581516,
           1.6675197168828522,
           1.696861222507553,
           1.7262027281322536,
           1.7555442337569542,
           1.784885739381655,
           1.8142272450063557,
           1.8435687506310563,
           1.8729102562557571,
           1.902251761880458,
           1.9315932675051586,
           1.9609347731298592,
           1.99027627875456,
           2.0196177843792604,
           2.0489592900039613,
           2.078300795628662,
           2.107642301253363,
           2.1369838068780633,
           2.166325312502764,
           2.195666818127465,
           2.2250083237521654,
           2.2543498293768662,
           2.283691335001567,
           2.313032840626268,
           2.3423743462509683,
           2.371715851875669,
           2.4010573575003695,
           2.4303988631250704,
           2.459740368749771,
           2.489081874374472,
           2.518423379999173,
           2.5477648856238733,
           2.5771063912485737,
           2.6064478968732745,
           2.6357894024979753,
           2.665130908122676,
           2.694472413747377,
           2.7238139193720774,
           2.7531554249967782,
           2.7824969306214786,
           2.8118384362461795,
           2.8411799418708803,
           2.870521447495581,
           2.8998629531202815,
           2.9292044587449824,
           2.958545964369683,
           2.9878874699943836,
           3.0172289756190844,
           3.0465704812437853,
           3.075911986868486,
           3.1052534924931865,
           3.1345949981178873,
           3.1639365037425877,
           3.1932780093672886,
           3.2226195149919894,
           3.2519610206166902,
           3.2813025262413906,
           3.310644031866092,
           3.339985537490792,
           3.3693270431154927,
           3.3986685487401935,
           3.4280100543648944,
           3.457351559989595,
           3.486693065614296,
           3.5160345712389964,
           3.545376076863697,
           3.5747175824883977,
           3.6040590881130985,
           3.6334005937377993,
           3.6627420993625,
           3.692083604987201,
           3.721425110611901,
           3.750766616236602,
           3.7801081218613026,
           3.8094496274860035,
           3.8387911331107043,
           3.868132638735405,
           3.897474144360105,
           3.926815649984806,
           3.9561571556095068,
           3.9854986612342076,
           4.014840166858908,
           4.044181672483609,
           4.073523178108309,
           4.102864683733011,
           4.132206189357711,
           4.161547694982412,
           4.190889200607113,
           4.220230706231813,
           4.249572211856514,
           4.278913717481215,
           4.308255223105915,
           4.337596728730616,
           4.366938234355317,
           4.3962797399800175,
           4.425621245604718,
           4.454962751229419
          ],
          [
           1.5687149973001913,
           1.5980565029248919,
           1.6273980085495925,
           1.6567395141742933,
           1.686081019798994,
           1.7154225254236948,
           1.7447640310483954,
           1.774105536673096,
           1.8034470422977968,
           1.8327885479224975,
           1.8621300535471983,
           1.891471559171899,
           1.9208130647965995,
           1.9501545704213004,
           1.979496076046001,
           2.0088375816707016,
           2.0381790872954024,
           2.0675205929201033,
           2.096862098544804,
           2.1262036041695045,
           2.1555451097942053,
           2.1848866154189057,
           2.2142281210436066,
           2.2435696266683074,
           2.2729111322930082,
           2.3022526379177086,
           2.3315941435424095,
           2.3609356491671103,
           2.3902771547918107,
           2.4196186604165115,
           2.4489601660412124,
           2.4783016716659128,
           2.5076431772906136,
           2.5369846829153144,
           2.566326188540015,
           2.5956676941647157,
           2.6250091997894165,
           2.6543507054141173,
           2.683692211038818,
           2.7130337166635186,
           2.742375222288219,
           2.77171672791292,
           2.8010582335376206,
           2.8303997391623215,
           2.8597412447870223,
           2.889082750411723,
           2.918424256036423,
           2.947765761661124,
           2.9771072672858248,
           3.0064487729105256,
           3.0357902785352264,
           3.0651317841599273,
           3.0944732897846277,
           3.123814795409328,
           3.153156301034029,
           3.1824978066587297,
           3.2118393122834306,
           3.2411808179081314,
           3.270522323532832,
           3.299863829157532,
           3.3292053347822335,
           3.358546840406934,
           3.3878883460316347,
           3.4172298516563355,
           3.4465713572810364,
           3.4759128629057368,
           3.5052543685304376,
           3.534595874155138,
           3.563937379779839,
           3.5932788854045397,
           3.62262039102924,
           3.651961896653941,
           3.6813034022786417,
           3.7106449079033426,
           3.739986413528043,
           3.769327919152744,
           3.7986694247774446,
           3.828010930402145,
           3.857352436026846,
           3.8866939416515467,
           3.916035447276247,
           3.945376952900948,
           3.9747184585256488,
           4.004059964150349,
           4.03340146977505,
           4.06274297539975,
           4.092084481024451,
           4.121425986649152,
           4.150767492273853,
           4.180108997898554,
           4.209450503523255,
           4.238792009147955,
           4.268133514772655,
           4.297475020397357,
           4.326816526022057,
           4.356158031646758,
           4.385499537271459,
           4.414841042896159,
           4.44418254852086,
           4.47352405414556
          ],
          [
           1.5872763002163328,
           1.6166178058410334,
           1.645959311465734,
           1.6753008170904349,
           1.7046423227151355,
           1.7339838283398363,
           1.763325333964537,
           1.7926668395892376,
           1.8220083452139384,
           1.851349850838639,
           1.8806913564633398,
           1.9100328620880405,
           1.939374367712741,
           1.968715873337442,
           1.9980573789621425,
           2.0273988845868436,
           2.056740390211544,
           2.0860818958362444,
           2.115423401460945,
           2.144764907085646,
           2.174106412710347,
           2.2034479183350477,
           2.232789423959748,
           2.262130929584449,
           2.29147243520915,
           2.32081394083385,
           2.350155446458551,
           2.379496952083252,
           2.4088384577079522,
           2.438179963332653,
           2.467521468957354,
           2.4968629745820543,
           2.526204480206755,
           2.555545985831456,
           2.584887491456157,
           2.614228997080857,
           2.643570502705558,
           2.6729120083302584,
           2.7022535139549593,
           2.73159501957966,
           2.760936525204361,
           2.790278030829062,
           2.819619536453762,
           2.8489610420784626,
           2.8783025477031634,
           2.9076440533278642,
           2.936985558952565,
           2.966327064577266,
           2.9956685702019668,
           3.025010075826667,
           3.0543515814513675,
           3.0836930870760684,
           3.113034592700769,
           3.14237609832547,
           3.171717603950171,
           3.2010591095748713,
           3.2304006151995717,
           3.2597421208242725,
           3.2890836264489733,
           3.318425132073674,
           3.347766637698375,
           3.3771081433230754,
           3.406449648947776,
           3.435791154572477,
           3.4651326601971775,
           3.4944741658218783,
           3.523815671446579,
           3.55315717707128,
           3.5824986826959804,
           3.611840188320681,
           3.6411816939453816,
           3.6705231995700824,
           3.6998647051947833,
           3.729206210819484,
           3.7585477164441845,
           3.7878892220688853,
           3.817230727693586,
           3.8465722333182866,
           3.8759137389429874,
           3.9052552445676882,
           3.9345967501923886,
           3.9639382558170895,
           3.9932797614417903,
           4.022621267066491,
           4.051962772691192,
           4.081304278315892,
           4.110645783940592,
           4.139987289565294,
           4.169328795189994,
           4.198670300814696,
           4.228011806439396,
           4.2573533120640965,
           4.286694817688797,
           4.316036323313498,
           4.345377828938199,
           4.374719334562899,
           4.404060840187601,
           4.433402345812301,
           4.4627438514370015,
           4.492085357061702
          ],
          [
           1.6058376031324746,
           1.6351791087571752,
           1.664520614381876,
           1.6938621200065767,
           1.7232036256312773,
           1.752545131255978,
           1.7818866368806787,
           1.8112281425053793,
           1.8405696481300802,
           1.8699111537547808,
           1.8992526593794814,
           1.9285941650041822,
           1.957935670628883,
           1.9872771762535837,
           2.0166186818782843,
           2.045960187502985,
           2.0753016931276855,
           2.1046431987523864,
           2.133984704377087,
           2.163326210001788,
           2.1926677156264884,
           2.2220092212511893,
           2.25135072687589,
           2.2806922325005905,
           2.3100337381252913,
           2.339375243749992,
           2.368716749374693,
           2.3980582549993934,
           2.4273997606240942,
           2.4567412662487946,
           2.4860827718734955,
           2.5154242774981963,
           2.544765783122897,
           2.574107288747598,
           2.6034487943722984,
           2.6327902999969988,
           2.6621318056216996,
           2.6914733112464004,
           2.7208148168711013,
           2.750156322495802,
           2.7794978281205025,
           2.8088393337452033,
           2.8381808393699037,
           2.8675223449946046,
           2.8968638506193054,
           2.9262053562440062,
           2.9555468618687066,
           2.9848883674934075,
           3.0142298731181083,
           3.0435713787428087,
           3.0729128843675095,
           3.1022543899922104,
           3.131595895616911,
           3.1609374012416116,
           3.1902789068663124,
           3.219620412491013,
           3.2489619181157137,
           3.2783034237404145,
           3.3076449293651153,
           3.3369864349898157,
           3.366327940614517,
           3.395669446239217,
           3.425010951863918,
           3.4543524574886186,
           3.4836939631133195,
           3.5130354687380203,
           3.542376974362721,
           3.5717184799874215,
           3.601059985612122,
           3.6304014912368228,
           3.6597429968615236,
           3.6890845024862244,
           3.7184260081109253,
           3.747767513735626,
           3.777109019360326,
           3.806450524985027,
           3.8357920306097277,
           3.8651335362344286,
           3.8944750418591294,
           3.9238165474838302,
           3.95315805310853,
           3.982499558733231,
           4.011841064357932,
           4.041182569982633,
           4.0705240756073335,
           4.099865581232034,
           4.129207086856734,
           4.158548592481436,
           4.187890098106136,
           4.217231603730837,
           4.246573109355538,
           4.2759146149802385,
           4.305256120604939,
           4.33459762622964,
           4.36393913185434,
           4.393280637479041,
           4.422622143103742,
           4.451963648728443,
           4.4813051543531435,
           4.510646659977844
          ],
          [
           1.6243989060486161,
           1.6537404116733168,
           1.6830819172980176,
           1.7124234229227182,
           1.7417649285474188,
           1.7711064341721197,
           1.8004479397968203,
           1.8297894454215209,
           1.8591309510462217,
           1.8884724566709223,
           1.917813962295623,
           1.9471554679203238,
           1.9764969735450246,
           2.005838479169725,
           2.035179984794426,
           2.0645214904191267,
           2.0938629960438275,
           2.123204501668528,
           2.1525460072932288,
           2.181887512917929,
           2.21122901854263,
           2.240570524167331,
           2.2699120297920317,
           2.299253535416732,
           2.328595041041433,
           2.3579365466661333,
           2.387278052290834,
           2.416619557915535,
           2.445961063540236,
           2.4753025691649366,
           2.504644074789637,
           2.533985580414338,
           2.5633270860390382,
           2.592668591663739,
           2.62201009728844,
           2.6513516029131408,
           2.6806931085378416,
           2.710034614162542,
           2.739376119787243,
           2.768717625411943,
           2.798059131036644,
           2.827400636661345,
           2.8567421422860457,
           2.886083647910746,
           2.915425153535447,
           2.944766659160148,
           2.974108164784848,
           3.003449670409549,
           3.03279117603425,
           3.0621326816589507,
           3.091474187283651,
           3.120815692908352,
           3.1501571985330523,
           3.179498704157753,
           3.208840209782454,
           3.238181715407155,
           3.267523221031855,
           3.296864726656556,
           3.3262062322812564,
           3.3555477379059573,
           3.384889243530658,
           3.414230749155359,
           3.4435722547800593,
           3.4729137604047606,
           3.502255266029461,
           3.5315967716541614,
           3.5609382772788623,
           3.590279782903563,
           3.619621288528264,
           3.6489627941529648,
           3.6783042997776647,
           3.7076458054023655,
           3.7369873110270664,
           3.766328816651767,
           3.795670322276468,
           3.825011827901169,
           3.8543533335258697,
           3.8836948391505697,
           3.9130363447752705,
           3.9423778503999714,
           3.971719356024672,
           4.001060861649373,
           4.030402367274074,
           4.059743872898774,
           4.0890853785234755,
           4.1184268841481755,
           4.147768389772876,
           4.177109895397577,
           4.206451401022278,
           4.235792906646979,
           4.26513441227168,
           4.29447591789638,
           4.3238174235210804,
           4.353158929145781,
           4.382500434770482,
           4.411841940395183,
           4.441183446019884,
           4.470524951644584,
           4.499866457269285,
           4.529207962893985
          ],
          [
           1.642960208964758,
           1.6723017145894585,
           1.7016432202141591,
           1.73098472583886,
           1.7603262314635606,
           1.7896677370882614,
           1.819009242712962,
           1.8483507483376627,
           1.8776922539623635,
           1.9070337595870641,
           1.936375265211765,
           1.9657167708364656,
           1.9950582764611662,
           2.024399782085867,
           2.053741287710568,
           2.0830827933352687,
           2.112424298959969,
           2.1417658045846695,
           2.1711073102093703,
           2.200448815834071,
           2.229790321458772,
           2.259131827083473,
           2.288473332708173,
           2.317814838332874,
           2.347156343957575,
           2.3764978495822753,
           2.405839355206976,
           2.435180860831677,
           2.4645223664563773,
           2.493863872081078,
           2.523205377705779,
           2.5525468833304794,
           2.5818883889551802,
           2.611229894579881,
           2.640571400204582,
           2.6699129058292823,
           2.699254411453983,
           2.7285959170786835,
           2.7579374227033844,
           2.787278928328085,
           2.816620433952786,
           2.845961939577487,
           2.8753034452021873,
           2.9046449508268877,
           2.9339864564515885,
           2.9633279620762893,
           2.99266946770099,
           3.022010973325691,
           3.051352478950392,
           3.0806939845750922,
           3.1100354901997926,
           3.1393769958244935,
           3.1687185014491943,
           3.198060007073895,
           3.227401512698596,
           3.2567430183232964,
           3.2860845239479968,
           3.3154260295726976,
           3.3447675351973984,
           3.3741090408220993,
           3.4034505464468,
           3.4327920520715005,
           3.462133557696201,
           3.491475063320902,
           3.5208165689456026,
           3.5501580745703034,
           3.5794995801950042,
           3.608841085819705,
           3.6381825914444055,
           3.6675240970691063,
           3.6968656026938067,
           3.7262071083185075,
           3.7555486139432084,
           3.784890119567909,
           3.8142316251926096,
           3.8435731308173104,
           3.8729146364420113,
           3.9022561420667117,
           3.9315976476914125,
           3.9609391533161133,
           3.9902806589408137,
           4.019622164565515,
           4.048963670190215,
           4.078305175814916,
           4.107646681439617,
           4.1369881870643175,
           4.166329692689018,
           4.195671198313719,
           4.22501270393842,
           4.25435420956312,
           4.283695715187822,
           4.313037220812522,
           4.3423787264372224,
           4.371720232061923,
           4.401061737686623,
           4.430403243311325,
           4.459744748936025,
           4.489086254560726,
           4.518427760185427,
           4.547769265810127
          ],
          [
           1.6615215118808995,
           1.6908630175056,
           1.7202045231303007,
           1.7495460287550015,
           1.7788875343797022,
           1.808229040004403,
           1.8375705456291036,
           1.8669120512538042,
           1.896253556878505,
           1.9255950625032057,
           1.9549365681279065,
           1.9842780737526071,
           2.0136195793773077,
           2.0429610850020086,
           2.072302590626709,
           2.10164409625141,
           2.1309856018761106,
           2.1603271075008115,
           2.1896686131255123,
           2.2190101187502127,
           2.2483516243749135,
           2.277693129999614,
           2.3070346356243148,
           2.3363761412490156,
           2.3657176468737164,
           2.395059152498417,
           2.4244006581231177,
           2.4537421637478185,
           2.483083669372519,
           2.5124251749972197,
           2.5417666806219206,
           2.571108186246621,
           2.600449691871322,
           2.6297911974960226,
           2.659132703120723,
           2.688474208745424,
           2.7178157143701247,
           2.7471572199948255,
           2.7764987256195264,
           2.8058402312442268,
           2.835181736868927,
           2.864523242493628,
           2.893864748118329,
           2.9232062537430297,
           2.9525477593677305,
           2.9818892649924313,
           3.0112307706171313,
           3.040572276241832,
           3.069913781866533,
           3.099255287491234,
           3.1285967931159346,
           3.1579382987406355,
           3.187279804365336,
           3.2166213099900363,
           3.245962815614737,
           3.275304321239438,
           3.3046458268641388,
           3.3339873324888396,
           3.36332883811354,
           3.3926703437382404,
           3.4220118493629417,
           3.451353354987642,
           3.480694860612343,
           3.5100363662370437,
           3.5393778718617446,
           3.568719377486445,
           3.598060883111146,
           3.627402388735846,
           3.656743894360547,
           3.686085399985248,
           3.7154269056099483,
           3.744768411234649,
           3.77410991685935,
           3.8034514224840508,
           3.832792928108751,
           3.862134433733452,
           3.891475939358153,
           3.9208174449828532,
           3.950158950607554,
           3.979500456232255,
           4.008841961856955,
           4.038183467481656,
           4.067524973106357,
           4.096866478731057,
           4.126207984355759,
           4.155549489980459,
           4.184890995605159,
           4.21423250122986,
           4.243574006854561,
           4.272915512479262,
           4.302257018103963,
           4.331598523728664,
           4.360940029353364,
           4.390281534978065,
           4.419623040602765,
           4.448964546227466,
           4.478306051852167,
           4.507647557476867,
           4.536989063101569,
           4.5663305687262685
          ],
          [
           1.6800828147970412,
           1.7094243204217419,
           1.7387658260464427,
           1.7681073316711433,
           1.797448837295844,
           1.8267903429205448,
           1.8561318485452454,
           1.885473354169946,
           1.9148148597946468,
           1.9441563654193474,
           1.973497871044048,
           2.002839376668749,
           2.0321808822934497,
           2.06152238791815,
           2.090863893542851,
           2.120205399167552,
           2.1495469047922526,
           2.178888410416953,
           2.208229916041654,
           2.2375714216663543,
           2.266912927291055,
           2.296254432915756,
           2.3255959385404568,
           2.354937444165157,
           2.384278949789858,
           2.4136204554145584,
           2.4429619610392592,
           2.47230346666396,
           2.501644972288661,
           2.5309864779133617,
           2.560327983538062,
           2.589669489162763,
           2.6190109947874634,
           2.648352500412164,
           2.677694006036865,
           2.707035511661566,
           2.7363770172862667,
           2.765718522910967,
           2.795060028535668,
           2.8244015341603683,
           2.853743039785069,
           2.88308454540977,
           2.912426051034471,
           2.9417675566591712,
           2.971109062283872,
           3.000450567908573,
           3.0297920735332733,
           3.059133579157974,
           3.088475084782675,
           3.117816590407376,
           3.147158096032076,
           3.176499601656777,
           3.2058411072814774,
           3.2351826129061783,
           3.264524118530879,
           3.29386562415558,
           3.3232071297802803,
           3.352548635404981,
           3.3818901410296816,
           3.4112316466543824,
           3.4405731522790832,
           3.469914657903784,
           3.4992561635284845,
           3.5285976691531857,
           3.557939174777886,
           3.5872806804025865,
           3.6166221860272874,
           3.645963691651988,
           3.675305197276689,
           3.70464670290139,
           3.73398820852609,
           3.7633297141507907,
           3.7926712197754915,
           3.8220127254001923,
           3.851354231024893,
           3.880695736649594,
           3.910037242274295,
           3.939378747898995,
           3.9687202535236956,
           3.9980617591483965,
           4.027403264773097,
           4.056744770397798,
           4.086086276022499,
           4.115427781647199,
           4.144769287271901,
           4.174110792896601,
           4.203452298521301,
           4.232793804146002,
           4.262135309770703,
           4.291476815395404,
           4.320818321020105,
           4.350159826644805,
           4.3795013322695056,
           4.408842837894206,
           4.438184343518907,
           4.467525849143608,
           4.496867354768309,
           4.526208860393009,
           4.55555036601771,
           4.5848918716424105
          ],
          [
           1.6986441177131828,
           1.7279856233378834,
           1.7573271289625843,
           1.7866686345872849,
           1.8160101402119855,
           1.8453516458366863,
           1.874693151461387,
           1.9040346570860875,
           1.9333761627107884,
           1.962717668335489,
           1.9920591739601896,
           2.0214006795848904,
           2.0507421852095913,
           2.080083690834292,
           2.1094251964589925,
           2.1387667020836933,
           2.1681082077083937,
           2.1974497133330946,
           2.2267912189577954,
           2.2561327245824963,
           2.2854742302071966,
           2.3148157358318975,
           2.3441572414565983,
           2.3734987470812987,
           2.4028402527059995,
           2.4321817583307004,
           2.461523263955401,
           2.4908647695801016,
           2.5202062752048024,
           2.549547780829503,
           2.5788892864542037,
           2.6082307920789045,
           2.6375722977036054,
           2.666913803328306,
           2.6962553089530066,
           2.725596814577707,
           2.754938320202408,
           2.7842798258271086,
           2.8136213314518095,
           2.8429628370765103,
           2.8723043427012107,
           2.9016458483259115,
           2.930987353950612,
           2.9603288595753128,
           2.9896703652000136,
           3.0190118708247144,
           3.048353376449415,
           3.0776948820741157,
           3.1070363876988165,
           3.136377893323517,
           3.1657193989482177,
           3.1950609045729186,
           3.2244024101976194,
           3.25374391582232,
           3.2830854214470206,
           3.312426927071721,
           3.341768432696422,
           3.3711099383211227,
           3.4004514439458235,
           3.429792949570524,
           3.459134455195225,
           3.488475960819925,
           3.517817466444626,
           3.547158972069327,
           3.5765004776940277,
           3.6058419833187285,
           3.6351834889434294,
           3.6645249945681297,
           3.69386650019283,
           3.723208005817531,
           3.752549511442232,
           3.7818910170669326,
           3.8112325226916335,
           3.8405740283163343,
           3.8699155339410343,
           3.899257039565735,
           3.928598545190436,
           3.957940050815137,
           3.9872815564398376,
           4.0166230620645385,
           4.045964567689238,
           4.075306073313939,
           4.10464757893864,
           4.133989084563341,
           4.163330590188042,
           4.192672095812743,
           4.2220136014374425,
           4.251355107062144,
           4.280696612686844,
           4.310038118311545,
           4.339379623936246,
           4.368721129560947,
           4.3980626351856476,
           4.427404140810348,
           4.456745646435048,
           4.486087152059749,
           4.51542865768445,
           4.544770163309151,
           4.574111668933852,
           4.6034531745585525
          ],
          [
           1.7172054206293246,
           1.7465469262540252,
           1.7758884318787258,
           1.8052299375034266,
           1.8345714431281273,
           1.863912948752828,
           1.8932544543775287,
           1.9225959600022293,
           1.9519374656269302,
           1.9812789712516308,
           2.0106204768763316,
           2.0399619825010324,
           2.069303488125733,
           2.0986449937504337,
           2.127986499375134,
           2.157328004999835,
           2.1866695106245357,
           2.2160110162492366,
           2.2453525218739374,
           2.274694027498638,
           2.3040355331233386,
           2.333377038748039,
           2.36271854437274,
           2.3920600499974407,
           2.4214015556221415,
           2.450743061246842,
           2.4800845668715428,
           2.5094260724962436,
           2.538767578120944,
           2.568109083745645,
           2.5974505893703457,
           2.626792094995046,
           2.656133600619747,
           2.6854751062444477,
           2.714816611869148,
           2.744158117493849,
           2.77349962311855,
           2.8028411287432506,
           2.8321826343679515,
           2.861524139992652,
           2.8908656456173523,
           2.920207151242053,
           2.949548656866754,
           2.9788901624914548,
           3.0082316681161556,
           3.0375731737408564,
           3.0669146793655564,
           3.0962561849902572,
           3.125597690614958,
           3.154939196239659,
           3.1842807018643597,
           3.2136222074890606,
           3.242963713113761,
           3.2723052187384614,
           3.301646724363162,
           3.330988229987863,
           3.360329735612564,
           3.3896712412372647,
           3.419012746861965,
           3.4483542524866655,
           3.4776957581113668,
           3.507037263736067,
           3.536378769360768,
           3.565720274985469,
           3.5950617806101697,
           3.62440328623487,
           3.653744791859571,
           3.6830862974842713,
           3.712427803108972,
           3.741769308733673,
           3.7711108143583734,
           3.800452319983074,
           3.829793825607775,
           3.859135331232476,
           3.8884768368571763,
           3.917818342481877,
           3.947159848106578,
           3.9765013537312783,
           4.00584285935598,
           4.03518436498068,
           4.06452587060538,
           4.093867376230081,
           4.123208881854782,
           4.152550387479483,
           4.181891893104184,
           4.211233398728885,
           4.2405749043535845,
           4.269916409978286,
           4.299257915602986,
           4.328599421227687,
           4.357940926852388,
           4.387282432477088,
           4.4166239381017895,
           4.4459654437264895,
           4.47530694935119,
           4.504648454975891,
           4.533989960600592,
           4.563331466225293,
           4.592672971849993,
           4.6220144774746945
          ],
          [
           1.7357667235454661,
           1.7651082291701667,
           1.7944497347948674,
           1.8237912404195682,
           1.8531327460442688,
           1.8824742516689696,
           1.9118157572936703,
           1.9411572629183709,
           1.9704987685430717,
           1.9998402741677723,
           2.029181779792473,
           2.0585232854171736,
           2.0878647910418744,
           2.1172062966665752,
           2.146547802291276,
           2.175889307915977,
           2.2052308135406773,
           2.2345723191653777,
           2.2639138247900785,
           2.2932553304147794,
           2.32259683603948,
           2.351938341664181,
           2.3812798472888814,
           2.4106213529135823,
           2.439962858538283,
           2.4693043641629835,
           2.4986458697876843,
           2.527987375412385,
           2.5573288810370856,
           2.5866703866617864,
           2.6160118922864872,
           2.6453533979111876,
           2.6746949035358885,
           2.7040364091605893,
           2.73337791478529,
           2.7627194204099905,
           2.7920609260346914,
           2.8214024316593918,
           2.8507439372840926,
           2.8800854429087934,
           2.9094269485334943,
           2.938768454158195,
           2.9681099597828955,
           2.997451465407596,
           3.0267929710322967,
           3.0561344766569976,
           3.0854759822816984,
           3.1148174879063992,
           3.1441589935311,
           3.1735004991558005,
           3.202842004780501,
           3.2321835104052017,
           3.2615250160299025,
           3.2908665216546034,
           3.320208027279304,
           3.3495495329040046,
           3.378891038528705,
           3.408232544153406,
           3.4375740497781067,
           3.4669155554028075,
           3.4962570610275083,
           3.5255985666522087,
           3.554940072276909,
           3.5842815779016104,
           3.613623083526311,
           3.6429645891510116,
           3.6723060947757125,
           3.7016476004004133,
           3.7309891060251137,
           3.7603306116498145,
           3.789672117274515,
           3.8190136228992158,
           3.8483551285239166,
           3.8776966341486174,
           3.907038139773318,
           3.9363796453980187,
           3.9657211510227195,
           3.99506265664742,
           4.024404162272121,
           4.053745667896822,
           4.0830871735215215,
           4.112428679146223,
           4.141770184770923,
           4.171111690395624,
           4.200453196020325,
           4.229794701645026,
           4.2591362072697265,
           4.288477712894427,
           4.317819218519128,
           4.347160724143828,
           4.37650222976853,
           4.40584373539323,
           4.435185241017931,
           4.4645267466426315,
           4.493868252267331,
           4.523209757892033,
           4.552551263516733,
           4.581892769141434,
           4.611234274766135,
           4.640575780390836
          ],
          [
           1.754328026461608,
           1.7836695320863085,
           1.8130110377110094,
           1.84235254333571,
           1.8716940489604106,
           1.9010355545851114,
           1.930377060209812,
           1.9597185658345126,
           1.9890600714592135,
           2.018401577083914,
           2.0477430827086147,
           2.0770845883333156,
           2.1064260939580164,
           2.1357675995827172,
           2.1651091052074176,
           2.1944506108321185,
           2.223792116456819,
           2.2531336220815197,
           2.2824751277062205,
           2.3118166333309214,
           2.3411581389556217,
           2.3704996445803226,
           2.3998411502050234,
           2.429182655829724,
           2.4585241614544247,
           2.4878656670791255,
           2.5172071727038263,
           2.5465486783285267,
           2.5758901839532276,
           2.605231689577928,
           2.634573195202629,
           2.6639147008273296,
           2.6932562064520305,
           2.7225977120767313,
           2.7519392177014317,
           2.781280723326132,
           2.810622228950833,
           2.8399637345755337,
           2.8693052402002346,
           2.8986467458249354,
           2.927988251449636,
           2.9573297570743367,
           2.986671262699037,
           3.016012768323738,
           3.0453542739484387,
           3.0746957795731396,
           3.10403728519784,
           3.133378790822541,
           3.1627202964472416,
           3.192061802071942,
           3.221403307696643,
           3.2507448133213437,
           3.2800863189460445,
           3.309427824570745,
           3.3387693301954458,
           3.368110835820146,
           3.397452341444847,
           3.426793847069548,
           3.4561353526942487,
           3.485476858318949,
           3.5148183639436503,
           3.5441598695683503,
           3.573501375193051,
           3.602842880817752,
           3.632184386442453,
           3.6615258920671536,
           3.6908673976918545,
           3.720208903316555,
           3.7495504089412552,
           3.778891914565956,
           3.808233420190657,
           3.8375749258153578,
           3.8669164314400586,
           3.8962579370647594,
           3.9255994426894594,
           3.95494094831416,
           3.984282453938861,
           4.013623959563562,
           4.042965465188263,
           4.0723069708129636,
           4.1016484764376635,
           4.130989982062364,
           4.160331487687065,
           4.189672993311766,
           4.219014498936467,
           4.248356004561168,
           4.277697510185868,
           4.307039015810569,
           4.336380521435269,
           4.36572202705997,
           4.395063532684671,
           4.424405038309372,
           4.453746543934073,
           4.4830880495587735,
           4.512429555183473,
           4.541771060808174,
           4.571112566432875,
           4.600454072057576,
           4.629795577682277,
           4.659137083306978
          ],
          [
           1.7728893293777495,
           1.80223083500245,
           1.831572340627151,
           1.8609138462518515,
           1.8902553518765521,
           1.919596857501253,
           1.9489383631259536,
           1.9782798687506542,
           2.007621374375355,
           2.036962880000056,
           2.0663043856247563,
           2.095645891249457,
           2.124987396874158,
           2.1543289024988583,
           2.183670408123559,
           2.21301191374826,
           2.242353419372961,
           2.2716949249976612,
           2.301036430622362,
           2.3303779362470625,
           2.3597194418717633,
           2.389060947496464,
           2.418402453121165,
           2.4477439587458654,
           2.477085464370566,
           2.5064269699952666,
           2.5357684756199674,
           2.5651099812446683,
           2.594451486869369,
           2.62379299249407,
           2.6531344981187703,
           2.682476003743471,
           2.7118175093681716,
           2.7411590149928724,
           2.7705005206175732,
           2.799842026242274,
           2.829183531866975,
           2.8585250374916753,
           2.887866543116376,
           2.9172080487410765,
           2.9465495543657774,
           2.975891059990478,
           3.005232565615179,
           3.0345740712398794,
           3.0639155768645803,
           3.093257082489281,
           3.1225985881139815,
           3.1519400937386823,
           3.181281599363383,
           3.210623104988084,
           3.2399646106127844,
           3.2693061162374852,
           3.2986476218621856,
           3.3279891274868865,
           3.3573306331115873,
           3.386672138736288,
           3.4160136443609885,
           3.4453551499856894,
           3.4746966556103898,
           3.5040381612350906,
           3.5333796668597914,
           3.5627211724844923,
           3.5920626781091927,
           3.621404183733894,
           3.6507456893585943,
           3.6800871949832947,
           3.7094287006079956,
           3.7387702062326964,
           3.7681117118573972,
           3.797453217482098,
           3.826794723106798,
           3.856136228731499,
           3.8854777343561997,
           3.9148192399809005,
           3.9441607456056014,
           3.973502251230302,
           4.002843756855003,
           4.032185262479703,
           4.061526768104404,
           4.090868273729105,
           4.1202097793538055,
           4.149551284978506,
           4.178892790603207,
           4.208234296227907,
           4.237575801852609,
           4.266917307477309,
           4.29625881310201,
           4.3256003187267105,
           4.354941824351411,
           4.384283329976112,
           4.413624835600813,
           4.442966341225513,
           4.472307846850214,
           4.501649352474915,
           4.530990858099615,
           4.560332363724316,
           4.589673869349017,
           4.619015374973717,
           4.648356880598418,
           4.677698386223119
          ],
          [
           1.7914506322938912,
           1.8207921379185918,
           1.8501336435432925,
           1.8794751491679933,
           1.908816654792694,
           1.9381581604173947,
           1.9674996660420954,
           1.996841171666796,
           2.026182677291497,
           2.0555241829161974,
           2.0848656885408983,
           2.1142071941655987,
           2.1435486997902995,
           2.1728902054150003,
           2.202231711039701,
           2.231573216664402,
           2.2609147222891024,
           2.290256227913803,
           2.3195977335385036,
           2.3489392391632045,
           2.3782807447879053,
           2.407622250412606,
           2.4369637560373065,
           2.4663052616620074,
           2.495646767286708,
           2.5249882729114086,
           2.5543297785361094,
           2.5836712841608103,
           2.6130127897855107,
           2.6423542954102115,
           2.6716958010349123,
           2.7010373066596127,
           2.7303788122843136,
           2.7597203179090144,
           2.7890618235337152,
           2.8184033291584156,
           2.8477448347831165,
           2.877086340407817,
           2.9064278460325177,
           2.9357693516572185,
           2.9651108572819194,
           2.99445236290662,
           3.0237938685313206,
           3.053135374156021,
           3.082476879780722,
           3.1118183854054227,
           3.1411598910301235,
           3.1705013966548243,
           3.199842902279525,
           3.2291844079042256,
           3.258525913528926,
           3.287867419153627,
           3.3172089247783276,
           3.3465504304030285,
           3.3758919360277293,
           3.4052334416524297,
           3.43457494727713,
           3.463916452901831,
           3.4932579585265318,
           3.5225994641512326,
           3.5519409697759334,
           3.581282475400634,
           3.610623981025334,
           3.6399654866500355,
           3.669306992274736,
           3.6986484978994367,
           3.7279900035241376,
           3.7573315091488384,
           3.786673014773539,
           3.8160145203982396,
           3.84535602602294,
           3.874697531647641,
           3.9040390372723417,
           3.9333805428970425,
           3.962722048521743,
           3.9920635541464438,
           4.021405059771144,
           4.050746565395845,
           4.080088071020546,
           4.109429576645247,
           4.1387710822699475,
           4.1681125878946474,
           4.197454093519349,
           4.226795599144049,
           4.256137104768751,
           4.285478610393451,
           4.314820116018151,
           4.3441616216428525,
           4.373503127267552,
           4.402844632892254,
           4.432186138516954,
           4.461527644141655,
           4.490869149766356,
           4.520210655391057,
           4.549552161015757,
           4.578893666640457,
           4.608235172265159,
           4.637576677889859,
           4.66691818351456,
           4.696259689139261
          ],
          [
           1.8100119352100328,
           1.8393534408347334,
           1.868694946459434,
           1.8980364520841349,
           1.9273779577088355,
           1.9567194633335363,
           1.986060968958237,
           2.0154024745829373,
           2.044743980207638,
           2.074085485832339,
           2.10342699145704,
           2.1327684970817407,
           2.162110002706441,
           2.191451508331142,
           2.2207930139558423,
           2.250134519580543,
           2.279476025205244,
           2.308817530829945,
           2.3381590364546456,
           2.367500542079346,
           2.396842047704047,
           2.4261835533287472,
           2.455525058953448,
           2.484866564578149,
           2.5142080702028498,
           2.54354957582755,
           2.572891081452251,
           2.602232587076952,
           2.631574092701652,
           2.660915598326353,
           2.690257103951054,
           2.7195986095757543,
           2.748940115200455,
           2.778281620825156,
           2.8076231264498563,
           2.836964632074557,
           2.866306137699258,
           2.895647643323959,
           2.9249891489486597,
           2.95433065457336,
           2.9836721601980605,
           3.0130136658227613,
           3.042355171447462,
           3.071696677072163,
           3.101038182696864,
           3.1303796883215647,
           3.1597211939462646,
           3.1890626995709654,
           3.2184042051956663,
           3.247745710820367,
           3.277087216445068,
           3.306428722069769,
           3.335770227694469,
           3.3651117333191696,
           3.3944532389438704,
           3.4237947445685712,
           3.453136250193272,
           3.482477755817973,
           3.5118192614426733,
           3.5411607670673737,
           3.570502272692075,
           3.5998437783167754,
           3.629185283941476,
           3.658526789566177,
           3.687868295190878,
           3.7172098008155783,
           3.746551306440279,
           3.7758928120649795,
           3.8052343176896803,
           3.834575823314381,
           3.8639173289390816,
           3.8932588345637824,
           3.9226003401884832,
           3.951941845813184,
           3.9812833514378845,
           4.010624857062585,
           4.039966362687286,
           4.069307868311986,
           4.098649373936688,
           4.127990879561388,
           4.157332385186089,
           4.1866738908107894,
           4.21601539643549,
           4.245356902060191,
           4.274698407684892,
           4.304039913309593,
           4.333381418934293,
           4.3627229245589945,
           4.392064430183694,
           4.421405935808395,
           4.450747441433096,
           4.480088947057796,
           4.509430452682498,
           4.538771958307198,
           4.5681134639318985,
           4.597454969556599,
           4.6267964751813,
           4.656137980806001,
           4.685479486430701,
           4.714820992055403
          ],
          [
           1.8285732381261746,
           1.8579147437508752,
           1.887256249375576,
           1.9165977550002766,
           1.9459392606249772,
           1.975280766249678,
           2.0046222718743785,
           2.0339637774990793,
           2.06330528312378,
           2.092646788748481,
           2.1219882943731814,
           2.151329799997882,
           2.180671305622583,
           2.2100128112472834,
           2.2393543168719843,
           2.268695822496685,
           2.298037328121386,
           2.3273788337460863,
           2.356720339370787,
           2.3860618449954876,
           2.4154033506201884,
           2.4447448562448892,
           2.47408636186959,
           2.5034278674942905,
           2.5327693731189913,
           2.5621108787436917,
           2.5914523843683925,
           2.6207938899930934,
           2.650135395617794,
           2.679476901242495,
           2.7088184068671954,
           2.7381599124918963,
           2.7675014181165967,
           2.7968429237412975,
           2.8261844293659983,
           2.855525934990699,
           2.8848674406154,
           2.9142089462401004,
           2.9435504518648012,
           2.9728919574895016,
           3.0022334631142025,
           3.0315749687389033,
           3.060916474363604,
           3.0902579799883045,
           3.1195994856130054,
           3.148940991237706,
           3.1782824968624066,
           3.2076240024871074,
           3.2369655081118083,
           3.266307013736509,
           3.2956485193612095,
           3.3249900249859103,
           3.3543315306106107,
           3.3836730362353116,
           3.4130145418600124,
           3.4423560474847132,
           3.4716975531094136,
           3.5010390587341145,
           3.530380564358815,
           3.5597220699835157,
           3.5890635756082165,
           3.6184050812329174,
           3.6477465868576178,
           3.677088092482319,
           3.7064295981070194,
           3.73577110373172,
           3.7651126093564207,
           3.7944541149811215,
           3.8237956206058223,
           3.853137126230523,
           3.882478631855223,
           3.911820137479924,
           3.941161643104625,
           3.9705031487293256,
           3.9998446543540265,
           4.029186159978727,
           4.058527665603428,
           4.087869171228128,
           4.117210676852829,
           4.14655218247753,
           4.175893688102231,
           4.205235193726931,
           4.234576699351632,
           4.263918204976332,
           4.293259710601034,
           4.322601216225734,
           4.351942721850435,
           4.381284227475136,
           4.410625733099836,
           4.439967238724537,
           4.469308744349238,
           4.498650249973938,
           4.527991755598639,
           4.55733326122334,
           4.5866747668480405,
           4.616016272472741,
           4.645357778097442,
           4.674699283722142,
           4.704040789346843,
           4.733382294971544
          ],
          [
           1.8471345410423163,
           1.876476046667017,
           1.9058175522917176,
           1.9351590579164184,
           1.964500563541119,
           1.9938420691658199,
           2.0231835747905205,
           2.0525250804152213,
           2.081866586039922,
           2.1112080916646225,
           2.1405495972893234,
           2.1698911029140238,
           2.1992326085387246,
           2.2285741141634254,
           2.2579156197881263,
           2.287257125412827,
           2.3165986310375275,
           2.345940136662228,
           2.3752816422869287,
           2.4046231479116296,
           2.4339646535363304,
           2.4633061591610312,
           2.4926476647857316,
           2.5219891704104325,
           2.5513306760351333,
           2.5806721816598337,
           2.6100136872845345,
           2.6393551929092354,
           2.6686966985339358,
           2.6980382041586366,
           2.7273797097833374,
           2.756721215408038,
           2.7860627210327387,
           2.8154042266574395,
           2.8447457322821403,
           2.8740872379068407,
           2.9034287435315416,
           2.932770249156242,
           2.962111754780943,
           2.9914532604056436,
           3.0207947660303445,
           3.0501362716550453,
           3.0794777772797457,
           3.108819282904446,
           3.138160788529147,
           3.1675022941538478,
           3.1968437997785486,
           3.2261853054032494,
           3.2555268110279503,
           3.2848683166526507,
           3.314209822277351,
           3.343551327902052,
           3.3728928335267527,
           3.4022343391514536,
           3.4315758447761544,
           3.460917350400855,
           3.490258856025555,
           3.519600361650256,
           3.548941867274957,
           3.5782833728996577,
           3.6076248785243585,
           3.636966384149059,
           3.6663078897737593,
           3.6956493953984606,
           3.724990901023161,
           3.754332406647862,
           3.7836739122725627,
           3.8130154178972635,
           3.842356923521964,
           3.8716984291466647,
           3.901039934771365,
           3.930381440396066,
           3.959722946020767,
           3.9890644516454676,
           4.0184059572701685,
           4.047747462894868,
           4.07708896851957,
           4.10643047414427,
           4.135771979768971,
           4.165113485393672,
           4.194454991018372,
           4.223796496643073,
           4.253138002267773,
           4.282479507892474,
           4.311821013517175,
           4.341162519141876,
           4.370504024766577,
           4.399845530391278,
           4.429187036015978,
           4.458528541640678,
           4.48787004726538,
           4.51721155289008,
           4.546553058514781,
           4.575894564139482,
           4.605236069764182,
           4.634577575388883,
           4.663919081013583,
           4.693260586638284,
           4.722602092262985,
           4.751943597887686
          ],
          [
           1.865695843958458,
           1.8950373495831585,
           1.9243788552078591,
           1.95372036083256,
           1.9830618664572606,
           2.0124033720819616,
           2.041744877706662,
           2.0710863833313624,
           2.1004278889560632,
           2.129769394580764,
           2.159110900205465,
           2.1884524058301658,
           2.217793911454866,
           2.247135417079567,
           2.2764769227042674,
           2.305818428328968,
           2.335159933953669,
           2.36450143957837,
           2.3938429452030707,
           2.423184450827771,
           2.452525956452472,
           2.4818674620771723,
           2.511208967701873,
           2.540550473326574,
           2.569891978951275,
           2.5992334845759753,
           2.628574990200676,
           2.657916495825377,
           2.6872580014500773,
           2.716599507074778,
           2.745941012699479,
           2.7752825183241794,
           2.80462402394888,
           2.833965529573581,
           2.8633070351982814,
           2.8926485408229823,
           2.921990046447683,
           2.951331552072384,
           2.980673057697085,
           3.010014563321785,
           3.0393560689464856,
           3.0686975745711864,
           3.0980390801958873,
           3.127380585820588,
           3.156722091445289,
           3.1860635970699898,
           3.2154051026946897,
           3.2447466083193905,
           3.2740881139440914,
           3.303429619568792,
           3.332771125193493,
           3.362112630818194,
           3.3914541364428943,
           3.4207956420675947,
           3.4501371476922955,
           3.4794786533169964,
           3.508820158941697,
           3.538161664566398,
           3.5675031701910984,
           3.596844675815799,
           3.6261861814405,
           3.6555276870652005,
           3.6848691926899013,
           3.714210698314602,
           3.743552203939303,
           3.7728937095640034,
           3.802235215188704,
           3.8315767208134046,
           3.8609182264381054,
           3.8902597320628063,
           3.9196012376875067,
           3.9489427433122075,
           3.9782842489369084,
           4.007625754561609,
           4.03696726018631,
           4.06630876581101,
           4.095650271435711,
           4.124991777060412,
           4.154333282685112,
           4.183674788309814,
           4.213016293934514,
           4.2423577995592145,
           4.271699305183915,
           4.301040810808615,
           4.330382316433317,
           4.359723822058017,
           4.389065327682718,
           4.418406833307419,
           4.4477483389321195,
           4.47708984455682,
           4.506431350181521,
           4.535772855806222,
           4.565114361430922,
           4.594455867055624,
           4.623797372680324,
           4.6531388783050245,
           4.682480383929725,
           4.711821889554425,
           4.741163395179127,
           4.770504900803827
          ],
          [
           1.8842571468745997,
           1.9135986524993003,
           1.9429401581240011,
           1.9722816637487017,
           2.0016231693734023,
           2.030964674998103,
           2.0603061806228036,
           2.0896476862475044,
           2.1189891918722052,
           2.148330697496906,
           2.1776722031216065,
           2.2070137087463073,
           2.236355214371008,
           2.2656967199957085,
           2.2950382256204094,
           2.32437973124511,
           2.353721236869811,
           2.3830627424945114,
           2.4124042481192123,
           2.4417457537439127,
           2.4710872593686135,
           2.5004287649933143,
           2.529770270618015,
           2.5591117762427156,
           2.5884532818674164,
           2.617794787492117,
           2.6471362931168176,
           2.6764777987415185,
           2.7058193043662193,
           2.73516080999092,
           2.7645023156156205,
           2.7938438212403214,
           2.8231853268650218,
           2.8525268324897226,
           2.8818683381144234,
           2.9112098437391243,
           2.940551349363825,
           2.9698928549885255,
           2.9992343606132263,
           3.0285758662379267,
           3.0579173718626276,
           3.0872588774873284,
           3.1166003831120292,
           3.1459418887367296,
           3.1752833943614305,
           3.2046248999861313,
           3.2339664056108317,
           3.2633079112355325,
           3.2926494168602334,
           3.321990922484934,
           3.3513324281096346,
           3.3806739337343354,
           3.410015439359036,
           3.4393569449837367,
           3.4686984506084375,
           3.4980399562331383,
           3.5273814618578387,
           3.5567229674825396,
           3.58606447310724,
           3.615405978731941,
           3.6447474843566416,
           3.6740889899813425,
           3.703430495606043,
           3.732772001230744,
           3.7621135068554445,
           3.791455012480145,
           3.8207965181048458,
           3.8501380237295466,
           3.8794795293542474,
           3.9088210349789483,
           3.9381625406036482,
           3.967504046228349,
           3.99684555185305,
           4.026187057477751,
           4.055528563102452,
           4.084870068727152,
           4.114211574351853,
           4.143553079976553,
           4.172894585601254,
           4.202236091225955,
           4.231577596850656,
           4.2609191024753565,
           4.290260608100057,
           4.319602113724757,
           4.348943619349459,
           4.378285124974159,
           4.40762663059886,
           4.436968136223561,
           4.4663096418482615,
           4.495651147472962,
           4.524992653097663,
           4.554334158722363,
           4.583675664347064,
           4.613017169971765,
           4.642358675596466,
           4.6717001812211665,
           4.701041686845867,
           4.730383192470567,
           4.759724698095268,
           4.789066203719969
          ],
          [
           1.9028184497907412,
           1.9321599554154418,
           1.9615014610401427,
           1.9908429666648433,
           2.020184472289544,
           2.0495259779142447,
           2.0788674835389456,
           2.108208989163646,
           2.137550494788347,
           2.166892000413047,
           2.196233506037748,
           2.225575011662449,
           2.2549165172871497,
           2.2842580229118505,
           2.313599528536551,
           2.3429410341612518,
           2.372282539785952,
           2.401624045410653,
           2.430965551035354,
           2.4603070566600547,
           2.489648562284755,
           2.518990067909456,
           2.5483315735341567,
           2.577673079158857,
           2.607014584783558,
           2.636356090408259,
           2.6656975960329596,
           2.69503910165766,
           2.724380607282361,
           2.7537221129070613,
           2.783063618531762,
           2.812405124156463,
           2.8417466297811638,
           2.8710881354058646,
           2.900429641030565,
           2.9297711466552654,
           2.9591126522799662,
           2.988454157904667,
           3.017795663529368,
           3.0471371691540687,
           3.076478674778769,
           3.10582018040347,
           3.1351616860281704,
           3.164503191652871,
           3.193844697277572,
           3.223186202902273,
           3.2525277085269733,
           3.281869214151674,
           3.311210719776375,
           3.3405522254010753,
           3.369893731025776,
           3.399235236650477,
           3.428576742275178,
           3.4579182478998782,
           3.487259753524579,
           3.5166012591492795,
           3.5459427647739803,
           3.575284270398681,
           3.604625776023382,
           3.6339672816480824,
           3.6633087872727836,
           3.6926502928974836,
           3.7219917985221844,
           3.7513333041468853,
           3.780674809771586,
           3.810016315396287,
           3.8393578210209878,
           3.868699326645688,
           3.8980408322703886,
           3.9273823378950894,
           3.9567238435197902,
           3.986065349144491,
           4.015406854769192,
           4.044748360393893,
           4.074089866018593,
           4.1034313716432935,
           4.132772877267994,
           4.162114382892695,
           4.191455888517396,
           4.220797394142097,
           4.250138899766797,
           4.279480405391498,
           4.3088219110161985,
           4.338163416640899,
           4.3675049222656,
           4.396846427890301,
           4.426187933515001,
           4.455529439139703,
           4.484870944764403,
           4.5142124503891035,
           4.543553956013804,
           4.572895461638505,
           4.602236967263206,
           4.631578472887907,
           4.660919978512607,
           4.690261484137308,
           4.719602989762008,
           4.748944495386709,
           4.77828600101141,
           4.807627506636111
          ],
          [
           1.921379752706883,
           1.9507212583315836,
           1.9800627639562842,
           2.009404269580985,
           2.038745775205686,
           2.0680872808303867,
           2.097428786455087,
           2.1267702920797875,
           2.1561117977044884,
           2.185453303329189,
           2.21479480895389,
           2.244136314578591,
           2.2734778202032913,
           2.302819325827992,
           2.3321608314526925,
           2.3615023370773933,
           2.390843842702094,
           2.420185348326795,
           2.449526853951496,
           2.4788683595761962,
           2.508209865200897,
           2.5375513708255975,
           2.5668928764502983,
           2.596234382074999,
           2.6255758876997,
           2.6549173933244004,
           2.684258898949101,
           2.713600404573802,
           2.7429419101985024,
           2.7722834158232033,
           2.801624921447904,
           2.8309664270726045,
           2.8603079326973053,
           2.889649438322006,
           2.9189909439467066,
           2.9483324495714074,
           2.9776739551961082,
           3.007015460820809,
           3.03635696644551,
           3.0656984720702103,
           3.0950399776949107,
           3.1243814833196115,
           3.1537229889443124,
           3.183064494569013,
           3.212406000193714,
           3.241747505818415,
           3.271089011443115,
           3.3004305170678157,
           3.3297720226925165,
           3.3591135283172173,
           3.388455033941918,
           3.417796539566619,
           3.4471380451913194,
           3.47647955081602,
           3.5058210564407206,
           3.5351625620654215,
           3.5645040676901223,
           3.593845573314823,
           3.6231870789395235,
           3.652528584564224,
           3.681870090188925,
           3.7112115958136256,
           3.7405531014383264,
           3.7698946070630273,
           3.799236112687728,
           3.8285776183124285,
           3.8579191239371293,
           3.8872606295618297,
           3.9166021351865306,
           3.9459436408112314,
           3.975285146435932,
           4.004626652060633,
           4.033968157685333,
           4.063309663310035,
           4.092651168934735,
           4.1219926745594355,
           4.151334180184136,
           4.180675685808836,
           4.210017191433538,
           4.239358697058238,
           4.268700202682939,
           4.29804170830764,
           4.3273832139323405,
           4.356724719557041,
           4.386066225181742,
           4.415407730806443,
           4.444749236431143,
           4.474090742055845,
           4.503432247680545,
           4.5327737533052455,
           4.562115258929946,
           4.591456764554646,
           4.620798270179348,
           4.650139775804048,
           4.679481281428749,
           4.70882278705345,
           4.73816429267815,
           4.767505798302851,
           4.796847303927551,
           4.826188809552253
          ],
          [
           1.9399410556230245,
           1.9692825612477252,
           1.9986240668724258,
           2.0279655724971266,
           2.057307078121827,
           2.086648583746528,
           2.1159900893712287,
           2.1453315949959295,
           2.1746731006206304,
           2.2040146062453307,
           2.2333561118700316,
           2.262697617494732,
           2.292039123119433,
           2.3213806287441336,
           2.3507221343688345,
           2.3800636399935353,
           2.4094051456182357,
           2.438746651242936,
           2.468088156867637,
           2.4974296624923378,
           2.5267711681170386,
           2.5561126737417394,
           2.58545417936644,
           2.6147956849911407,
           2.6441371906158415,
           2.673478696240542,
           2.7028202018652427,
           2.7321617074899436,
           2.761503213114644,
           2.790844718739345,
           2.8201862243640456,
           2.849527729988746,
           2.878869235613447,
           2.9082107412381477,
           2.9375522468628485,
           2.966893752487549,
           2.9962352581122498,
           3.02557676373695,
           3.054918269361651,
           3.084259774986352,
           3.1136012806110527,
           3.1429427862357535,
           3.172284291860454,
           3.2016257974851543,
           3.230967303109855,
           3.260308808734556,
           3.289650314359257,
           3.3189918199839576,
           3.3483333256086585,
           3.377674831233359,
           3.4070163368580593,
           3.43635784248276,
           3.465699348107461,
           3.495040853732162,
           3.5243823593568626,
           3.553723864981563,
           3.5830653706062634,
           3.6124068762309642,
           3.641748381855665,
           3.671089887480366,
           3.7004313931050667,
           3.729772898729767,
           3.7591144043544675,
           3.788455909979169,
           3.817797415603869,
           3.84713892122857,
           3.876480426853271,
           3.9058219324779717,
           3.935163438102672,
           3.964504943727373,
           3.9938464493520733,
           4.023187954976774,
           4.052529460601475,
           4.081870966226176,
           4.111212471850877,
           4.140553977475577,
           4.169895483100278,
           4.199236988724978,
           4.228578494349679,
           4.25791999997438,
           4.28726150559908,
           4.316603011223782,
           4.345944516848482,
           4.375286022473182,
           4.404627528097883,
           4.433969033722584,
           4.463310539347285,
           4.492652044971986,
           4.521993550596687,
           4.551335056221387,
           4.580676561846088,
           4.610018067470788,
           4.639359573095489,
           4.66870107872019,
           4.69804258434489,
           4.727384089969592,
           4.7567255955942915,
           4.786067101218992,
           4.815408606843693,
           4.844750112468394
          ],
          [
           1.9585023585391663,
           1.987843864163867,
           2.0171853697885678,
           2.046526875413268,
           2.075868381037969,
           2.10520988666267,
           2.1345513922873707,
           2.163892897912071,
           2.193234403536772,
           2.2225759091614723,
           2.251917414786173,
           2.281258920410874,
           2.310600426035575,
           2.3399419316602756,
           2.369283437284976,
           2.398624942909677,
           2.4279664485343773,
           2.457307954159078,
           2.486649459783779,
           2.5159909654084798,
           2.54533247103318,
           2.574673976657881,
           2.604015482282582,
           2.6333569879072822,
           2.662698493531983,
           2.692039999156684,
           2.7213815047813847,
           2.750723010406085,
           2.780064516030786,
           2.8094060216554864,
           2.838747527280187,
           2.868089032904888,
           2.897430538529589,
           2.9267720441542897,
           2.95611354977899,
           2.9854550554036905,
           3.0147965610283913,
           3.044138066653092,
           3.073479572277793,
           3.102821077902494,
           3.1321625835271942,
           3.161504089151895,
           3.1908455947765955,
           3.2201871004012963,
           3.249528606025997,
           3.278870111650698,
           3.3082116172753984,
           3.337553122900099,
           3.3668946285248,
           3.3962361341495004,
           3.4255776397742013,
           3.454919145398902,
           3.484260651023603,
           3.5136021566483033,
           3.542943662273004,
           3.5722851678977046,
           3.6016266735224054,
           3.6309681791471062,
           3.660309684771807,
           3.6896511903965075,
           3.7189926960212087,
           3.7483342016459087,
           3.7776757072706095,
           3.8070172128953104,
           3.836358718520011,
           3.865700224144712,
           3.895041729769413,
           3.9243832353941133,
           3.9537247410188137,
           3.9830662466435145,
           4.012407752268215,
           4.041749257892916,
           4.071090763517617,
           4.100432269142318,
           4.129773774767018,
           4.159115280391719,
           4.1884567860164195,
           4.21779829164112,
           4.247139797265821,
           4.276481302890522,
           4.305822808515222,
           4.335164314139923,
           4.364505819764624,
           4.393847325389324,
           4.423188831014025,
           4.452530336638726,
           4.481871842263426,
           4.511213347888128,
           4.540554853512828,
           4.569896359137529,
           4.599237864762229,
           4.62857937038693,
           4.657920876011631,
           4.687262381636332,
           4.716603887261032,
           4.745945392885733,
           4.7752868985104335,
           4.804628404135134,
           4.833969909759835,
           4.863311415384536
          ],
          [
           1.9770636614553079,
           2.0064051670800085,
           2.0357466727047093,
           2.06508817832941,
           2.0944296839541106,
           2.1237711895788114,
           2.153112695203512,
           2.1824542008282126,
           2.2117957064529135,
           2.2411372120776143,
           2.2704787177023147,
           2.2998202233270155,
           2.3291617289517164,
           2.3585032345764168,
           2.3878447402011176,
           2.4171862458258184,
           2.4465277514505193,
           2.4758692570752197,
           2.5052107626999205,
           2.534552268324621,
           2.5638937739493217,
           2.5932352795740226,
           2.6225767851987234,
           2.651918290823424,
           2.6812597964481246,
           2.710601302072825,
           2.739942807697526,
           2.7692843133222267,
           2.7986258189469275,
           2.8279673245716284,
           2.8573088301963288,
           2.8866503358210296,
           2.91599184144573,
           2.945333347070431,
           2.9746748526951317,
           3.0040163583198325,
           3.0333578639445333,
           3.0626993695692337,
           3.0920408751939346,
           3.121382380818635,
           3.150723886443336,
           3.1800653920680366,
           3.2094068976927375,
           3.238748403317438,
           3.2680899089421387,
           3.2974314145668395,
           3.32677292019154,
           3.3561144258162408,
           3.3854559314409416,
           3.4147974370656424,
           3.444138942690343,
           3.4734804483150437,
           3.502821953939744,
           3.532163459564445,
           3.5615049651891457,
           3.5908464708138466,
           3.620187976438547,
           3.649529482063248,
           3.678870987687948,
           3.708212493312649,
           3.73755399893735,
           3.7668955045620507,
           3.796237010186751,
           3.8255785158114524,
           3.8549200214361528,
           3.884261527060853,
           3.913603032685554,
           3.942944538310255,
           3.9722860439349557,
           4.0016275495596565,
           4.030969055184356,
           4.060310560809057,
           4.089652066433758,
           4.118993572058459,
           4.14833507768316,
           4.177676583307861,
           4.2070180889325615,
           4.236359594557261,
           4.265701100181962,
           4.295042605806663,
           4.324384111431364,
           4.353725617056065,
           4.383067122680766,
           4.4124086283054655,
           4.441750133930167,
           4.471091639554867,
           4.500433145179568,
           4.529774650804269,
           4.55911615642897,
           4.588457662053671,
           4.617799167678371,
           4.647140673303071,
           4.676482178927772,
           4.705823684552473,
           4.735165190177174,
           4.764506695801875,
           4.7938482014265755,
           4.8231897070512755,
           4.852531212675976,
           4.881872718300677
          ],
          [
           1.9956249643714497,
           2.0249664699961505,
           2.054307975620851,
           2.0836494812455517,
           2.112990986870252,
           2.142332492494953,
           2.171673998119654,
           2.2010155037443546,
           2.2303570093690555,
           2.259698514993756,
           2.2890400206184567,
           2.318381526243157,
           2.347723031867858,
           2.3770645374925587,
           2.4064060431172596,
           2.4357475487419604,
           2.465089054366661,
           2.494430559991361,
           2.523772065616062,
           2.553113571240763,
           2.5824550768654637,
           2.6117965824901646,
           2.641138088114865,
           2.670479593739566,
           2.6998210993642666,
           2.729162604988967,
           2.758504110613668,
           2.7878456162383687,
           2.817187121863069,
           2.84652862748777,
           2.8758701331124708,
           2.905211638737171,
           2.934553144361872,
           2.963894649986573,
           2.9932361556112737,
           3.022577661235974,
           3.051919166860675,
           3.0812606724853753,
           3.110602178110076,
           3.139943683734777,
           3.169285189359478,
           3.1986266949841786,
           3.227968200608879,
           3.2573097062335794,
           3.2866512118582802,
           3.315992717482981,
           3.345334223107682,
           3.3746757287323828,
           3.4040172343570836,
           3.433358739981784,
           3.4627002456064844,
           3.492041751231185,
           3.521383256855886,
           3.550724762480587,
           3.5800662681052877,
           3.609407773729988,
           3.6387492793546885,
           3.6680907849793893,
           3.69743229060409,
           3.726773796228791,
           3.756115301853492,
           3.7854568074781922,
           3.8147983131028926,
           3.844139818727594,
           3.8734813243522943,
           3.902822829976995,
           3.932164335601696,
           3.961505841226397,
           3.990847346851097,
           4.020188852475798,
           4.049530358100498,
           4.078871863725199,
           4.1082133693499,
           4.137554874974601,
           4.166896380599301,
           4.196237886224003,
           4.225579391848703,
           4.254920897473403,
           4.284262403098104,
           4.313603908722805,
           4.342945414347506,
           4.372286919972206,
           4.401628425596908,
           4.4309699312216075,
           4.460311436846309,
           4.489652942471009,
           4.518994448095709,
           4.548335953720411,
           4.577677459345111,
           4.607018964969813,
           4.6363604705945125,
           4.665701976219213,
           4.695043481843914,
           4.724384987468615,
           4.753726493093316,
           4.783067998718016,
           4.8124095043427175,
           4.8417510099674175,
           4.871092515592118,
           4.900434021216819
          ],
          [
           2.014186267287591,
           2.0435277729122916,
           2.0728692785369924,
           2.1022107841616933,
           2.131552289786394,
           2.160893795411095,
           2.1902353010357953,
           2.2195768066604957,
           2.2489183122851966,
           2.2782598179098974,
           2.3076013235345982,
           2.336942829159299,
           2.3662843347839995,
           2.3956258404087003,
           2.4249673460334007,
           2.4543088516581015,
           2.4836503572828024,
           2.512991862907503,
           2.542333368532204,
           2.5716748741569044,
           2.6010163797816053,
           2.6303578854063057,
           2.6596993910310065,
           2.6890408966557073,
           2.718382402280408,
           2.7477239079051086,
           2.7770654135298094,
           2.8064069191545102,
           2.8357484247792106,
           2.8650899304039115,
           2.8944314360286123,
           2.9237729416533127,
           2.9531144472780135,
           2.9824559529027144,
           3.0117974585274148,
           3.0411389641521156,
           3.0704804697768164,
           3.0998219754015173,
           3.129163481026218,
           3.1585049866509185,
           3.187846492275619,
           3.2171879979003197,
           3.2465295035250206,
           3.2758710091497214,
           3.3052125147744222,
           3.334554020399123,
           3.363895526023823,
           3.393237031648524,
           3.4225785372732247,
           3.4519200428979255,
           3.4812615485226264,
           3.510603054147327,
           3.5399445597720276,
           3.569286065396728,
           3.598627571021429,
           3.6279690766461297,
           3.6573105822708305,
           3.6866520878955313,
           3.7159935935202317,
           3.745335099144932,
           3.7746766047696334,
           3.804018110394334,
           3.8333596160190346,
           3.8627011216437355,
           3.8920426272684363,
           3.9213841328931367,
           3.9507256385178375,
           3.980067144142538,
           4.009408649767239,
           4.03875015539194,
           4.0680916610166395,
           4.097433166641341,
           4.126774672266041,
           4.156116177890743,
           4.185457683515443,
           4.214799189140144,
           4.244140694764845,
           4.2734822003895445,
           4.302823706014246,
           4.332165211638946,
           4.361506717263647,
           4.390848222888348,
           4.420189728513049,
           4.4495312341377495,
           4.47887273976245,
           4.508214245387151,
           4.537555751011851,
           4.566897256636553,
           4.596238762261253,
           4.625580267885954,
           4.6549217735106545,
           4.6842632791353545,
           4.713604784760056,
           4.742946290384756,
           4.772287796009457,
           4.801629301634158,
           4.830970807258859,
           4.8603123128835595,
           4.889653818508259,
           4.918995324132961
          ],
          [
           2.0327475702037328,
           2.0620890758284336,
           2.0914305814531344,
           2.1207720870778353,
           2.1501135927025357,
           2.1794550983272365,
           2.208796603951937,
           2.2381381095766377,
           2.2674796152013386,
           2.2968211208260394,
           2.32616262645074,
           2.3555041320754406,
           2.3848456377001415,
           2.414187143324842,
           2.4435286489495427,
           2.4728701545742435,
           2.5022116601989444,
           2.5315531658236448,
           2.5608946714483456,
           2.590236177073046,
           2.619577682697747,
           2.6489191883224477,
           2.6782606939471485,
           2.707602199571849,
           2.7369437051965497,
           2.76628521082125,
           2.795626716445951,
           2.824968222070652,
           2.8543097276953526,
           2.8836512333200535,
           2.912992738944754,
           2.9423342445694547,
           2.971675750194155,
           3.001017255818856,
           3.0303587614435568,
           3.0597002670682576,
           3.0890417726929584,
           3.118383278317659,
           3.1477247839423597,
           3.17706628956706,
           3.206407795191761,
           3.2357493008164617,
           3.2650908064411626,
           3.294432312065863,
           3.323773817690564,
           3.3531153233152646,
           3.382456828939965,
           3.411798334564666,
           3.4411398401893667,
           3.4704813458140675,
           3.499822851438768,
           3.5291643570634688,
           3.558505862688169,
           3.58784736831287,
           3.617188873937571,
           3.6465303795622717,
           3.675871885186972,
           3.705213390811673,
           3.7345548964363733,
           3.763896402061074,
           3.793237907685775,
           3.822579413310476,
           3.851920918935176,
           3.8812624245598775,
           3.910603930184578,
           3.9399454358092783,
           3.969286941433979,
           3.99862844705868,
           4.027969952683381,
           4.057311458308082,
           4.0866529639327815,
           4.115994469557482,
           4.145335975182183,
           4.174677480806884,
           4.204018986431585,
           4.233360492056286,
           4.262701997680987,
           4.2920435033056865,
           4.321385008930387,
           4.350726514555088,
           4.380068020179789,
           4.40940952580449,
           4.438751031429191,
           4.468092537053891,
           4.497434042678592,
           4.526775548303292,
           4.556117053927993,
           4.585458559552694,
           4.614800065177395,
           4.644141570802096,
           4.6734830764267965,
           4.7028245820514964,
           4.732166087676197,
           4.761507593300898,
           4.790849098925599,
           4.8201906045503,
           4.849532110175001,
           4.878873615799701,
           4.908215121424401,
           4.937556627049102
          ],
          [
           2.0513088731198748,
           2.080650378744575,
           2.109991884369276,
           2.1393333899939764,
           2.168674895618677,
           2.198016401243378,
           2.227357906868079,
           2.2566994124927793,
           2.28604091811748,
           2.3153824237421805,
           2.3447239293668813,
           2.374065434991582,
           2.403406940616283,
           2.432748446240984,
           2.4620899518656842,
           2.491431457490385,
           2.5207729631150855,
           2.5501144687397863,
           2.579455974364487,
           2.608797479989188,
           2.6381389856138884,
           2.667480491238589,
           2.69682199686329,
           2.7261635024879904,
           2.7555050081126913,
           2.784846513737392,
           2.814188019362093,
           2.8435295249867933,
           2.872871030611494,
           2.9022125362361946,
           2.9315540418608954,
           2.9608955474855962,
           2.990237053110297,
           3.019578558734998,
           3.0489200643596983,
           3.0782615699843987,
           3.1076030756090995,
           3.1369445812338004,
           3.166286086858501,
           3.195627592483202,
           3.2249690981079024,
           3.2543106037326033,
           3.2836521093573037,
           3.3129936149820045,
           3.3423351206067053,
           3.371676626231406,
           3.4010181318561066,
           3.4303596374808074,
           3.4597011431055082,
           3.4890426487302086,
           3.5183841543549095,
           3.5477256599796103,
           3.577067165604311,
           3.6064086712290115,
           3.6357501768537124,
           3.6650916824784128,
           3.6944331881031136,
           3.7237746937278144,
           3.7531161993525153,
           3.7824577049772157,
           3.811799210601917,
           3.841140716226617,
           3.8704822218513177,
           3.8998237274760186,
           3.9291652331007194,
           3.9585067387254202,
           3.987848244350121,
           4.017189749974822,
           4.046531255599522,
           4.075872761224223,
           4.1052142668489235,
           4.134555772473624,
           4.163897278098325,
           4.193238783723026,
           4.222580289347726,
           4.251921794972427,
           4.281263300597128,
           4.3106048062218285,
           4.339946311846529,
           4.36928781747123,
           4.39862932309593,
           4.427970828720631,
           4.457312334345332,
           4.486653839970033,
           4.5159953455947335,
           4.545336851219434,
           4.574678356844134,
           4.604019862468836,
           4.633361368093536,
           4.662702873718237,
           4.692044379342938,
           4.7213858849676384,
           4.750727390592339,
           4.78006889621704,
           4.80941040184174,
           4.838751907466441,
           4.868093413091142,
           4.897434918715843,
           4.926776424340543,
           4.956117929965244
          ],
          [
           2.0698701760360163,
           2.0992116816607167,
           2.1285531872854175,
           2.1578946929101184,
           2.187236198534819,
           2.21657770415952,
           2.2459192097842204,
           2.275260715408921,
           2.3046022210336217,
           2.3339437266583225,
           2.3632852322830233,
           2.392626737907724,
           2.4219682435324246,
           2.4513097491571254,
           2.480651254781826,
           2.5099927604065266,
           2.5393342660312275,
           2.5686757716559283,
           2.598017277280629,
           2.6273587829053295,
           2.6567002885300304,
           2.6860417941547308,
           2.7153832997794316,
           2.7447248054041324,
           2.7740663110288333,
           2.8034078166535337,
           2.8327493222782345,
           2.8620908279029353,
           2.8914323335276357,
           2.9207738391523366,
           2.9501153447770374,
           2.979456850401738,
           3.0087983560264386,
           3.0381398616511395,
           3.06748136727584,
           3.0968228729005407,
           3.1261643785252415,
           3.1555058841499424,
           3.184847389774643,
           3.2141888953993436,
           3.243530401024044,
           3.272871906648745,
           3.3022134122734457,
           3.3315549178981465,
           3.3608964235228473,
           3.390237929147548,
           3.419579434772248,
           3.448920940396949,
           3.47826244602165,
           3.5076039516463506,
           3.5369454572710515,
           3.5662869628957523,
           3.5956284685204527,
           3.624969974145153,
           3.654311479769854,
           3.6836529853945548,
           3.7129944910192556,
           3.7423359966439564,
           3.771677502268657,
           3.8010190078933572,
           3.8303605135180585,
           3.859702019142759,
           3.8890435247674597,
           3.9183850303921606,
           3.9477265360168614,
           3.977068041641562,
           4.006409547266262,
           4.035751052890963,
           4.065092558515664,
           4.094434064140365,
           4.1237755697650655,
           4.1531170753897655,
           4.182458581014467,
           4.211800086639167,
           4.241141592263868,
           4.270483097888569,
           4.29982460351327,
           4.3291661091379705,
           4.3585076147626705,
           4.387849120387372,
           4.417190626012072,
           4.446532131636773,
           4.475873637261474,
           4.505215142886174,
           4.5345566485108755,
           4.563898154135575,
           4.593239659760276,
           4.622581165384977,
           4.651922671009678,
           4.681264176634379,
           4.71060568225908,
           4.73994718788378,
           4.76928869350848,
           4.798630199133182,
           4.827971704757882,
           4.857313210382583,
           4.886654716007284,
           4.915996221631984,
           4.945337727256685,
           4.974679232881385
          ],
          [
           2.088431478952158,
           2.1177729845768587,
           2.147114490201559,
           2.17645599582626,
           2.2057975014509603,
           2.235139007075661,
           2.264480512700362,
           2.293822018325063,
           2.3231635239497637,
           2.352505029574464,
           2.381846535199165,
           2.4111880408238653,
           2.440529546448566,
           2.469871052073267,
           2.499212557697968,
           2.5285540633226686,
           2.557895568947369,
           2.5872370745720694,
           2.6165785801967703,
           2.645920085821471,
           2.675261591446172,
           2.7046030970708728,
           2.733944602695573,
           2.763286108320274,
           2.792627613944975,
           2.821969119569675,
           2.851310625194376,
           2.880652130819077,
           2.9099936364437773,
           2.939335142068478,
           2.968676647693179,
           2.9980181533178794,
           3.02735965894258,
           3.056701164567281,
           3.086042670191982,
           3.1153841758166823,
           3.144725681441383,
           3.1740671870660835,
           3.2034086926907843,
           3.232750198315485,
           3.262091703940186,
           3.291433209564887,
           3.3207747151895872,
           3.3501162208142876,
           3.3794577264389885,
           3.4087992320636893,
           3.43814073768839,
           3.467482243313091,
           3.496823748937792,
           3.526165254562492,
           3.5555067601871926,
           3.5848482658118934,
           3.6141897714365943,
           3.643531277061295,
           3.672872782685996,
           3.7022142883106963,
           3.7315557939353967,
           3.7608972995600976,
           3.7902388051847984,
           3.8195803108094992,
           3.8489218164342,
           3.8782633220589005,
           3.907604827683601,
           3.936946333308302,
           3.9662878389330025,
           3.9956293445577034,
           4.024970850182404,
           4.054312355807105,
           4.083653861431806,
           4.112995367056506,
           4.142336872681207,
           4.1716783783059075,
           4.201019883930608,
           4.230361389555309,
           4.259702895180009,
           4.289044400804711,
           4.318385906429411,
           4.347727412054112,
           4.3770689176788125,
           4.406410423303513,
           4.435751928928214,
           4.465093434552914,
           4.494434940177616,
           4.523776445802316,
           4.5531179514270175,
           4.582459457051717,
           4.611800962676417,
           4.641142468301119,
           4.670483973925819,
           4.699825479550521,
           4.729166985175221,
           4.7585084907999216,
           4.787849996424622,
           4.817191502049323,
           4.846533007674024,
           4.875874513298724,
           4.905216018923426,
           4.934557524548126,
           4.9638990301728265,
           4.993240535797527
          ],
          [
           2.1069927818683,
           2.1363342874930003,
           2.165675793117701,
           2.1950172987424015,
           2.2243588043671023,
           2.253700309991803,
           2.283041815616504,
           2.3123833212412044,
           2.341724826865905,
           2.3710663324906056,
           2.4004078381153064,
           2.4297493437400073,
           2.459090849364708,
           2.488432354989409,
           2.5177738606141093,
           2.54711536623881,
           2.5764568718635106,
           2.6057983774882114,
           2.6351398831129123,
           2.664481388737613,
           2.6938228943623135,
           2.7231643999870143,
           2.752505905611715,
           2.7818474112364155,
           2.8111889168611164,
           2.840530422485817,
           2.869871928110518,
           2.8992134337352184,
           2.9285549393599193,
           2.9578964449846197,
           2.9872379506093205,
           3.0165794562340214,
           3.045920961858722,
           3.075262467483423,
           3.1046039731081234,
           3.133945478732824,
           3.1632869843575246,
           3.1926284899822255,
           3.2219699956069263,
           3.251311501231627,
           3.2806530068563275,
           3.3099945124810284,
           3.3393360181057288,
           3.3686775237304296,
           3.3980190293551304,
           3.4273605349798313,
           3.4567020406045317,
           3.4860435462292325,
           3.5153850518539334,
           3.5447265574786337,
           3.5740680631033346,
           3.6034095687280354,
           3.6327510743527363,
           3.6620925799774366,
           3.6914340856021375,
           3.720775591226838,
           3.7501170968515387,
           3.7794586024762395,
           3.8088001081009404,
           3.8381416137256408,
           3.867483119350342,
           3.896824624975042,
           3.926166130599743,
           3.9555076362244437,
           3.9848491418491445,
           4.014190647473845,
           4.043532153098546,
           4.072873658723246,
           4.102215164347947,
           4.131556669972648,
           4.160898175597349,
           4.1902396812220495,
           4.21958118684675,
           4.248922692471451,
           4.278264198096151,
           4.307605703720852,
           4.336947209345553,
           4.366288714970254,
           4.3956302205949545,
           4.424971726219655,
           4.454313231844355,
           4.483654737469056,
           4.512996243093757,
           4.542337748718458,
           4.571679254343159,
           4.601020759967859,
           4.630362265592559,
           4.659703771217261,
           4.689045276841961,
           4.718386782466662,
           4.747728288091363,
           4.7770697937160636,
           4.806411299340764,
           4.835752804965465,
           4.865094310590165,
           4.894435816214866,
           4.923777321839567,
           4.953118827464268,
           4.9824603330889685,
           5.011801838713669
          ],
          [
           2.125554084784441,
           2.154895590409142,
           2.1842370960338426,
           2.2135786016585435,
           2.242920107283244,
           2.2722616129079447,
           2.301603118532645,
           2.330944624157346,
           2.3602861297820468,
           2.3896276354067476,
           2.418969141031448,
           2.448310646656149,
           2.4776521522808497,
           2.50699365790555,
           2.536335163530251,
           2.5656766691549517,
           2.5950181747796526,
           2.624359680404353,
           2.653701186029054,
           2.683042691653754,
           2.712384197278455,
           2.741725702903156,
           2.7710672085278567,
           2.800408714152557,
           2.829750219777258,
           2.8590917254019583,
           2.888433231026659,
           2.91777473665136,
           2.947116242276061,
           2.9764577479007617,
           3.005799253525462,
           3.035140759150163,
           3.0644822647748633,
           3.093823770399564,
           3.123165276024265,
           3.152506781648966,
           3.1818482872736666,
           3.211189792898367,
           3.240531298523068,
           3.2698728041477683,
           3.299214309772469,
           3.32855581539717,
           3.3578973210218708,
           3.387238826646571,
           3.416580332271272,
           3.445921837895973,
           3.4752633435206732,
           3.504604849145374,
           3.533946354770075,
           3.5632878603947757,
           3.592629366019476,
           3.621970871644177,
           3.6513123772688774,
           3.680653882893578,
           3.709995388518279,
           3.73933689414298,
           3.7686783997676803,
           3.798019905392381,
           3.8273614110170815,
           3.8567029166417823,
           3.886044422266483,
           3.915385927891184,
           3.9447274335158844,
           3.9740689391405857,
           4.0034104447652865,
           4.0327519503899865,
           4.062093456014687,
           4.091434961639388,
           4.120776467264089,
           4.15011797288879,
           4.17945947851349,
           4.208800984138191,
           4.238142489762891,
           4.267483995387592,
           4.296825501012293,
           4.326167006636994,
           4.355508512261695,
           4.384850017886395,
           4.414191523511096,
           4.443533029135796,
           4.472874534760497,
           4.502216040385198,
           4.531557546009899,
           4.560899051634599,
           4.590240557259301,
           4.6195820628840005,
           4.648923568508701,
           4.678265074133402,
           4.707606579758103,
           4.736948085382804,
           4.766289591007505,
           4.795631096632205,
           4.8249726022569055,
           4.854314107881606,
           4.883655613506307,
           4.912997119131008,
           4.942338624755709,
           4.971680130380409,
           5.00102163600511,
           5.0303631416298105
          ],
          [
           2.144115387700583,
           2.173456893325284,
           2.202798398949984,
           2.232139904574685,
           2.2614814101993854,
           2.2908229158240863,
           2.320164421448787,
           2.349505927073488,
           2.3788474326981888,
           2.408188938322889,
           2.43753044394759,
           2.4668719495722904,
           2.4962134551969912,
           2.525554960821692,
           2.554896466446393,
           2.5842379720710937,
           2.613579477695794,
           2.6429209833204945,
           2.6722624889451954,
           2.701603994569896,
           2.730945500194597,
           2.760287005819298,
           2.7896285114439983,
           2.818970017068699,
           2.8483115226934,
           2.8776530283181003,
           2.906994533942801,
           2.936336039567502,
           2.9656775451922024,
           2.9950190508169032,
           3.024360556441604,
           3.0537020620663045,
           3.0830435676910053,
           3.112385073315706,
           3.141726578940407,
           3.1710680845651074,
           3.200409590189808,
           3.2297510958145086,
           3.2590926014392094,
           3.2884341070639103,
           3.317775612688611,
           3.347117118313312,
           3.3764586239380123,
           3.4058001295627127,
           3.4351416351874136,
           3.4644831408121144,
           3.4938246464368152,
           3.523166152061516,
           3.552507657686217,
           3.5818491633109173,
           3.6111906689356177,
           3.6405321745603185,
           3.6698736801850194,
           3.69921518580972,
           3.728556691434421,
           3.7578981970591214,
           3.787239702683822,
           3.8165812083085227,
           3.8459227139332235,
           3.8752642195579243,
           3.904605725182625,
           3.9339472308073256,
           3.963288736432026,
           3.9926302420567272,
           4.021971747681428,
           4.0513132533061285,
           4.080654758930829,
           4.10999626455553,
           4.13933777018023,
           4.168679275804932,
           4.198020781429632,
           4.227362287054333,
           4.256703792679033,
           4.286045298303734,
           4.315386803928435,
           4.344728309553135,
           4.374069815177837,
           4.403411320802537,
           4.432752826427238,
           4.462094332051938,
           4.491435837676638,
           4.52077734330134,
           4.55011884892604,
           4.579460354550741,
           4.608801860175442,
           4.6381433658001425,
           4.667484871424843,
           4.696826377049544,
           4.726167882674245,
           4.755509388298945,
           4.784850893923647,
           4.814192399548347,
           4.8435339051730475,
           4.872875410797748,
           4.902216916422448,
           4.93155842204715,
           4.96089992767185,
           4.990241433296551,
           5.019582938921252,
           5.0489244445459525
          ],
          [
           2.162676690616725,
           2.1920181962414254,
           2.221359701866126,
           2.2507012074908266,
           2.2800427131155274,
           2.3093842187402283,
           2.338725724364929,
           2.3680672299896295,
           2.3974087356143303,
           2.4267502412390307,
           2.4560917468637316,
           2.4854332524884324,
           2.5147747581131332,
           2.544116263737834,
           2.5734577693625345,
           2.6027992749872353,
           2.6321407806119357,
           2.6614822862366365,
           2.6908237918613374,
           2.720165297486038,
           2.7495068031107386,
           2.7788483087354394,
           2.8081898143601403,
           2.8375313199848406,
           2.8668728256095415,
           2.8962143312342423,
           2.925555836858943,
           2.9548973424836436,
           2.9842388481083444,
           3.013580353733045,
           3.0429218593577456,
           3.0722633649824465,
           3.1016048706071473,
           3.130946376231848,
           3.1602878818565485,
           3.189629387481249,
           3.2189708931059497,
           3.2483123987306506,
           3.2776539043553514,
           3.3069954099800523,
           3.3363369156047527,
           3.3656784212294535,
           3.395019926854154,
           3.4243614324788547,
           3.4537029381035556,
           3.4830444437282564,
           3.512385949352957,
           3.5417274549776576,
           3.5710689606023585,
           3.600410466227059,
           3.6297519718517597,
           3.6590934774764605,
           3.6884349831011614,
           3.7177764887258617,
           3.7471179943505626,
           3.776459499975263,
           3.805801005599964,
           3.8351425112246647,
           3.8644840168493655,
           3.893825522474066,
           3.923167028098767,
           3.952508533723467,
           3.981850039348168,
           4.011191544972869,
           4.04053305059757,
           4.0698745562222705,
           4.099216061846971,
           4.128557567471672,
           4.157899073096372,
           4.187240578721073,
           4.216582084345774,
           4.245923589970475,
           4.275265095595175,
           4.304606601219876,
           4.333948106844576,
           4.363289612469277,
           4.392631118093978,
           4.421972623718679,
           4.4513141293433796,
           4.48065563496808,
           4.50999714059278,
           4.539338646217481,
           4.568680151842182,
           4.598021657466883,
           4.627363163091584,
           4.6567046687162845,
           4.6860461743409845,
           4.715387679965686,
           4.744729185590386,
           4.774070691215087,
           4.803412196839788,
           4.832753702464489,
           4.8620952080891895,
           4.89143671371389,
           4.92077821933859,
           4.950119724963291,
           4.979461230587992,
           5.008802736212693,
           5.038144241837394,
           5.0674857474620945
          ],
          [
           2.181237993532866,
           2.210579499157567,
           2.2399210047822677,
           2.2692625104069686,
           2.298604016031669,
           2.32794552165637,
           2.35728702728107,
           2.386628532905771,
           2.415970038530472,
           2.4453115441551727,
           2.474653049779873,
           2.503994555404574,
           2.5333360610292748,
           2.562677566653975,
           2.592019072278676,
           2.621360577903377,
           2.6507020835280777,
           2.680043589152778,
           2.709385094777479,
           2.7387266004021793,
           2.76806810602688,
           2.797409611651581,
           2.826751117276282,
           2.856092622900982,
           2.885434128525683,
           2.9147756341503834,
           2.9441171397750843,
           2.973458645399785,
           3.002800151024486,
           3.032141656649187,
           3.061483162273887,
           3.090824667898588,
           3.1201661735232884,
           3.1495076791479892,
           3.17884918477269,
           3.208190690397391,
           3.2375321960220917,
           3.266873701646792,
           3.296215207271493,
           3.3255567128961934,
           3.354898218520894,
           3.384239724145595,
           3.413581229770296,
           3.4429227353949963,
           3.472264241019697,
           3.501605746644398,
           3.5309472522690983,
           3.560288757893799,
           3.5896302635185,
           3.618971769143201,
           3.6483132747679012,
           3.677654780392602,
           3.7069962860173025,
           3.7363377916420033,
           3.765679297266704,
           3.795020802891405,
           3.8243623085161054,
           3.853703814140806,
           3.8830453197655066,
           3.9123868253902074,
           3.9417283310149083,
           3.971069836639609,
           4.000411342264309,
           4.029752847889011,
           4.059094353513711,
           4.088435859138412,
           4.117777364763112,
           4.147118870387813,
           4.176460376012514,
           4.205801881637215,
           4.235143387261915,
           4.264484892886616,
           4.2938263985113165,
           4.323167904136017,
           4.352509409760718,
           4.381850915385419,
           4.41119242101012,
           4.44053392663482,
           4.469875432259521,
           4.4992169378842215,
           4.528558443508922,
           4.557899949133623,
           4.587241454758324,
           4.616582960383024,
           4.645924466007726,
           4.675265971632426,
           4.7046074772571265,
           4.733948982881827,
           4.763290488506528,
           4.792631994131229,
           4.82197349975593,
           4.85131500538063,
           4.880656511005331,
           4.909998016630031,
           4.939339522254732,
           4.968681027879433,
           4.998022533504134,
           5.027364039128834,
           5.056705544753535,
           5.086047050378236
          ],
          [
           2.199799296449008,
           2.229140802073709,
           2.2584823076984093,
           2.28782381332311,
           2.3171653189478105,
           2.3465068245725114,
           2.375848330197212,
           2.405189835821913,
           2.434531341446614,
           2.4638728470713143,
           2.493214352696015,
           2.5225558583207155,
           2.5518973639454163,
           2.581238869570117,
           2.610580375194818,
           2.6399218808195184,
           2.6692633864442192,
           2.6986048920689196,
           2.7279463976936205,
           2.7572879033183213,
           2.786629408943022,
           2.815970914567723,
           2.8453124201924234,
           2.874653925817124,
           2.903995431441825,
           2.9333369370665254,
           2.9626784426912263,
           2.992019948315927,
           3.0213614539406275,
           3.0507029595653283,
           3.080044465190029,
           3.1093859708147296,
           3.1387274764394304,
           3.1680689820641312,
           3.197410487688832,
           3.2267519933135325,
           3.2560934989382333,
           3.2854350045629337,
           3.3147765101876345,
           3.3441180158123354,
           3.373459521437036,
           3.402801027061737,
           3.4321425326864374,
           3.461484038311138,
           3.4908255439358387,
           3.5201670495605395,
           3.5495085551852403,
           3.578850060809941,
           3.608191566434642,
           3.6375330720593424,
           3.666874577684043,
           3.6962160833087436,
           3.7255575889334445,
           3.7548990945581453,
           3.784240600182846,
           3.8135821058075465,
           3.842923611432247,
           3.8722651170569478,
           3.9016066226816486,
           3.9309481283063494,
           3.9602896339310503,
           3.9896311395557507,
           4.018972645180451,
           4.048314150805153,
           4.077655656429853,
           4.106997162054554,
           4.136338667679254,
           4.165680173303955,
           4.195021678928656,
           4.224363184553356,
           4.253704690178057,
           4.283046195802758,
           4.3123877014274585,
           4.341729207052159,
           4.371070712676859,
           4.400412218301561,
           4.429753723926261,
           4.459095229550962,
           4.488436735175663,
           4.5177782408003635,
           4.547119746425064,
           4.576461252049764,
           4.605802757674466,
           4.635144263299166,
           4.664485768923868,
           4.693827274548568,
           4.723168780173268,
           4.752510285797969,
           4.781851791422669,
           4.811193297047371,
           4.840534802672071,
           4.869876308296772,
           4.899217813921473,
           4.928559319546173,
           4.957900825170874,
           4.987242330795574,
           5.016583836420276,
           5.045925342044976,
           5.075266847669677,
           5.104608353294378
          ],
          [
           2.2183605993651496,
           2.24770210498985,
           2.277043610614551,
           2.3063851162392517,
           2.3357266218639525,
           2.3650681274886534,
           2.3944096331133538,
           2.423751138738054,
           2.453092644362755,
           2.482434149987456,
           2.5117756556121567,
           2.5411171612368575,
           2.570458666861558,
           2.5998001724862587,
           2.629141678110959,
           2.65848318373566,
           2.687824689360361,
           2.7171661949850616,
           2.7465077006097625,
           2.775849206234463,
           2.8051907118591637,
           2.834532217483864,
           2.863873723108565,
           2.8932152287332658,
           2.9225567343579666,
           2.951898239982667,
           2.981239745607368,
           3.0105812512320687,
           3.039922756856769,
           3.06926426248147,
           3.0986057681061707,
           3.127947273730871,
           3.157288779355572,
           3.186630284980273,
           3.215971790604973,
           3.245313296229674,
           3.274654801854375,
           3.3039963074790757,
           3.3333378131037765,
           3.362679318728477,
           3.3920208243531773,
           3.421362329977878,
           3.450703835602579,
           3.48004534122728,
           3.5093868468519807,
           3.5387283524766815,
           3.5680698581013814,
           3.5974113637260823,
           3.626752869350783,
           3.656094374975484,
           3.685435880600185,
           3.7147773862248856,
           3.744118891849586,
           3.7734603974742864,
           3.8028019030989872,
           3.832143408723688,
           3.861484914348389,
           3.8908264199730898,
           3.92016792559779,
           3.9495094312224905,
           3.978850936847192,
           4.008192442471892,
           4.037533948096593,
           4.066875453721294,
           4.096216959345995,
           4.125558464970695,
           4.154899970595396,
           4.184241476220096,
           4.213582981844797,
           4.242924487469498,
           4.272265993094198,
           4.3016074987189,
           4.3309490043436,
           4.360290509968301,
           4.389632015593001,
           4.418973521217702,
           4.448315026842403,
           4.477656532467103,
           4.506998038091805,
           4.536339543716505,
           4.5656810493412054,
           4.595022554965906,
           4.624364060590607,
           4.653705566215308,
           4.683047071840009,
           4.71238857746471,
           4.74173008308941,
           4.771071588714111,
           4.800413094338811,
           4.829754599963512,
           4.859096105588213,
           4.888437611212913,
           4.917779116837615,
           4.9471206224623145,
           4.976462128087015,
           5.005803633711716,
           5.035145139336417,
           5.064486644961118,
           5.093828150585818,
           5.12316965621052
          ],
          [
           2.236921902281291,
           2.266263407905992,
           2.295604913530693,
           2.3249464191553937,
           2.354287924780094,
           2.383629430404795,
           2.4129709360294953,
           2.442312441654196,
           2.471653947278897,
           2.500995452903598,
           2.530336958528298,
           2.559678464152999,
           2.5890199697777,
           2.6183614754024003,
           2.647702981027101,
           2.677044486651802,
           2.706385992276503,
           2.735727497901203,
           2.765069003525904,
           2.7944105091506044,
           2.8237520147753052,
           2.853093520400006,
           2.882435026024707,
           2.9117765316494073,
           2.941118037274108,
           2.9704595428988085,
           2.9998010485235094,
           3.02914255414821,
           3.058484059772911,
           3.087825565397612,
           3.1171670710223123,
           3.146508576647013,
           3.1758500822717135,
           3.2051915878964143,
           3.234533093521115,
           3.263874599145816,
           3.293216104770517,
           3.3225576103952172,
           3.351899116019918,
           3.3812406216446185,
           3.4105821272693193,
           3.43992363289402,
           3.469265138518721,
           3.4986066441434214,
           3.527948149768122,
           3.557289655392823,
           3.5866311610175234,
           3.6159726666422243,
           3.645314172266925,
           3.674655677891626,
           3.7039971835163263,
           3.733338689141027,
           3.7626801947657276,
           3.7920217003904284,
           3.8213632060151292,
           3.85070471163983,
           3.8800462172645305,
           3.9093877228892313,
           3.9387292285139317,
           3.9680707341386325,
           3.9974122397633334,
           4.026753745388034,
           4.056095251012735,
           4.085436756637436,
           4.114778262262137,
           4.144119767886837,
           4.1734612735115375,
           4.202802779136238,
           4.232144284760939,
           4.26148579038564,
           4.29082729601034,
           4.320168801635041,
           4.349510307259742,
           4.3788518128844425,
           4.408193318509143,
           4.437534824133844,
           4.466876329758545,
           4.496217835383245,
           4.525559341007946,
           4.554900846632647,
           4.584242352257347,
           4.613583857882048,
           4.642925363506749,
           4.672266869131449,
           4.701608374756151,
           4.730949880380851,
           4.760291386005552,
           4.789632891630252,
           4.818974397254953,
           4.848315902879654,
           4.877657408504355,
           4.906998914129055,
           4.936340419753756,
           4.9656819253784565,
           4.995023431003157,
           5.024364936627858,
           5.053706442252559,
           5.083047947877259,
           5.11238945350196,
           5.141730959126661
          ],
          [
           2.255483205197433,
           2.2848247108221336,
           2.3141662164468344,
           2.343507722071535,
           2.3728492276962356,
           2.4021907333209365,
           2.4315322389456373,
           2.4608737445703377,
           2.4902152501950385,
           2.519556755819739,
           2.5488982614444398,
           2.5782397670691406,
           2.6075812726938414,
           2.636922778318542,
           2.6662642839432427,
           2.6956057895679435,
           2.724947295192644,
           2.7542888008173447,
           2.7836303064420456,
           2.8129718120667464,
           2.842313317691447,
           2.8716548233161476,
           2.9009963289408485,
           2.930337834565549,
           2.9596793401902497,
           2.9890208458149505,
           3.0183623514396514,
           3.0477038570643518,
           3.0770453626890526,
           3.106386868313753,
           3.135728373938454,
           3.1650698795631547,
           3.1944113851878555,
           3.2237528908125563,
           3.2530943964372567,
           3.282435902061957,
           3.311777407686658,
           3.341118913311359,
           3.3704604189360596,
           3.3998019245607605,
           3.429143430185461,
           3.4584849358101617,
           3.487826441434862,
           3.517167947059563,
           3.5465094526842638,
           3.5758509583089646,
           3.605192463933665,
           3.634533969558366,
           3.6638754751830667,
           3.693216980807767,
           3.722558486432468,
           3.7518999920571687,
           3.7812414976818696,
           3.81058300330657,
           3.839924508931271,
           3.869266014555971,
           3.898607520180672,
           3.927949025805373,
           3.9572905314300737,
           3.986632037054774,
           4.015973542679475,
           4.045315048304175,
           4.074656553928876,
           4.103998059553577,
           4.133339565178278,
           4.162681070802979,
           4.1920225764276795,
           4.22136408205238,
           4.25070558767708,
           4.280047093301781,
           4.309388598926482,
           4.338730104551183,
           4.368071610175884,
           4.3974131158005845,
           4.426754621425284,
           4.456096127049985,
           4.485437632674686,
           4.514779138299387,
           4.544120643924088,
           4.573462149548789,
           4.6028036551734886,
           4.632145160798189,
           4.66148666642289,
           4.690828172047591,
           4.720169677672292,
           4.749511183296993,
           4.778852688921693,
           4.808194194546394,
           4.837535700171094,
           4.866877205795795,
           4.896218711420496,
           4.925560217045197,
           4.954901722669898,
           4.9842432282945985,
           5.0135847339192985,
           5.042926239543999,
           5.0722677451687,
           5.101609250793401,
           5.130950756418102,
           5.160292262042803
          ],
          [
           2.2740445081135747,
           2.303386013738275,
           2.332727519362976,
           2.362069024987677,
           2.3914105306123776,
           2.4207520362370785,
           2.450093541861779,
           2.4794350474864792,
           2.50877655311118,
           2.538118058735881,
           2.5674595643605818,
           2.5968010699852826,
           2.626142575609983,
           2.655484081234684,
           2.684825586859384,
           2.714167092484085,
           2.743508598108786,
           2.7728501037334867,
           2.8021916093581876,
           2.831533114982888,
           2.860874620607589,
           2.890216126232289,
           2.91955763185699,
           2.948899137481691,
           2.9782406431063917,
           3.007582148731092,
           3.036923654355793,
           3.0662651599804938,
           3.095606665605194,
           3.124948171229895,
           3.154289676854596,
           3.183631182479296,
           3.212972688103997,
           3.242314193728698,
           3.2716556993533983,
           3.300997204978099,
           3.3303387106028,
           3.359680216227501,
           3.3890217218522016,
           3.418363227476902,
           3.4477047331016024,
           3.4770462387263033,
           3.506387744351004,
           3.535729249975705,
           3.5650707556004058,
           3.5944122612251066,
           3.6237537668498065,
           3.6530952724745074,
           3.682436778099208,
           3.711778283723909,
           3.74111978934861,
           3.7704612949733107,
           3.799802800598011,
           3.8291443062227115,
           3.8584858118474124,
           3.887827317472113,
           3.917168823096814,
           3.946510328721515,
           3.9758518343462153,
           4.005193339970916,
           4.034534845595617,
           4.063876351220317,
           4.093217856845018,
           4.122559362469719,
           4.15190086809442,
           4.181242373719121,
           4.210583879343821,
           4.2399253849685214,
           4.269266890593222,
           4.298608396217923,
           4.327949901842624,
           4.357291407467324,
           4.386632913092026,
           4.415974418716726,
           4.445315924341426,
           4.474657429966127,
           4.503998935590828,
           4.533340441215529,
           4.562681946840229,
           4.592023452464931,
           4.6213649580896305,
           4.650706463714331,
           4.680047969339032,
           4.709389474963732,
           4.738730980588434,
           4.768072486213134,
           4.797413991837835,
           4.8267554974625355,
           4.856097003087236,
           4.885438508711937,
           4.914780014336638,
           4.944121519961339,
           4.973463025586039,
           5.0028045312107405,
           5.0321460368354405,
           5.061487542460141,
           5.090829048084842,
           5.120170553709542,
           5.149512059334244,
           5.178853564958944
          ],
          [
           2.2926058110297163,
           2.321947316654417,
           2.3512888222791175,
           2.3806303279038183,
           2.4099718335285187,
           2.4393133391532196,
           2.4686548447779204,
           2.4979963504026212,
           2.527337856027322,
           2.5566793616520225,
           2.5860208672767233,
           2.6153623729014237,
           2.6447038785261245,
           2.6740453841508254,
           2.703386889775526,
           2.7327283954002266,
           2.7620699010249274,
           2.791411406649628,
           2.8207529122743287,
           2.8500944178990295,
           2.8794359235237303,
           2.908777429148431,
           2.9381189347731316,
           2.9674604403978324,
           2.9968019460225332,
           3.0261434516472336,
           3.0554849572719345,
           3.0848264628966353,
           3.1141679685213357,
           3.1435094741460365,
           3.1728509797707374,
           3.2021924853954378,
           3.2315339910201386,
           3.2608754966448394,
           3.2902170022695403,
           3.3195585078942407,
           3.3489000135189415,
           3.378241519143642,
           3.4075830247683427,
           3.4369245303930436,
           3.4662660360177444,
           3.4956075416424452,
           3.5249490472671456,
           3.554290552891846,
           3.583632058516547,
           3.6129735641412477,
           3.6423150697659485,
           3.6716565753906494,
           3.70099808101535,
           3.7303395866400506,
           3.759681092264751,
           3.789022597889452,
           3.8183641035141527,
           3.8477056091388535,
           3.8770471147635543,
           3.9063886203882547,
           3.935730126012955,
           3.965071631637656,
           3.994413137262357,
           4.023754642887058,
           4.0530961485117585,
           4.082437654136459,
           4.111779159761159,
           4.141120665385861,
           4.170462171010561,
           4.199803676635262,
           4.229145182259963,
           4.2584866878846634,
           4.287828193509364,
           4.317169699134064,
           4.346511204758765,
           4.375852710383466,
           4.405194216008167,
           4.434535721632868,
           4.4638772272575675,
           4.493218732882269,
           4.522560238506969,
           4.55190174413167,
           4.581243249756371,
           4.610584755381072,
           4.6399262610057725,
           4.6692677666304725,
           4.698609272255174,
           4.727950777879874,
           4.757292283504576,
           4.786633789129276,
           4.815975294753976,
           4.8453168003786775,
           4.8746583060033775,
           4.903999811628079,
           4.933341317252779,
           4.96268282287748,
           4.992024328502181,
           5.021365834126882,
           5.0507073397515825,
           5.080048845376282,
           5.109390351000984,
           5.138731856625684,
           5.168073362250385,
           5.197414867875086
          ],
          [
           2.3111671139458583,
           2.3405086195705587,
           2.3698501251952595,
           2.39919163081996,
           2.4285331364446607,
           2.4578746420693616,
           2.4872161476940624,
           2.516557653318763,
           2.5458991589434636,
           2.575240664568164,
           2.604582170192865,
           2.6339236758175657,
           2.6632651814422665,
           2.692606687066967,
           2.7219481926916678,
           2.7512896983163686,
           2.780631203941069,
           2.80997270956577,
           2.8393142151904707,
           2.8686557208151715,
           2.897997226439872,
           2.9273387320645727,
           2.9566802376892736,
           2.986021743313974,
           3.015363248938675,
           3.0447047545633756,
           3.0740462601880765,
           3.103387765812777,
           3.1327292714374777,
           3.162070777062178,
           3.191412282686879,
           3.2207537883115798,
           3.2500952939362806,
           3.2794367995609814,
           3.308778305185682,
           3.3381198108103822,
           3.367461316435083,
           3.396802822059784,
           3.4261443276844847,
           3.4554858333091856,
           3.484827338933886,
           3.514168844558587,
           3.543510350183287,
           3.572851855807988,
           3.602193361432689,
           3.6315348670573897,
           3.66087637268209,
           3.690217878306791,
           3.7195593839314918,
           3.748900889556192,
           3.778242395180893,
           3.807583900805594,
           3.8369254064302947,
           3.866266912054995,
           3.895608417679696,
           3.9249499233043963,
           3.954291428929097,
           3.983632934553798,
           4.012974440178499,
           4.0423159458032,
           4.0716574514279005,
           4.1009989570526,
           4.130340462677301,
           4.159681968302002,
           4.189023473926703,
           4.218364979551404,
           4.247706485176105,
           4.2770479908008046,
           4.306389496425505,
           4.335731002050206,
           4.365072507674907,
           4.394414013299608,
           4.423755518924309,
           4.45309702454901,
           4.4824385301737095,
           4.51178003579841,
           4.541121541423111,
           4.570463047047812,
           4.599804552672513,
           4.629146058297214,
           4.658487563921914,
           4.6878290695466145,
           4.717170575171315,
           4.746512080796016,
           4.775853586420717,
           4.805195092045418,
           4.834536597670118,
           4.8638781032948195,
           4.8932196089195195,
           4.92256111454422,
           4.951902620168921,
           4.981244125793622,
           5.010585631418323,
           5.039927137043024,
           5.069268642667724,
           5.098610148292424,
           5.127951653917125,
           5.157293159541826,
           5.186634665166527,
           5.215976170791228
          ],
          [
           2.3297284168619994,
           2.3590699224867,
           2.388411428111401,
           2.417752933736102,
           2.4470944393608023,
           2.476435944985503,
           2.5057774506102035,
           2.5351189562349044,
           2.564460461859605,
           2.593801967484306,
           2.6231434731090064,
           2.6524849787337073,
           2.681826484358408,
           2.7111679899831085,
           2.7405094956078093,
           2.76985100123251,
           2.799192506857211,
           2.8285340124819114,
           2.8578755181066122,
           2.8872170237313126,
           2.9165585293560135,
           2.9459000349807143,
           2.975241540605415,
           3.0045830462301155,
           3.0339245518548164,
           3.0632660574795167,
           3.0926075631042176,
           3.1219490687289184,
           3.1512905743536193,
           3.18063207997832,
           3.2099735856030205,
           3.2393150912277213,
           3.2686565968524217,
           3.2979981024771226,
           3.3273396081018234,
           3.3566811137265242,
           3.386022619351225,
           3.4153641249759255,
           3.4447056306006263,
           3.4740471362253267,
           3.5033886418500275,
           3.5327301474747284,
           3.562071653099429,
           3.5914131587241296,
           3.6207546643488304,
           3.6500961699735313,
           3.6794376755982316,
           3.7087791812229325,
           3.7381206868476333,
           3.767462192472334,
           3.7968036980970346,
           3.8261452037217354,
           3.855486709346436,
           3.8848282149711366,
           3.9141697205958375,
           3.9435112262205383,
           3.9728527318452387,
           4.00219423746994,
           4.03153574309464,
           4.060877248719341,
           4.090218754344042,
           4.119560259968742,
           4.148901765593443,
           4.178243271218144,
           4.207584776842845,
           4.236926282467545,
           4.266267788092246,
           4.2956092937169466,
           4.324950799341647,
           4.354292304966348,
           4.383633810591048,
           4.412975316215749,
           4.44231682184045,
           4.471658327465151,
           4.5009998330898515,
           4.530341338714552,
           4.559682844339253,
           4.589024349963953,
           4.618365855588654,
           4.647707361213355,
           4.677048866838056,
           4.7063903724627565,
           4.735731878087457,
           4.765073383712157,
           4.794414889336859,
           4.823756394961559,
           4.85309790058626,
           4.882439406210961,
           4.9117809118356615,
           4.941122417460362,
           4.970463923085063,
           4.999805428709763,
           5.029146934334464,
           5.058488439959165,
           5.087829945583866,
           5.117171451208566,
           5.146512956833267,
           5.175854462457967,
           5.205195968082668,
           5.234537473707369
          ],
          [
           2.3482897197781414,
           2.377631225402842,
           2.4069727310275426,
           2.4363142366522434,
           2.465655742276944,
           2.4949972479016447,
           2.5243387535263455,
           2.5536802591510464,
           2.583021764775747,
           2.6123632704004476,
           2.6417047760251484,
           2.671046281649849,
           2.7003877872745496,
           2.7297292928992505,
           2.7590707985239513,
           2.7884123041486517,
           2.8177538097733525,
           2.847095315398053,
           2.8764368210227538,
           2.9057783266474546,
           2.9351198322721554,
           2.9644613378968563,
           2.9938028435215567,
           3.0231443491462575,
           3.0524858547709584,
           3.0818273603956587,
           3.1111688660203596,
           3.1405103716450604,
           3.169851877269761,
           3.1991933828944616,
           3.2285348885191625,
           3.257876394143863,
           3.2872178997685637,
           3.3165594053932645,
           3.3459009110179654,
           3.3752424166426658,
           3.4045839222673666,
           3.433925427892067,
           3.463266933516768,
           3.4926084391414687,
           3.5219499447661695,
           3.5512914503908704,
           3.5806329560155707,
           3.609974461640271,
           3.639315967264972,
           3.668657472889673,
           3.6979989785143736,
           3.7273404841390745,
           3.7566819897637753,
           3.7860234953884757,
           3.815365001013176,
           3.844706506637877,
           3.874048012262578,
           3.9033895178872786,
           3.9327310235119795,
           3.96207252913668,
           3.9914140347613802,
           4.020755540386081,
           4.050097046010782,
           4.079438551635483,
           4.108780057260184,
           4.1381215628848835,
           4.167463068509584,
           4.196804574134285,
           4.226146079758986,
           4.255487585383687,
           4.284829091008388,
           4.3141705966330886,
           4.3435121022577885,
           4.37285360788249,
           4.40219511350719,
           4.431536619131891,
           4.460878124756592,
           4.490219630381293,
           4.5195611360059935,
           4.5489026416306935,
           4.578244147255395,
           4.607585652880095,
           4.636927158504796,
           4.666268664129497,
           4.695610169754197,
           4.7249516753788985,
           4.754293181003598,
           4.783634686628299,
           4.812976192253,
           4.842317697877701,
           4.871659203502402,
           4.901000709127103,
           4.9303422147518035,
           4.959683720376503,
           4.989025226001205,
           5.018366731625905,
           5.047708237250606,
           5.077049742875307,
           5.106391248500007,
           5.135732754124708,
           5.165074259749408,
           5.194415765374109,
           5.22375727099881,
           5.253098776623511
          ],
          [
           2.366851022694283,
           2.3961925283189833,
           2.425534033943684,
           2.454875539568385,
           2.484217045193086,
           2.5135585508177867,
           2.542900056442487,
           2.5722415620671875,
           2.6015830676918883,
           2.630924573316589,
           2.66026607894129,
           2.689607584565991,
           2.718949090190691,
           2.748290595815392,
           2.7776321014400924,
           2.8069736070647933,
           2.836315112689494,
           2.865656618314195,
           2.8949981239388958,
           2.924339629563596,
           2.953681135188297,
           2.9830226408129974,
           3.0123641464376982,
           3.041705652062399,
           3.0710471576871,
           3.1003886633118003,
           3.129730168936501,
           3.159071674561202,
           3.1884131801859024,
           3.217754685810603,
           3.247096191435304,
           3.2764376970600044,
           3.3057792026847053,
           3.335120708309406,
           3.3644622139341065,
           3.3938037195588073,
           3.423145225183508,
           3.452486730808209,
           3.48182823643291,
           3.5111697420576102,
           3.5405112476823106,
           3.5698527533070115,
           3.5991942589317123,
           3.628535764556413,
           3.657877270181114,
           3.687218775805815,
           3.7165602814305148,
           3.7459017870552156,
           3.7752432926799164,
           3.8045847983046173,
           3.833926303929318,
           3.863267809554019,
           3.8926093151787193,
           3.9219508208034197,
           3.9512923264281206,
           3.9806338320528214,
           4.009975337677522,
           4.039316843302223,
           4.068658348926924,
           4.097999854551624,
           4.127341360176326,
           4.1566828658010255,
           4.186024371425726,
           4.215365877050427,
           4.244707382675128,
           4.274048888299829,
           4.303390393924529,
           4.33273189954923,
           4.3620734051739305,
           4.391414910798631,
           4.420756416423332,
           4.450097922048032,
           4.479439427672734,
           4.508780933297434,
           4.538122438922135,
           4.5674639445468355,
           4.596805450171536,
           4.626146955796237,
           4.655488461420937,
           4.684829967045639,
           4.714171472670339,
           4.74351297829504,
           4.77285448391974,
           4.80219598954444,
           4.831537495169142,
           4.860879000793842,
           4.890220506418543,
           4.919562012043244,
           4.948903517667945,
           4.978245023292645,
           5.007586528917346,
           5.036928034542047,
           5.066269540166747,
           5.095611045791449,
           5.124952551416149,
           5.1542940570408495,
           5.18363556266555,
           5.21297706829025,
           5.242318573914952,
           5.271660079539652
          ],
          [
           2.3854123256104245,
           2.4147538312351253,
           2.444095336859826,
           2.473436842484527,
           2.5027783481092274,
           2.5321198537339282,
           2.5614613593586286,
           2.5908028649833295,
           2.6201443706080303,
           2.649485876232731,
           2.6788273818574315,
           2.7081688874821324,
           2.737510393106833,
           2.7668518987315336,
           2.7961934043562344,
           2.8255349099809353,
           2.854876415605636,
           2.8842179212303365,
           2.9135594268550373,
           2.9429009324797377,
           2.9722424381044386,
           3.0015839437291394,
           3.0309254493538402,
           3.0602669549785406,
           3.0896084606032415,
           3.118949966227942,
           3.1482914718526427,
           3.1776329774773435,
           3.2069744831020444,
           3.236315988726745,
           3.2656574943514456,
           3.2949989999761464,
           3.324340505600847,
           3.3536820112255477,
           3.3830235168502485,
           3.4123650224749493,
           3.44170652809965,
           3.4710480337243506,
           3.5003895393490514,
           3.529731044973752,
           3.5590725505984526,
           3.5884140562231535,
           3.6177555618478543,
           3.6470970674725547,
           3.6764385730972555,
           3.7057800787219564,
           3.7351215843466568,
           3.7644630899713576,
           3.7938045955960584,
           3.8231461012207593,
           3.8524876068454597,
           3.8818291124701605,
           3.911170618094861,
           3.9405121237195617,
           3.9698536293442626,
           3.9991951349689634,
           4.028536640593664,
           4.057878146218364,
           4.087219651843065,
           4.116561157467766,
           4.145902663092467,
           4.1752441687171675,
           4.2045856743418675,
           4.233927179966569,
           4.263268685591269,
           4.29261019121597,
           4.321951696840671,
           4.351293202465372,
           4.3806347080900725,
           4.409976213714773,
           4.439317719339473,
           4.468659224964174,
           4.498000730588875,
           4.527342236213576,
           4.556683741838277,
           4.5860252474629775,
           4.615366753087678,
           4.644708258712378,
           4.674049764337079,
           4.70339126996178,
           4.732732775586481,
           4.762074281211182,
           4.791415786835882,
           4.820757292460582,
           4.850098798085284,
           4.879440303709984,
           4.908781809334685,
           4.938123314959386,
           4.967464820584087,
           4.996806326208787,
           5.026147831833488,
           5.055489337458188,
           5.084830843082889,
           5.11417234870759,
           5.143513854332291,
           5.1728553599569915,
           5.202196865581692,
           5.231538371206392,
           5.260879876831093,
           5.290221382455794
          ],
          [
           2.4039736285265665,
           2.433315134151267,
           2.4626566397759677,
           2.491998145400668,
           2.521339651025369,
           2.55068115665007,
           2.5800226622747706,
           2.609364167899471,
           2.638705673524172,
           2.6680471791488727,
           2.697388684773573,
           2.726730190398274,
           2.7560716960229747,
           2.785413201647675,
           2.814754707272376,
           2.844096212897077,
           2.873437718521777,
           2.902779224146478,
           2.932120729771179,
           2.9614622353958797,
           2.99080374102058,
           3.020145246645281,
           3.049486752269982,
           3.078828257894682,
           3.108169763519383,
           3.137511269144084,
           3.1668527747687847,
           3.196194280393485,
           3.225535786018186,
           3.2548772916428863,
           3.284218797267587,
           3.313560302892288,
           3.342901808516989,
           3.3722433141416897,
           3.40158481976639,
           3.4309263253910904,
           3.4602678310157913,
           3.489609336640492,
           3.518950842265193,
           3.548292347889894,
           3.577633853514594,
           3.606975359139295,
           3.6363168647639954,
           3.6656583703886962,
           3.694999876013397,
           3.724341381638098,
           3.7536828872627983,
           3.783024392887499,
           3.8123658985122,
           3.8417074041369004,
           3.871048909761601,
           3.900390415386302,
           3.929731921011003,
           3.9590734266357033,
           3.988414932260404,
           4.0177564378851045,
           4.047097943509805,
           4.076439449134506,
           4.105780954759207,
           4.135122460383908,
           4.164463966008609,
           4.193805471633309,
           4.2231469772580095,
           4.25248848288271,
           4.281829988507411,
           4.311171494132112,
           4.340512999756813,
           4.369854505381513,
           4.399196011006214,
           4.428537516630914,
           4.457879022255615,
           4.487220527880316,
           4.516562033505017,
           4.545903539129718,
           4.575245044754418,
           4.604586550379119,
           4.633928056003819,
           4.66326956162852,
           4.692611067253221,
           4.721952572877922,
           4.751294078502622,
           4.780635584127323,
           4.8099770897520235,
           4.839318595376724,
           4.868660101001425,
           4.898001606626126,
           4.927343112250826,
           4.956684617875528,
           4.986026123500228,
           5.0153676291249285,
           5.044709134749629,
           5.07405064037433,
           5.103392145999031,
           5.132733651623732,
           5.162075157248432,
           5.191416662873133,
           5.2207581684978335,
           5.250099674122534,
           5.279441179747235,
           5.308782685371936
          ],
          [
           2.422534931442708,
           2.4518764370674084,
           2.4812179426921093,
           2.51055944831681,
           2.539900953941511,
           2.569242459566212,
           2.598583965190912,
           2.627925470815613,
           2.6572669764403134,
           2.6866084820650142,
           2.715949987689715,
           2.745291493314416,
           2.7746329989391163,
           2.803974504563817,
           2.8333160101885175,
           2.8626575158132184,
           2.891999021437919,
           2.92134052706262,
           2.950682032687321,
           2.9800235383120213,
           3.009365043936722,
           3.0387065495614225,
           3.0680480551861233,
           3.097389560810824,
           3.126731066435525,
           3.1560725720602254,
           3.1854140776849262,
           3.214755583309627,
           3.2440970889343275,
           3.2734385945590283,
           3.302780100183729,
           3.3321216058084295,
           3.3614631114331304,
           3.390804617057831,
           3.4201461226825316,
           3.4494876283072324,
           3.4788291339319333,
           3.508170639556634,
           3.537512145181335,
           3.5668536508060353,
           3.5961951564307357,
           3.6255366620554366,
           3.6548781676801374,
           3.6842196733048382,
           3.713561178929539,
           3.74290268455424,
           3.77224419017894,
           3.8015856958036407,
           3.8309272014283415,
           3.8602687070530424,
           3.889610212677743,
           3.918951718302444,
           3.9482932239271444,
           3.977634729551845,
           4.006976235176546,
           4.0363177408012465,
           4.065659246425947,
           4.095000752050648,
           4.124342257675348,
           4.153683763300049,
           4.18302526892475,
           4.212366774549451,
           4.2417082801741515,
           4.271049785798852,
           4.300391291423553,
           4.329732797048253,
           4.359074302672955,
           4.388415808297655,
           4.417757313922356,
           4.447098819547056,
           4.476440325171756,
           4.505781830796458,
           4.535123336421158,
           4.56446484204586,
           4.59380634767056,
           4.623147853295261,
           4.652489358919961,
           4.681830864544661,
           4.711172370169363,
           4.740513875794063,
           4.769855381418764,
           4.799196887043465,
           4.8285383926681655,
           4.857879898292866,
           4.887221403917567,
           4.916562909542268,
           4.945904415166968,
           4.97524592079167,
           5.00458742641637,
           5.0339289320410705,
           5.063270437665771,
           5.092611943290471,
           5.121953448915173,
           5.151294954539873,
           5.180636460164574,
           5.209977965789275,
           5.2393194714139755,
           5.268660977038676,
           5.298002482663376,
           5.327343988288078
          ],
          [
           2.4410962343588496,
           2.4704377399835504,
           2.4997792456082513,
           2.529120751232952,
           2.5584622568576525,
           2.5878037624823533,
           2.617145268107054,
           2.6464867737317546,
           2.6758282793564554,
           2.7051697849811562,
           2.7345112906058566,
           2.7638527962305575,
           2.7931943018552583,
           2.8225358074799587,
           2.8518773131046595,
           2.8812188187293604,
           2.910560324354061,
           2.9399018299787616,
           2.9692433356034624,
           2.998584841228163,
           3.0279263468528637,
           3.0572678524775645,
           3.0866093581022653,
           3.1159508637269657,
           3.1452923693516666,
           3.174633874976367,
           3.203975380601068,
           3.2333168862257686,
           3.2626583918504695,
           3.2919998974751703,
           3.3213414030998707,
           3.3506829087245715,
           3.380024414349272,
           3.4093659199739728,
           3.4387074255986736,
           3.4680489312233744,
           3.4973904368480753,
           3.5267319424727757,
           3.5560734480974765,
           3.585414953722177,
           3.6147564593468777,
           3.6440979649715786,
           3.6734394705962794,
           3.70278097622098,
           3.7321224818456806,
           3.7614639874703815,
           3.790805493095082,
           3.8201469987197827,
           3.8494885043444835,
           3.8788300099691844,
           3.9081715155938848,
           3.9375130212185856,
           3.966854526843286,
           3.996196032467987,
           4.025537538092688,
           4.0548790437173885,
           4.0842205493420884,
           4.11356205496679,
           4.14290356059149,
           4.172245066216191,
           4.201586571840892,
           4.230928077465593,
           4.2602695830902935,
           4.289611088714994,
           4.318952594339695,
           4.348294099964395,
           4.377635605589096,
           4.406977111213797,
           4.436318616838498,
           4.465660122463198,
           4.495001628087898,
           4.524343133712599,
           4.5536846393373,
           4.583026144962001,
           4.612367650586702,
           4.641709156211403,
           4.671050661836103,
           4.700392167460803,
           4.729733673085504,
           4.759075178710205,
           4.788416684334906,
           4.817758189959607,
           4.8470996955843075,
           4.8764412012090075,
           4.905782706833709,
           4.935124212458409,
           4.96446571808311,
           4.993807223707811,
           5.023148729332512,
           5.0524902349572125,
           5.081831740581913,
           5.111173246206613,
           5.140514751831314,
           5.169856257456015,
           5.199197763080716,
           5.228539268705417,
           5.2578807743301175,
           5.287222279954817,
           5.316563785579518,
           5.345905291204219
          ],
          [
           2.4596575372749916,
           2.488999042899692,
           2.518340548524393,
           2.547682054149093,
           2.577023559773794,
           2.606365065398495,
           2.6357065710231957,
           2.665048076647896,
           2.694389582272597,
           2.723731087897298,
           2.753072593521998,
           2.782414099146699,
           2.8117556047714,
           2.8410971103961002,
           2.870438616020801,
           2.899780121645502,
           2.9291216272702023,
           2.958463132894903,
           2.987804638519604,
           3.017146144144305,
           3.046487649769005,
           3.075829155393706,
           3.105170661018407,
           3.1345121666431073,
           3.163853672267808,
           3.193195177892509,
           3.22253668351721,
           3.25187818914191,
           3.281219694766611,
           3.3105612003913114,
           3.3399027060160122,
           3.369244211640713,
           3.398585717265414,
           3.4279272228901148,
           3.457268728514815,
           3.4866102341395155,
           3.5159517397642164,
           3.545293245388917,
           3.574634751013618,
           3.603976256638319,
           3.6333177622630193,
           3.66265926788772,
           3.6920007735124205,
           3.7213422791371213,
           3.750683784761822,
           3.780025290386523,
           3.8093667960112234,
           3.8387083016359242,
           3.868049807260625,
           3.8973913128853255,
           3.9267328185100263,
           3.956074324134727,
           3.985415829759428,
           4.014757335384129,
           4.044098841008829,
           4.07344034663353,
           4.10278185225823,
           4.132123357882931,
           4.161464863507632,
           4.190806369132332,
           4.220147874757034,
           4.249489380381734,
           4.278830886006435,
           4.308172391631135,
           4.337513897255836,
           4.366855402880537,
           4.396196908505238,
           4.425538414129939,
           4.454879919754639,
           4.4842214253793395,
           4.51356293100404,
           4.542904436628741,
           4.572245942253442,
           4.601587447878143,
           4.630928953502843,
           4.660270459127544,
           4.6896119647522445,
           4.718953470376945,
           4.748294976001646,
           4.777636481626347,
           4.806977987251047,
           4.836319492875748,
           4.865660998500449,
           4.8950025041251495,
           4.92434400974985,
           4.953685515374551,
           4.983027020999251,
           5.012368526623953,
           5.041710032248653,
           5.071051537873354,
           5.1003930434980544,
           5.129734549122755,
           5.159076054747456,
           5.188417560372157,
           5.217759065996857,
           5.247100571621558,
           5.276442077246259,
           5.305783582870959,
           5.33512508849566,
           5.364466594120361
          ],
          [
           2.4782188401911327,
           2.5075603458158335,
           2.5369018514405344,
           2.566243357065235,
           2.5955848626899356,
           2.6249263683146364,
           2.6542678739393373,
           2.6836093795640377,
           2.7129508851887385,
           2.7422923908134393,
           2.7716338964381397,
           2.8009754020628406,
           2.8303169076875414,
           2.859658413312242,
           2.8889999189369426,
           2.9183414245616435,
           2.9476829301863443,
           2.9770244358110447,
           3.0063659414357455,
           3.035707447060446,
           3.0650489526851468,
           3.0943904583098476,
           3.1237319639345484,
           3.153073469559249,
           3.1824149751839497,
           3.21175648080865,
           3.241097986433351,
           3.2704394920580517,
           3.2997809976827526,
           3.3291225033074534,
           3.358464008932154,
           3.3878055145568546,
           3.417147020181555,
           3.446488525806256,
           3.4758300314309567,
           3.5051715370556575,
           3.5345130426803584,
           3.5638545483050588,
           3.5931960539297596,
           3.62253755955446,
           3.651879065179161,
           3.6812205708038617,
           3.7105620764285625,
           3.739903582053263,
           3.7692450876779637,
           3.7985865933026646,
           3.827928098927365,
           3.857269604552066,
           3.8866111101767666,
           3.9159526158014675,
           3.945294121426168,
           3.9746356270508687,
           4.003977132675569,
           4.03331863830027,
           4.062660143924971,
           4.092001649549672,
           4.121343155174372,
           4.150684660799072,
           4.180026166423773,
           4.209367672048474,
           4.238709177673175,
           4.268050683297876,
           4.297392188922576,
           4.326733694547277,
           4.356075200171977,
           4.385416705796678,
           4.414758211421379,
           4.44409971704608,
           4.473441222670781,
           4.5027827282954815,
           4.5321242339201815,
           4.561465739544882,
           4.590807245169583,
           4.620148750794284,
           4.649490256418985,
           4.678831762043686,
           4.7081732676683865,
           4.7375147732930865,
           4.766856278917787,
           4.796197784542488,
           4.825539290167189,
           4.85488079579189,
           4.884222301416591,
           4.913563807041291,
           4.942905312665992,
           4.972246818290692,
           5.001588323915393,
           5.030929829540094,
           5.060271335164795,
           5.089612840789496,
           5.118954346414196,
           5.148295852038896,
           5.177637357663597,
           5.206978863288298,
           5.236320368912999,
           5.2656618745377,
           5.295003380162401,
           5.3243448857871005,
           5.353686391411801,
           5.383027897036502
          ]
         ]
        }
       ],
       "layout": {
        "height": 750,
        "scene": {
         "xaxis": {
          "title": {
           "text": "X1"
          }
         },
         "yaxis": {
          "title": {
           "text": "X2"
          }
         },
         "zaxis": {
          "title": {
           "text": "Y"
          }
         }
        },
        "template": {
         "data": {
          "bar": [
           {
            "error_x": {
             "color": "#2a3f5f"
            },
            "error_y": {
             "color": "#2a3f5f"
            },
            "marker": {
             "line": {
              "color": "#E5ECF6",
              "width": 0.5
             },
             "pattern": {
              "fillmode": "overlay",
              "size": 10,
              "solidity": 0.2
             }
            },
            "type": "bar"
           }
          ],
          "barpolar": [
           {
            "marker": {
             "line": {
              "color": "#E5ECF6",
              "width": 0.5
             },
             "pattern": {
              "fillmode": "overlay",
              "size": 10,
              "solidity": 0.2
             }
            },
            "type": "barpolar"
           }
          ],
          "carpet": [
           {
            "aaxis": {
             "endlinecolor": "#2a3f5f",
             "gridcolor": "white",
             "linecolor": "white",
             "minorgridcolor": "white",
             "startlinecolor": "#2a3f5f"
            },
            "baxis": {
             "endlinecolor": "#2a3f5f",
             "gridcolor": "white",
             "linecolor": "white",
             "minorgridcolor": "white",
             "startlinecolor": "#2a3f5f"
            },
            "type": "carpet"
           }
          ],
          "choropleth": [
           {
            "colorbar": {
             "outlinewidth": 0,
             "ticks": ""
            },
            "type": "choropleth"
           }
          ],
          "contour": [
           {
            "colorbar": {
             "outlinewidth": 0,
             "ticks": ""
            },
            "colorscale": [
             [
              0,
              "#0d0887"
             ],
             [
              0.1111111111111111,
              "#46039f"
             ],
             [
              0.2222222222222222,
              "#7201a8"
             ],
             [
              0.3333333333333333,
              "#9c179e"
             ],
             [
              0.4444444444444444,
              "#bd3786"
             ],
             [
              0.5555555555555556,
              "#d8576b"
             ],
             [
              0.6666666666666666,
              "#ed7953"
             ],
             [
              0.7777777777777778,
              "#fb9f3a"
             ],
             [
              0.8888888888888888,
              "#fdca26"
             ],
             [
              1,
              "#f0f921"
             ]
            ],
            "type": "contour"
           }
          ],
          "contourcarpet": [
           {
            "colorbar": {
             "outlinewidth": 0,
             "ticks": ""
            },
            "type": "contourcarpet"
           }
          ],
          "heatmap": [
           {
            "colorbar": {
             "outlinewidth": 0,
             "ticks": ""
            },
            "colorscale": [
             [
              0,
              "#0d0887"
             ],
             [
              0.1111111111111111,
              "#46039f"
             ],
             [
              0.2222222222222222,
              "#7201a8"
             ],
             [
              0.3333333333333333,
              "#9c179e"
             ],
             [
              0.4444444444444444,
              "#bd3786"
             ],
             [
              0.5555555555555556,
              "#d8576b"
             ],
             [
              0.6666666666666666,
              "#ed7953"
             ],
             [
              0.7777777777777778,
              "#fb9f3a"
             ],
             [
              0.8888888888888888,
              "#fdca26"
             ],
             [
              1,
              "#f0f921"
             ]
            ],
            "type": "heatmap"
           }
          ],
          "heatmapgl": [
           {
            "colorbar": {
             "outlinewidth": 0,
             "ticks": ""
            },
            "colorscale": [
             [
              0,
              "#0d0887"
             ],
             [
              0.1111111111111111,
              "#46039f"
             ],
             [
              0.2222222222222222,
              "#7201a8"
             ],
             [
              0.3333333333333333,
              "#9c179e"
             ],
             [
              0.4444444444444444,
              "#bd3786"
             ],
             [
              0.5555555555555556,
              "#d8576b"
             ],
             [
              0.6666666666666666,
              "#ed7953"
             ],
             [
              0.7777777777777778,
              "#fb9f3a"
             ],
             [
              0.8888888888888888,
              "#fdca26"
             ],
             [
              1,
              "#f0f921"
             ]
            ],
            "type": "heatmapgl"
           }
          ],
          "histogram": [
           {
            "marker": {
             "pattern": {
              "fillmode": "overlay",
              "size": 10,
              "solidity": 0.2
             }
            },
            "type": "histogram"
           }
          ],
          "histogram2d": [
           {
            "colorbar": {
             "outlinewidth": 0,
             "ticks": ""
            },
            "colorscale": [
             [
              0,
              "#0d0887"
             ],
             [
              0.1111111111111111,
              "#46039f"
             ],
             [
              0.2222222222222222,
              "#7201a8"
             ],
             [
              0.3333333333333333,
              "#9c179e"
             ],
             [
              0.4444444444444444,
              "#bd3786"
             ],
             [
              0.5555555555555556,
              "#d8576b"
             ],
             [
              0.6666666666666666,
              "#ed7953"
             ],
             [
              0.7777777777777778,
              "#fb9f3a"
             ],
             [
              0.8888888888888888,
              "#fdca26"
             ],
             [
              1,
              "#f0f921"
             ]
            ],
            "type": "histogram2d"
           }
          ],
          "histogram2dcontour": [
           {
            "colorbar": {
             "outlinewidth": 0,
             "ticks": ""
            },
            "colorscale": [
             [
              0,
              "#0d0887"
             ],
             [
              0.1111111111111111,
              "#46039f"
             ],
             [
              0.2222222222222222,
              "#7201a8"
             ],
             [
              0.3333333333333333,
              "#9c179e"
             ],
             [
              0.4444444444444444,
              "#bd3786"
             ],
             [
              0.5555555555555556,
              "#d8576b"
             ],
             [
              0.6666666666666666,
              "#ed7953"
             ],
             [
              0.7777777777777778,
              "#fb9f3a"
             ],
             [
              0.8888888888888888,
              "#fdca26"
             ],
             [
              1,
              "#f0f921"
             ]
            ],
            "type": "histogram2dcontour"
           }
          ],
          "mesh3d": [
           {
            "colorbar": {
             "outlinewidth": 0,
             "ticks": ""
            },
            "type": "mesh3d"
           }
          ],
          "parcoords": [
           {
            "line": {
             "colorbar": {
              "outlinewidth": 0,
              "ticks": ""
             }
            },
            "type": "parcoords"
           }
          ],
          "pie": [
           {
            "automargin": true,
            "type": "pie"
           }
          ],
          "scatter": [
           {
            "fillpattern": {
             "fillmode": "overlay",
             "size": 10,
             "solidity": 0.2
            },
            "type": "scatter"
           }
          ],
          "scatter3d": [
           {
            "line": {
             "colorbar": {
              "outlinewidth": 0,
              "ticks": ""
             }
            },
            "marker": {
             "colorbar": {
              "outlinewidth": 0,
              "ticks": ""
             }
            },
            "type": "scatter3d"
           }
          ],
          "scattercarpet": [
           {
            "marker": {
             "colorbar": {
              "outlinewidth": 0,
              "ticks": ""
             }
            },
            "type": "scattercarpet"
           }
          ],
          "scattergeo": [
           {
            "marker": {
             "colorbar": {
              "outlinewidth": 0,
              "ticks": ""
             }
            },
            "type": "scattergeo"
           }
          ],
          "scattergl": [
           {
            "marker": {
             "colorbar": {
              "outlinewidth": 0,
              "ticks": ""
             }
            },
            "type": "scattergl"
           }
          ],
          "scattermapbox": [
           {
            "marker": {
             "colorbar": {
              "outlinewidth": 0,
              "ticks": ""
             }
            },
            "type": "scattermapbox"
           }
          ],
          "scatterpolar": [
           {
            "marker": {
             "colorbar": {
              "outlinewidth": 0,
              "ticks": ""
             }
            },
            "type": "scatterpolar"
           }
          ],
          "scatterpolargl": [
           {
            "marker": {
             "colorbar": {
              "outlinewidth": 0,
              "ticks": ""
             }
            },
            "type": "scatterpolargl"
           }
          ],
          "scatterternary": [
           {
            "marker": {
             "colorbar": {
              "outlinewidth": 0,
              "ticks": ""
             }
            },
            "type": "scatterternary"
           }
          ],
          "surface": [
           {
            "colorbar": {
             "outlinewidth": 0,
             "ticks": ""
            },
            "colorscale": [
             [
              0,
              "#0d0887"
             ],
             [
              0.1111111111111111,
              "#46039f"
             ],
             [
              0.2222222222222222,
              "#7201a8"
             ],
             [
              0.3333333333333333,
              "#9c179e"
             ],
             [
              0.4444444444444444,
              "#bd3786"
             ],
             [
              0.5555555555555556,
              "#d8576b"
             ],
             [
              0.6666666666666666,
              "#ed7953"
             ],
             [
              0.7777777777777778,
              "#fb9f3a"
             ],
             [
              0.8888888888888888,
              "#fdca26"
             ],
             [
              1,
              "#f0f921"
             ]
            ],
            "type": "surface"
           }
          ],
          "table": [
           {
            "cells": {
             "fill": {
              "color": "#EBF0F8"
             },
             "line": {
              "color": "white"
             }
            },
            "header": {
             "fill": {
              "color": "#C8D4E3"
             },
             "line": {
              "color": "white"
             }
            },
            "type": "table"
           }
          ]
         },
         "layout": {
          "annotationdefaults": {
           "arrowcolor": "#2a3f5f",
           "arrowhead": 0,
           "arrowwidth": 1
          },
          "autotypenumbers": "strict",
          "coloraxis": {
           "colorbar": {
            "outlinewidth": 0,
            "ticks": ""
           }
          },
          "colorscale": {
           "diverging": [
            [
             0,
             "#8e0152"
            ],
            [
             0.1,
             "#c51b7d"
            ],
            [
             0.2,
             "#de77ae"
            ],
            [
             0.3,
             "#f1b6da"
            ],
            [
             0.4,
             "#fde0ef"
            ],
            [
             0.5,
             "#f7f7f7"
            ],
            [
             0.6,
             "#e6f5d0"
            ],
            [
             0.7,
             "#b8e186"
            ],
            [
             0.8,
             "#7fbc41"
            ],
            [
             0.9,
             "#4d9221"
            ],
            [
             1,
             "#276419"
            ]
           ],
           "sequential": [
            [
             0,
             "#0d0887"
            ],
            [
             0.1111111111111111,
             "#46039f"
            ],
            [
             0.2222222222222222,
             "#7201a8"
            ],
            [
             0.3333333333333333,
             "#9c179e"
            ],
            [
             0.4444444444444444,
             "#bd3786"
            ],
            [
             0.5555555555555556,
             "#d8576b"
            ],
            [
             0.6666666666666666,
             "#ed7953"
            ],
            [
             0.7777777777777778,
             "#fb9f3a"
            ],
            [
             0.8888888888888888,
             "#fdca26"
            ],
            [
             1,
             "#f0f921"
            ]
           ],
           "sequentialminus": [
            [
             0,
             "#0d0887"
            ],
            [
             0.1111111111111111,
             "#46039f"
            ],
            [
             0.2222222222222222,
             "#7201a8"
            ],
            [
             0.3333333333333333,
             "#9c179e"
            ],
            [
             0.4444444444444444,
             "#bd3786"
            ],
            [
             0.5555555555555556,
             "#d8576b"
            ],
            [
             0.6666666666666666,
             "#ed7953"
            ],
            [
             0.7777777777777778,
             "#fb9f3a"
            ],
            [
             0.8888888888888888,
             "#fdca26"
            ],
            [
             1,
             "#f0f921"
            ]
           ]
          },
          "colorway": [
           "#636efa",
           "#EF553B",
           "#00cc96",
           "#ab63fa",
           "#FFA15A",
           "#19d3f3",
           "#FF6692",
           "#B6E880",
           "#FF97FF",
           "#FECB52"
          ],
          "font": {
           "color": "#2a3f5f"
          },
          "geo": {
           "bgcolor": "white",
           "lakecolor": "white",
           "landcolor": "#E5ECF6",
           "showlakes": true,
           "showland": true,
           "subunitcolor": "white"
          },
          "hoverlabel": {
           "align": "left"
          },
          "hovermode": "closest",
          "mapbox": {
           "style": "light"
          },
          "paper_bgcolor": "white",
          "plot_bgcolor": "#E5ECF6",
          "polar": {
           "angularaxis": {
            "gridcolor": "white",
            "linecolor": "white",
            "ticks": ""
           },
           "bgcolor": "#E5ECF6",
           "radialaxis": {
            "gridcolor": "white",
            "linecolor": "white",
            "ticks": ""
           }
          },
          "scene": {
           "xaxis": {
            "backgroundcolor": "#E5ECF6",
            "gridcolor": "white",
            "gridwidth": 2,
            "linecolor": "white",
            "showbackground": true,
            "ticks": "",
            "zerolinecolor": "white"
           },
           "yaxis": {
            "backgroundcolor": "#E5ECF6",
            "gridcolor": "white",
            "gridwidth": 2,
            "linecolor": "white",
            "showbackground": true,
            "ticks": "",
            "zerolinecolor": "white"
           },
           "zaxis": {
            "backgroundcolor": "#E5ECF6",
            "gridcolor": "white",
            "gridwidth": 2,
            "linecolor": "white",
            "showbackground": true,
            "ticks": "",
            "zerolinecolor": "white"
           }
          },
          "shapedefaults": {
           "line": {
            "color": "#2a3f5f"
           }
          },
          "ternary": {
           "aaxis": {
            "gridcolor": "white",
            "linecolor": "white",
            "ticks": ""
           },
           "baxis": {
            "gridcolor": "white",
            "linecolor": "white",
            "ticks": ""
           },
           "bgcolor": "#E5ECF6",
           "caxis": {
            "gridcolor": "white",
            "linecolor": "white",
            "ticks": ""
           }
          },
          "title": {
           "x": 0.05
          },
          "xaxis": {
           "automargin": true,
           "gridcolor": "white",
           "linecolor": "white",
           "ticks": "",
           "title": {
            "standoff": 15
           },
           "zerolinecolor": "white",
           "zerolinewidth": 2
          },
          "yaxis": {
           "automargin": true,
           "gridcolor": "white",
           "linecolor": "white",
           "ticks": "",
           "title": {
            "standoff": 15
           },
           "zerolinecolor": "white",
           "zerolinewidth": 2
          }
         }
        },
        "title": {
         "text": "Demonstração de Regressão Linear Múltipla"
        }
       }
      }
     },
     "metadata": {},
     "output_type": "display_data"
    }
   ],
   "source": [
    "# Gerando dados aleatórios para o exemplo\n",
    "np.random.seed(0)\n",
    "x1 = np.random.rand(100, 1)\n",
    "x2 = np.random.rand(100, 1)\n",
    "y2 = 3*x1 + 2*x2 + np.random.rand(100, 1)\n",
    "\n",
    "# Modelo de regressão linear múltipla\n",
    "model = LinearRegression()\n",
    "model.fit(np.hstack([x1, x2]), y2)\n",
    "\n",
    "# Você precisa chamar a função com os coeficientes obtidos do modelo.\n",
    "update_graph2(model.coef_[0][0], model.coef_[0][1], model.intercept_[0])"
   ]
  },
  {
   "attachments": {},
   "cell_type": "markdown",
   "metadata": {},
   "source": [
    "### Separando em conjuntos de Treino e Teste"
   ]
  },
  {
   "cell_type": "code",
   "execution_count": 20,
   "metadata": {},
   "outputs": [
    {
     "name": "stdout",
     "output_type": "stream",
     "text": [
      "Treino: (136, 3) (136,)\n",
      "Teste: (35, 3) (35,)\n"
     ]
    }
   ],
   "source": [
    "# Crie um novo dataframe df_model\n",
    "df_model = df[['youtube', 'facebook', 'newspaper', 'sales']].copy()\n",
    "\n",
    "# Antes da divisão, criei uma nova coluna chamada 'split'\n",
    "df_model['split'] = 'train'\n",
    "\n",
    "# Dividindo o conjunto de dados\n",
    "X = df_model[['youtube', 'facebook', 'newspaper']]\n",
    "y = df_model['sales']\n",
    "\n",
    "# Dividindo os dados em conjuntos de treino e teste\n",
    "X_train, X_test, y_train, y_test = train_test_split(X, y, test_size=0.20, random_state=42)\n",
    "\n",
    "# Indique que os dados em X_test estão na partição de teste\n",
    "df_model.loc[X_test.index, 'split'] = 'test'\n",
    "\n",
    "# Verificando os tamanhos dos conjuntos de treino e teste\n",
    "print(\"Treino:\", X_train.shape, y_train.shape)\n",
    "print(\"Teste:\", X_test.shape, y_test.shape)"
   ]
  },
  {
   "cell_type": "code",
   "execution_count": 21,
   "metadata": {},
   "outputs": [
    {
     "data": {
      "text/html": [
       "<div>\n",
       "<style scoped>\n",
       "    .dataframe tbody tr th:only-of-type {\n",
       "        vertical-align: middle;\n",
       "    }\n",
       "\n",
       "    .dataframe tbody tr th {\n",
       "        vertical-align: top;\n",
       "    }\n",
       "\n",
       "    .dataframe thead th {\n",
       "        text-align: right;\n",
       "    }\n",
       "</style>\n",
       "<table border=\"1\" class=\"dataframe\">\n",
       "  <thead>\n",
       "    <tr style=\"text-align: right;\">\n",
       "      <th></th>\n",
       "      <th>youtube</th>\n",
       "      <th>facebook</th>\n",
       "      <th>newspaper</th>\n",
       "      <th>sales</th>\n",
       "      <th>split</th>\n",
       "    </tr>\n",
       "  </thead>\n",
       "  <tbody>\n",
       "    <tr>\n",
       "      <th>0</th>\n",
       "      <td>84.72</td>\n",
       "      <td>19.20</td>\n",
       "      <td>48.96</td>\n",
       "      <td>12.60</td>\n",
       "      <td>train</td>\n",
       "    </tr>\n",
       "    <tr>\n",
       "      <th>1</th>\n",
       "      <td>351.48</td>\n",
       "      <td>33.96</td>\n",
       "      <td>51.84</td>\n",
       "      <td>25.68</td>\n",
       "      <td>train</td>\n",
       "    </tr>\n",
       "    <tr>\n",
       "      <th>2</th>\n",
       "      <td>135.48</td>\n",
       "      <td>20.88</td>\n",
       "      <td>46.32</td>\n",
       "      <td>14.28</td>\n",
       "      <td>train</td>\n",
       "    </tr>\n",
       "    <tr>\n",
       "      <th>3</th>\n",
       "      <td>116.64</td>\n",
       "      <td>1.80</td>\n",
       "      <td>36.00</td>\n",
       "      <td>11.52</td>\n",
       "      <td>train</td>\n",
       "    </tr>\n",
       "    <tr>\n",
       "      <th>4</th>\n",
       "      <td>318.72</td>\n",
       "      <td>24.00</td>\n",
       "      <td>0.36</td>\n",
       "      <td>20.88</td>\n",
       "      <td>train</td>\n",
       "    </tr>\n",
       "    <tr>\n",
       "      <th>...</th>\n",
       "      <td>...</td>\n",
       "      <td>...</td>\n",
       "      <td>...</td>\n",
       "      <td>...</td>\n",
       "      <td>...</td>\n",
       "    </tr>\n",
       "    <tr>\n",
       "      <th>166</th>\n",
       "      <td>45.84</td>\n",
       "      <td>4.44</td>\n",
       "      <td>16.56</td>\n",
       "      <td>9.12</td>\n",
       "      <td>train</td>\n",
       "    </tr>\n",
       "    <tr>\n",
       "      <th>167</th>\n",
       "      <td>113.04</td>\n",
       "      <td>5.88</td>\n",
       "      <td>9.72</td>\n",
       "      <td>11.64</td>\n",
       "      <td>test</td>\n",
       "    </tr>\n",
       "    <tr>\n",
       "      <th>168</th>\n",
       "      <td>212.40</td>\n",
       "      <td>11.16</td>\n",
       "      <td>7.68</td>\n",
       "      <td>15.36</td>\n",
       "      <td>train</td>\n",
       "    </tr>\n",
       "    <tr>\n",
       "      <th>169</th>\n",
       "      <td>340.32</td>\n",
       "      <td>50.40</td>\n",
       "      <td>79.44</td>\n",
       "      <td>30.60</td>\n",
       "      <td>train</td>\n",
       "    </tr>\n",
       "    <tr>\n",
       "      <th>170</th>\n",
       "      <td>278.52</td>\n",
       "      <td>10.32</td>\n",
       "      <td>10.44</td>\n",
       "      <td>16.08</td>\n",
       "      <td>train</td>\n",
       "    </tr>\n",
       "  </tbody>\n",
       "</table>\n",
       "<p>171 rows × 5 columns</p>\n",
       "</div>"
      ],
      "text/plain": [
       "     youtube  facebook  newspaper  sales  split\n",
       "0      84.72     19.20      48.96  12.60  train\n",
       "1     351.48     33.96      51.84  25.68  train\n",
       "2     135.48     20.88      46.32  14.28  train\n",
       "3     116.64      1.80      36.00  11.52  train\n",
       "4     318.72     24.00       0.36  20.88  train\n",
       "..       ...       ...        ...    ...    ...\n",
       "166    45.84      4.44      16.56   9.12  train\n",
       "167   113.04      5.88       9.72  11.64   test\n",
       "168   212.40     11.16       7.68  15.36  train\n",
       "169   340.32     50.40      79.44  30.60  train\n",
       "170   278.52     10.32      10.44  16.08  train\n",
       "\n",
       "[171 rows x 5 columns]"
      ]
     },
     "execution_count": 21,
     "metadata": {},
     "output_type": "execute_result"
    }
   ],
   "source": [
    "df_model"
   ]
  },
  {
   "attachments": {},
   "cell_type": "markdown",
   "metadata": {},
   "source": [
    "## Etapa 04) Calculando Predição\n",
    "Para concluirmos a demanda solicitada pela empresa, iremos **aplicar o modelo de regressão construído** nas etapas anteriores **para realizar as previsões** de retorno de vendas que pode ser gerado a partir de um determinado investimento em publicidade e assim, poderemos apresentá-lo a empresa.\n",
    "\n",
    "Através dessas previsões, poderemos avaliar o impacto dos diferentes níveis de investimento em marketing nas vendas, auxiliando na tomada de decisões e na definição de estratégias de negócio."
   ]
  },
  {
   "attachments": {},
   "cell_type": "markdown",
   "metadata": {},
   "source": [
    "#### Treinando o Modelo"
   ]
  },
  {
   "attachments": {},
   "cell_type": "markdown",
   "metadata": {},
   "source": [
    "O método ***.fit()*** é usado para treinar ou ajustar o modelo aos seus dados de treinamento. Em outras palavras, é aqui que o modelo aprende os padrões nos dados.\n",
    "\n",
    "No caso de um modelo de regressão linear, o processo de ajuste envolve aprender os coeficientes que minimizam a soma dos erros quadrados entre os valores reais e os valores previstos pelo modelo. Para isso, o modelo usa o método dos mínimos quadrados.\n",
    "\n",
    "Então, quando chamamos ***model.fit(X_train, y_train)***, estamos dizendo ao modelo para encontrar os melhores parâmetros (coeficientes de regressão) que mapeiam as variáveis independentes ***X_train*** para a variável dependente ***y_train*** com o menor erro.\n",
    "\n",
    "Uma vez que o modelo foi treinado usando ***.fit()***, ele pode ser usado para fazer previsões em novos dados usando o método ***.predict()***. Nesse ponto, o modelo aplica os coeficientes de regressão que aprendeu durante o treinamento para prever a variável dependente a partir das variáveis independentes nos novos dados."
   ]
  },
  {
   "cell_type": "code",
   "execution_count": 22,
   "metadata": {},
   "outputs": [],
   "source": [
    "# Treinando o modelo\n",
    "model = LinearRegression()\n",
    "model.fit(X_train, y_train)\n",
    "\n",
    "# Crie as previsões\n",
    "y_train_pred = model.predict(X_train)\n",
    "y_test_pred = model.predict(X_test)"
   ]
  },
  {
   "attachments": {},
   "cell_type": "markdown",
   "metadata": {},
   "source": [
    "Ao aplicar o método ***predict*** aos dados de treinamento **(X_train)**, estamos gerando previsões para os dados que foram usados para treinar o modelo. Essas previsões podem ser comparadas com os valores reais **(y_train)** para avaliar o quão bem o nosso modelo aprendeu os padrões nos dados de treinamento. Esta é uma forma de avaliar a precisão do treinamento do nosso modelo.\n",
    "\n",
    "Por outro lado, quando aplicamos o método ***predict*** aos dados de teste **(X_test)**, estamos gerando previsões para novos dados que o modelo ainda não viu. Comparando essas previsões com os valores reais **(y_test)**, podemos avaliar a capacidade do nosso modelo de generalizar para novos dados. Esta é uma medida da precisão de teste do nosso modelo."
   ]
  },
  {
   "cell_type": "code",
   "execution_count": 23,
   "metadata": {},
   "outputs": [
    {
     "data": {
      "text/html": [
       "<div>\n",
       "<style scoped>\n",
       "    .dataframe tbody tr th:only-of-type {\n",
       "        vertical-align: middle;\n",
       "    }\n",
       "\n",
       "    .dataframe tbody tr th {\n",
       "        vertical-align: top;\n",
       "    }\n",
       "\n",
       "    .dataframe thead th {\n",
       "        text-align: right;\n",
       "    }\n",
       "</style>\n",
       "<table border=\"1\" class=\"dataframe\">\n",
       "  <thead>\n",
       "    <tr style=\"text-align: right;\">\n",
       "      <th></th>\n",
       "      <th>youtube</th>\n",
       "      <th>facebook</th>\n",
       "      <th>newspaper</th>\n",
       "      <th>sales</th>\n",
       "      <th>split</th>\n",
       "      <th>prediction</th>\n",
       "    </tr>\n",
       "  </thead>\n",
       "  <tbody>\n",
       "    <tr>\n",
       "      <th>0</th>\n",
       "      <td>84.72</td>\n",
       "      <td>19.20</td>\n",
       "      <td>48.96</td>\n",
       "      <td>12.60</td>\n",
       "      <td>train</td>\n",
       "      <td>11.18</td>\n",
       "    </tr>\n",
       "    <tr>\n",
       "      <th>1</th>\n",
       "      <td>351.48</td>\n",
       "      <td>33.96</td>\n",
       "      <td>51.84</td>\n",
       "      <td>25.68</td>\n",
       "      <td>train</td>\n",
       "      <td>25.84</td>\n",
       "    </tr>\n",
       "    <tr>\n",
       "      <th>2</th>\n",
       "      <td>135.48</td>\n",
       "      <td>20.88</td>\n",
       "      <td>46.32</td>\n",
       "      <td>14.28</td>\n",
       "      <td>train</td>\n",
       "      <td>13.75</td>\n",
       "    </tr>\n",
       "    <tr>\n",
       "      <th>3</th>\n",
       "      <td>116.64</td>\n",
       "      <td>1.80</td>\n",
       "      <td>36.00</td>\n",
       "      <td>11.52</td>\n",
       "      <td>train</td>\n",
       "      <td>9.21</td>\n",
       "    </tr>\n",
       "    <tr>\n",
       "      <th>4</th>\n",
       "      <td>318.72</td>\n",
       "      <td>24.00</td>\n",
       "      <td>0.36</td>\n",
       "      <td>20.88</td>\n",
       "      <td>train</td>\n",
       "      <td>22.45</td>\n",
       "    </tr>\n",
       "    <tr>\n",
       "      <th>...</th>\n",
       "      <td>...</td>\n",
       "      <td>...</td>\n",
       "      <td>...</td>\n",
       "      <td>...</td>\n",
       "      <td>...</td>\n",
       "      <td>...</td>\n",
       "    </tr>\n",
       "    <tr>\n",
       "      <th>166</th>\n",
       "      <td>45.84</td>\n",
       "      <td>4.44</td>\n",
       "      <td>16.56</td>\n",
       "      <td>9.12</td>\n",
       "      <td>train</td>\n",
       "      <td>6.59</td>\n",
       "    </tr>\n",
       "    <tr>\n",
       "      <th>167</th>\n",
       "      <td>113.04</td>\n",
       "      <td>5.88</td>\n",
       "      <td>9.72</td>\n",
       "      <td>11.64</td>\n",
       "      <td>test</td>\n",
       "      <td>9.84</td>\n",
       "    </tr>\n",
       "    <tr>\n",
       "      <th>168</th>\n",
       "      <td>212.40</td>\n",
       "      <td>11.16</td>\n",
       "      <td>7.68</td>\n",
       "      <td>15.36</td>\n",
       "      <td>train</td>\n",
       "      <td>15.26</td>\n",
       "    </tr>\n",
       "    <tr>\n",
       "      <th>169</th>\n",
       "      <td>340.32</td>\n",
       "      <td>50.40</td>\n",
       "      <td>79.44</td>\n",
       "      <td>30.60</td>\n",
       "      <td>train</td>\n",
       "      <td>28.54</td>\n",
       "    </tr>\n",
       "    <tr>\n",
       "      <th>170</th>\n",
       "      <td>278.52</td>\n",
       "      <td>10.32</td>\n",
       "      <td>10.44</td>\n",
       "      <td>16.08</td>\n",
       "      <td>train</td>\n",
       "      <td>18.02</td>\n",
       "    </tr>\n",
       "  </tbody>\n",
       "</table>\n",
       "<p>171 rows × 6 columns</p>\n",
       "</div>"
      ],
      "text/plain": [
       "     youtube  facebook  newspaper  sales  split  prediction\n",
       "0      84.72     19.20      48.96  12.60  train       11.18\n",
       "1     351.48     33.96      51.84  25.68  train       25.84\n",
       "2     135.48     20.88      46.32  14.28  train       13.75\n",
       "3     116.64      1.80      36.00  11.52  train        9.21\n",
       "4     318.72     24.00       0.36  20.88  train       22.45\n",
       "..       ...       ...        ...    ...    ...         ...\n",
       "166    45.84      4.44      16.56   9.12  train        6.59\n",
       "167   113.04      5.88       9.72  11.64   test        9.84\n",
       "168   212.40     11.16       7.68  15.36  train       15.26\n",
       "169   340.32     50.40      79.44  30.60  train       28.54\n",
       "170   278.52     10.32      10.44  16.08  train       18.02\n",
       "\n",
       "[171 rows x 6 columns]"
      ]
     },
     "execution_count": 23,
     "metadata": {},
     "output_type": "execute_result"
    }
   ],
   "source": [
    "# Adicionando as previsões ao dataframe\n",
    "df_model.loc[X_train.index, 'prediction'] = y_train_pred\n",
    "df_model.loc[X_test.index, 'prediction'] = y_test_pred\n",
    "\n",
    "df_model"
   ]
  },
  {
   "cell_type": "code",
   "execution_count": 24,
   "metadata": {},
   "outputs": [
    {
     "data": {
      "application/vnd.plotly.v1+json": {
       "config": {
        "plotlyServerURL": "https://plot.ly"
       },
       "data": [
        {
         "mode": "lines",
         "name": "Valores Reais",
         "type": "scatter",
         "y": [
          1.92,
          26.04,
          18.24,
          20.52,
          12.36,
          10.44,
          14.28,
          23.52,
          11.52,
          24.96,
          11.88,
          9.6,
          14.16,
          10.2,
          20.4,
          28.56,
          30.48,
          22.08,
          18,
          25.44,
          20.04,
          11.64,
          17.76,
          17.88,
          14.04,
          27.84,
          20.52,
          12.48,
          12.12,
          24.12,
          9.72,
          7.92,
          15.96,
          23.04,
          15.84
         ]
        },
        {
         "mode": "lines",
         "name": "Previsoes Regressao Linear",
         "type": "scatter",
         "y": [
          12.981439630750604,
          25.05675149785799,
          18.23740713920629,
          20.628560129458833,
          11.588295422967395,
          8.564983863207349,
          13.347692129812787,
          23.17303974582616,
          12.026337743147588,
          24.956583848133178,
          10.226421854551816,
          13.425922691101068,
          13.983903454575794,
          11.029214108751052,
          20.75850022338167,
          26.453658073970278,
          28.932720259813284,
          21.759114797214636,
          21.25092699615147,
          24.163692144847403,
          20.67745027694787,
          9.840896674261694,
          19.434331573457815,
          18.236546148244365,
          14.28836092403105,
          26.107387971378163,
          20.880692174309587,
          10.5774974584293,
          12.217487166652973,
          23.140564267673536,
          7.00528354632827,
          8.464443386074707,
          16.599178381507055,
          21.840221741282228,
          18.137026599243562
         ]
        },
        {
         "mode": "lines",
         "name": "Resíduos",
         "type": "scatter",
         "y": [
          -11.061439630750604,
          0.9832485021420077,
          0.0025928607937082404,
          -0.10856012945883364,
          0.7717045770326045,
          1.8750161367926506,
          0.9323078701872127,
          0.34696025417384035,
          -0.5063377431475882,
          0.0034161518668227586,
          1.6535781454481846,
          -3.825922691101068,
          0.1760965454242065,
          -0.829214108751053,
          -0.35850022338167165,
          2.106341926029721,
          1.5472797401867169,
          0.32088520278536237,
          -3.2509269961514704,
          1.2763078551525986,
          -0.6374502769478703,
          1.7991033257383062,
          -1.6743315734578132,
          -0.3565461482443659,
          -0.2483609240310507,
          1.732612028621837,
          -0.36069217430958744,
          1.9025025415707013,
          -0.0974871666529733,
          0.9794357323264649,
          2.7147164536717305,
          -0.5444433860747075,
          -0.6391783815070546,
          1.199778258717771,
          -2.297026599243562
         ]
        }
       ],
       "layout": {
        "template": {
         "data": {
          "bar": [
           {
            "error_x": {
             "color": "#2a3f5f"
            },
            "error_y": {
             "color": "#2a3f5f"
            },
            "marker": {
             "line": {
              "color": "#E5ECF6",
              "width": 0.5
             },
             "pattern": {
              "fillmode": "overlay",
              "size": 10,
              "solidity": 0.2
             }
            },
            "type": "bar"
           }
          ],
          "barpolar": [
           {
            "marker": {
             "line": {
              "color": "#E5ECF6",
              "width": 0.5
             },
             "pattern": {
              "fillmode": "overlay",
              "size": 10,
              "solidity": 0.2
             }
            },
            "type": "barpolar"
           }
          ],
          "carpet": [
           {
            "aaxis": {
             "endlinecolor": "#2a3f5f",
             "gridcolor": "white",
             "linecolor": "white",
             "minorgridcolor": "white",
             "startlinecolor": "#2a3f5f"
            },
            "baxis": {
             "endlinecolor": "#2a3f5f",
             "gridcolor": "white",
             "linecolor": "white",
             "minorgridcolor": "white",
             "startlinecolor": "#2a3f5f"
            },
            "type": "carpet"
           }
          ],
          "choropleth": [
           {
            "colorbar": {
             "outlinewidth": 0,
             "ticks": ""
            },
            "type": "choropleth"
           }
          ],
          "contour": [
           {
            "colorbar": {
             "outlinewidth": 0,
             "ticks": ""
            },
            "colorscale": [
             [
              0,
              "#0d0887"
             ],
             [
              0.1111111111111111,
              "#46039f"
             ],
             [
              0.2222222222222222,
              "#7201a8"
             ],
             [
              0.3333333333333333,
              "#9c179e"
             ],
             [
              0.4444444444444444,
              "#bd3786"
             ],
             [
              0.5555555555555556,
              "#d8576b"
             ],
             [
              0.6666666666666666,
              "#ed7953"
             ],
             [
              0.7777777777777778,
              "#fb9f3a"
             ],
             [
              0.8888888888888888,
              "#fdca26"
             ],
             [
              1,
              "#f0f921"
             ]
            ],
            "type": "contour"
           }
          ],
          "contourcarpet": [
           {
            "colorbar": {
             "outlinewidth": 0,
             "ticks": ""
            },
            "type": "contourcarpet"
           }
          ],
          "heatmap": [
           {
            "colorbar": {
             "outlinewidth": 0,
             "ticks": ""
            },
            "colorscale": [
             [
              0,
              "#0d0887"
             ],
             [
              0.1111111111111111,
              "#46039f"
             ],
             [
              0.2222222222222222,
              "#7201a8"
             ],
             [
              0.3333333333333333,
              "#9c179e"
             ],
             [
              0.4444444444444444,
              "#bd3786"
             ],
             [
              0.5555555555555556,
              "#d8576b"
             ],
             [
              0.6666666666666666,
              "#ed7953"
             ],
             [
              0.7777777777777778,
              "#fb9f3a"
             ],
             [
              0.8888888888888888,
              "#fdca26"
             ],
             [
              1,
              "#f0f921"
             ]
            ],
            "type": "heatmap"
           }
          ],
          "heatmapgl": [
           {
            "colorbar": {
             "outlinewidth": 0,
             "ticks": ""
            },
            "colorscale": [
             [
              0,
              "#0d0887"
             ],
             [
              0.1111111111111111,
              "#46039f"
             ],
             [
              0.2222222222222222,
              "#7201a8"
             ],
             [
              0.3333333333333333,
              "#9c179e"
             ],
             [
              0.4444444444444444,
              "#bd3786"
             ],
             [
              0.5555555555555556,
              "#d8576b"
             ],
             [
              0.6666666666666666,
              "#ed7953"
             ],
             [
              0.7777777777777778,
              "#fb9f3a"
             ],
             [
              0.8888888888888888,
              "#fdca26"
             ],
             [
              1,
              "#f0f921"
             ]
            ],
            "type": "heatmapgl"
           }
          ],
          "histogram": [
           {
            "marker": {
             "pattern": {
              "fillmode": "overlay",
              "size": 10,
              "solidity": 0.2
             }
            },
            "type": "histogram"
           }
          ],
          "histogram2d": [
           {
            "colorbar": {
             "outlinewidth": 0,
             "ticks": ""
            },
            "colorscale": [
             [
              0,
              "#0d0887"
             ],
             [
              0.1111111111111111,
              "#46039f"
             ],
             [
              0.2222222222222222,
              "#7201a8"
             ],
             [
              0.3333333333333333,
              "#9c179e"
             ],
             [
              0.4444444444444444,
              "#bd3786"
             ],
             [
              0.5555555555555556,
              "#d8576b"
             ],
             [
              0.6666666666666666,
              "#ed7953"
             ],
             [
              0.7777777777777778,
              "#fb9f3a"
             ],
             [
              0.8888888888888888,
              "#fdca26"
             ],
             [
              1,
              "#f0f921"
             ]
            ],
            "type": "histogram2d"
           }
          ],
          "histogram2dcontour": [
           {
            "colorbar": {
             "outlinewidth": 0,
             "ticks": ""
            },
            "colorscale": [
             [
              0,
              "#0d0887"
             ],
             [
              0.1111111111111111,
              "#46039f"
             ],
             [
              0.2222222222222222,
              "#7201a8"
             ],
             [
              0.3333333333333333,
              "#9c179e"
             ],
             [
              0.4444444444444444,
              "#bd3786"
             ],
             [
              0.5555555555555556,
              "#d8576b"
             ],
             [
              0.6666666666666666,
              "#ed7953"
             ],
             [
              0.7777777777777778,
              "#fb9f3a"
             ],
             [
              0.8888888888888888,
              "#fdca26"
             ],
             [
              1,
              "#f0f921"
             ]
            ],
            "type": "histogram2dcontour"
           }
          ],
          "mesh3d": [
           {
            "colorbar": {
             "outlinewidth": 0,
             "ticks": ""
            },
            "type": "mesh3d"
           }
          ],
          "parcoords": [
           {
            "line": {
             "colorbar": {
              "outlinewidth": 0,
              "ticks": ""
             }
            },
            "type": "parcoords"
           }
          ],
          "pie": [
           {
            "automargin": true,
            "type": "pie"
           }
          ],
          "scatter": [
           {
            "fillpattern": {
             "fillmode": "overlay",
             "size": 10,
             "solidity": 0.2
            },
            "type": "scatter"
           }
          ],
          "scatter3d": [
           {
            "line": {
             "colorbar": {
              "outlinewidth": 0,
              "ticks": ""
             }
            },
            "marker": {
             "colorbar": {
              "outlinewidth": 0,
              "ticks": ""
             }
            },
            "type": "scatter3d"
           }
          ],
          "scattercarpet": [
           {
            "marker": {
             "colorbar": {
              "outlinewidth": 0,
              "ticks": ""
             }
            },
            "type": "scattercarpet"
           }
          ],
          "scattergeo": [
           {
            "marker": {
             "colorbar": {
              "outlinewidth": 0,
              "ticks": ""
             }
            },
            "type": "scattergeo"
           }
          ],
          "scattergl": [
           {
            "marker": {
             "colorbar": {
              "outlinewidth": 0,
              "ticks": ""
             }
            },
            "type": "scattergl"
           }
          ],
          "scattermapbox": [
           {
            "marker": {
             "colorbar": {
              "outlinewidth": 0,
              "ticks": ""
             }
            },
            "type": "scattermapbox"
           }
          ],
          "scatterpolar": [
           {
            "marker": {
             "colorbar": {
              "outlinewidth": 0,
              "ticks": ""
             }
            },
            "type": "scatterpolar"
           }
          ],
          "scatterpolargl": [
           {
            "marker": {
             "colorbar": {
              "outlinewidth": 0,
              "ticks": ""
             }
            },
            "type": "scatterpolargl"
           }
          ],
          "scatterternary": [
           {
            "marker": {
             "colorbar": {
              "outlinewidth": 0,
              "ticks": ""
             }
            },
            "type": "scatterternary"
           }
          ],
          "surface": [
           {
            "colorbar": {
             "outlinewidth": 0,
             "ticks": ""
            },
            "colorscale": [
             [
              0,
              "#0d0887"
             ],
             [
              0.1111111111111111,
              "#46039f"
             ],
             [
              0.2222222222222222,
              "#7201a8"
             ],
             [
              0.3333333333333333,
              "#9c179e"
             ],
             [
              0.4444444444444444,
              "#bd3786"
             ],
             [
              0.5555555555555556,
              "#d8576b"
             ],
             [
              0.6666666666666666,
              "#ed7953"
             ],
             [
              0.7777777777777778,
              "#fb9f3a"
             ],
             [
              0.8888888888888888,
              "#fdca26"
             ],
             [
              1,
              "#f0f921"
             ]
            ],
            "type": "surface"
           }
          ],
          "table": [
           {
            "cells": {
             "fill": {
              "color": "#EBF0F8"
             },
             "line": {
              "color": "white"
             }
            },
            "header": {
             "fill": {
              "color": "#C8D4E3"
             },
             "line": {
              "color": "white"
             }
            },
            "type": "table"
           }
          ]
         },
         "layout": {
          "annotationdefaults": {
           "arrowcolor": "#2a3f5f",
           "arrowhead": 0,
           "arrowwidth": 1
          },
          "autotypenumbers": "strict",
          "coloraxis": {
           "colorbar": {
            "outlinewidth": 0,
            "ticks": ""
           }
          },
          "colorscale": {
           "diverging": [
            [
             0,
             "#8e0152"
            ],
            [
             0.1,
             "#c51b7d"
            ],
            [
             0.2,
             "#de77ae"
            ],
            [
             0.3,
             "#f1b6da"
            ],
            [
             0.4,
             "#fde0ef"
            ],
            [
             0.5,
             "#f7f7f7"
            ],
            [
             0.6,
             "#e6f5d0"
            ],
            [
             0.7,
             "#b8e186"
            ],
            [
             0.8,
             "#7fbc41"
            ],
            [
             0.9,
             "#4d9221"
            ],
            [
             1,
             "#276419"
            ]
           ],
           "sequential": [
            [
             0,
             "#0d0887"
            ],
            [
             0.1111111111111111,
             "#46039f"
            ],
            [
             0.2222222222222222,
             "#7201a8"
            ],
            [
             0.3333333333333333,
             "#9c179e"
            ],
            [
             0.4444444444444444,
             "#bd3786"
            ],
            [
             0.5555555555555556,
             "#d8576b"
            ],
            [
             0.6666666666666666,
             "#ed7953"
            ],
            [
             0.7777777777777778,
             "#fb9f3a"
            ],
            [
             0.8888888888888888,
             "#fdca26"
            ],
            [
             1,
             "#f0f921"
            ]
           ],
           "sequentialminus": [
            [
             0,
             "#0d0887"
            ],
            [
             0.1111111111111111,
             "#46039f"
            ],
            [
             0.2222222222222222,
             "#7201a8"
            ],
            [
             0.3333333333333333,
             "#9c179e"
            ],
            [
             0.4444444444444444,
             "#bd3786"
            ],
            [
             0.5555555555555556,
             "#d8576b"
            ],
            [
             0.6666666666666666,
             "#ed7953"
            ],
            [
             0.7777777777777778,
             "#fb9f3a"
            ],
            [
             0.8888888888888888,
             "#fdca26"
            ],
            [
             1,
             "#f0f921"
            ]
           ]
          },
          "colorway": [
           "#636efa",
           "#EF553B",
           "#00cc96",
           "#ab63fa",
           "#FFA15A",
           "#19d3f3",
           "#FF6692",
           "#B6E880",
           "#FF97FF",
           "#FECB52"
          ],
          "font": {
           "color": "#2a3f5f"
          },
          "geo": {
           "bgcolor": "white",
           "lakecolor": "white",
           "landcolor": "#E5ECF6",
           "showlakes": true,
           "showland": true,
           "subunitcolor": "white"
          },
          "hoverlabel": {
           "align": "left"
          },
          "hovermode": "closest",
          "mapbox": {
           "style": "light"
          },
          "paper_bgcolor": "white",
          "plot_bgcolor": "#E5ECF6",
          "polar": {
           "angularaxis": {
            "gridcolor": "white",
            "linecolor": "white",
            "ticks": ""
           },
           "bgcolor": "#E5ECF6",
           "radialaxis": {
            "gridcolor": "white",
            "linecolor": "white",
            "ticks": ""
           }
          },
          "scene": {
           "xaxis": {
            "backgroundcolor": "#E5ECF6",
            "gridcolor": "white",
            "gridwidth": 2,
            "linecolor": "white",
            "showbackground": true,
            "ticks": "",
            "zerolinecolor": "white"
           },
           "yaxis": {
            "backgroundcolor": "#E5ECF6",
            "gridcolor": "white",
            "gridwidth": 2,
            "linecolor": "white",
            "showbackground": true,
            "ticks": "",
            "zerolinecolor": "white"
           },
           "zaxis": {
            "backgroundcolor": "#E5ECF6",
            "gridcolor": "white",
            "gridwidth": 2,
            "linecolor": "white",
            "showbackground": true,
            "ticks": "",
            "zerolinecolor": "white"
           }
          },
          "shapedefaults": {
           "line": {
            "color": "#2a3f5f"
           }
          },
          "ternary": {
           "aaxis": {
            "gridcolor": "white",
            "linecolor": "white",
            "ticks": ""
           },
           "baxis": {
            "gridcolor": "white",
            "linecolor": "white",
            "ticks": ""
           },
           "bgcolor": "#E5ECF6",
           "caxis": {
            "gridcolor": "white",
            "linecolor": "white",
            "ticks": ""
           }
          },
          "title": {
           "x": 0.05
          },
          "xaxis": {
           "automargin": true,
           "gridcolor": "white",
           "linecolor": "white",
           "ticks": "",
           "title": {
            "standoff": 15
           },
           "zerolinecolor": "white",
           "zerolinewidth": 2
          },
          "yaxis": {
           "automargin": true,
           "gridcolor": "white",
           "linecolor": "white",
           "ticks": "",
           "title": {
            "standoff": 15
           },
           "zerolinecolor": "white",
           "zerolinewidth": 2
          }
         }
        },
        "title": {
         "text": "Valores Reais vs Previstos vs Resíduos"
        },
        "xaxis": {
         "title": {
          "text": "Índice"
         }
        },
        "yaxis": {
         "title": {
          "text": "Vendas"
         }
        }
       }
      }
     },
     "metadata": {},
     "output_type": "display_data"
    }
   ],
   "source": [
    "tabela = pd.DataFrame()\n",
    "tabela[\"y_teste\"] = y_test.values\n",
    "tabela[\"Previsoes Regressao Linear\"] = y_test_pred\n",
    "\n",
    "# Calcula os resíduos\n",
    "tabela[\"Residuos\"] = tabela[\"y_teste\"] - tabela[\"Previsoes Regressao Linear\"]\n",
    "\n",
    "# Cria o objeto Figure\n",
    "fig = go.Figure()\n",
    "\n",
    "# Adiciona uma linha para os valores reais\n",
    "fig.add_trace(go.Scatter(y=tabela['y_teste'], mode='lines', name='Valores Reais'))\n",
    "\n",
    "# Adiciona uma linha para os valores previstos\n",
    "fig.add_trace(go.Scatter(y=tabela['Previsoes Regressao Linear'], mode='lines', name='Previsoes Regressao Linear'))\n",
    "\n",
    "# Adiciona uma linha para os resíduos\n",
    "fig.add_trace(go.Scatter(y=tabela['Residuos'], mode='lines', name='Resíduos'))\n",
    "\n",
    "# Adiciona título e rótulos de eixo\n",
    "fig.update_layout(\n",
    "    title='Valores Reais vs Previstos vs Resíduos',\n",
    "    xaxis=dict(title='Índice'),\n",
    "    yaxis=dict(title='Vendas')\n",
    ")\n",
    "\n",
    "# Mostra o gráfico\n",
    "fig.show()\n"
   ]
  },
  {
   "attachments": {},
   "cell_type": "markdown",
   "metadata": {},
   "source": [
    "**Interpretação do Gráfico**\n",
    "\n",
    "* A linha \"Valores Reais\" mostra os valores reais de venda que foram observados no conjunto de dados de teste.\n",
    "\n",
    "* A linha \"Previsões da Regressão Linear\" mostra os valores de venda que foram previstos pelo nosso modelo de regressão linear a partir das variáveis independentes no conjunto de dados de teste.\n",
    "\n",
    "* A linha \"Resíduos\" mostra a diferença entre os valores reais e os previstos, também conhecida como erro de previsão ou resíduo.\n",
    "\n",
    "Comparando as linhas de \"Valores Reais\" e \"Previsões da Regressão Linear\", podemos ter uma ideia de quão bem o nosso modelo de regressão está funcionando. Idealmente, queremos que essas duas linhas estejam o mais próximas possível, o que indicaria que o nosso modelo está fazendo boas previsões.\n",
    "\n",
    "A linha de \"Resíduos\" nos permite ver a magnitude dos erros de previsão. Valores próximos de zero indicam boas previsões, enquanto valores grandes (positivos ou negativos) indicam previsões ruins. Se vemos muitos valores grandes na linha de \"Resíduos\", isso pode ser um sinal de que o nosso modelo de regressão pode ser melhorado."
   ]
  },
  {
   "cell_type": "code",
   "execution_count": 25,
   "metadata": {},
   "outputs": [
    {
     "data": {
      "application/vnd.plotly.v1+json": {
       "config": {
        "plotlyServerURL": "https://plot.ly"
       },
       "data": [
        {
         "hovertemplate": "split=train<br>sales=%{x}<br>prediction=%{y}<extra></extra>",
         "legendgroup": "train",
         "marker": {
          "color": "#636efa",
          "symbol": "circle"
         },
         "mode": "markers",
         "name": "train",
         "orientation": "v",
         "showlegend": true,
         "type": "scatter",
         "x": [
          12.6,
          25.68,
          14.28,
          11.52,
          20.88,
          11.4,
          15.36,
          30.48,
          17.64,
          25.8,
          19.92,
          24.84,
          15.48,
          12.72,
          11.64,
          13.68,
          12.84,
          27.12,
          24.24,
          28.44,
          6.6,
          15.84,
          29.04,
          18.84,
          16.8,
          21.6,
          11.16,
          11.4,
          16.08,
          22.68,
          26.76,
          21.96,
          14.88,
          10.56,
          13.2,
          10.44,
          8.28,
          17.04,
          6.36,
          13.2,
          14.76,
          13.56,
          16.32,
          14.4,
          19.2,
          15.48,
          13.44,
          8.76,
          23.28,
          26.64,
          13.8,
          20.28,
          14.04,
          18.6,
          20.64,
          14.04,
          28.56,
          17.76,
          17.64,
          24.84,
          8.64,
          6.36,
          23.76,
          16.08,
          26.16,
          16.92,
          19.08,
          17.52,
          15.12,
          14.64,
          11.28,
          19.08,
          18.6,
          8.4,
          13.92,
          18.24,
          23.64,
          12.72,
          7.92,
          10.56,
          29.64,
          11.64,
          15.24,
          6.84,
          12.96,
          13.92,
          11.4,
          24.84,
          13.08,
          23.04,
          13.68,
          12.36,
          30.48,
          13.08,
          12.12,
          19.32,
          13.92,
          19.92,
          22.8,
          18.72,
          3.84,
          18.36,
          12.12,
          8.76,
          15.48,
          17.28,
          17.88,
          21.6,
          14.28,
          14.64,
          10.08,
          17.4,
          9.12,
          13.8,
          32.4,
          24.24,
          14.04,
          14.16,
          15.12,
          12.6,
          14.64,
          10.44,
          31.44,
          21.12,
          27.12,
          20.76,
          19.08,
          8.04,
          12.96,
          7.08,
          23.52,
          20.76,
          9.12,
          15.36,
          30.6,
          16.08
         ],
         "xaxis": "x",
         "y": [
          11.178137323965492,
          25.835565512007715,
          13.747869240389067,
          9.205195881637838,
          22.453510876091148,
          9.103647912322101,
          20.073191784367985,
          28.076570575559842,
          19.190082082674103,
          24.588785246024113,
          19.642695057657228,
          25.73508067462146,
          16.63234167493765,
          10.767567599882469,
          9.978659602664472,
          15.018492421789592,
          11.266781373805795,
          24.906786456891854,
          24.352559634112442,
          25.77470179337337,
          10.645623980930132,
          15.404675634464141,
          27.52001305221209,
          20.007220850979742,
          16.056020415066193,
          20.641267035913522,
          9.532003606125782,
          11.114253656620669,
          14.472543667737456,
          22.707972772439668,
          25.44215472657521,
          21.39904123401674,
          12.860429311438928,
          12.824421749139303,
          11.892649741763305,
          14.792534597691452,
          5.533374987760157,
          16.74277388059913,
          10.966836560313789,
          11.649378690814622,
          17.372656365472526,
          12.431358845608782,
          17.713074981783173,
          14.165673035764605,
          19.04415522805761,
          14.331828708455635,
          11.967049009593541,
          5.567641669058379,
          23.060876874216124,
          25.52059648773957,
          12.664379478394146,
          19.733363752832037,
          14.996874997063752,
          18.406660788806263,
          20.600948949238063,
          16.495975732844677,
          27.884791731505445,
          20.91596446060701,
          17.67913227228685,
          24.33769812265546,
          7.594046737641264,
          4.489502470878639,
          23.522682215404643,
          17.586036980859156,
          25.385729667077015,
          16.613078811798246,
          19.623639950781172,
          18.769535181527534,
          15.850232547906213,
          14.41966323845585,
          7.9398431717151015,
          18.975062776516417,
          17.44703400624416,
          9.761239605082018,
          16.139397795410645,
          18.304347243998638,
          23.405603600635683,
          11.079003270287405,
          13.192082755662002,
          7.954956074496415,
          26.8193713683823,
          9.661235962987682,
          18.439029281256154,
          10.496211774064768,
          14.664159789285478,
          17.23234651400918,
          14.161650369369658,
          23.752215066760403,
          11.561615085098325,
          22.230770788924772,
          12.255583648976197,
          11.585069532414156,
          28.03118977366994,
          15.122375198515892,
          12.093133161139361,
          21.828399597529625,
          12.076358410606968,
          19.61728034056752,
          22.04880335723825,
          18.58449786325031,
          6.6272992963673705,
          18.83091018431435,
          11.947864500454438,
          12.932432194828872,
          14.978314581491325,
          17.071868376715116,
          17.91523308279926,
          20.960202222351754,
          16.925462574573263,
          15.880638795721225,
          9.060311172547134,
          17.30016510679262,
          9.432209890871128,
          16.288085853780387,
          29.794873838531,
          23.920802481272485,
          14.54585453835828,
          18.90989785929257,
          14.816412488438623,
          12.612750457141788,
          16.5472148663262,
          8.01145925257774,
          28.983529621149465,
          22.129490804888952,
          25.096982633078834,
          20.532639578491345,
          22.111372955648978,
          7.517087174797504,
          15.388969873740887,
          5.570045171714387,
          22.348968360598047,
          19.948512696669944,
          6.591220106852498,
          15.25816626101732,
          28.53838738054366,
          18.016234409475032
         ],
         "yaxis": "y"
        },
        {
         "alignmentgroup": "True",
         "bingroup": "x",
         "histnorm": "probability",
         "hovertemplate": "split=train<br>sales=%{x}<br>count=%{y}<extra></extra>",
         "legendgroup": "train",
         "marker": {
          "color": "#636efa"
         },
         "name": "train",
         "offsetgroup": "train",
         "opacity": 0.5,
         "showlegend": false,
         "type": "histogram",
         "x": [
          12.6,
          25.68,
          14.28,
          11.52,
          20.88,
          11.4,
          15.36,
          30.48,
          17.64,
          25.8,
          19.92,
          24.84,
          15.48,
          12.72,
          11.64,
          13.68,
          12.84,
          27.12,
          24.24,
          28.44,
          6.6,
          15.84,
          29.04,
          18.84,
          16.8,
          21.6,
          11.16,
          11.4,
          16.08,
          22.68,
          26.76,
          21.96,
          14.88,
          10.56,
          13.2,
          10.44,
          8.28,
          17.04,
          6.36,
          13.2,
          14.76,
          13.56,
          16.32,
          14.4,
          19.2,
          15.48,
          13.44,
          8.76,
          23.28,
          26.64,
          13.8,
          20.28,
          14.04,
          18.6,
          20.64,
          14.04,
          28.56,
          17.76,
          17.64,
          24.84,
          8.64,
          6.36,
          23.76,
          16.08,
          26.16,
          16.92,
          19.08,
          17.52,
          15.12,
          14.64,
          11.28,
          19.08,
          18.6,
          8.4,
          13.92,
          18.24,
          23.64,
          12.72,
          7.92,
          10.56,
          29.64,
          11.64,
          15.24,
          6.84,
          12.96,
          13.92,
          11.4,
          24.84,
          13.08,
          23.04,
          13.68,
          12.36,
          30.48,
          13.08,
          12.12,
          19.32,
          13.92,
          19.92,
          22.8,
          18.72,
          3.84,
          18.36,
          12.12,
          8.76,
          15.48,
          17.28,
          17.88,
          21.6,
          14.28,
          14.64,
          10.08,
          17.4,
          9.12,
          13.8,
          32.4,
          24.24,
          14.04,
          14.16,
          15.12,
          12.6,
          14.64,
          10.44,
          31.44,
          21.12,
          27.12,
          20.76,
          19.08,
          8.04,
          12.96,
          7.08,
          23.52,
          20.76,
          9.12,
          15.36,
          30.6,
          16.08
         ],
         "xaxis": "x3",
         "yaxis": "y3"
        },
        {
         "alignmentgroup": "True",
         "bingroup": "y",
         "histnorm": "probability",
         "hovertemplate": "split=train<br>prediction=%{y}<br>count=%{x}<extra></extra>",
         "legendgroup": "train",
         "marker": {
          "color": "#636efa"
         },
         "name": "train",
         "offsetgroup": "train",
         "opacity": 0.5,
         "showlegend": false,
         "type": "histogram",
         "xaxis": "x2",
         "y": [
          11.178137323965492,
          25.835565512007715,
          13.747869240389067,
          9.205195881637838,
          22.453510876091148,
          9.103647912322101,
          20.073191784367985,
          28.076570575559842,
          19.190082082674103,
          24.588785246024113,
          19.642695057657228,
          25.73508067462146,
          16.63234167493765,
          10.767567599882469,
          9.978659602664472,
          15.018492421789592,
          11.266781373805795,
          24.906786456891854,
          24.352559634112442,
          25.77470179337337,
          10.645623980930132,
          15.404675634464141,
          27.52001305221209,
          20.007220850979742,
          16.056020415066193,
          20.641267035913522,
          9.532003606125782,
          11.114253656620669,
          14.472543667737456,
          22.707972772439668,
          25.44215472657521,
          21.39904123401674,
          12.860429311438928,
          12.824421749139303,
          11.892649741763305,
          14.792534597691452,
          5.533374987760157,
          16.74277388059913,
          10.966836560313789,
          11.649378690814622,
          17.372656365472526,
          12.431358845608782,
          17.713074981783173,
          14.165673035764605,
          19.04415522805761,
          14.331828708455635,
          11.967049009593541,
          5.567641669058379,
          23.060876874216124,
          25.52059648773957,
          12.664379478394146,
          19.733363752832037,
          14.996874997063752,
          18.406660788806263,
          20.600948949238063,
          16.495975732844677,
          27.884791731505445,
          20.91596446060701,
          17.67913227228685,
          24.33769812265546,
          7.594046737641264,
          4.489502470878639,
          23.522682215404643,
          17.586036980859156,
          25.385729667077015,
          16.613078811798246,
          19.623639950781172,
          18.769535181527534,
          15.850232547906213,
          14.41966323845585,
          7.9398431717151015,
          18.975062776516417,
          17.44703400624416,
          9.761239605082018,
          16.139397795410645,
          18.304347243998638,
          23.405603600635683,
          11.079003270287405,
          13.192082755662002,
          7.954956074496415,
          26.8193713683823,
          9.661235962987682,
          18.439029281256154,
          10.496211774064768,
          14.664159789285478,
          17.23234651400918,
          14.161650369369658,
          23.752215066760403,
          11.561615085098325,
          22.230770788924772,
          12.255583648976197,
          11.585069532414156,
          28.03118977366994,
          15.122375198515892,
          12.093133161139361,
          21.828399597529625,
          12.076358410606968,
          19.61728034056752,
          22.04880335723825,
          18.58449786325031,
          6.6272992963673705,
          18.83091018431435,
          11.947864500454438,
          12.932432194828872,
          14.978314581491325,
          17.071868376715116,
          17.91523308279926,
          20.960202222351754,
          16.925462574573263,
          15.880638795721225,
          9.060311172547134,
          17.30016510679262,
          9.432209890871128,
          16.288085853780387,
          29.794873838531,
          23.920802481272485,
          14.54585453835828,
          18.90989785929257,
          14.816412488438623,
          12.612750457141788,
          16.5472148663262,
          8.01145925257774,
          28.983529621149465,
          22.129490804888952,
          25.096982633078834,
          20.532639578491345,
          22.111372955648978,
          7.517087174797504,
          15.388969873740887,
          5.570045171714387,
          22.348968360598047,
          19.948512696669944,
          6.591220106852498,
          15.25816626101732,
          28.53838738054366,
          18.016234409475032
         ],
         "yaxis": "y2"
        },
        {
         "hovertemplate": "<b>OLS trendline</b><br>prediction = 0.907496 * sales + 1.55643<br>R<sup>2</sup>=0.907496<br><br>split=train<br>sales=%{x}<br>prediction=%{y} <b>(trend)</b><extra></extra>",
         "legendgroup": "train",
         "marker": {
          "color": "#636efa",
          "symbol": "circle"
         },
         "mode": "lines",
         "name": "train",
         "showlegend": false,
         "type": "scatter",
         "x": [
          3.84,
          6.36,
          6.36,
          6.6,
          6.84,
          7.08,
          7.92,
          8.04,
          8.28,
          8.4,
          8.64,
          8.76,
          8.76,
          9.12,
          9.12,
          10.08,
          10.44,
          10.44,
          10.56,
          10.56,
          11.16,
          11.28,
          11.4,
          11.4,
          11.4,
          11.52,
          11.64,
          11.64,
          12.12,
          12.12,
          12.36,
          12.6,
          12.6,
          12.72,
          12.72,
          12.84,
          12.96,
          12.96,
          13.08,
          13.08,
          13.2,
          13.2,
          13.44,
          13.56,
          13.68,
          13.68,
          13.8,
          13.8,
          13.92,
          13.92,
          13.92,
          14.04,
          14.04,
          14.04,
          14.16,
          14.28,
          14.28,
          14.4,
          14.64,
          14.64,
          14.64,
          14.76,
          14.88,
          15.12,
          15.12,
          15.24,
          15.36,
          15.36,
          15.48,
          15.48,
          15.48,
          15.84,
          16.08,
          16.08,
          16.08,
          16.32,
          16.8,
          16.92,
          17.04,
          17.28,
          17.4,
          17.52,
          17.64,
          17.64,
          17.76,
          17.88,
          18.24,
          18.36,
          18.6,
          18.6,
          18.72,
          18.84,
          19.08,
          19.08,
          19.08,
          19.2,
          19.32,
          19.92,
          19.92,
          20.28,
          20.64,
          20.76,
          20.76,
          20.88,
          21.12,
          21.6,
          21.6,
          21.96,
          22.68,
          22.8,
          23.04,
          23.28,
          23.52,
          23.64,
          23.76,
          24.24,
          24.24,
          24.84,
          24.84,
          24.84,
          25.68,
          25.8,
          26.16,
          26.64,
          26.76,
          27.12,
          27.12,
          28.44,
          28.56,
          29.04,
          29.64,
          30.48,
          30.48,
          30.6,
          31.44,
          32.4
         ],
         "xaxis": "x",
         "y": [
          5.041215099551459,
          7.328105748167416,
          7.328105748167416,
          7.545904857559411,
          7.763703966951407,
          7.981503076343404,
          8.743799959215389,
          8.852699513911386,
          9.070498623303383,
          9.179398177999381,
          9.397197287391377,
          9.506096842087375,
          9.506096842087375,
          9.83279550617537,
          9.83279550617537,
          10.703991943743352,
          11.030690607831346,
          11.030690607831346,
          11.139590162527345,
          11.139590162527345,
          11.684087936007334,
          11.79298749070333,
          11.90188704539933,
          11.90188704539933,
          11.90188704539933,
          12.010786600095328,
          12.119686154791326,
          12.119686154791326,
          12.555284373575317,
          12.555284373575317,
          12.773083482967312,
          12.99088259235931,
          12.99088259235931,
          13.099782147055308,
          13.099782147055308,
          13.208681701751305,
          13.317581256447303,
          13.317581256447303,
          13.426480811143302,
          13.426480811143302,
          13.535380365839298,
          13.535380365839298,
          13.753179475231294,
          13.862079029927294,
          13.97097858462329,
          13.97097858462329,
          14.07987813931929,
          14.07987813931929,
          14.188777694015286,
          14.188777694015286,
          14.188777694015286,
          14.297677248711283,
          14.297677248711283,
          14.297677248711283,
          14.406576803407283,
          14.51547635810328,
          14.51547635810328,
          14.624375912799279,
          14.842175022191276,
          14.842175022191276,
          14.842175022191276,
          14.951074576887272,
          15.059974131583271,
          15.277773240975264,
          15.277773240975264,
          15.386672795671265,
          15.495572350367262,
          15.495572350367262,
          15.60447190506326,
          15.60447190506326,
          15.60447190506326,
          15.931170569151254,
          16.148969678543246,
          16.148969678543246,
          16.148969678543246,
          16.366768787935246,
          16.802367006719237,
          16.911266561415236,
          17.02016611611123,
          17.237965225503228,
          17.346864780199226,
          17.455764334895225,
          17.564663889591223,
          17.564663889591223,
          17.673563444287222,
          17.782462998983217,
          18.109161663071212,
          18.21806121776721,
          18.435860327159208,
          18.435860327159208,
          18.544759881855203,
          18.6536594365512,
          18.871458545943195,
          18.871458545943195,
          18.871458545943195,
          18.980358100639194,
          19.089257655335196,
          19.633755428815185,
          19.633755428815185,
          19.960454092903177,
          20.287152756991173,
          20.39605231168717,
          20.39605231168717,
          20.504951866383166,
          20.722750975775163,
          21.158349194559158,
          21.158349194559158,
          21.48504785864715,
          22.138445186823137,
          22.247344741519136,
          22.46514385091113,
          22.682942960303127,
          22.90074206969512,
          23.00964162439112,
          23.118541179087117,
          23.554139397871108,
          23.554139397871108,
          24.0986371713511,
          24.0986371713511,
          24.0986371713511,
          24.860934054223083,
          24.96983360891908,
          25.296532273007077,
          25.732130491791068,
          25.841030046487067,
          26.167728710575062,
          26.167728710575062,
          27.36562381223104,
          27.474523366927034,
          27.910121585711025,
          28.454619359191017,
          29.216916242063004,
          29.216916242063004,
          29.325815796759002,
          30.088112679630985,
          30.959309117198966
         ],
         "yaxis": "y"
        },
        {
         "hovertemplate": "split=test<br>sales=%{x}<br>prediction=%{y}<extra></extra>",
         "legendgroup": "test",
         "marker": {
          "color": "#EF553B",
          "symbol": "circle"
         },
         "mode": "markers",
         "name": "test",
         "orientation": "v",
         "showlegend": true,
         "type": "scatter",
         "x": [
          12.12,
          20.52,
          10.2,
          17.88,
          27.84,
          17.76,
          25.44,
          28.56,
          22.08,
          9.72,
          20.4,
          14.16,
          26.04,
          18.24,
          20.04,
          30.48,
          23.04,
          10.44,
          7.92,
          1.92,
          23.52,
          24.96,
          11.52,
          24.12,
          12.48,
          15.84,
          15.96,
          14.28,
          9.6,
          20.52,
          18,
          14.04,
          12.36,
          11.88,
          11.64
         ],
         "xaxis": "x",
         "y": [
          12.217487166652973,
          20.880692174309587,
          11.029214108751052,
          18.236546148244365,
          26.107387971378163,
          19.434331573457815,
          24.163692144847403,
          26.453658073970278,
          21.759114797214636,
          7.00528354632827,
          20.75850022338167,
          13.983903454575794,
          25.05675149785799,
          18.23740713920629,
          20.67745027694787,
          28.932720259813284,
          21.840221741282228,
          8.564983863207349,
          8.464443386074707,
          12.981439630750604,
          23.17303974582616,
          24.956583848133178,
          12.026337743147588,
          23.140564267673536,
          10.5774974584293,
          18.137026599243562,
          16.599178381507055,
          13.347692129812787,
          13.425922691101068,
          20.628560129458833,
          21.25092699615147,
          14.28836092403105,
          11.588295422967395,
          10.226421854551816,
          9.840896674261694
         ],
         "yaxis": "y"
        },
        {
         "alignmentgroup": "True",
         "bingroup": "x",
         "histnorm": "probability",
         "hovertemplate": "split=test<br>sales=%{x}<br>count=%{y}<extra></extra>",
         "legendgroup": "test",
         "marker": {
          "color": "#EF553B"
         },
         "name": "test",
         "offsetgroup": "test",
         "opacity": 0.5,
         "showlegend": false,
         "type": "histogram",
         "x": [
          12.12,
          20.52,
          10.2,
          17.88,
          27.84,
          17.76,
          25.44,
          28.56,
          22.08,
          9.72,
          20.4,
          14.16,
          26.04,
          18.24,
          20.04,
          30.48,
          23.04,
          10.44,
          7.92,
          1.92,
          23.52,
          24.96,
          11.52,
          24.12,
          12.48,
          15.84,
          15.96,
          14.28,
          9.6,
          20.52,
          18,
          14.04,
          12.36,
          11.88,
          11.64
         ],
         "xaxis": "x3",
         "yaxis": "y3"
        },
        {
         "alignmentgroup": "True",
         "bingroup": "y",
         "histnorm": "probability",
         "hovertemplate": "split=test<br>prediction=%{y}<br>count=%{x}<extra></extra>",
         "legendgroup": "test",
         "marker": {
          "color": "#EF553B"
         },
         "name": "test",
         "offsetgroup": "test",
         "opacity": 0.5,
         "showlegend": false,
         "type": "histogram",
         "xaxis": "x2",
         "y": [
          12.217487166652973,
          20.880692174309587,
          11.029214108751052,
          18.236546148244365,
          26.107387971378163,
          19.434331573457815,
          24.163692144847403,
          26.453658073970278,
          21.759114797214636,
          7.00528354632827,
          20.75850022338167,
          13.983903454575794,
          25.05675149785799,
          18.23740713920629,
          20.67745027694787,
          28.932720259813284,
          21.840221741282228,
          8.564983863207349,
          8.464443386074707,
          12.981439630750604,
          23.17303974582616,
          24.956583848133178,
          12.026337743147588,
          23.140564267673536,
          10.5774974584293,
          18.137026599243562,
          16.599178381507055,
          13.347692129812787,
          13.425922691101068,
          20.628560129458833,
          21.25092699615147,
          14.28836092403105,
          11.588295422967395,
          10.226421854551816,
          9.840896674261694
         ],
         "yaxis": "y2"
        },
        {
         "hovertemplate": "<b>OLS trendline</b><br>prediction = 0.842947 * sales + 2.8449<br>R<sup>2</sup>=0.874364<br><br>split=test<br>sales=%{x}<br>prediction=%{y} <b>(trend)</b><extra></extra>",
         "legendgroup": "test",
         "marker": {
          "color": "#EF553B",
          "symbol": "circle"
         },
         "mode": "lines",
         "name": "test",
         "showlegend": false,
         "type": "scatter",
         "x": [
          1.92,
          7.92,
          9.6,
          9.72,
          10.2,
          10.44,
          11.52,
          11.64,
          11.88,
          12.12,
          12.36,
          12.48,
          14.04,
          14.16,
          14.28,
          15.84,
          15.96,
          17.76,
          17.88,
          18,
          18.24,
          20.04,
          20.4,
          20.52,
          20.52,
          22.08,
          23.04,
          23.52,
          24.12,
          24.96,
          25.44,
          26.04,
          27.84,
          28.56,
          30.48
         ],
         "xaxis": "x",
         "y": [
          4.463356564091582,
          9.521036616491752,
          10.937187031163798,
          11.038340632211803,
          11.442955036403815,
          11.645262238499821,
          12.555644647931851,
          12.656798248979856,
          12.859105451075862,
          13.06141265317187,
          13.263719855267876,
          13.36487345631588,
          14.679870269939922,
          14.781023870987926,
          14.882177472035929,
          16.197174285659976,
          16.29832788670798,
          17.81563190242803,
          17.916785503476028,
          18.017939104524032,
          18.22024630662004,
          19.73755032234009,
          20.0410111254841,
          20.142164726532105,
          20.142164726532105,
          21.457161540156147,
          22.266390348540174,
          22.671004752732188,
          23.176772757972206,
          23.884847965308232,
          24.289462369500246,
          24.79523037474026,
          26.31253439046031,
          26.91945599674833,
          28.537913613516384
         ],
         "yaxis": "y"
        }
       ],
       "layout": {
        "barmode": "overlay",
        "legend": {
         "title": {
          "text": "split"
         },
         "tracegroupgap": 0
        },
        "margin": {
         "t": 60
        },
        "shapes": [
         {
          "line": {
           "dash": "dash"
          },
          "type": "line",
          "x0": 1.92,
          "x1": 32.4,
          "y0": 1.92,
          "y1": 32.4
         }
        ],
        "template": {
         "data": {
          "bar": [
           {
            "error_x": {
             "color": "#2a3f5f"
            },
            "error_y": {
             "color": "#2a3f5f"
            },
            "marker": {
             "line": {
              "color": "#E5ECF6",
              "width": 0.5
             },
             "pattern": {
              "fillmode": "overlay",
              "size": 10,
              "solidity": 0.2
             }
            },
            "type": "bar"
           }
          ],
          "barpolar": [
           {
            "marker": {
             "line": {
              "color": "#E5ECF6",
              "width": 0.5
             },
             "pattern": {
              "fillmode": "overlay",
              "size": 10,
              "solidity": 0.2
             }
            },
            "type": "barpolar"
           }
          ],
          "carpet": [
           {
            "aaxis": {
             "endlinecolor": "#2a3f5f",
             "gridcolor": "white",
             "linecolor": "white",
             "minorgridcolor": "white",
             "startlinecolor": "#2a3f5f"
            },
            "baxis": {
             "endlinecolor": "#2a3f5f",
             "gridcolor": "white",
             "linecolor": "white",
             "minorgridcolor": "white",
             "startlinecolor": "#2a3f5f"
            },
            "type": "carpet"
           }
          ],
          "choropleth": [
           {
            "colorbar": {
             "outlinewidth": 0,
             "ticks": ""
            },
            "type": "choropleth"
           }
          ],
          "contour": [
           {
            "colorbar": {
             "outlinewidth": 0,
             "ticks": ""
            },
            "colorscale": [
             [
              0,
              "#0d0887"
             ],
             [
              0.1111111111111111,
              "#46039f"
             ],
             [
              0.2222222222222222,
              "#7201a8"
             ],
             [
              0.3333333333333333,
              "#9c179e"
             ],
             [
              0.4444444444444444,
              "#bd3786"
             ],
             [
              0.5555555555555556,
              "#d8576b"
             ],
             [
              0.6666666666666666,
              "#ed7953"
             ],
             [
              0.7777777777777778,
              "#fb9f3a"
             ],
             [
              0.8888888888888888,
              "#fdca26"
             ],
             [
              1,
              "#f0f921"
             ]
            ],
            "type": "contour"
           }
          ],
          "contourcarpet": [
           {
            "colorbar": {
             "outlinewidth": 0,
             "ticks": ""
            },
            "type": "contourcarpet"
           }
          ],
          "heatmap": [
           {
            "colorbar": {
             "outlinewidth": 0,
             "ticks": ""
            },
            "colorscale": [
             [
              0,
              "#0d0887"
             ],
             [
              0.1111111111111111,
              "#46039f"
             ],
             [
              0.2222222222222222,
              "#7201a8"
             ],
             [
              0.3333333333333333,
              "#9c179e"
             ],
             [
              0.4444444444444444,
              "#bd3786"
             ],
             [
              0.5555555555555556,
              "#d8576b"
             ],
             [
              0.6666666666666666,
              "#ed7953"
             ],
             [
              0.7777777777777778,
              "#fb9f3a"
             ],
             [
              0.8888888888888888,
              "#fdca26"
             ],
             [
              1,
              "#f0f921"
             ]
            ],
            "type": "heatmap"
           }
          ],
          "heatmapgl": [
           {
            "colorbar": {
             "outlinewidth": 0,
             "ticks": ""
            },
            "colorscale": [
             [
              0,
              "#0d0887"
             ],
             [
              0.1111111111111111,
              "#46039f"
             ],
             [
              0.2222222222222222,
              "#7201a8"
             ],
             [
              0.3333333333333333,
              "#9c179e"
             ],
             [
              0.4444444444444444,
              "#bd3786"
             ],
             [
              0.5555555555555556,
              "#d8576b"
             ],
             [
              0.6666666666666666,
              "#ed7953"
             ],
             [
              0.7777777777777778,
              "#fb9f3a"
             ],
             [
              0.8888888888888888,
              "#fdca26"
             ],
             [
              1,
              "#f0f921"
             ]
            ],
            "type": "heatmapgl"
           }
          ],
          "histogram": [
           {
            "marker": {
             "pattern": {
              "fillmode": "overlay",
              "size": 10,
              "solidity": 0.2
             }
            },
            "type": "histogram"
           }
          ],
          "histogram2d": [
           {
            "colorbar": {
             "outlinewidth": 0,
             "ticks": ""
            },
            "colorscale": [
             [
              0,
              "#0d0887"
             ],
             [
              0.1111111111111111,
              "#46039f"
             ],
             [
              0.2222222222222222,
              "#7201a8"
             ],
             [
              0.3333333333333333,
              "#9c179e"
             ],
             [
              0.4444444444444444,
              "#bd3786"
             ],
             [
              0.5555555555555556,
              "#d8576b"
             ],
             [
              0.6666666666666666,
              "#ed7953"
             ],
             [
              0.7777777777777778,
              "#fb9f3a"
             ],
             [
              0.8888888888888888,
              "#fdca26"
             ],
             [
              1,
              "#f0f921"
             ]
            ],
            "type": "histogram2d"
           }
          ],
          "histogram2dcontour": [
           {
            "colorbar": {
             "outlinewidth": 0,
             "ticks": ""
            },
            "colorscale": [
             [
              0,
              "#0d0887"
             ],
             [
              0.1111111111111111,
              "#46039f"
             ],
             [
              0.2222222222222222,
              "#7201a8"
             ],
             [
              0.3333333333333333,
              "#9c179e"
             ],
             [
              0.4444444444444444,
              "#bd3786"
             ],
             [
              0.5555555555555556,
              "#d8576b"
             ],
             [
              0.6666666666666666,
              "#ed7953"
             ],
             [
              0.7777777777777778,
              "#fb9f3a"
             ],
             [
              0.8888888888888888,
              "#fdca26"
             ],
             [
              1,
              "#f0f921"
             ]
            ],
            "type": "histogram2dcontour"
           }
          ],
          "mesh3d": [
           {
            "colorbar": {
             "outlinewidth": 0,
             "ticks": ""
            },
            "type": "mesh3d"
           }
          ],
          "parcoords": [
           {
            "line": {
             "colorbar": {
              "outlinewidth": 0,
              "ticks": ""
             }
            },
            "type": "parcoords"
           }
          ],
          "pie": [
           {
            "automargin": true,
            "type": "pie"
           }
          ],
          "scatter": [
           {
            "fillpattern": {
             "fillmode": "overlay",
             "size": 10,
             "solidity": 0.2
            },
            "type": "scatter"
           }
          ],
          "scatter3d": [
           {
            "line": {
             "colorbar": {
              "outlinewidth": 0,
              "ticks": ""
             }
            },
            "marker": {
             "colorbar": {
              "outlinewidth": 0,
              "ticks": ""
             }
            },
            "type": "scatter3d"
           }
          ],
          "scattercarpet": [
           {
            "marker": {
             "colorbar": {
              "outlinewidth": 0,
              "ticks": ""
             }
            },
            "type": "scattercarpet"
           }
          ],
          "scattergeo": [
           {
            "marker": {
             "colorbar": {
              "outlinewidth": 0,
              "ticks": ""
             }
            },
            "type": "scattergeo"
           }
          ],
          "scattergl": [
           {
            "marker": {
             "colorbar": {
              "outlinewidth": 0,
              "ticks": ""
             }
            },
            "type": "scattergl"
           }
          ],
          "scattermapbox": [
           {
            "marker": {
             "colorbar": {
              "outlinewidth": 0,
              "ticks": ""
             }
            },
            "type": "scattermapbox"
           }
          ],
          "scatterpolar": [
           {
            "marker": {
             "colorbar": {
              "outlinewidth": 0,
              "ticks": ""
             }
            },
            "type": "scatterpolar"
           }
          ],
          "scatterpolargl": [
           {
            "marker": {
             "colorbar": {
              "outlinewidth": 0,
              "ticks": ""
             }
            },
            "type": "scatterpolargl"
           }
          ],
          "scatterternary": [
           {
            "marker": {
             "colorbar": {
              "outlinewidth": 0,
              "ticks": ""
             }
            },
            "type": "scatterternary"
           }
          ],
          "surface": [
           {
            "colorbar": {
             "outlinewidth": 0,
             "ticks": ""
            },
            "colorscale": [
             [
              0,
              "#0d0887"
             ],
             [
              0.1111111111111111,
              "#46039f"
             ],
             [
              0.2222222222222222,
              "#7201a8"
             ],
             [
              0.3333333333333333,
              "#9c179e"
             ],
             [
              0.4444444444444444,
              "#bd3786"
             ],
             [
              0.5555555555555556,
              "#d8576b"
             ],
             [
              0.6666666666666666,
              "#ed7953"
             ],
             [
              0.7777777777777778,
              "#fb9f3a"
             ],
             [
              0.8888888888888888,
              "#fdca26"
             ],
             [
              1,
              "#f0f921"
             ]
            ],
            "type": "surface"
           }
          ],
          "table": [
           {
            "cells": {
             "fill": {
              "color": "#EBF0F8"
             },
             "line": {
              "color": "white"
             }
            },
            "header": {
             "fill": {
              "color": "#C8D4E3"
             },
             "line": {
              "color": "white"
             }
            },
            "type": "table"
           }
          ]
         },
         "layout": {
          "annotationdefaults": {
           "arrowcolor": "#2a3f5f",
           "arrowhead": 0,
           "arrowwidth": 1
          },
          "autotypenumbers": "strict",
          "coloraxis": {
           "colorbar": {
            "outlinewidth": 0,
            "ticks": ""
           }
          },
          "colorscale": {
           "diverging": [
            [
             0,
             "#8e0152"
            ],
            [
             0.1,
             "#c51b7d"
            ],
            [
             0.2,
             "#de77ae"
            ],
            [
             0.3,
             "#f1b6da"
            ],
            [
             0.4,
             "#fde0ef"
            ],
            [
             0.5,
             "#f7f7f7"
            ],
            [
             0.6,
             "#e6f5d0"
            ],
            [
             0.7,
             "#b8e186"
            ],
            [
             0.8,
             "#7fbc41"
            ],
            [
             0.9,
             "#4d9221"
            ],
            [
             1,
             "#276419"
            ]
           ],
           "sequential": [
            [
             0,
             "#0d0887"
            ],
            [
             0.1111111111111111,
             "#46039f"
            ],
            [
             0.2222222222222222,
             "#7201a8"
            ],
            [
             0.3333333333333333,
             "#9c179e"
            ],
            [
             0.4444444444444444,
             "#bd3786"
            ],
            [
             0.5555555555555556,
             "#d8576b"
            ],
            [
             0.6666666666666666,
             "#ed7953"
            ],
            [
             0.7777777777777778,
             "#fb9f3a"
            ],
            [
             0.8888888888888888,
             "#fdca26"
            ],
            [
             1,
             "#f0f921"
            ]
           ],
           "sequentialminus": [
            [
             0,
             "#0d0887"
            ],
            [
             0.1111111111111111,
             "#46039f"
            ],
            [
             0.2222222222222222,
             "#7201a8"
            ],
            [
             0.3333333333333333,
             "#9c179e"
            ],
            [
             0.4444444444444444,
             "#bd3786"
            ],
            [
             0.5555555555555556,
             "#d8576b"
            ],
            [
             0.6666666666666666,
             "#ed7953"
            ],
            [
             0.7777777777777778,
             "#fb9f3a"
            ],
            [
             0.8888888888888888,
             "#fdca26"
            ],
            [
             1,
             "#f0f921"
            ]
           ]
          },
          "colorway": [
           "#636efa",
           "#EF553B",
           "#00cc96",
           "#ab63fa",
           "#FFA15A",
           "#19d3f3",
           "#FF6692",
           "#B6E880",
           "#FF97FF",
           "#FECB52"
          ],
          "font": {
           "color": "#2a3f5f"
          },
          "geo": {
           "bgcolor": "white",
           "lakecolor": "white",
           "landcolor": "#E5ECF6",
           "showlakes": true,
           "showland": true,
           "subunitcolor": "white"
          },
          "hoverlabel": {
           "align": "left"
          },
          "hovermode": "closest",
          "mapbox": {
           "style": "light"
          },
          "paper_bgcolor": "white",
          "plot_bgcolor": "#E5ECF6",
          "polar": {
           "angularaxis": {
            "gridcolor": "white",
            "linecolor": "white",
            "ticks": ""
           },
           "bgcolor": "#E5ECF6",
           "radialaxis": {
            "gridcolor": "white",
            "linecolor": "white",
            "ticks": ""
           }
          },
          "scene": {
           "xaxis": {
            "backgroundcolor": "#E5ECF6",
            "gridcolor": "white",
            "gridwidth": 2,
            "linecolor": "white",
            "showbackground": true,
            "ticks": "",
            "zerolinecolor": "white"
           },
           "yaxis": {
            "backgroundcolor": "#E5ECF6",
            "gridcolor": "white",
            "gridwidth": 2,
            "linecolor": "white",
            "showbackground": true,
            "ticks": "",
            "zerolinecolor": "white"
           },
           "zaxis": {
            "backgroundcolor": "#E5ECF6",
            "gridcolor": "white",
            "gridwidth": 2,
            "linecolor": "white",
            "showbackground": true,
            "ticks": "",
            "zerolinecolor": "white"
           }
          },
          "shapedefaults": {
           "line": {
            "color": "#2a3f5f"
           }
          },
          "ternary": {
           "aaxis": {
            "gridcolor": "white",
            "linecolor": "white",
            "ticks": ""
           },
           "baxis": {
            "gridcolor": "white",
            "linecolor": "white",
            "ticks": ""
           },
           "bgcolor": "#E5ECF6",
           "caxis": {
            "gridcolor": "white",
            "linecolor": "white",
            "ticks": ""
           }
          },
          "title": {
           "x": 0.05
          },
          "xaxis": {
           "automargin": true,
           "gridcolor": "white",
           "linecolor": "white",
           "ticks": "",
           "title": {
            "standoff": 15
           },
           "zerolinecolor": "white",
           "zerolinewidth": 2
          },
          "yaxis": {
           "automargin": true,
           "gridcolor": "white",
           "linecolor": "white",
           "ticks": "",
           "title": {
            "standoff": 15
           },
           "zerolinecolor": "white",
           "zerolinewidth": 2
          }
         }
        },
        "xaxis": {
         "anchor": "y",
         "domain": [
          0,
          0.7363
         ],
         "title": {
          "text": "sales"
         }
        },
        "xaxis2": {
         "anchor": "y2",
         "domain": [
          0.7413,
          1
         ],
         "matches": "x2",
         "showgrid": true,
         "showline": false,
         "showticklabels": false,
         "ticks": ""
        },
        "xaxis3": {
         "anchor": "y3",
         "domain": [
          0,
          0.7363
         ],
         "matches": "x",
         "showgrid": true,
         "showticklabels": false
        },
        "xaxis4": {
         "anchor": "y4",
         "domain": [
          0.7413,
          1
         ],
         "matches": "x2",
         "showgrid": true,
         "showline": false,
         "showticklabels": false,
         "ticks": ""
        },
        "yaxis": {
         "anchor": "x",
         "domain": [
          0,
          0.7326
         ],
         "title": {
          "text": "prediction"
         }
        },
        "yaxis2": {
         "anchor": "x2",
         "domain": [
          0,
          0.7326
         ],
         "matches": "y",
         "showgrid": true,
         "showticklabels": false
        },
        "yaxis3": {
         "anchor": "x3",
         "domain": [
          0.7426,
          1
         ],
         "matches": "y3",
         "showgrid": true,
         "showline": false,
         "showticklabels": false,
         "ticks": ""
        },
        "yaxis4": {
         "anchor": "x4",
         "domain": [
          0.7426,
          1
         ],
         "matches": "y3",
         "showgrid": true,
         "showline": false,
         "showticklabels": false,
         "ticks": ""
        }
       }
      }
     },
     "metadata": {},
     "output_type": "display_data"
    }
   ],
   "source": [
    "# Scatter plot\n",
    "fig = px.scatter(\n",
    "    df_model, x='sales', y='prediction',\n",
    "    marginal_x='histogram', marginal_y='histogram',\n",
    "    color='split', trendline='ols'\n",
    ")\n",
    "fig.update_traces(histnorm='probability', selector={'type':'histogram'})\n",
    "fig.add_shape(\n",
    "    type=\"line\", line=dict(dash='dash'),\n",
    "    x0=y.min(), y0=y.min(),\n",
    "    x1=y.max(), y1=y.max()\n",
    ")\n",
    "\n",
    "fig.show()"
   ]
  },
  {
   "attachments": {},
   "cell_type": "markdown",
   "metadata": {},
   "source": [
    "**Interpretação do Gráfico**\n",
    "\n",
    "* Os pontos representam as observações. Os pontos coloridos representam se a observação pertence ao conjunto de treinamento (azul) ou ao conjunto de teste (vermelho).\n",
    "  \n",
    "* O histograma na margem superior mostra a distribuição das vendas reais e o histograma na margem direita mostra a distribuição das vendas previstas.\n",
    "  \n",
    "* A linha tracejada preta representa a linha de perfeita igualdade (y = x), ou seja, os pontos que caem nessa linha são aqueles para os quais a venda real é igual à venda prevista. Idealmente, queremos que nossos pontos fiquem o mais próximos possível dessa linha.\n",
    "  \n",
    "* A linha de tendência azul (ols - ordinary least squares) é a linha de melhor ajuste para o conjunto de treinamento, minimizando a soma dos quadrados dos resíduos (ou erros).\n",
    "  \n",
    "* A linha de tendência vermelha é a linha de melhor ajuste para o conjunto de teste.\n",
    "\n",
    "\n",
    "No geral, este gráfico nos permite ver quão bem o nosso modelo de regressão está prevendo as vendas. Se o modelo é bom, os pontos devem estar próximos da linha tracejada preta (linha de perfeita igualdade) e as linhas de tendência azul e vermelha devem ser semelhantes."
   ]
  },
  {
   "attachments": {},
   "cell_type": "markdown",
   "metadata": {},
   "source": [
    "#### Avaliação do Modelo"
   ]
  },
  {
   "attachments": {},
   "cell_type": "markdown",
   "metadata": {},
   "source": [
    "O Root Mean Square Error (RMSE) e o coeficiente de determinação (R²) são duas métricas comumente usadas para avaliar a performance de um modelo de regressão."
   ]
  },
  {
   "attachments": {},
   "cell_type": "markdown",
   "metadata": {},
   "source": [
    "##### Root Mean Square Error (RMSE)"
   ]
  },
  {
   "attachments": {},
   "cell_type": "markdown",
   "metadata": {},
   "source": [
    "O RMSE é uma medida de erro que compara os valores previstos por um modelo com os valores reais. Ele é calculado ao se tomar a média dos quadrados dos erros, e em seguida tirando a raiz quadrada. Essa métrica dá uma ideia da quantidade de erro que o sistema normalmente comete em suas previsões, com um maior peso para erros maiores. Uma vantagem do RMSE é que o erro é expresso na mesma unidade que a variável de saída (y).\n",
    "\n",
    "Passo a passo de como o RMSE é calculado:\n",
    "\n",
    "1. <font color='orange'>**Erro de Previsão:**</font> Para cada ponto de dados, você calcula a diferença entre a previsão do modelo e o valor real. Se o seu modelo previu um valor de 10 para uma determinada observação, mas o valor real é 12, o erro de previsão é -2 (10-12). Se a previsão fosse 14, o erro seria 2 (14-12).\n",
    "\n",
    "2. <font color='orange'>**Quadrado do Erro de Previsão:**</font> Em seguida, você eleva ao quadrado cada erro de previsão. Fazemos isso por dois motivos: \n",
    "   \n",
    "   * <font color='orange'>Primeiro:</font> para garantir que todos os erros sejam positivos (a diferença -2 e a diferença 2 têm o mesmo impacto). \n",
    "   * <font color='orange'>Segundo:</font> para dar mais peso a erros maiores. No exemplo anterior, o quadrado de -2 é 4 e o quadrado de 2 é 4.\n",
    "<br></br>\n",
    "3. <font color='orange'>**Média dos Quadrados dos Erros:**</font> Em seguida, você calcula a média de todos os quadrados dos erros de previsão. Isso é conhecido como ***Mean Squared Error (MSE)***. Se você teve 5 previsões, e os quadrados dos erros foram [4, 4, 9, 4, 1], o MSE seria a soma desses números dividida por 5, que é 22/5 = 4.4.\n",
    "\n",
    "4. <font color='orange'>**Raiz Quadrada da Média dos Quadrados dos Erros:**</font> Finalmente, você tira a raiz quadrada do MSE para obter o RMSE e para trazer o erro de volta às unidades originais do output. Ao elevar ao quadrado os erros, como fazemos ao calcular o MSE, estamos efetivamente colocando os erros em termos de suas unidades ao quadrado. Isso pode ser um pouco abstrato e difícil de interpretar. No exemplo anterior, a raiz quadrada de 4.4 é aproximadamente 2.097.\n",
    "\n",
    "Portanto, um RMSE de 2.097 significaria que, em média, as previsões do modelo estão cerca de 2.097 unidades distantes dos valores reais. Quanto menor o RMSE, melhor o modelo é capaz de prever os dados."
   ]
  },
  {
   "attachments": {},
   "cell_type": "markdown",
   "metadata": {},
   "source": [
    "##### R²"
   ]
  },
  {
   "attachments": {},
   "cell_type": "markdown",
   "metadata": {},
   "source": [
    "O coeficiente de determinação, ou R², é uma medida estatística que indica a proporção da variação na variável dependente que é previsível a partir da(s) variável(is) independente(s). Em outras palavras, R² é uma medida de quão bem as previsões do modelo se ajustam aos dados reais. O valor de R² varia entre 0 e 1, onde 1 indica que o modelo explica toda a variabilidade dos dados em torno da média.\n",
    "\n",
    "Passo a passo de como o R² é calculado:\n",
    "\n",
    "<font color='orange'>**<center>R² = 1 - (Soma dos Quadrados dos Resíduos / Soma Total dos Quadrados)</center>**</font>\n",
    "\n",
    "Vamos supor que temos os seguintes valores reais de Y: [3, -0.5, 2, 7] e suas previsões correspondentes do modelo são: [2.5, 0.0, 2, 8].\n",
    "\n",
    "1. <font color='orange'>**Calcule a média de Y:**</font> neste caso, a média é (3 - 0.5 + 2 + 7)/4 = 2.875.\n",
    "\n",
    "2. <font color='orange'>**Calcule a soma total dos quadrados (SST):**</font> que é a soma das diferenças quadradas entre cada valor de Y e a média de Y. Para nosso exemplo, a SST é (3-2.875)² + (-0.5-2.875)² + (2-2.875)² + (7-2.875)² = 30.375.\n",
    "\n",
    "3. <font color='orange'>**Calcule a soma dos quadrados dos resíduos (SSR):**</font> que é a soma das diferenças quadradas entre cada valor de Y e a previsão correspondente do modelo. Para nosso exemplo, a SSR é (3-2.5)² + (-0.5-0.0)² + (2-2)² + (7-8)² = 1.5.\n",
    "\n",
    "4. <font color='orange'>**R²:**</font> é calculado como 1 - (SSR/SST). Então, nosso R² é 1 - (1.5/30.375) = 0.951.\n",
    "\n",
    "Um R² de 0.951 indica que 95.1% da variação total em Y é explicada pelo modelo, o que é um bom ajuste."
   ]
  },
  {
   "attachments": {},
   "cell_type": "markdown",
   "metadata": {},
   "source": [
    "### Conclusão Etapa 4 - Avaliação do Modelo"
   ]
  },
  {
   "cell_type": "code",
   "execution_count": 26,
   "metadata": {},
   "outputs": [
    {
     "name": "stdout",
     "output_type": "stream",
     "text": [
      "RMSE no conjunto de treinamento: 1.89\n",
      "RMSE no conjunto de teste: 2.36\n"
     ]
    }
   ],
   "source": [
    "# Calcular o RMSE\n",
    "rmse_train = np.sqrt(mean_squared_error(y_train, y_train_pred))\n",
    "rmse_test = np.sqrt(mean_squared_error(y_test, y_test_pred))\n",
    "\n",
    "print(f\"RMSE no conjunto de treinamento: {rmse_train:.2f}\")\n",
    "print(f\"RMSE no conjunto de teste: {rmse_test:.2f}\")"
   ]
  },
  {
   "cell_type": "code",
   "execution_count": 27,
   "metadata": {},
   "outputs": [
    {
     "name": "stdout",
     "output_type": "stream",
     "text": [
      "R² no conjunto de treinamento: 0.91\n",
      "R² no conjunto de teste: 0.87\n"
     ]
    }
   ],
   "source": [
    "# Calcular o R²\n",
    "r2_train = r2_score(y_train, y_train_pred)\n",
    "r2_test = r2_score(y_test, y_test_pred)\n",
    "\n",
    "print(f\"R² no conjunto de treinamento: {r2_train:.2f}\")\n",
    "print(f\"R² no conjunto de teste: {r2_test:.2f}\")"
   ]
  },
  {
   "cell_type": "code",
   "execution_count": 28,
   "metadata": {},
   "outputs": [
    {
     "name": "stdout",
     "output_type": "stream",
     "text": [
      "youtube - 4.42%\n",
      "facebook - 19.45%\n",
      "newspaper - -0.00%\n"
     ]
    }
   ],
   "source": [
    "# Obtendo os coeficientes\n",
    "coef = model.coef_\n",
    "\n",
    "# Transformando em porcentagem\n",
    "coef_percent = coef * 100\n",
    "\n",
    "# Formatando os coeficientes para remover a notação científica\n",
    "formatted_coef = ['{:.2f}%'.format(i) for i in coef_percent]\n",
    "\n",
    "# Associando cada coeficiente à sua feature correspondente\n",
    "features = ['youtube', 'facebook', 'newspaper']\n",
    "results = dict(zip(features, formatted_coef))\n",
    "\n",
    "# Imprimindo os resultados\n",
    "for feature, coef in results.items():\n",
    "    print(f'{feature} - {coef}')\n"
   ]
  },
  {
   "attachments": {},
   "cell_type": "markdown",
   "metadata": {},
   "source": [
    "Com base nos resultados, podemos concluir que:\n",
    "\n",
    "1. O modelo apresentou bom desempenho, com RMSE de 1.89 no treino e 2.36 no teste, indicando pequena diferença entre os valores previstos e reais.\n",
    "\n",
    "2. O alto R² (0.91 treino e 0.87 teste) sugere que o modelo explica uma grande parte da variação nos dados.\n",
    "\n",
    "3. Em relação aos coeficientes:\n",
    "\n",
    "   * Para cada aumento de uma unidade em youtube, espera-se que as sales aumentem, em média, 4.42% (assumindo que todas as outras variáveis permaneçam constantes).\n",
    "  \n",
    "   * Para cada aumento de uma unidade em facebook, espera-se que as sales aumentem, em média, 19.45% (assumindo que todas as outras variáveis permaneçam constantes).\n",
    "  \n",
    "   * Para cada aumento de uma unidade em newspaper, espera-se que as sales diminuam, em média, 0.49% (assumindo que todas as outras variáveis permaneçam constantes).\n",
    "\n",
    "Em suma, o modelo de regressão linear é eficaz em prever as vendas baseado nos investimentos em publicidade e os resultados da análise sugerem que a plataforma do **Facebook** pode ser a mais eficaz para gerar vendas a partir do investimento em publicidade, dada a sua maior correlação com as vendas (representada pelo coeficiente de 19.45%). Isso sugere que cada unidade de aumento no investimento em publicidade no Facebook poderia resultar, em média, em um aumento de 19.45% nas vendas, supondo que todas as outras variáveis permaneçam constantes."
   ]
  }
 ],
 "metadata": {
  "kernelspec": {
   "display_name": "Python 3",
   "language": "python",
   "name": "python3"
  },
  "language_info": {
   "codemirror_mode": {
    "name": "ipython",
    "version": 3
   },
   "file_extension": ".py",
   "mimetype": "text/x-python",
   "name": "python",
   "nbconvert_exporter": "python",
   "pygments_lexer": "ipython3",
   "version": "3.11.4"
  },
  "orig_nbformat": 4
 },
 "nbformat": 4,
 "nbformat_minor": 2
}
